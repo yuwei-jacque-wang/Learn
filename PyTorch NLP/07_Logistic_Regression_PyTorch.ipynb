{
  "nbformat": 4,
  "nbformat_minor": 0,
  "metadata": {
    "colab": {
      "name": "07_Neural_Network.ipynb",
      "provenance": [],
      "collapsed_sections": []
    },
    "kernelspec": {
      "display_name": "base",
      "language": "python",
      "name": "base"
    },
    "language_info": {
      "codemirror_mode": {
        "name": "ipython",
        "version": 3
      },
      "file_extension": ".py",
      "mimetype": "text/x-python",
      "name": "python",
      "nbconvert_exporter": "python",
      "pygments_lexer": "ipython3",
      "version": "3.8.3"
    }
  },
  "cells": [
    {
      "cell_type": "markdown",
      "metadata": {
        "id": "CzhA7jnVXv-s"
      },
      "source": [
        "# Fall 2020: DS-GA 1011 NLP with Representation Learning\n",
        "## Lab 6: 09-Oct-2020, Friday\n",
        "## Neural Networks with Pytorch\n",
        "In this lab, we explore how to implement neural networks models using Pytorch."
      ]
    },
    {
      "cell_type": "code",
      "metadata": {
        "id": "vfunoXA0Xv_r"
      },
      "source": [
        "# Import required packages\n",
        "import torch\n",
        "import torch.nn as nn\n",
        "import torch.nn.functional as F\n",
        "import torch.optim as optim"
      ],
      "execution_count": 1,
      "outputs": []
    },
    {
      "cell_type": "markdown",
      "metadata": {
        "id": "Hg7gFx4ZrTpm"
      },
      "source": [
        "cf.\n",
        "> [`torch.nn`](https://pytorch.org/docs/stable/nn.html#) module provides the basic building block for graphs. \n",
        "\n",
        "> [`torch.nn.Module`](https://pytorch.org/docs/stable/generated/torch.nn.Module.html#torch.nn.Module) is a base class for all neural network modules. It can really be any function, but it is often used to implement layers, functions and models. Note that you can also nest modules.\n",
        "\n",
        "> [`torch.nn.functional`](https://pytorch.org/docs/stable/nn.functional.html) module provides some useful functions like convolution operations, activations & loss functions which can be used within a network. Note that, these are not full layers so if you want to specify a layer of any kind you should use `torch.nn.Module`.\n",
        "\n",
        "> [`torch.optim`](https://pytorch.org/docs/stable/optim.html) is a package implementing various optimization algorithms such as Stochastic Gradient Descent (SGD)."
      ]
    },
    {
      "cell_type": "markdown",
      "metadata": {
        "id": "jJsykRWtywHR"
      },
      "source": [
        "---\n",
        "### Computation Graphs and Automatic Differentiation\n",
        "\n",
        "The concept of a **computation graph** is essential to efficient deep\n",
        "learning programming, because it allows you to not have to write the\n",
        "back propagation gradients yourself. A computation graph is simply a\n",
        "specification of how your data is combined to give you the output. Since\n",
        "the graph totally specifies what parameters were involved with which\n",
        "operations, it contains enough information to compute derivatives.\n",
        "\n",
        "![Untitled Document (3).jpg](data:image/jpeg;base64,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)"
      ]
    },
    {
      "cell_type": "markdown",
      "metadata": {
        "id": "fqtVP4P1Xv_v"
      },
      "source": [
        "The [`autograd`](https://pytorch.org/docs/stable/autograd.html) package provides **automatic differentiation** for all operations on Tensors. [`torch.Tensor`](https://pytorch.org/docs/stable/generated/torch.tensor.html#torch.tensor) is the central class of the package. This allows you to simply define a model once, in a forward fashion, and the library handles the computation of all gradients in the computational graph.\n",
        "\n",
        "\n",
        "By default, for arbitrary computations in PyTorch, no gradients are computed."
      ]
    },
    {
      "cell_type": "code",
      "metadata": {
        "id": "yUxRxEdt3RZ2",
        "colab": {
          "base_uri": "https://localhost:8080/"
        },
        "outputId": "bb161b47-5e9a-45d6-fedc-c82ddc75e9e9"
      },
      "source": [
        "x = torch.tensor([1., 2., 3])\n",
        "y = x*x\n",
        "print(y)"
      ],
      "execution_count": 2,
      "outputs": [
        {
          "output_type": "stream",
          "text": [
            "tensor([1., 4., 9.])\n"
          ],
          "name": "stdout"
        }
      ]
    },
    {
      "cell_type": "code",
      "metadata": {
        "id": "00YnznYQaMqT",
        "colab": {
          "base_uri": "https://localhost:8080/"
        },
        "outputId": "df5b686a-593f-4753-fab8-0f83f7b1e0f3"
      },
      "source": [
        "print(x.grad, x.grad_fn)\n",
        "print(x.grad, y.grad_fn)"
      ],
      "execution_count": 3,
      "outputs": [
        {
          "output_type": "stream",
          "text": [
            "None None\n",
            "None None\n"
          ],
          "name": "stdout"
        }
      ]
    },
    {
      "cell_type": "code",
      "metadata": {
        "id": "bUoJUNq_Xv_x",
        "colab": {
          "base_uri": "https://localhost:8080/"
        },
        "outputId": "e16a4e51-c899-4ed8-92a7-54deed719804"
      },
      "source": [
        "# requires_grad = True : start to track all operations on it\n",
        "x = torch.tensor([1., 2., 3],requires_grad=True)\n",
        "y = x*x\n",
        "print(y)"
      ],
      "execution_count": 4,
      "outputs": [
        {
          "output_type": "stream",
          "text": [
            "tensor([1., 4., 9.], grad_fn=<MulBackward0>)\n"
          ],
          "name": "stdout"
        }
      ]
    },
    {
      "cell_type": "markdown",
      "metadata": {
        "id": "L4LKSMiB1a84"
      },
      "source": [
        "cf.\n",
        "> `.grad_fn` attribute references a function that has created a function. Note that for tensors created by the user, these have `None`.\n"
      ]
    },
    {
      "cell_type": "code",
      "metadata": {
        "id": "A0GvCgigXv_5",
        "colab": {
          "base_uri": "https://localhost:8080/"
        },
        "outputId": "2791448b-cdab-40a9-e198-1e10842913c3"
      },
      "source": [
        "print(x.grad_fn)\n",
        "print(y.grad_fn)"
      ],
      "execution_count": 5,
      "outputs": [
        {
          "output_type": "stream",
          "text": [
            "None\n",
            "<MulBackward0 object at 0x7fba32784c90>\n"
          ],
          "name": "stdout"
        }
      ]
    },
    {
      "cell_type": "code",
      "metadata": {
        "id": "p4U9YilbXv_7",
        "colab": {
          "base_uri": "https://localhost:8080/"
        },
        "outputId": "fd4ff782-912b-48ae-f897-a817ec4a0a77"
      },
      "source": [
        "z = y.sum()\n",
        "print(z)"
      ],
      "execution_count": 6,
      "outputs": [
        {
          "output_type": "stream",
          "text": [
            "tensor(14., grad_fn=<SumBackward0>)\n"
          ],
          "name": "stdout"
        }
      ]
    },
    {
      "cell_type": "code",
      "metadata": {
        "id": "ZkJFs0Nq20iB",
        "colab": {
          "base_uri": "https://localhost:8080/"
        },
        "outputId": "8d759efa-20e4-46e1-a321-1f3a2ace350f"
      },
      "source": [
        "print(z.grad_fn)\n",
        "print(z.grad_fn.next_functions[0][0])\n",
        "print(z.grad_fn.next_functions[0][0].next_functions[0][0])"
      ],
      "execution_count": 7,
      "outputs": [
        {
          "output_type": "stream",
          "text": [
            "<SumBackward0 object at 0x7fb9d7847310>\n",
            "<MulBackward0 object at 0x7fb9d7843c10>\n",
            "<AccumulateGrad object at 0x7fb9d7843b50>\n"
          ],
          "name": "stdout"
        }
      ]
    },
    {
      "cell_type": "code",
      "metadata": {
        "id": "aX0ZTwVhgRug",
        "colab": {
          "base_uri": "https://localhost:8080/"
        },
        "outputId": "5d51a928-6b74-4f5c-8e72-c71ef4061269"
      },
      "source": [
        "print(x.grad)\n",
        "print(y.grad)\n",
        "print(z.grad)"
      ],
      "execution_count": 8,
      "outputs": [
        {
          "output_type": "stream",
          "text": [
            "None\n",
            "None\n",
            "None\n"
          ],
          "name": "stdout"
        },
        {
          "output_type": "stream",
          "text": [
            "/usr/local/lib/python3.7/dist-packages/ipykernel_launcher.py:2: UserWarning: The .grad attribute of a Tensor that is not a leaf Tensor is being accessed. Its .grad attribute won't be populated during autograd.backward(). If you indeed want the gradient for a non-leaf Tensor, use .retain_grad() on the non-leaf Tensor. If you access the non-leaf Tensor by mistake, make sure you access the leaf Tensor instead. See github.com/pytorch/pytorch/pull/30531 for more information.\n",
            "  \n",
            "/usr/local/lib/python3.7/dist-packages/ipykernel_launcher.py:3: UserWarning: The .grad attribute of a Tensor that is not a leaf Tensor is being accessed. Its .grad attribute won't be populated during autograd.backward(). If you indeed want the gradient for a non-leaf Tensor, use .retain_grad() on the non-leaf Tensor. If you access the non-leaf Tensor by mistake, make sure you access the leaf Tensor instead. See github.com/pytorch/pytorch/pull/30531 for more information.\n",
            "  This is separate from the ipykernel package so we can avoid doing imports until\n"
          ],
          "name": "stderr"
        }
      ]
    },
    {
      "cell_type": "markdown",
      "metadata": {
        "id": "TBPbRpN04Clg"
      },
      "source": [
        "At this point, no gradients are computed yet. It is only when we call `.backward()` that PyTorch computes the gradients, and backpropagates them to any node in the graph that *required gradients* (e.g. x)."
      ]
    },
    {
      "cell_type": "markdown",
      "metadata": {
        "id": "LjplYPTUV9nb"
      },
      "source": [
        "So now, what is the derivative of this $z$ with respect to the first\n",
        "component of $x$? In math, we want\n",
        "\n",
        "\\begin{align}\\frac{\\partial z}{\\partial x_0}\\end{align}\n",
        "\n",
        "\n",
        "Well, $z$ knows that it was created as a sum of the tensor $y$. $y$ knows\n",
        "that it was $x^{2}$. So\n",
        "\n",
        "\\begin{align}z = \\overbrace{x_0^2}^\\text{$y_0$} + \\overbrace{x_1^2}^\\text{$y_1$} + \\overbrace{x_2^2}^\\text{$y_2$}\\end{align}"
      ]
    },
    {
      "cell_type": "markdown",
      "metadata": {
        "id": "5jE_B7RuWngg"
      },
      "source": [
        "\\begin{align}\n",
        "\\frac{\\partial z}{\\partial x} = \\frac{\\partial z}{\\partial y}\\frac{\\partial y}{\\partial x} = \\vec{1}*2x\\vert_{x=[1,2,3]} = [2,4,6]\n",
        "\\end{align}\n",
        "\n",
        "Let's have Pytorch compute the gradient, and see that we were right:\n",
        "\n",
        "Note if you run this block multiple times, the gradient will increment.\n",
        "That is because Pytorch *accumulates* the gradient into the `.grad`\n",
        "property, since for many models this is very convenient."
      ]
    },
    {
      "cell_type": "code",
      "metadata": {
        "id": "Nf57cC4PXwAD"
      },
      "source": [
        "# Start backpropagation\n",
        "z.backward()"
      ],
      "execution_count": 9,
      "outputs": []
    },
    {
      "cell_type": "code",
      "metadata": {
        "id": "zzavtCkjXwAT",
        "colab": {
          "base_uri": "https://localhost:8080/"
        },
        "outputId": "4440674a-742b-4bea-f1fc-07c39638b682"
      },
      "source": [
        "# Print gradients dz/dx\n",
        "print(x.grad)"
      ],
      "execution_count": 10,
      "outputs": [
        {
          "output_type": "stream",
          "text": [
            "tensor([2., 4., 6.])\n"
          ],
          "name": "stdout"
        }
      ]
    },
    {
      "cell_type": "code",
      "metadata": {
        "id": "dHyisrcLaMr2",
        "colab": {
          "base_uri": "https://localhost:8080/"
        },
        "outputId": "40f5fbde-2bf2-4b9c-cb92-be8215ceba49"
      },
      "source": [
        "# Displaying\n",
        "for i, name in zip([x, y, z], \"xyz\"):\n",
        "    print(f\"{name}\\ndata: {i.data}\\nrequires_grad: {i.requires_grad}\\n\\\n",
        "grad: {i.grad}\\ngrad_fn: {i.grad_fn}\\nis_leaf: {i.is_leaf}\\n\")"
      ],
      "execution_count": 11,
      "outputs": [
        {
          "output_type": "stream",
          "text": [
            "x\n",
            "data: tensor([1., 2., 3.])\n",
            "requires_grad: True\n",
            "grad: tensor([2., 4., 6.])\n",
            "grad_fn: None\n",
            "is_leaf: True\n",
            "\n",
            "y\n",
            "data: tensor([1., 4., 9.])\n",
            "requires_grad: True\n",
            "grad: None\n",
            "grad_fn: <MulBackward0 object at 0x7fb9d78546d0>\n",
            "is_leaf: False\n",
            "\n",
            "z\n",
            "data: 14.0\n",
            "requires_grad: True\n",
            "grad: None\n",
            "grad_fn: <SumBackward0 object at 0x7fb9d7843f10>\n",
            "is_leaf: False\n",
            "\n"
          ],
          "name": "stdout"
        },
        {
          "output_type": "stream",
          "text": [
            "/usr/local/lib/python3.7/dist-packages/ipykernel_launcher.py:3: UserWarning: The .grad attribute of a Tensor that is not a leaf Tensor is being accessed. Its .grad attribute won't be populated during autograd.backward(). If you indeed want the gradient for a non-leaf Tensor, use .retain_grad() on the non-leaf Tensor. If you access the non-leaf Tensor by mistake, make sure you access the leaf Tensor instead. See github.com/pytorch/pytorch/pull/30531 for more information.\n",
            "  This is separate from the ipykernel package so we can avoid doing imports until\n"
          ],
          "name": "stderr"
        }
      ]
    },
    {
      "cell_type": "markdown",
      "metadata": {
        "id": "ERwrdx-1itlL"
      },
      "source": [
        "You can stop `autograd` from tracking history on Tensors with `.requires_grad=True` by wrapping the code block in with `torch.no_grad()`"
      ]
    },
    {
      "cell_type": "code",
      "metadata": {
        "id": "lapkXnKnXwAl",
        "colab": {
          "base_uri": "https://localhost:8080/"
        },
        "outputId": "67112641-bb7d-45e5-8185-838d60b2f724"
      },
      "source": [
        "print(x.requires_grad)\n",
        "print((x**2).requires_grad)\n",
        "with torch.no_grad(): # you can use this for evaluating your model\n",
        "    print((x**2).requires_grad)"
      ],
      "execution_count": 12,
      "outputs": [
        {
          "output_type": "stream",
          "text": [
            "True\n",
            "True\n",
            "False\n"
          ],
          "name": "stdout"
        }
      ]
    },
    {
      "cell_type": "markdown",
      "metadata": {
        "id": "eXPk00u7wtPA"
      },
      "source": [
        "By using `.detach()` to get a new Tensor with the same content but that does not require gradients. In other words, we can use it to delete computation history so that we can just take the value."
      ]
    },
    {
      "cell_type": "code",
      "metadata": {
        "id": "y4QxmxIywsLY",
        "colab": {
          "base_uri": "https://localhost:8080/"
        },
        "outputId": "6350e1d4-6a44-4aee-ccb1-491bf01efcae"
      },
      "source": [
        "print(x.requires_grad)\n",
        "y = x.detach()\n",
        "print(y.requires_grad)\n",
        "print(x.eq(y).all())"
      ],
      "execution_count": 13,
      "outputs": [
        {
          "output_type": "stream",
          "text": [
            "True\n",
            "False\n",
            "tensor(True)\n"
          ],
          "name": "stdout"
        }
      ]
    },
    {
      "cell_type": "markdown",
      "metadata": {
        "id": "tFKL0Xe1jx91"
      },
      "source": [
        "---\n",
        "### Logistic Regression using Pytorch\n",
        "Using [Iris](https://scikit-learn.org/stable/auto_examples/datasets/plot_iris_dataset.html) dataset from scikit-learn, we would see the relationship between logistic regression and neural networks."
      ]
    },
    {
      "cell_type": "markdown",
      "metadata": {
        "id": "aNzGrC8jyp_H"
      },
      "source": [
        "#### Dataset\n",
        "Iris data set - a 150 instance, 3-class data set with 4 features."
      ]
    },
    {
      "cell_type": "code",
      "metadata": {
        "id": "djofZHOmj8-o",
        "colab": {
          "base_uri": "https://localhost:8080/"
        },
        "outputId": "e0b4eb6e-569c-41db-ddbf-6882ee03051b"
      },
      "source": [
        "from sklearn import datasets\n",
        "\n",
        "iris = datasets.load_iris()\n",
        "print(iris.keys())"
      ],
      "execution_count": 14,
      "outputs": [
        {
          "output_type": "stream",
          "text": [
            "dict_keys(['data', 'target', 'target_names', 'DESCR', 'feature_names', 'filename'])\n"
          ],
          "name": "stdout"
        }
      ]
    },
    {
      "cell_type": "code",
      "metadata": {
        "id": "1R0PBvs-PqB7",
        "colab": {
          "base_uri": "https://localhost:8080/"
        },
        "outputId": "ee080c77-20be-4057-912b-18fefa04cd14"
      },
      "source": [
        "print(iris.feature_names)\n",
        "print(iris.target_names)"
      ],
      "execution_count": 15,
      "outputs": [
        {
          "output_type": "stream",
          "text": [
            "['sepal length (cm)', 'sepal width (cm)', 'petal length (cm)', 'petal width (cm)']\n",
            "['setosa' 'versicolor' 'virginica']\n"
          ],
          "name": "stdout"
        }
      ]
    },
    {
      "cell_type": "code",
      "metadata": {
        "id": "0nrQHTe6kFzp",
        "colab": {
          "base_uri": "https://localhost:8080/"
        },
        "outputId": "3cb20689-b1d0-46e9-e4f3-0ecb0cc3884d"
      },
      "source": [
        "print(iris.data.shape)\n",
        "print(iris.target.shape)"
      ],
      "execution_count": 16,
      "outputs": [
        {
          "output_type": "stream",
          "text": [
            "(150, 4)\n",
            "(150,)\n"
          ],
          "name": "stdout"
        }
      ]
    },
    {
      "cell_type": "code",
      "metadata": {
        "id": "yecGJcjrkHbw",
        "colab": {
          "base_uri": "https://localhost:8080/"
        },
        "outputId": "c78ba76e-3df2-4dfb-89c3-8c6ccc164352"
      },
      "source": [
        "iris.data[:5]"
      ],
      "execution_count": 17,
      "outputs": [
        {
          "output_type": "execute_result",
          "data": {
            "text/plain": [
              "array([[5.1, 3.5, 1.4, 0.2],\n",
              "       [4.9, 3. , 1.4, 0.2],\n",
              "       [4.7, 3.2, 1.3, 0.2],\n",
              "       [4.6, 3.1, 1.5, 0.2],\n",
              "       [5. , 3.6, 1.4, 0.2]])"
            ]
          },
          "metadata": {
            "tags": []
          },
          "execution_count": 17
        }
      ]
    },
    {
      "cell_type": "code",
      "metadata": {
        "id": "o1O1LAVRkH1D",
        "colab": {
          "base_uri": "https://localhost:8080/"
        },
        "outputId": "ec130b66-3876-403e-f22c-84fa120ad444"
      },
      "source": [
        "iris.target"
      ],
      "execution_count": 18,
      "outputs": [
        {
          "output_type": "execute_result",
          "data": {
            "text/plain": [
              "array([0, 0, 0, 0, 0, 0, 0, 0, 0, 0, 0, 0, 0, 0, 0, 0, 0, 0, 0, 0, 0, 0,\n",
              "       0, 0, 0, 0, 0, 0, 0, 0, 0, 0, 0, 0, 0, 0, 0, 0, 0, 0, 0, 0, 0, 0,\n",
              "       0, 0, 0, 0, 0, 0, 1, 1, 1, 1, 1, 1, 1, 1, 1, 1, 1, 1, 1, 1, 1, 1,\n",
              "       1, 1, 1, 1, 1, 1, 1, 1, 1, 1, 1, 1, 1, 1, 1, 1, 1, 1, 1, 1, 1, 1,\n",
              "       1, 1, 1, 1, 1, 1, 1, 1, 1, 1, 1, 1, 2, 2, 2, 2, 2, 2, 2, 2, 2, 2,\n",
              "       2, 2, 2, 2, 2, 2, 2, 2, 2, 2, 2, 2, 2, 2, 2, 2, 2, 2, 2, 2, 2, 2,\n",
              "       2, 2, 2, 2, 2, 2, 2, 2, 2, 2, 2, 2, 2, 2, 2, 2, 2, 2])"
            ]
          },
          "metadata": {
            "tags": []
          },
          "execution_count": 18
        }
      ]
    },
    {
      "cell_type": "markdown",
      "metadata": {
        "id": "mjH_CwpRkLGM"
      },
      "source": [
        "Note that our target $y$ is encoded as a single array with classes as its values."
      ]
    },
    {
      "cell_type": "code",
      "metadata": {
        "id": "dvdxGwZWm9tk"
      },
      "source": [
        "x = torch.from_numpy(iris.data).float()\n",
        "y = torch.from_numpy(iris.target).long()"
      ],
      "execution_count": 19,
      "outputs": []
    },
    {
      "cell_type": "code",
      "metadata": {
        "id": "q6NyHQALabZO"
      },
      "source": [
        "from sklearn.model_selection import train_test_split\n",
        "X_train, X_test, y_train, y_test = train_test_split(x, y, test_size=0.33, random_state=42)"
      ],
      "execution_count": 20,
      "outputs": []
    },
    {
      "cell_type": "markdown",
      "metadata": {
        "id": "lMOiReHHipKt"
      },
      "source": [
        "#### Model\n",
        "\n",
        "##### Logistic regression as a Neural Networks model\n",
        "\n",
        "$$ x \\in R^d : \\text{input data of shape } (d,1) $$\n",
        "\n",
        "\\begin{align}w \\in R^d : \\text{weights for logistic regression, also of shape } (d,1)\\end{align}\n",
        "\n",
        "Logistic regression formula:\n",
        "\\begin{align}\\hat y = \\sigma(w^Tx+b) = \\sigma\\big(\\sum_{i=1}^{d}w_i \\cdot x_i + b\\big) \\in (0,1), \\text{where } \\sigma(z) = \\frac{1}{1+e^{-z}}\\end{align}"
      ]
    },
    {
      "cell_type": "markdown",
      "metadata": {
        "id": "px6pz_elEQ7x"
      },
      "source": [
        "![Untitled Document (1).jpg](data:image/jpeg;base64,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)"
      ]
    },
    {
      "cell_type": "markdown",
      "metadata": {
        "id": "yzGVszuKyXkG"
      },
      "source": [
        "What it means that logistic regression is a basically neural networks model with one linear layer! \n",
        "\n",
        "* `nn.Linear` is a simple instance of a module, that just captures a simple linear function.\n",
        "\n",
        "* Importantly, modules need to have their `forward()` method overridden, and very often you will want to override the `__init__` method as well. \n",
        "\n",
        "* The `__init__` method sets up the module, akin to how we set up the `LogisticRegression` model in Part A with some arguments. This is also often where the internal modules and parameters are initialized.\n",
        "\n",
        "* The `forward` method defines what happens when you *apply* the module.\n",
        "\n",
        "In the background, PyTorch makes use of your code in the forward method and determines how to implement back-propagation with it - but all you need to do is to define the forward pass since `autograd` will take care of it!\n",
        "\n"
      ]
    },
    {
      "cell_type": "code",
      "metadata": {
        "id": "tfAbg1x9ijAL"
      },
      "source": [
        "class LogisticRegressionPyTorch(nn.Module):\n",
        "    def __init__(self, n_in, n_out):\n",
        "        \"\"\"\n",
        "        n_in: Number of features\n",
        "        n_out: Number of output classes\n",
        "        \"\"\"\n",
        "        # Initialize the parent class - this is a Python requirement\n",
        "        super().__init__()\n",
        "        \n",
        "        # Set up out linear layer. This initializes the weights\n",
        "        # Note that self.linear is itself a nn.Module, nested within\n",
        "        #   this module\n",
        "        self.linear = nn.Linear(n_in, n_out)\n",
        "        \n",
        "        # Explicitly initialize the weights with the initialization\n",
        "        #   scheme we want.\n",
        "        self.init_weights()\n",
        "        \n",
        "    def forward(self, x):\n",
        "        \"\"\"\n",
        "        x: Input data [N, k]\n",
        "        ---\n",
        "        Returns: log probabilities of each class [N, c]\n",
        "        \"\"\"\n",
        "        # Apply the linear function to get our logit (real numbers)\n",
        "        logit = self.linear(x)\n",
        "        \n",
        "        # Apply log_softmax to get logs of normalized probabilities\n",
        "        return F.log_softmax(logit, dim=1)\n",
        "    \n",
        "    def init_weights(self):\n",
        "        # Use some specific initialization schemes\n",
        "        nn.init.xavier_normal_(self.linear.weight)\n",
        "        nn.init.uniform_(self.linear.bias)"
      ],
      "execution_count": 21,
      "outputs": []
    },
    {
      "cell_type": "markdown",
      "metadata": {
        "id": "LeYGvcL4D370"
      },
      "source": [
        "cf. \n",
        "> `nn.init.xavier_normal_` fills the input Tensor with values according to the method described in *Understanding the difficulty of training deep feedforward neural networks* - Glorot, X. & Bengio, Y. (2010), using a normal distribution.\n",
        "\n",
        "> `nn.init.uniform_` fills the input Tensor with values drawn from the uniform distribution $\\mathcal{U}(a, b)$."
      ]
    },
    {
      "cell_type": "code",
      "metadata": {
        "id": "ChiKTolkmyZq",
        "colab": {
          "base_uri": "https://localhost:8080/"
        },
        "outputId": "88006d5d-92cc-445b-f8ba-4e4f128fcf7a"
      },
      "source": [
        "# Initialize our model. Note we need to provide n_in and n_out\n",
        "net = LogisticRegressionPyTorch(n_in=x.shape[1], n_out=3)\n",
        "print(net)"
      ],
      "execution_count": 22,
      "outputs": [
        {
          "output_type": "stream",
          "text": [
            "LogisticRegressionPyTorch(\n",
            "  (linear): Linear(in_features=4, out_features=3, bias=True)\n",
            ")\n"
          ],
          "name": "stdout"
        }
      ]
    },
    {
      "cell_type": "code",
      "metadata": {
        "id": "PmwkvgK0njMx",
        "colab": {
          "base_uri": "https://localhost:8080/"
        },
        "outputId": "106d1aed-e0c5-440d-920d-055da8f39300"
      },
      "source": [
        "# As a quick check, lets investigate the number of parameters in our model:\n",
        "for param in net.parameters():\n",
        "    print(param.shape)"
      ],
      "execution_count": 23,
      "outputs": [
        {
          "output_type": "stream",
          "text": [
            "torch.Size([3, 4])\n",
            "torch.Size([3])\n"
          ],
          "name": "stdout"
        }
      ]
    },
    {
      "cell_type": "code",
      "metadata": {
        "id": "RTcymgRs4B2M",
        "colab": {
          "base_uri": "https://localhost:8080/"
        },
        "outputId": "4e372874-58e0-437e-c10d-3b85c7eaca26"
      },
      "source": [
        "for param in net.parameters():\n",
        "    print(param)"
      ],
      "execution_count": 24,
      "outputs": [
        {
          "output_type": "stream",
          "text": [
            "Parameter containing:\n",
            "tensor([[ 0.6337,  1.0923, -0.3127,  0.2180],\n",
            "        [ 0.8666,  0.3613, -0.0240, -0.2274],\n",
            "        [-0.9127,  0.5375,  0.1327, -0.5212]], requires_grad=True)\n",
            "Parameter containing:\n",
            "tensor([0.9593, 0.4457, 0.4571], requires_grad=True)\n"
          ],
          "name": "stdout"
        }
      ]
    },
    {
      "cell_type": "code",
      "metadata": {
        "id": "8DievWu9koRZ"
      },
      "source": [
        "# Set up our criterion - our loss function\n",
        "criterion = nn.NLLLoss()\n",
        "\n",
        "# Set up our optimizer. We need to tell the optimizer which\n",
        "#   parameters it will optimize over (which parameters it is\n",
        "#   allowed to modify).\n",
        "optimizer = optim.SGD(net.parameters(), lr=0.1)"
      ],
      "execution_count": 25,
      "outputs": []
    },
    {
      "cell_type": "markdown",
      "metadata": {
        "id": "xpbz0onUTcK4"
      },
      "source": [
        "cf. \n",
        "> `nn.NLLLoss()` is the negative log likelihood loss.\n",
        "$$L(y)=−log(y)$$\n",
        "![neg_log.png](data:image/png;base64,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)\n",
        "\n",
        "> `nn.optim.SGD` implements Stochastic Gradient Descent.\n",
        "\n",
        "> `nn.optim.Adam` implements [Adaptive Moment Estimation](https://arxiv.org/abs/1412.6980) algorithm."
      ]
    },
    {
      "cell_type": "code",
      "metadata": {
        "id": "0BRt8JGmnyfg",
        "colab": {
          "base_uri": "https://localhost:8080/"
        },
        "outputId": "341c0c0c-c106-409a-e928-c119a02e4376"
      },
      "source": [
        "#zeroes the gradient buffers of all parameters\n",
        "net.zero_grad()\n",
        "print('linear.weight.grad before backward')\n",
        "print(net.linear.weight.grad)\n",
        "      \n",
        "# Compute the predicted log-probabilities\n",
        "y_hat = net(X_train)\n",
        "\n",
        "# Compute the loss\n",
        "loss = criterion(y_hat, y_train)\n",
        "\n",
        "# Back-propagate the gradients to the parameters\n",
        "loss.backward()\n",
        "print('linear.weight.grad after backward')\n",
        "print(net.linear.weight.grad)\n",
        "\n",
        "# Apply the gradient updates to the parameters\n",
        "optimizer.step()"
      ],
      "execution_count": 26,
      "outputs": [
        {
          "output_type": "stream",
          "text": [
            "linear.weight.grad before backward\n",
            "None\n",
            "linear.weight.grad after backward\n",
            "tensor([[ 2.3414,  1.0285,  1.9772,  0.6932],\n",
            "        [-0.1136, -0.0186, -0.0923, -0.0093],\n",
            "        [-2.2278, -1.0099, -1.8849, -0.6840]])\n"
          ],
          "name": "stdout"
        }
      ]
    },
    {
      "cell_type": "code",
      "metadata": {
        "id": "qUJEVo0s4u0q",
        "colab": {
          "base_uri": "https://localhost:8080/"
        },
        "outputId": "78d5ca81-1e07-4ade-887f-fb11b92bf39c"
      },
      "source": [
        "print(loss)"
      ],
      "execution_count": 27,
      "outputs": [
        {
          "output_type": "stream",
          "text": [
            "tensor(4.4212, grad_fn=<NllLossBackward>)\n"
          ],
          "name": "stdout"
        }
      ]
    },
    {
      "cell_type": "code",
      "metadata": {
        "id": "YuYfUO78XwA6",
        "colab": {
          "base_uri": "https://localhost:8080/"
        },
        "outputId": "2ad6b888-d991-4de5-bf28-0ba607231da9"
      },
      "source": [
        "print(loss.grad_fn)\n",
        "print(loss.grad_fn.next_functions[0][0])\n",
        "print(loss.grad_fn.next_functions[0][0].next_functions[0][0])"
      ],
      "execution_count": 28,
      "outputs": [
        {
          "output_type": "stream",
          "text": [
            "<NllLossBackward object at 0x7fb9c7b98790>\n",
            "<LogSoftmaxBackward object at 0x7fb9c7b98790>\n",
            "<AddmmBackward object at 0x7fb9c7b92350>\n"
          ],
          "name": "stdout"
        }
      ]
    },
    {
      "cell_type": "code",
      "metadata": {
        "id": "ijgd1hAw37K7",
        "colab": {
          "base_uri": "https://localhost:8080/"
        },
        "outputId": "788f8c87-1c6c-46fb-ea80-6efb0c45f2c4"
      },
      "source": [
        "for param in net.parameters():\n",
        "    print(param)"
      ],
      "execution_count": 29,
      "outputs": [
        {
          "output_type": "stream",
          "text": [
            "Parameter containing:\n",
            "tensor([[ 0.3996,  0.9895, -0.5104,  0.1487],\n",
            "        [ 0.8780,  0.3632, -0.0147, -0.2265],\n",
            "        [-0.6899,  0.6385,  0.3212, -0.4528]], requires_grad=True)\n",
            "Parameter containing:\n",
            "tensor([0.9224, 0.4486, 0.4911], requires_grad=True)\n"
          ],
          "name": "stdout"
        }
      ]
    },
    {
      "cell_type": "code",
      "metadata": {
        "id": "Iv0ekTVEaMtH",
        "colab": {
          "base_uri": "https://localhost:8080/"
        },
        "outputId": "e4cf60ab-45d9-4be6-a304-d88bc9dc6d63"
      },
      "source": [
        "y_hat.max(dim=1).indices"
      ],
      "execution_count": 30,
      "outputs": [
        {
          "output_type": "execute_result",
          "data": {
            "text/plain": [
              "tensor([0, 1, 0, 0, 1, 0, 0, 0, 0, 0, 0, 0, 0, 0, 0, 0, 0, 0, 0, 0, 0, 0, 0, 0,\n",
              "        0, 0, 0, 0, 0, 0, 0, 0, 0, 0, 0, 0, 0, 0, 0, 0, 0, 0, 0, 1, 0, 0, 0, 0,\n",
              "        1, 0, 0, 0, 0, 0, 0, 0, 0, 0, 0, 0, 0, 0, 0, 0, 0, 0, 0, 0, 0, 0, 0, 0,\n",
              "        0, 0, 0, 0, 1, 0, 0, 0, 0, 0, 0, 0, 0, 0, 1, 0, 0, 0, 0, 0, 0, 0, 0, 0,\n",
              "        0, 0, 0, 0])"
            ]
          },
          "metadata": {
            "tags": []
          },
          "execution_count": 30
        }
      ]
    },
    {
      "cell_type": "code",
      "metadata": {
        "id": "aAwP_7UdaMtJ"
      },
      "source": [
        "loss_val_ls = []\n",
        "# Run over many iterations!\n",
        "for i in range(10000):\n",
        "    \n",
        "    # Always zero-out the gradients managed by your optimizer\n",
        "    # PyTorch does not automatically zero-out your gradients\n",
        "    #   You can also do pt_model.zero_grad() in this case.\n",
        "    optimizer.zero_grad()\n",
        "    \n",
        "    # !! Put model into training mode. This does not do anything\n",
        "    #   in a simple Logistic Regression model, but will be important \n",
        "    #   later. (See: Dropout)\n",
        "    net.train()\n",
        "    \n",
        "    # Compute the predicted log-probabilities\n",
        "    y_hat = net(X_train)\n",
        "    \n",
        "    # Compute the loss\n",
        "    train_loss = criterion(y_hat, y_train)\n",
        "    \n",
        "    # Back-propagate the gradients to the parameters\n",
        "    train_loss.backward()\n",
        "    \n",
        "    # Apply the gradient updates to the parameters\n",
        "    optimizer.step()\n",
        "    \n",
        "    # Recompute the loss in evaluation mode, and record it.\n",
        "    # Again, this does not do anything here, but will be important later.\n",
        "    # Since we are evaluating, we will also tell PyTorch not to\n",
        "    #   compute gradients.\n",
        "    net.eval()\n",
        "    with torch.no_grad():\n",
        "        y_hat = net(X_test)\n",
        "        eval_loss = criterion(y_hat, y_test)\n",
        "        \n",
        "    # Record the loss\n",
        "    # Note that 'loss' is a Tensor, but loss.item() is a number\n",
        "    loss_val_ls.append(eval_loss.item())"
      ],
      "execution_count": 31,
      "outputs": []
    },
    {
      "cell_type": "code",
      "metadata": {
        "id": "DuzX2TpEaMtL",
        "colab": {
          "base_uri": "https://localhost:8080/",
          "height": 300
        },
        "outputId": "643ea6e0-5cc2-4f2e-d8fe-d55c6dcf9486"
      },
      "source": [
        "from matplotlib import pyplot as plt\n",
        "%matplotlib inline\n",
        "plt.plot(loss_val_ls)\n",
        "plt.xlabel(\"Epochs\")\n",
        "plt.ylabel(\"Log Loss\")"
      ],
      "execution_count": 32,
      "outputs": [
        {
          "output_type": "execute_result",
          "data": {
            "text/plain": [
              "Text(0, 0.5, 'Log Loss')"
            ]
          },
          "metadata": {
            "tags": []
          },
          "execution_count": 32
        },
        {
          "output_type": "display_data",
          "data": {
            "image/png": "[encoded data removed]",
            "text/plain": [
              "<Figure size 432x288 with 1 Axes>"
            ]
          },
          "metadata": {
            "tags": [],
            "needs_background": "light"
          }
        }
      ]
    },
    {
      "cell_type": "code",
      "metadata": {
        "id": "I7tEzejraMtO",
        "colab": {
          "base_uri": "https://localhost:8080/"
        },
        "outputId": "21f9dc6e-acd5-4c01-fb2b-d2a981bd1631"
      },
      "source": [
        "y_hat.max(dim=1).indices"
      ],
      "execution_count": 33,
      "outputs": [
        {
          "output_type": "execute_result",
          "data": {
            "text/plain": [
              "tensor([1, 0, 2, 1, 1, 0, 1, 2, 1, 1, 2, 0, 0, 0, 0, 1, 2, 1, 1, 2, 0, 2, 0, 2,\n",
              "        2, 2, 2, 2, 0, 0, 0, 0, 1, 0, 0, 2, 1, 0, 0, 0, 2, 1, 1, 0, 0, 1, 1, 2,\n",
              "        1, 2])"
            ]
          },
          "metadata": {
            "tags": []
          },
          "execution_count": 33
        }
      ]
    },
    {
      "cell_type": "code",
      "metadata": {
        "id": "uglLMl8kaMtQ",
        "colab": {
          "base_uri": "https://localhost:8080/"
        },
        "outputId": "e6d92b53-42ec-4042-f803-e861b97f7e36"
      },
      "source": [
        "y_hat.max(dim=1).indices.eq(y_test)"
      ],
      "execution_count": 34,
      "outputs": [
        {
          "output_type": "execute_result",
          "data": {
            "text/plain": [
              "tensor([ True,  True,  True,  True,  True,  True,  True,  True,  True,  True,\n",
              "         True,  True,  True,  True,  True,  True,  True,  True,  True,  True,\n",
              "         True,  True,  True,  True,  True,  True,  True,  True,  True,  True,\n",
              "         True,  True,  True,  True,  True,  True,  True,  True,  True,  True,\n",
              "         True,  True,  True,  True,  True,  True, False,  True,  True,  True])"
            ]
          },
          "metadata": {
            "tags": []
          },
          "execution_count": 34
        }
      ]
    },
    {
      "cell_type": "markdown",
      "metadata": {
        "id": "9MupKBxV7ux1"
      },
      "source": [
        "---\n",
        "## References\n",
        "- PyTorch Tutorial: Robert Guthrie\n",
        "- DS-GA 1011 NLP with Representation Learning Fall 2019"
      ]
    }
  ]
}