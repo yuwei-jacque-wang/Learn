{
  "nbformat": 4,
  "nbformat_minor": 0,
  "metadata": {
    "accelerator": "GPU",
    "colab": {
      "name": "07-rnn_lm.ipynb",
      "provenance": [],
      "collapsed_sections": []
    },
    "kernelspec": {
      "display_name": "base",
      "language": "python",
      "name": "base"
    },
    "language_info": {
      "codemirror_mode": {
        "name": "ipython",
        "version": 3
      },
      "file_extension": ".py",
      "mimetype": "text/x-python",
      "name": "python",
      "nbconvert_exporter": "python",
      "pygments_lexer": "ipython3",
      "version": "3.8.3"
    }
  },
  "cells": [
    {
      "cell_type": "markdown",
      "metadata": {
        "id": "IxZ97MQPbj90"
      },
      "source": [
        "# Fall 2020: DS-GA 1011 NLP with Representation Learning\n",
        "## Lab 7: 16-Oct-2020, Friday\n",
        "## Recurrent Neural Networks with Pytorch\n",
        "In this lab, we explore how to implement RNN based Language Model with sequential data.\n",
        "\n",
        "Examples of **sequential data**: \n",
        "\n",
        "- discrete: text\n",
        "\n",
        "- continuous: 1d audio, 2d image, 3d video"
      ]
    },
    {
      "cell_type": "code",
      "metadata": {
        "id": "T0RL_Mek0jkz",
        "colab": {
          "base_uri": "https://localhost:8080/"
        },
        "outputId": "8bd680e4-149d-489c-9410-e2dc17e5f24f"
      },
      "source": [
        "# !conda install -c conda-forge jsonlines #OR\n",
        "!pip install jsonlines"
      ],
      "execution_count": 1,
      "outputs": [
        {
          "output_type": "stream",
          "text": [
            "Collecting jsonlines\n",
            "  Downloading jsonlines-2.0.0-py3-none-any.whl (6.3 kB)\n",
            "Installing collected packages: jsonlines\n",
            "Successfully installed jsonlines-2.0.0\n"
          ],
          "name": "stdout"
        }
      ]
    },
    {
      "cell_type": "code",
      "metadata": {
        "id": "Hl287Qi6Jucy"
      },
      "source": [
        "#Import required packages\n",
        "import os\n",
        "import jsonlines\n",
        "from tqdm import tqdm\n",
        "\n",
        "import torch\n",
        "import torch.nn as nn\n",
        "import torch.optim as optim\n",
        "from torch.utils.data import Dataset, DataLoader\n",
        "\n",
        "import numpy\n",
        "import matplotlib.pyplot as plt"
      ],
      "execution_count": 2,
      "outputs": []
    },
    {
      "cell_type": "markdown",
      "metadata": {
        "id": "dHRaW4wCKszD"
      },
      "source": [
        "c.f\n",
        "> [`torch.utils.data`](https://pytorch.org/docs/stable/data.html) provides PyTorch data loading utility. The key-class of this module is the `torch.utils.data.DataLoader`.\n"
      ]
    },
    {
      "cell_type": "markdown",
      "metadata": {
        "id": "jhN2KkjOFSkN"
      },
      "source": [
        "---\n",
        "### Dataset\n",
        "We will use **Persona-Chat** again."
      ]
    },
    {
      "cell_type": "code",
      "metadata": {
        "id": "XxSNN-Xc-vyh",
        "colab": {
          "base_uri": "https://localhost:8080/"
        },
        "outputId": "83d9caa2-a3ec-4483-faa4-5f5f15cc7921"
      },
      "source": [
        "# Download data and a pretrained model\n",
        "\n",
        "# dwnld_path = './data/personachat/'\n",
        "\n",
        "### DOWNLOADING THE FILES\n",
        "### persona chat dataset\n",
        "if not os.path.exists('personachat_all_sentences_train.jsonl'):\n",
        "    !wget \"https://nyu.box.com/shared/static/q4nvswb0szelivhgyx87vd1056ttqfyi.jsonl\" -O 'personachat_all_sentences_train.jsonl'\n",
        "if not os.path.exists('personachat_all_sentences_valid.jsonl'):\n",
        "    !wget \"https://nyu.box.com/shared/static/8krcizo8sms1m0ppy7uiwfcx4a3l5nsq.jsonl\" -O 'personachat_all_sentences_valid.jsonl'\n",
        "if not os.path.exists('personachat_all_sentences_test.jsonl'):\n",
        "    !wget \"https://nyu.box.com/shared/static/im7we9k2gcf8kslqnfamsimicgosuw9y.jsonl\" -O 'personachat_all_sentences_test.jsonl'\n",
        "\n",
        "### pretrained rnn model\n",
        "if not os.path.exists('personachat_rnn_lm.pt'):\n",
        "    !wget \"https://nyu.box.com/shared/static/3jl9erctnvbefnczgmetkdil0xwpcxzb.pt\" -O 'personachat_rnn_lm.pt'"
      ],
      "execution_count": 3,
      "outputs": [
        {
          "output_type": "stream",
          "text": [
            "--2021-07-30 16:07:41--  https://nyu.box.com/shared/static/q4nvswb0szelivhgyx87vd1056ttqfyi.jsonl\n",
            "Resolving nyu.box.com (nyu.box.com)... 107.152.24.197\n",
            "Connecting to nyu.box.com (nyu.box.com)|107.152.24.197|:443... connected.\n",
            "HTTP request sent, awaiting response... 301 Moved Permanently\n",
            "Location: /public/static/q4nvswb0szelivhgyx87vd1056ttqfyi.jsonl [following]\n",
            "--2021-07-30 16:07:41--  https://nyu.box.com/public/static/q4nvswb0szelivhgyx87vd1056ttqfyi.jsonl\n",
            "Reusing existing connection to nyu.box.com:443.\n",
            "HTTP request sent, awaiting response... 301 Moved Permanently\n",
            "Location: https://nyu.app.box.com/public/static/q4nvswb0szelivhgyx87vd1056ttqfyi.jsonl [following]\n",
            "--2021-07-30 16:07:42--  https://nyu.app.box.com/public/static/q4nvswb0szelivhgyx87vd1056ttqfyi.jsonl\n",
            "Resolving nyu.app.box.com (nyu.app.box.com)... 107.152.24.201\n",
            "Connecting to nyu.app.box.com (nyu.app.box.com)|107.152.24.201|:443... connected.\n",
            "HTTP request sent, awaiting response... 302 Found\n",
            "Location: https://public.boxcloud.com/d/1/b1!r-mfp4_nNNiZpKdURV7oa1RftzvfJH9eGcCglbnC0HWKjMLb8sOf20LFKn40x3XTUJqF9eVK0hJ0sgyKgH26HWZOKyQdyAtPFt6FMzCRPebayscoDF0CFvqRGMyM_OPRHICxAez8dqZNVAD7H8TAbc5d_WcjruSXm0jLrjO-Mp5iausr_D0YAhbHo3_ADlHea-FR8V994vz6Lyn26X8_9MbUTq2h_rRz2nMpFEiDMqW9TMRbbP4_g7BovSWHxBzuNuFk3KJP0_gBKqw6PtsHcng8Ad-y2raT2lHG4a-_m9XpoabfOQ0856aZdR3HmJ4t1zzWom3e7tMHk98SSwG_TkFw8dyQD4iV5G-pz1ocJYCpCZ0y4-hO1GXe_upcg9rFbZxzhG5uVG8vjAO9A62zaqiszmfE9fnuo8mJ8DBmUGwermZhBdLn-2M2LJYCL_mxVerUDCQKoNwmItm81pRnKBzA7gi6qkNzLLbCl5NkA2XsIUKvqIUG5Iw8a-Pht6RsmToRMm4gNGKcj0T3OAZIrueAQvcO1ffDOHzQvf4ep5m_au9DEKzK9HJjvkjLXDCKFRrqNjtmJwalQzxSnsdQDWk8RYrdIHN_rXoNaqBrlNPLUFYxdVXCyaIF6mCnnKkVKlj1yepJnoqNVEewdjIpvdzBrF2mypnt0fATQ2mO90AasuSFjpxnflKDyN-CpZYN2llr56syshUvKYi2Jhsagh6f4yzfEqwhnijpMq66gOenDail6SfdvCVedIkYiq0e_8dbbuBwjx7Ro2IvK2CJUtLNKhImdniT-JQAU9J5XgSZUwWlW0wIZQVtrr7s2fLGUqhPxxQ5S9Xp2I0LVPCZIA12ONXY8PJTocbvbsfUIk9Hxtnyt0BPXpkAfmaJ4XBcr27dARnKOwwIH1c2SiqGdJ0ISnIUkCx5fKma-GPwEH0Z_w8FY5dEi2DWSGGFJMdCJ4HayyWzl6WrhJHC3dpZOxMNTP6nwFHy3lMSium6J5ZWiprdnjMeScngqZLQ-7q0bPLsZ3m6JZ03aLhU36AeSavQXtyVh3BDkE-GktJZ8kmt78cI3dbJQE87zQIC_IvDxZMXDH5Z1YfCdl5d361p5Z_wQxZzGsoIDUvJLZ-ZrNKR_MI3zFnzNIyQT6ZBZ8SOGiiBFRm5Kbh-FyGZS8Ouifz-HekB22bhlsS-idtfNFS_Px6tnn7AdkVvFpHBONjT3zcwBoceOKjMeiz2epeazbQxF2buhsF51CNYnGjWsi6TcjIJ9lX0nfVBgYCccTya-B1AnaOQBmQUSEkmNxpPqq_Y94C9pnXDHJQN2OSq155WGGGBi82Wb3Ck9HX6fi0qT0lCojTGTAnfy9PRSr3LuYNhmSBcRgwWSj5D1CZmkaaccxszgNd6wapsqGrn0aYq1CF1nOMeJq-yv0KOn2WWj74oWkSw23925RZD/download [following]\n",
            "--2021-07-30 16:07:42--  https://public.boxcloud.com/d/1/b1!r-mfp4_nNNiZpKdURV7oa1RftzvfJH9eGcCglbnC0HWKjMLb8sOf20LFKn40x3XTUJqF9eVK0hJ0sgyKgH26HWZOKyQdyAtPFt6FMzCRPebayscoDF0CFvqRGMyM_OPRHICxAez8dqZNVAD7H8TAbc5d_WcjruSXm0jLrjO-Mp5iausr_D0YAhbHo3_ADlHea-FR8V994vz6Lyn26X8_9MbUTq2h_rRz2nMpFEiDMqW9TMRbbP4_g7BovSWHxBzuNuFk3KJP0_gBKqw6PtsHcng8Ad-y2raT2lHG4a-_m9XpoabfOQ0856aZdR3HmJ4t1zzWom3e7tMHk98SSwG_TkFw8dyQD4iV5G-pz1ocJYCpCZ0y4-hO1GXe_upcg9rFbZxzhG5uVG8vjAO9A62zaqiszmfE9fnuo8mJ8DBmUGwermZhBdLn-2M2LJYCL_mxVerUDCQKoNwmItm81pRnKBzA7gi6qkNzLLbCl5NkA2XsIUKvqIUG5Iw8a-Pht6RsmToRMm4gNGKcj0T3OAZIrueAQvcO1ffDOHzQvf4ep5m_au9DEKzK9HJjvkjLXDCKFRrqNjtmJwalQzxSnsdQDWk8RYrdIHN_rXoNaqBrlNPLUFYxdVXCyaIF6mCnnKkVKlj1yepJnoqNVEewdjIpvdzBrF2mypnt0fATQ2mO90AasuSFjpxnflKDyN-CpZYN2llr56syshUvKYi2Jhsagh6f4yzfEqwhnijpMq66gOenDail6SfdvCVedIkYiq0e_8dbbuBwjx7Ro2IvK2CJUtLNKhImdniT-JQAU9J5XgSZUwWlW0wIZQVtrr7s2fLGUqhPxxQ5S9Xp2I0LVPCZIA12ONXY8PJTocbvbsfUIk9Hxtnyt0BPXpkAfmaJ4XBcr27dARnKOwwIH1c2SiqGdJ0ISnIUkCx5fKma-GPwEH0Z_w8FY5dEi2DWSGGFJMdCJ4HayyWzl6WrhJHC3dpZOxMNTP6nwFHy3lMSium6J5ZWiprdnjMeScngqZLQ-7q0bPLsZ3m6JZ03aLhU36AeSavQXtyVh3BDkE-GktJZ8kmt78cI3dbJQE87zQIC_IvDxZMXDH5Z1YfCdl5d361p5Z_wQxZzGsoIDUvJLZ-ZrNKR_MI3zFnzNIyQT6ZBZ8SOGiiBFRm5Kbh-FyGZS8Ouifz-HekB22bhlsS-idtfNFS_Px6tnn7AdkVvFpHBONjT3zcwBoceOKjMeiz2epeazbQxF2buhsF51CNYnGjWsi6TcjIJ9lX0nfVBgYCccTya-B1AnaOQBmQUSEkmNxpPqq_Y94C9pnXDHJQN2OSq155WGGGBi82Wb3Ck9HX6fi0qT0lCojTGTAnfy9PRSr3LuYNhmSBcRgwWSj5D1CZmkaaccxszgNd6wapsqGrn0aYq1CF1nOMeJq-yv0KOn2WWj74oWkSw23925RZD/download\n",
            "Resolving public.boxcloud.com (public.boxcloud.com)... 107.152.24.200\n",
            "Connecting to public.boxcloud.com (public.boxcloud.com)|107.152.24.200|:443... connected.\n",
            "HTTP request sent, awaiting response... 200 OK\n",
            "Length: 13403897 (13M) [application/octet-stream]\n",
            "Saving to: ‘personachat_all_sentences_train.jsonl’\n",
            "\n",
            "personachat_all_sen 100%[===================>]  12.78M  64.5MB/s    in 0.2s    \n",
            "\n",
            "2021-07-30 16:07:43 (64.5 MB/s) - ‘personachat_all_sentences_train.jsonl’ saved [13403897/13403897]\n",
            "\n",
            "--2021-07-30 16:07:43--  https://nyu.box.com/shared/static/8krcizo8sms1m0ppy7uiwfcx4a3l5nsq.jsonl\n",
            "Resolving nyu.box.com (nyu.box.com)... 107.152.24.197\n",
            "Connecting to nyu.box.com (nyu.box.com)|107.152.24.197|:443... connected.\n",
            "HTTP request sent, awaiting response... 301 Moved Permanently\n",
            "Location: /public/static/8krcizo8sms1m0ppy7uiwfcx4a3l5nsq.jsonl [following]\n",
            "--2021-07-30 16:07:43--  https://nyu.box.com/public/static/8krcizo8sms1m0ppy7uiwfcx4a3l5nsq.jsonl\n",
            "Reusing existing connection to nyu.box.com:443.\n",
            "HTTP request sent, awaiting response... 301 Moved Permanently\n",
            "Location: https://nyu.app.box.com/public/static/8krcizo8sms1m0ppy7uiwfcx4a3l5nsq.jsonl [following]\n",
            "--2021-07-30 16:07:43--  https://nyu.app.box.com/public/static/8krcizo8sms1m0ppy7uiwfcx4a3l5nsq.jsonl\n",
            "Resolving nyu.app.box.com (nyu.app.box.com)... 107.152.24.201\n",
            "Connecting to nyu.app.box.com (nyu.app.box.com)|107.152.24.201|:443... connected.\n",
            "HTTP request sent, awaiting response... 302 Found\n",
            "Location: https://public.boxcloud.com/d/1/b1!zfFY16sXc9Jc4-z-ocf7NxEWgH4OVVHIS2_RK0j3eqLFd2wpFg9n8mJ_myw_lXuNMnjyKZ3GYYohVeXhtzLqHrCvEL202sIgKuxSAnFK7Imv4SCp0N9QU0-bXe5CJs9NGQKCSUIK8viqDUjZqHH6FBIaJU20eNsIPinNP1R43M2me9Zg1Oezwlm2WKtY64sZIBv-YM-tpcIrtviBx8_5QLzf-uxrPnrCjvq_vmbPBW6vGL_1yKtDQADiPGTkSVGjjAUu4AredoO_w_cCUiMSURTHXbJ-vJJtfBlQ20JFrAphFNjhNojQ0ZvbroTh1e4x0XBhY93QPcHD7RdaXy-aRvfHIMpX8UqpJPZYdcdhrErxK2RhGsyMjA6dCn105yu-DWYOgc7corjCfmwPXMkCIArs_1P1cGx_cLi97OHBvQ2UjHNbcCsxQ88cm5th1OurN8dVN12J5l3mNZEfBRpZu7cNZ1pcWWLErxI35LDxUlGToY7X6nx9Lc5HnKQw7SIxXjKYcqlDCPtlf4o7AqmkBGzdyZq8ZRBMceiSzar-2odAtBCFf6uAoJF3iFOjP3UgWwXofO99AqlKhuxVZ9ZoR2uqo8tXvK-u8Hkerm06cg4d5ONnzWh6_wY3JKJCEXMPm31KD_ZUP497PUJ329OXZoGljLCAkb_ePn1nvw2eLAY24VoaIogaNdSvPCuSFueL2qpS2QQHngvACc2HyECMAEsFop1A_VpKMtiXtBGZnfjQzi5vgVmnbwxTxWzbPJz3YSCwIAkt8LRxsvm55wUJzVMvZHeW7z8D-AS-bQ8E5hdYfbK93EF5_O2CnxIc_xr135BGxrNomGx_QH7mMjh-WYHbBHfSktzOEeYL3AasYC0XFAThZpyjIHDKr_ODJtbQ5jpTtQuzdoe6XXMPGAOezR8W76XVzzDJc7iUyTVGlnyB7mby1d6F7nT0r-F2s192nFzw4MJyFXWeBchTPKRuk3a0JQkET-1Vgj-es7oadlRYaPCT4PKHuEUIEyZdtqMM1FJd4tMvEeQtwolGN3t-ZnLC3ZhYj0BLjOY8rMXHenC9EMxmztq7SpChMKoweQ7ZmoNg4Em16FFoD5wasGNP8dgAZVB9qW1vYWJvSWApttjQ9eGFSBz8BweM3kp-lCH-SNnoN1kd0iFdkIXtDlDSaiK_GOVMdtpYFWfBdaeXv_4CMb94356zVPVRAh8VA6_4BBPeZ8sktAXmFCeIVnldVXkGF7nKudor9A42OkpNDhurfweAg10t6a3I7JZpB8_wiv9TQoMpBSvLLndJaSuTUlar7A7iJ91GWRg9ZrqNlWaTWJK9URPPhzJAt1dz2rZov1sfgs-xzWuSte4oBynACWDYaFx3-PwkOslzbq8SIrs-o4F2KbegpMoTF5-e0srLY5TmWumHfL-_9AXttpeOCb4V28BkB7P3AxM./download [following]\n",
            "--2021-07-30 16:07:44--  https://public.boxcloud.com/d/1/b1!zfFY16sXc9Jc4-z-ocf7NxEWgH4OVVHIS2_RK0j3eqLFd2wpFg9n8mJ_myw_lXuNMnjyKZ3GYYohVeXhtzLqHrCvEL202sIgKuxSAnFK7Imv4SCp0N9QU0-bXe5CJs9NGQKCSUIK8viqDUjZqHH6FBIaJU20eNsIPinNP1R43M2me9Zg1Oezwlm2WKtY64sZIBv-YM-tpcIrtviBx8_5QLzf-uxrPnrCjvq_vmbPBW6vGL_1yKtDQADiPGTkSVGjjAUu4AredoO_w_cCUiMSURTHXbJ-vJJtfBlQ20JFrAphFNjhNojQ0ZvbroTh1e4x0XBhY93QPcHD7RdaXy-aRvfHIMpX8UqpJPZYdcdhrErxK2RhGsyMjA6dCn105yu-DWYOgc7corjCfmwPXMkCIArs_1P1cGx_cLi97OHBvQ2UjHNbcCsxQ88cm5th1OurN8dVN12J5l3mNZEfBRpZu7cNZ1pcWWLErxI35LDxUlGToY7X6nx9Lc5HnKQw7SIxXjKYcqlDCPtlf4o7AqmkBGzdyZq8ZRBMceiSzar-2odAtBCFf6uAoJF3iFOjP3UgWwXofO99AqlKhuxVZ9ZoR2uqo8tXvK-u8Hkerm06cg4d5ONnzWh6_wY3JKJCEXMPm31KD_ZUP497PUJ329OXZoGljLCAkb_ePn1nvw2eLAY24VoaIogaNdSvPCuSFueL2qpS2QQHngvACc2HyECMAEsFop1A_VpKMtiXtBGZnfjQzi5vgVmnbwxTxWzbPJz3YSCwIAkt8LRxsvm55wUJzVMvZHeW7z8D-AS-bQ8E5hdYfbK93EF5_O2CnxIc_xr135BGxrNomGx_QH7mMjh-WYHbBHfSktzOEeYL3AasYC0XFAThZpyjIHDKr_ODJtbQ5jpTtQuzdoe6XXMPGAOezR8W76XVzzDJc7iUyTVGlnyB7mby1d6F7nT0r-F2s192nFzw4MJyFXWeBchTPKRuk3a0JQkET-1Vgj-es7oadlRYaPCT4PKHuEUIEyZdtqMM1FJd4tMvEeQtwolGN3t-ZnLC3ZhYj0BLjOY8rMXHenC9EMxmztq7SpChMKoweQ7ZmoNg4Em16FFoD5wasGNP8dgAZVB9qW1vYWJvSWApttjQ9eGFSBz8BweM3kp-lCH-SNnoN1kd0iFdkIXtDlDSaiK_GOVMdtpYFWfBdaeXv_4CMb94356zVPVRAh8VA6_4BBPeZ8sktAXmFCeIVnldVXkGF7nKudor9A42OkpNDhurfweAg10t6a3I7JZpB8_wiv9TQoMpBSvLLndJaSuTUlar7A7iJ91GWRg9ZrqNlWaTWJK9URPPhzJAt1dz2rZov1sfgs-xzWuSte4oBynACWDYaFx3-PwkOslzbq8SIrs-o4F2KbegpMoTF5-e0srLY5TmWumHfL-_9AXttpeOCb4V28BkB7P3AxM./download\n",
            "Resolving public.boxcloud.com (public.boxcloud.com)... 107.152.24.200\n",
            "Connecting to public.boxcloud.com (public.boxcloud.com)|107.152.24.200|:443... connected.\n",
            "HTTP request sent, awaiting response... 200 OK\n",
            "Length: 1640194 (1.6M) [application/octet-stream]\n",
            "Saving to: ‘personachat_all_sentences_valid.jsonl’\n",
            "\n",
            "personachat_all_sen 100%[===================>]   1.56M  --.-KB/s    in 0.1s    \n",
            "\n",
            "2021-07-30 16:07:44 (12.8 MB/s) - ‘personachat_all_sentences_valid.jsonl’ saved [1640194/1640194]\n",
            "\n",
            "--2021-07-30 16:07:44--  https://nyu.box.com/shared/static/im7we9k2gcf8kslqnfamsimicgosuw9y.jsonl\n",
            "Resolving nyu.box.com (nyu.box.com)... 107.152.24.197\n",
            "Connecting to nyu.box.com (nyu.box.com)|107.152.24.197|:443... connected.\n",
            "HTTP request sent, awaiting response... 301 Moved Permanently\n",
            "Location: /public/static/im7we9k2gcf8kslqnfamsimicgosuw9y.jsonl [following]\n",
            "--2021-07-30 16:07:44--  https://nyu.box.com/public/static/im7we9k2gcf8kslqnfamsimicgosuw9y.jsonl\n",
            "Reusing existing connection to nyu.box.com:443.\n",
            "HTTP request sent, awaiting response... 301 Moved Permanently\n",
            "Location: https://nyu.app.box.com/public/static/im7we9k2gcf8kslqnfamsimicgosuw9y.jsonl [following]\n",
            "--2021-07-30 16:07:45--  https://nyu.app.box.com/public/static/im7we9k2gcf8kslqnfamsimicgosuw9y.jsonl\n",
            "Resolving nyu.app.box.com (nyu.app.box.com)... 107.152.24.201\n",
            "Connecting to nyu.app.box.com (nyu.app.box.com)|107.152.24.201|:443... connected.\n",
            "HTTP request sent, awaiting response... 302 Found\n",
            "Location: https://public.boxcloud.com/d/1/b1!ouWqWYvI148hko46i2vcOJ7pkPZAA-JSfgbKhMwhiKEd74HC1LL0DunLC_PhQdqvzlsZ1chVPk-hUptIwmS1cuKfbHt-9ouCNJNemTEP07PgeOPWIVb2J06e1pfDvBIMe4m4a1L5jGx1_QxTvpu3pqwZGFBTOO_6NXmBcoJmeuE8fdPH9reN3Zev_UYxVRRTZDGSjGFsMj9BGPLQprExBDZiQkPHgDC9UIleW7dX9NokZO6ACRAHLj7gL7AD9PLNRpIL_pGFJ2YkE-r2BulhsY-Ry-KMmgDCbnl7kIPee0ZzY5zwvRPn1WNXxWoT6HT8JlrpmjiAqHqGdyWgygNw53_9moaK7DFBuoTMNs4sHnjCqLXLtcH9KLDe08JMaYanfjd1UH5X9I0-5gHP0KT6XbyfStu-t7VaYJQG8O2pt1PYGr5XxuHaB6_5gTW6Ryxx7jX8dLgQ0wREG0zR25PVVkihJm4hGy9lQD-WAxBZ6Q-DgKrKfw_5l11yM-KYH1NzLoj_dAxQDrQ7QXnvY_QB1JBpAGjnljbOYaKvGUi-mX5MMSakAC_74nVJcNQeyPFAxQ_aTCJU9JLcoRngIzcg1mbqdLwyssgI6Hq0xnDzz4CaizSN66DHTyCoUu8eddXNpFpac8OGyjAf61kykIqbFswXODYllM6pyag06SYQTQ9wzplYdnAvmcxmcUQ9iN6BYwINFaFbNjLbyXlX6aVaaMHrrBoyPfsRtpdQUbfU7utw-tSuC8CpCqCw8y0uEqUclcoYiBOquxPcTYKsskWTh5rdtz4fV1rzPC5UUrp1VUF1vTwtE2JxzAsswHP_YFGJpPEd52ly95xDpsQeY-POMV6tNk2Gaxuw2t6UO1kpvJhX9iiNmgwY_X6i70BIGvUR5IPc-KJQmsj7g0J3GQ9NRQsytER07zovyKp3MMqa8-UO__5UbPo7Ztw5905Hc9WPv_-0O1GZ-szunUIja3ec28Enq1zMf0QCotPabrBnuIgEJ0ZiXuGo7ZmC033isvSnTwmNxI8GQH6-gAl8UT-69DadyHbrzqI6Qb-rprpWzc1zYbwSGam6zDw0bhqo51PYfxjM0dQTyz3Nay8oblrLvFqQMpeYsOcSLDDqTNMHnwZ-LPo-BwkuBV2Q32Y7KrWglVp_1eXDU0R87-jUkYmz-PpsOHMmuDuWwGa6UpPimED4w6_4Dm4lRwzwdNAAdGXmVOqgi5KTcpRH7Hfch6eq-XYGsCFPBoDocGDUKOmWffkknGDFIKcGh2fj8CgXkF6mZhANiJu8Z2NpPJ8jX3BCDZbsY1OD5X8qv5k8s7FleWhGHXF7yZOG6WJPDRhfuTMLrz0HdaVmp7XS-qqULssosa6x4L_6njh3kcghBNXGctBPF6pcAz-Q-FQTWJWOqajy_7yptijCXuGblm73w8OY-pdsnocf6nEF4CcTAZfhI0bWJ34tVmk-uLEPz_teEtA0C6pA/download [following]\n",
            "--2021-07-30 16:07:45--  https://public.boxcloud.com/d/1/b1!ouWqWYvI148hko46i2vcOJ7pkPZAA-JSfgbKhMwhiKEd74HC1LL0DunLC_PhQdqvzlsZ1chVPk-hUptIwmS1cuKfbHt-9ouCNJNemTEP07PgeOPWIVb2J06e1pfDvBIMe4m4a1L5jGx1_QxTvpu3pqwZGFBTOO_6NXmBcoJmeuE8fdPH9reN3Zev_UYxVRRTZDGSjGFsMj9BGPLQprExBDZiQkPHgDC9UIleW7dX9NokZO6ACRAHLj7gL7AD9PLNRpIL_pGFJ2YkE-r2BulhsY-Ry-KMmgDCbnl7kIPee0ZzY5zwvRPn1WNXxWoT6HT8JlrpmjiAqHqGdyWgygNw53_9moaK7DFBuoTMNs4sHnjCqLXLtcH9KLDe08JMaYanfjd1UH5X9I0-5gHP0KT6XbyfStu-t7VaYJQG8O2pt1PYGr5XxuHaB6_5gTW6Ryxx7jX8dLgQ0wREG0zR25PVVkihJm4hGy9lQD-WAxBZ6Q-DgKrKfw_5l11yM-KYH1NzLoj_dAxQDrQ7QXnvY_QB1JBpAGjnljbOYaKvGUi-mX5MMSakAC_74nVJcNQeyPFAxQ_aTCJU9JLcoRngIzcg1mbqdLwyssgI6Hq0xnDzz4CaizSN66DHTyCoUu8eddXNpFpac8OGyjAf61kykIqbFswXODYllM6pyag06SYQTQ9wzplYdnAvmcxmcUQ9iN6BYwINFaFbNjLbyXlX6aVaaMHrrBoyPfsRtpdQUbfU7utw-tSuC8CpCqCw8y0uEqUclcoYiBOquxPcTYKsskWTh5rdtz4fV1rzPC5UUrp1VUF1vTwtE2JxzAsswHP_YFGJpPEd52ly95xDpsQeY-POMV6tNk2Gaxuw2t6UO1kpvJhX9iiNmgwY_X6i70BIGvUR5IPc-KJQmsj7g0J3GQ9NRQsytER07zovyKp3MMqa8-UO__5UbPo7Ztw5905Hc9WPv_-0O1GZ-szunUIja3ec28Enq1zMf0QCotPabrBnuIgEJ0ZiXuGo7ZmC033isvSnTwmNxI8GQH6-gAl8UT-69DadyHbrzqI6Qb-rprpWzc1zYbwSGam6zDw0bhqo51PYfxjM0dQTyz3Nay8oblrLvFqQMpeYsOcSLDDqTNMHnwZ-LPo-BwkuBV2Q32Y7KrWglVp_1eXDU0R87-jUkYmz-PpsOHMmuDuWwGa6UpPimED4w6_4Dm4lRwzwdNAAdGXmVOqgi5KTcpRH7Hfch6eq-XYGsCFPBoDocGDUKOmWffkknGDFIKcGh2fj8CgXkF6mZhANiJu8Z2NpPJ8jX3BCDZbsY1OD5X8qv5k8s7FleWhGHXF7yZOG6WJPDRhfuTMLrz0HdaVmp7XS-qqULssosa6x4L_6njh3kcghBNXGctBPF6pcAz-Q-FQTWJWOqajy_7yptijCXuGblm73w8OY-pdsnocf6nEF4CcTAZfhI0bWJ34tVmk-uLEPz_teEtA0C6pA/download\n",
            "Resolving public.boxcloud.com (public.boxcloud.com)... 107.152.24.200\n",
            "Connecting to public.boxcloud.com (public.boxcloud.com)|107.152.24.200|:443... connected.\n",
            "HTTP request sent, awaiting response... 200 OK\n",
            "Length: 1559597 (1.5M) [application/octet-stream]\n",
            "Saving to: ‘personachat_all_sentences_test.jsonl’\n",
            "\n",
            "personachat_all_sen 100%[===================>]   1.49M  --.-KB/s    in 0.1s    \n",
            "\n",
            "2021-07-30 16:07:45 (13.3 MB/s) - ‘personachat_all_sentences_test.jsonl’ saved [1559597/1559597]\n",
            "\n",
            "--2021-07-30 16:07:46--  https://nyu.box.com/shared/static/3jl9erctnvbefnczgmetkdil0xwpcxzb.pt\n",
            "Resolving nyu.box.com (nyu.box.com)... 107.152.24.197\n",
            "Connecting to nyu.box.com (nyu.box.com)|107.152.24.197|:443... connected.\n",
            "HTTP request sent, awaiting response... 301 Moved Permanently\n",
            "Location: /public/static/3jl9erctnvbefnczgmetkdil0xwpcxzb.pt [following]\n",
            "--2021-07-30 16:07:46--  https://nyu.box.com/public/static/3jl9erctnvbefnczgmetkdil0xwpcxzb.pt\n",
            "Reusing existing connection to nyu.box.com:443.\n",
            "HTTP request sent, awaiting response... 301 Moved Permanently\n",
            "Location: https://nyu.app.box.com/public/static/3jl9erctnvbefnczgmetkdil0xwpcxzb.pt [following]\n",
            "--2021-07-30 16:07:46--  https://nyu.app.box.com/public/static/3jl9erctnvbefnczgmetkdil0xwpcxzb.pt\n",
            "Resolving nyu.app.box.com (nyu.app.box.com)... 107.152.24.201\n",
            "Connecting to nyu.app.box.com (nyu.app.box.com)|107.152.24.201|:443... connected.\n",
            "HTTP request sent, awaiting response... 302 Found\n",
            "Location: https://public.boxcloud.com/d/1/b1!pcah8nPR-13etU683hBlBLygLIgRT65QeM6ljRYFVqvYSVE-6iTokj5nQ5NC2hY-bGrVsFfCSNuuD86O-qzdirdkb8GK4kYUkOda8J0rabwmsklO5BzkP6iGLiaFoerp5be0fujtoGu7a-1dwsgK_92r9DOo4E_ZtMW7CgGVHxfRuft9P9K1VM1pczKAAA4xkACySp2sEOpYi3aWIGrTBjfRgSrbFvvymP45jSBpgOpFA6-8iNPf_eKvu73gAMhVRFvoMrNcaj3A-52m-v_Xfl8_TJ-eoLuOOX0lRpPRAnCk46vEysrb23DLK-7ACF-Gp_HD9Q5dwYWW8FqXl-VWzK-6NG2BI7rzAaykpBBgF75pNJ3KnldwGpAurV11vonPODW6P-3rwIdTNcYB_yuK5u-5_e3kDz-9_jQfg0odn1xJfOnb0J3zKsu6nmlWUKSKK-yYf4wbhVA0v1cHZu00ZATfI4erWEFNaRDfBhrFZLdfo6pFtbu2pf4WNJR_hkDxjH8LgfW9-Bt4E8MFDq9Ipy5njM9bbOTyKWc82nfhY63Lt_KXTtM30LKGEPfMs2Fqm-aRnorVeprYWnTd0d5APe6t3MqYAaXeWmSYMB8Y0Nxi3qrT6USyVmqTIHW9g2XYGUvaLYKjheDmZlGrbGm05YAQUMtIRp7jvKWmWOOfzAM485GfnoEnAUjTx2BCAOWUaAjTSioEAAnhtsWaPgt0jUgu5LBsrePP_22yiuADAVa97eFFe6Rn5K7_HLvadigNhb1j1iqAGwB02ACR5nmvk6T24WkyHK8OvsCITFDSZ7GM19APbBiwgoCJmdLpopa9mcZ9BJBqYx1LIZDT393D_n6gC93JXWtulS-WyIYiZp54gfbwDeHiVXq-3Jbr-aRB0eZ6JqeHHUb0eAgRjnJQGjvMraAnIsa3XW1D7QQjMf0SZpOug34JBOIq2EitsV_uD08A6cmPfyq9Tf5q8wWU-_D6Ruci1QVAw8g7RslP2NGrr6-SitXkka-QwxUMO56Puf8aAec6I1UulwU_s4zZYuLz9_h0b5-xyb0GeFIGAelsuHg_173R4CxdDvkphQ2i2eiLndcznwLbek7jKQ6PEv3D-oS1uc_BIbeXqdxqUj_LGpqQwDhSzLvjMNjdhr3MQOcKfjW9TtOUYhPKTnhR0_rfpn9Nr8MxFc3jbEg6kacE8q8x68wLSxb8adCxh8wqaAh48kIXMxftHuxMLqE0wS2X4I5j1DbiiOWJqF7iCo43gZ3obHRDCWjN1CVl_mWJIA7MEzCzBEoPsHgvQJPfFQ0vca7U4eR9sooNvZbYWLFUo9zkxZSz4zic-tyKo6qkViEuFdgPi_ScGTmFwlAKbr6DE302XqYLKbElS5wxnVorrByGCMGSYWBzryoVdcUSAV4q5binhQ../download [following]\n",
            "--2021-07-30 16:07:46--  https://public.boxcloud.com/d/1/b1!pcah8nPR-13etU683hBlBLygLIgRT65QeM6ljRYFVqvYSVE-6iTokj5nQ5NC2hY-bGrVsFfCSNuuD86O-qzdirdkb8GK4kYUkOda8J0rabwmsklO5BzkP6iGLiaFoerp5be0fujtoGu7a-1dwsgK_92r9DOo4E_ZtMW7CgGVHxfRuft9P9K1VM1pczKAAA4xkACySp2sEOpYi3aWIGrTBjfRgSrbFvvymP45jSBpgOpFA6-8iNPf_eKvu73gAMhVRFvoMrNcaj3A-52m-v_Xfl8_TJ-eoLuOOX0lRpPRAnCk46vEysrb23DLK-7ACF-Gp_HD9Q5dwYWW8FqXl-VWzK-6NG2BI7rzAaykpBBgF75pNJ3KnldwGpAurV11vonPODW6P-3rwIdTNcYB_yuK5u-5_e3kDz-9_jQfg0odn1xJfOnb0J3zKsu6nmlWUKSKK-yYf4wbhVA0v1cHZu00ZATfI4erWEFNaRDfBhrFZLdfo6pFtbu2pf4WNJR_hkDxjH8LgfW9-Bt4E8MFDq9Ipy5njM9bbOTyKWc82nfhY63Lt_KXTtM30LKGEPfMs2Fqm-aRnorVeprYWnTd0d5APe6t3MqYAaXeWmSYMB8Y0Nxi3qrT6USyVmqTIHW9g2XYGUvaLYKjheDmZlGrbGm05YAQUMtIRp7jvKWmWOOfzAM485GfnoEnAUjTx2BCAOWUaAjTSioEAAnhtsWaPgt0jUgu5LBsrePP_22yiuADAVa97eFFe6Rn5K7_HLvadigNhb1j1iqAGwB02ACR5nmvk6T24WkyHK8OvsCITFDSZ7GM19APbBiwgoCJmdLpopa9mcZ9BJBqYx1LIZDT393D_n6gC93JXWtulS-WyIYiZp54gfbwDeHiVXq-3Jbr-aRB0eZ6JqeHHUb0eAgRjnJQGjvMraAnIsa3XW1D7QQjMf0SZpOug34JBOIq2EitsV_uD08A6cmPfyq9Tf5q8wWU-_D6Ruci1QVAw8g7RslP2NGrr6-SitXkka-QwxUMO56Puf8aAec6I1UulwU_s4zZYuLz9_h0b5-xyb0GeFIGAelsuHg_173R4CxdDvkphQ2i2eiLndcznwLbek7jKQ6PEv3D-oS1uc_BIbeXqdxqUj_LGpqQwDhSzLvjMNjdhr3MQOcKfjW9TtOUYhPKTnhR0_rfpn9Nr8MxFc3jbEg6kacE8q8x68wLSxb8adCxh8wqaAh48kIXMxftHuxMLqE0wS2X4I5j1DbiiOWJqF7iCo43gZ3obHRDCWjN1CVl_mWJIA7MEzCzBEoPsHgvQJPfFQ0vca7U4eR9sooNvZbYWLFUo9zkxZSz4zic-tyKo6qkViEuFdgPi_ScGTmFwlAKbr6DE302XqYLKbElS5wxnVorrByGCMGSYWBzryoVdcUSAV4q5binhQ../download\n",
            "Resolving public.boxcloud.com (public.boxcloud.com)... 107.152.24.200\n",
            "Connecting to public.boxcloud.com (public.boxcloud.com)|107.152.24.200|:443... connected.\n",
            "HTTP request sent, awaiting response... 200 OK\n",
            "Length: 67576905 (64M) [application/octet-stream]\n",
            "Saving to: ‘personachat_rnn_lm.pt’\n",
            "\n",
            "personachat_rnn_lm. 100%[===================>]  64.45M  14.9MB/s    in 4.3s    \n",
            "\n",
            "2021-07-30 16:07:52 (14.9 MB/s) - ‘personachat_rnn_lm.pt’ saved [67576905/67576905]\n",
            "\n"
          ],
          "name": "stdout"
        }
      ]
    },
    {
      "cell_type": "code",
      "metadata": {
        "id": "qMLDPoL23cnI"
      },
      "source": [
        "# For Windows users\n",
        "# !pip install wget\n",
        "# import wget\n",
        "\n",
        "# # Download data and a pretrained model\n",
        "\n",
        "# ### DOWNLOADING THE FILES\n",
        "# ### persona chat dataset\n",
        "# if not os.path.exists('personachat_all_sentences_train.jsonl'):\n",
        "#     wget.download(\"https://nyu.box.com/shared/static/q4nvswb0szelivhgyx87vd1056ttqfyi.jsonl\",'personachat_all_sentences_train.jsonl')\n",
        "# if not os.path.exists('personachat_all_sentences_valid.jsonl'):\n",
        "#     wget.download(\"https://nyu.box.com/shared/static/8krcizo8sms1m0ppy7uiwfcx4a3l5nsq.jsonl\",'personachat_all_sentences_valid.jsonl')\n",
        "# if not os.path.exists('personachat_all_sentences_test.jsonl'):\n",
        "#     wget.download(\"https://nyu.box.com/shared/static/im7we9k2gcf8kslqnfamsimicgosuw9y.jsonl\",'personachat_all_sentences_test.jsonl')\n",
        "\n",
        "# ## wikitext-2 dataset\n",
        "# if not os.path.exists('wikitext2-sentencized.json'):\n",
        "#     wget.download(\"https://nyu.box.com/shared/static/9kb7l7ci30hb6uahhbssjlq0kctr5ii4.json\",'wikitext2-sentencized.json')\n",
        "\n",
        "# ### pretrained rnn model\n",
        "# if not os.path.exists('personachat_rnn_lm.pt'):\n",
        "#     wget.download(\"https://nyu.box.com/shared/static/3jl9erctnvbefnczgmetkdil0xwpcxzb.pt\",'personachat_rnn_lm.pt')"
      ],
      "execution_count": null,
      "outputs": []
    },
    {
      "cell_type": "markdown",
      "metadata": {
        "id": "eLWS5Wa7HmbQ"
      },
      "source": [
        "#### Preparing data: dictionary and dataset"
      ]
    },
    {
      "cell_type": "code",
      "metadata": {
        "id": "iHNMLD9a-v8E"
      },
      "source": [
        "def load_personachat(basedir):\n",
        "    datasets_fnames = {\n",
        "        'train': os.path.join(basedir, 'personachat_all_sentences_train.jsonl'),\n",
        "        'valid': os.path.join(basedir, 'personachat_all_sentences_valid.jsonl'),\n",
        "        'test': os.path.join(basedir, 'personachat_all_sentences_test.jsonl'),\n",
        "    }\n",
        "    \n",
        "    datasets_text = {\n",
        "        'train': [],\n",
        "        'valid': [],\n",
        "        'test': [],\n",
        "    }\n",
        "    \n",
        "    for split, fname in datasets_fnames.items():\n",
        "        for token_dict in jsonlines.open(fname):\n",
        "            datasets_text[split].append(token_dict['tokens'])\n",
        "    \n",
        "    return datasets_text\n",
        "\n",
        "class Dictionary(object): #maps words to indices\n",
        "    def __init__(self, datasets, include_valid=False):\n",
        "        self.tokens = []\n",
        "        self.ids = {}\n",
        "        self.counts = {}\n",
        "        \n",
        "        # add special tokens\n",
        "        self.add_token('<bos>') #beginning of sentence\n",
        "        self.add_token('<eos>') #end of sentence\n",
        "        self.add_token('<pad>')\n",
        "        self.add_token('<unk>') #unknown. Needed in case use with text with word that isn't in vocab\n",
        "        \n",
        "        for line in tqdm(datasets['train']):\n",
        "            for w in line:\n",
        "                self.add_token(w)\n",
        "                    \n",
        "        if include_valid is True:\n",
        "            for line in tqdm(datasets['valid']):\n",
        "                for w in line:\n",
        "                    self.add_token(w)\n",
        "                            \n",
        "    def add_token(self, w):\n",
        "        if w not in self.tokens:\n",
        "            self.tokens.append(w)\n",
        "            _w_id = len(self.tokens) - 1\n",
        "            self.ids[w] = _w_id\n",
        "            self.counts[w] = 1\n",
        "        else:\n",
        "            self.counts[w] += 1\n",
        "\n",
        "    def get_id(self, w):\n",
        "        return self.ids[w]\n",
        "    \n",
        "    def get_token(self, idx):\n",
        "        return self.tokens[idx]\n",
        "    \n",
        "    def decode_idx_seq(self, l):\n",
        "        return [self.tokens[i] for i in l]\n",
        "    \n",
        "    def encode_token_seq(self, l):\n",
        "        return [self.ids[i] if i in self.ids else self.ids['<unk>'] for i in l]\n",
        "    \n",
        "    def __len__(self):\n",
        "        return len(self.tokens)"
      ],
      "execution_count": 4,
      "outputs": []
    },
    {
      "cell_type": "code",
      "metadata": {
        "id": "MUYTjIOQ-wDH",
        "colab": {
          "base_uri": "https://localhost:8080/"
        },
        "outputId": "f00497bc-b231-4d6c-d548-4c60bdab16fd"
      },
      "source": [
        "personachat_dataset = load_personachat('./')\n",
        "persona_dict = Dictionary(personachat_dataset, include_valid=True)"
      ],
      "execution_count": 5,
      "outputs": [
        {
          "output_type": "stream",
          "text": [
            "100%|██████████| 133176/133176 [00:23<00:00, 5721.93it/s]\n",
            "100%|██████████| 16181/16181 [00:03<00:00, 4310.84it/s]\n"
          ],
          "name": "stderr"
        }
      ]
    },
    {
      "cell_type": "code",
      "metadata": {
        "id": "PO9Ao6uK9fqM",
        "colab": {
          "base_uri": "https://localhost:8080/"
        },
        "outputId": "49e6764f-3942-47f8-d7de-dc883eaf3d5c"
      },
      "source": [
        "print(len(persona_dict))\n",
        "for i in range(10):\n",
        "    print(i, persona_dict.get_token(i))"
      ],
      "execution_count": 6,
      "outputs": [
        {
          "output_type": "stream",
          "text": [
            "20089\n",
            "0 <bos>\n",
            "1 <eos>\n",
            "2 <pad>\n",
            "3 <unk>\n",
            "4 i\n",
            "5 am\n",
            "6 doing\n",
            "7 great\n",
            "8 except\n",
            "9 for\n"
          ],
          "name": "stdout"
        }
      ]
    },
    {
      "cell_type": "markdown",
      "metadata": {
        "id": "Eb9Va-p4bj96"
      },
      "source": [
        "---\n",
        "### Model: Recurrent Neural Network"
      ]
    },
    {
      "cell_type": "markdown",
      "metadata": {
        "id": "oR-3DRYL9fqX"
      },
      "source": [
        "#### RNN as a sequence processing tool\n",
        "\n",
        "Consider a sequential input $\\mathbf{x}_1^T = (x_1, x_2, \\cdots, x_T)$.\n",
        "\n",
        "Now our goal is to estimate the probability distribution $p(x_t|x_{<t})$, i.e. the history is full prefix of the input before the token $x_t$. Obviosuly, in this case every token's history depends on the particular input and token position.\n",
        "\n",
        "Recurrent neural network can be seen as a function $h_t = f(x_t, h_{t-1}; \\theta)$, where $h_t$ is an internal (hidden) state of the model at time step $t$, and $x_t$ is an input signal at time step $t$.\n",
        "\n",
        "How exactly is $f$ defined? It depends on a particular architecture. There are plenty of them such as Long Short-Term Memory (LSTM), Gated Recurrent Unit (GRU) etc.\n",
        "\n",
        "Consider the simplest possible case: $$h_t = f(x_t, h_{t-1}; \\theta) = \\text{tanh}(a_t)\\\\ a_t = b + W \\cdot h_{t-1} + U \\cdot x_t$$ Adding previous hidden state\n",
        "\n",
        "Lets assume that size of the hidden state $|h_t| = 32$. ***Then what is the dimensionality of $W$?*** $dim(o)\\times dim(h)$\n",
        "\n",
        "What about $x_t$? In count based LM each token is represented by a single number? Here we use the distributional representation of the token.\n",
        "\n",
        "Lets assume size of the token embedding here $|x_t| = 300$. ***Then what is the dimensionality of $U$?***\n",
        "\n",
        "***Then what is the dimensionality of $b$?***"
      ]
    },
    {
      "cell_type": "markdown",
      "metadata": {
        "id": "DLTwdNF-bj97"
      },
      "source": [
        "#### RNNCell\n",
        "\n",
        "*RNNCell* is a building block of the RNN model. Pytorch RNN model allows to create multi-layer network, i.e. it creates a separate RNNCell for every layer and is able to process the whole sequences of data by iteratively applying RNNCell step by step."
      ]
    },
    {
      "cell_type": "code",
      "metadata": {
        "id": "F1WfgVLybj98"
      },
      "source": [
        "from torch.nn import RNNCell \n",
        "\n",
        "#  always try to read the documentation \n",
        "RNNCell?"
      ],
      "execution_count": 7,
      "outputs": []
    },
    {
      "cell_type": "markdown",
      "metadata": {
        "id": "EinnRCTybj9-"
      },
      "source": [
        "***Why there are two bias terms in Elman RNNCell? Is this equivalent to a single bias term as we wrote? Why?***"
      ]
    },
    {
      "cell_type": "code",
      "metadata": {
        "id": "OseW45d9bj9_",
        "colab": {
          "base_uri": "https://localhost:8080/"
        },
        "outputId": "b0a89b6a-dee5-468f-dbb9-4f228369dfff"
      },
      "source": [
        "# quick test\n",
        "hidden_size = 32\n",
        "embed_size = 300\n",
        "\n",
        "rnn_cell = RNNCell(embed_size, hidden_size)\n",
        "rnn_cell"
      ],
      "execution_count": 8,
      "outputs": [
        {
          "output_type": "execute_result",
          "data": {
            "text/plain": [
              "RNNCell(300, 32)"
            ]
          },
          "metadata": {
            "tags": []
          },
          "execution_count": 8
        }
      ]
    },
    {
      "cell_type": "code",
      "metadata": {
        "id": "UnPEPW5Nbj-B",
        "colab": {
          "base_uri": "https://localhost:8080/"
        },
        "outputId": "76df4169-5422-439d-9a21-58252e7c908e"
      },
      "source": [
        "random_hidden = torch.rand(1, hidden_size)\n",
        "print(random_hidden.size())"
      ],
      "execution_count": 9,
      "outputs": [
        {
          "output_type": "stream",
          "text": [
            "torch.Size([1, 32])\n"
          ],
          "name": "stdout"
        }
      ]
    },
    {
      "cell_type": "code",
      "metadata": {
        "id": "9TIjbLsMbj-C",
        "colab": {
          "base_uri": "https://localhost:8080/"
        },
        "outputId": "fdd3a14b-2a37-44b3-913d-62e0485273a9"
      },
      "source": [
        "random_input = torch.rand(1, embed_size)\n",
        "print(random_input.size())"
      ],
      "execution_count": 10,
      "outputs": [
        {
          "output_type": "stream",
          "text": [
            "torch.Size([1, 300])\n"
          ],
          "name": "stdout"
        }
      ]
    },
    {
      "cell_type": "code",
      "metadata": {
        "id": "1n2k_CEBbj-E",
        "colab": {
          "base_uri": "https://localhost:8080/"
        },
        "outputId": "1000c7b2-29a8-45dd-a5d3-b196f76d9883"
      },
      "source": [
        "new_hidden = rnn_cell(random_input, random_hidden)\n",
        "print(new_hidden.size())"
      ],
      "execution_count": 11,
      "outputs": [
        {
          "output_type": "stream",
          "text": [
            "torch.Size([1, 32])\n"
          ],
          "name": "stdout"
        }
      ]
    },
    {
      "cell_type": "markdown",
      "metadata": {
        "id": "oyAi2Otsbj-G"
      },
      "source": [
        "***What is the first 1 in the size tuple?*** -> *Batch size*. \n",
        "\n",
        "#### Batch size\n",
        "\n",
        "\n",
        "*Batch size* is the number of elements that *mini batch* contains. Do not confuse the batch size and time/sequence axis.\n",
        "\n",
        "Why do we need a *batch size*? To save computation time. Matrix multiplications give us this speed-up at very low cast thanks to efficient implementations.\n",
        "\n",
        "Consider the following input batch:"
      ]
    },
    {
      "cell_type": "code",
      "metadata": {
        "id": "E2P6hWF3bj-H",
        "colab": {
          "base_uri": "https://localhost:8080/"
        },
        "outputId": "28a29303-8a25-457b-d96b-3375452079e6"
      },
      "source": [
        "example_2 = [ 'hello this is the first sample in mini batch', 'and this is the second sample in mini batch' ]\n",
        "example_2"
      ],
      "execution_count": 12,
      "outputs": [
        {
          "output_type": "execute_result",
          "data": {
            "text/plain": [
              "['hello this is the first sample in mini batch',\n",
              " 'and this is the second sample in mini batch']"
            ]
          },
          "metadata": {
            "tags": []
          },
          "execution_count": 12
        }
      ]
    },
    {
      "cell_type": "markdown",
      "metadata": {
        "id": "IYmRMMbGbj-J"
      },
      "source": [
        "This *mini batch* contains two independent sentences, i.e. the batch size is 2. \n",
        "\n",
        "The actual length of each sample is 9. We are lucky that they have the same length, but what to do if not? For example:"
      ]
    },
    {
      "cell_type": "code",
      "metadata": {
        "id": "eVZN9JRWbj-J",
        "colab": {
          "base_uri": "https://localhost:8080/"
        },
        "outputId": "6bb0b4c7-0629-4d11-b81f-66e1c2fbac07"
      },
      "source": [
        "example_3 = ['this sample is quite long here since we want to address this case', 'this one is short']\n",
        "example_3"
      ],
      "execution_count": 13,
      "outputs": [
        {
          "output_type": "execute_result",
          "data": {
            "text/plain": [
              "['this sample is quite long here since we want to address this case',\n",
              " 'this one is short']"
            ]
          },
          "metadata": {
            "tags": []
          },
          "execution_count": 13
        }
      ]
    },
    {
      "cell_type": "markdown",
      "metadata": {
        "id": "rvsW4dnlbj-L"
      },
      "source": [
        "As a workaround we introduce the special padding token `<pad>`, then `example_3` will looks as:"
      ]
    },
    {
      "cell_type": "code",
      "metadata": {
        "id": "-VN-2qJ7bj-M",
        "colab": {
          "base_uri": "https://localhost:8080/"
        },
        "outputId": "5ac48781-1923-4ded-a1f3-568c415d398a"
      },
      "source": [
        "# toy function\n",
        "\n",
        "def pad_strings(minibatch):\n",
        "    max_len_sample = max(len(i.split(' ')) for i in minibatch)\n",
        "\n",
        "    result = []\n",
        "    for line in minibatch:\n",
        "        line_len = len(line.split(' '))\n",
        "        padding_str = ' ' + '<pad> '*(max_len_sample-line_len)\n",
        "        result.append(line+padding_str)\n",
        "        \n",
        "    return result\n",
        "\n",
        "pad_strings(example_3)"
      ],
      "execution_count": 14,
      "outputs": [
        {
          "output_type": "execute_result",
          "data": {
            "text/plain": [
              "['this sample is quite long here since we want to address this case ',\n",
              " 'this one is short <pad> <pad> <pad> <pad> <pad> <pad> <pad> <pad> <pad> ']"
            ]
          },
          "metadata": {
            "tags": []
          },
          "execution_count": 14
        }
      ]
    },
    {
      "cell_type": "markdown",
      "metadata": {
        "id": "L4QaNlS2bj-O"
      },
      "source": [
        "Now at time step $t=4$ input to RNNCell is `[['long'], ['<pad>']]`.\n",
        "\n",
        "#### RNN\n",
        "*RNN* is sequence of *RNN cell*."
      ]
    },
    {
      "cell_type": "code",
      "metadata": {
        "id": "FCvackw4bj-O"
      },
      "source": [
        "from torch.nn import RNNBase, RNN\n",
        "\n",
        "RNNBase.__init__??"
      ],
      "execution_count": 15,
      "outputs": []
    },
    {
      "cell_type": "code",
      "metadata": {
        "id": "d_qmYXYMbj-Q"
      },
      "source": [
        "RNNBase.forward?"
      ],
      "execution_count": 16,
      "outputs": []
    },
    {
      "cell_type": "markdown",
      "metadata": {
        "id": "jlUBUtnhbj-f"
      },
      "source": [
        "#### Embedding layer\n",
        "\n",
        "*Embedding layer* serves as a differentiable look-up table. Given the token id, it returns corresponding vector which represents the given word.\n",
        "\n",
        "Pytorch provides this functionality for us with `torch.nn.Embedding`."
      ]
    },
    {
      "cell_type": "code",
      "metadata": {
        "id": "F7wBvXaYbj-g"
      },
      "source": [
        "from torch.nn import Embedding\n",
        "\n",
        "Embedding?"
      ],
      "execution_count": 17,
      "outputs": []
    },
    {
      "cell_type": "code",
      "metadata": {
        "id": "hPUY40tXbj-m",
        "colab": {
          "base_uri": "https://localhost:8080/"
        },
        "outputId": "de073322-ead4-40cc-ba98-3df298aa734e"
      },
      "source": [
        "# Example embedding layer\n",
        "\n",
        "lookup = Embedding(num_embeddings=len(persona_dict), embedding_dim=256, padding_idx=persona_dict.get_id('<pad>')) #you don't want to change embedding padding since there's no info there\n",
        "lookup"
      ],
      "execution_count": 18,
      "outputs": [
        {
          "output_type": "execute_result",
          "data": {
            "text/plain": [
              "Embedding(20089, 256, padding_idx=2)"
            ]
          },
          "metadata": {
            "tags": []
          },
          "execution_count": 18
        }
      ]
    },
    {
      "cell_type": "code",
      "metadata": {
        "id": "eSDJy98Jbj-o",
        "colab": {
          "base_uri": "https://localhost:8080/"
        },
        "outputId": "5005042f-d5a2-4db9-ed87-5a7c66417139"
      },
      "source": [
        "lookup.weight.size()"
      ],
      "execution_count": 19,
      "outputs": [
        {
          "output_type": "execute_result",
          "data": {
            "text/plain": [
              "torch.Size([20089, 256])"
            ]
          },
          "metadata": {
            "tags": []
          },
          "execution_count": 19
        }
      ]
    },
    {
      "cell_type": "code",
      "metadata": {
        "id": "3WMCuASKbj-s",
        "colab": {
          "base_uri": "https://localhost:8080/"
        },
        "outputId": "42ac489e-aaea-4157-ad96-f4db5685b1df"
      },
      "source": [
        "# Example input\n",
        "\n",
        "input_ = persona_dict.encode_token_seq('hello world'.split(' '))\n",
        "print(f'discrete input: {[input_]}')\n",
        "\n",
        "input_continuous = lookup(torch.tensor([input_], dtype=torch.long))\n",
        "print(f'continuous input size: {input_continuous.size()}')"
      ],
      "execution_count": 20,
      "outputs": [
        {
          "output_type": "stream",
          "text": [
            "discrete input: [[179, 373]]\n",
            "continuous input size: torch.Size([1, 2, 256])\n"
          ],
          "name": "stdout"
        }
      ]
    },
    {
      "cell_type": "code",
      "metadata": {
        "id": "UhNAQPoX9frl",
        "colab": {
          "base_uri": "https://localhost:8080/"
        },
        "outputId": "0b4ccc48-b5e0-473d-9371-042974010479"
      },
      "source": [
        "input_continuous"
      ],
      "execution_count": 21,
      "outputs": [
        {
          "output_type": "execute_result",
          "data": {
            "text/plain": [
              "tensor([[[-1.2950e+00, -1.9721e+00, -6.6614e-01,  6.4192e-01,  4.0356e-01,\n",
              "           5.0825e-01,  1.0326e-01,  1.2580e+00,  1.1578e+00,  5.9725e-01,\n",
              "           5.3978e-01, -1.0805e+00, -3.9110e-01, -7.5409e-01,  1.6839e+00,\n",
              "           5.9826e-01,  7.8554e-02,  2.0559e+00, -3.0464e+00,  5.7640e-01,\n",
              "          -5.2012e-01,  6.7587e-01, -5.8847e-01,  7.0834e-01, -2.9694e-01,\n",
              "           2.8198e-02,  9.4362e-02, -1.5469e+00, -3.4083e-01, -6.8557e-02,\n",
              "          -1.4341e+00,  2.4854e-01, -9.4871e-01, -8.1723e-01,  8.9724e-01,\n",
              "           2.1568e+00,  8.7390e-01,  2.9091e-01, -2.3783e+00,  5.7108e-01,\n",
              "          -2.6376e-01, -8.5112e-01,  1.8104e+00, -1.2128e+00,  4.1777e-01,\n",
              "          -5.6244e-01, -1.4196e-01,  2.1519e+00,  3.1574e-01,  2.5741e+00,\n",
              "          -5.0429e-01, -1.0325e+00,  1.3688e+00, -3.9417e-01,  6.5481e-01,\n",
              "          -7.4233e-01,  9.1127e-01, -3.2377e-01,  6.6054e-01,  1.3724e+00,\n",
              "           2.0172e+00,  7.6719e-01, -1.3609e-01,  1.3865e+00,  1.9432e-01,\n",
              "          -5.3554e-01,  4.3746e-02, -1.1339e+00, -1.2515e+00, -2.5173e+00,\n",
              "           1.7484e-01,  1.2888e+00, -7.3782e-01, -1.3121e+00, -8.5428e-01,\n",
              "          -1.2605e-01,  1.8020e-02, -1.7236e+00, -2.7270e-01, -1.8646e+00,\n",
              "           6.1878e-01,  9.6425e-01,  3.1035e-01, -7.8876e-01,  3.5638e-01,\n",
              "          -3.6974e-01, -7.5500e-01,  7.2718e-01,  4.6793e-01,  9.0340e-03,\n",
              "          -7.7004e-01, -7.6217e-01, -3.8563e-01, -1.0127e+00, -7.6893e-01,\n",
              "           1.7109e+00,  9.0668e-01,  2.0130e+00, -1.3829e+00,  1.0172e+00,\n",
              "          -5.2229e-02, -2.0177e-02,  1.4585e+00,  1.4153e-02,  1.2720e+00,\n",
              "          -6.9095e-01,  1.7739e+00,  4.5404e-01, -4.5423e-01, -1.0767e+00,\n",
              "          -6.1104e-01,  1.1828e-01,  5.4714e-01,  4.8926e-01,  6.5249e-02,\n",
              "           1.5362e+00,  2.3901e-01,  3.4427e-04, -5.2277e-01,  7.1806e-02,\n",
              "          -9.2219e-01,  9.7928e-01,  1.9462e+00,  7.1926e-01, -9.6871e-01,\n",
              "          -1.4046e+00, -1.5097e+00, -6.0490e-01, -4.8138e-01, -3.3446e-01,\n",
              "          -1.1256e+00,  1.0702e+00, -8.5056e-01, -1.7720e-01,  4.3982e-01,\n",
              "           1.6958e+00,  4.7043e-01, -1.6678e+00, -4.0135e-01,  1.4314e+00,\n",
              "          -1.0847e+00,  1.0316e+00,  4.9808e-01,  4.6346e-01,  3.0373e-01,\n",
              "           2.5114e-01,  3.7484e-01, -1.4437e+00,  4.8555e-01, -1.3736e+00,\n",
              "          -1.1611e+00, -6.8115e-01, -1.2108e+00,  5.0927e-02,  4.3380e-01,\n",
              "           9.6133e-01,  9.2371e-02, -2.0051e-01,  9.8601e-01, -1.7103e+00,\n",
              "          -1.9393e-01, -4.0466e-01,  4.2935e-01, -4.5818e-01, -1.0020e+00,\n",
              "          -7.0527e-01,  5.8500e-03, -3.1300e-01, -7.0590e-02,  4.4265e-01,\n",
              "           7.5487e-02,  2.1198e+00, -1.8204e+00, -2.3403e+00, -3.4811e-01,\n",
              "          -2.7434e-01, -1.0069e+00, -5.7405e-01, -1.1796e+00, -2.4880e+00,\n",
              "           3.1061e-01,  9.5269e-01,  1.7068e+00,  4.7204e-01, -1.8588e+00,\n",
              "           6.3673e-01, -1.5912e+00,  1.4183e+00, -1.4553e-01, -2.4679e-01,\n",
              "          -4.4722e-01, -4.2027e-01, -5.8096e-01,  1.5694e+00, -8.8960e-02,\n",
              "          -5.2853e-02,  7.5716e-01, -5.8416e-01, -2.4728e+00,  1.1106e+00,\n",
              "           5.7511e-01, -1.0080e+00,  2.0998e-01, -1.7208e+00,  1.5398e+00,\n",
              "           7.3400e-02,  1.1444e+00, -1.4579e+00,  4.9749e-02,  7.6342e-01,\n",
              "          -3.2405e-01,  1.5774e+00, -1.8554e-01, -9.8491e-01,  1.1861e+00,\n",
              "          -1.5349e-01,  1.5895e-01, -8.3135e-01,  5.4338e-02, -7.6092e-01,\n",
              "           3.0282e-01,  3.1438e-01, -7.6868e-01,  5.9835e-01,  1.1206e-01,\n",
              "          -7.7173e-01,  9.0176e-01, -2.3873e-01, -1.4116e+00, -8.1256e-01,\n",
              "           9.5758e-01, -8.5679e-01,  1.2889e-01, -1.7682e-02,  1.4152e+00,\n",
              "           1.0177e+00, -4.3370e-01,  1.3837e-01, -9.8104e-01, -1.0168e-02,\n",
              "           4.6095e-01, -9.6197e-01,  9.0823e-01, -2.3530e+00,  7.7608e-01,\n",
              "          -1.1567e+00,  9.0060e-01,  9.9793e-04,  5.2619e-01,  1.3676e-01,\n",
              "          -8.0380e-01, -1.6187e-01, -1.3234e-01, -1.5444e+00,  4.4232e-01,\n",
              "          -8.0834e-01],\n",
              "         [-1.0831e+00,  1.4375e-01,  3.0633e-01, -2.6097e-01,  9.1681e-01,\n",
              "          -1.3187e+00, -1.8947e+00,  1.4367e+00, -1.7374e-01, -1.5219e+00,\n",
              "           3.3066e-01, -1.3375e+00,  4.6257e-01, -1.1656e-01, -9.4325e-01,\n",
              "           2.3748e-01, -1.0013e+00, -1.1394e+00,  3.0466e-01,  7.5301e-01,\n",
              "           8.8306e-02, -8.7915e-01, -1.6592e+00, -8.7492e-02, -1.5385e+00,\n",
              "          -5.1468e-01, -3.8668e-01, -1.4011e+00, -1.1461e+00, -9.0411e-01,\n",
              "          -5.9380e-02,  3.1151e+00, -1.0491e+00,  4.4162e-01,  7.4994e-01,\n",
              "           5.0346e-01, -8.5787e-02, -9.5458e-01, -2.6695e-01, -3.3840e-01,\n",
              "           1.2523e+00, -7.5317e-01, -1.2159e+00,  4.4833e-01, -9.2157e-01,\n",
              "           8.0855e-01, -4.6690e-01,  6.1264e-01, -1.3025e+00,  1.0482e+00,\n",
              "          -1.4891e+00,  9.9192e-01, -7.6764e-03, -7.0096e-01, -4.7533e-01,\n",
              "          -1.7010e+00,  1.2785e+00,  1.5032e+00,  6.2118e-01, -1.3563e-01,\n",
              "           9.8122e-01, -1.1664e-01, -7.4709e-01, -1.6337e+00, -9.1214e-01,\n",
              "           5.5732e-01,  6.7622e-01, -7.3503e-01, -5.0124e-01,  6.4907e-02,\n",
              "           7.0826e-02,  4.6085e-02,  2.0129e-01,  8.0202e-01, -1.7659e-01,\n",
              "          -1.8331e+00,  2.0901e-01,  1.4552e+00,  1.8749e+00, -7.5104e-01,\n",
              "           1.0385e-01, -1.8497e+00, -6.8844e-01, -1.5376e+00,  1.1085e+00,\n",
              "          -1.5027e-01,  6.2562e-01, -4.7747e-01,  4.5682e-01,  7.5652e-01,\n",
              "          -2.9605e-01, -6.8958e-01, -6.6519e-01,  4.3618e-01,  5.3422e-01,\n",
              "           1.1422e+00,  7.9523e-01,  3.2548e-01, -4.5297e-01,  8.3370e-02,\n",
              "          -2.2741e+00,  6.7049e-02,  2.0707e+00, -4.3597e-01,  1.0127e-01,\n",
              "          -9.6171e-01,  9.6315e-01,  8.0236e-02,  1.8372e+00, -1.0098e-01,\n",
              "           7.1342e-01, -3.8595e-01,  2.6154e+00,  1.2738e+00,  5.0185e-02,\n",
              "           1.6254e-01,  4.5032e-01,  6.2783e-01, -1.6749e+00,  7.8953e-01,\n",
              "           8.1979e-01,  1.2039e+00,  3.6894e-01, -5.5291e-01,  1.0944e-02,\n",
              "          -2.6539e-01, -5.2917e-01, -7.1112e-01,  6.5383e-02,  2.4803e+00,\n",
              "           3.1051e-01,  2.2640e-01, -1.4232e+00,  2.8320e-01, -1.5696e+00,\n",
              "           1.6388e+00, -3.7498e-01,  1.2240e-01, -3.4762e-01,  8.7822e-01,\n",
              "           1.8638e-01, -7.3732e-02, -1.0197e+00, -2.0425e-01,  2.0972e-01,\n",
              "           5.4982e-01, -6.0556e-01,  4.1816e-02, -1.0861e-01, -1.9811e+00,\n",
              "          -2.4015e+00, -3.2622e-01,  1.0856e+00, -1.7994e+00,  6.1383e-01,\n",
              "           3.5755e-01, -8.2794e-01, -1.1746e+00, -1.7329e-01, -7.6089e-01,\n",
              "          -8.2425e-02, -5.2989e-01,  2.8223e-01,  7.0120e-01, -7.7490e-01,\n",
              "           5.3252e-01,  6.8598e-01,  2.1778e-01, -1.3800e+00,  9.8313e-01,\n",
              "           8.0644e-01, -1.7447e+00, -1.2452e-01,  1.2024e-01, -1.0891e+00,\n",
              "          -1.7436e+00, -3.2853e-01,  5.6405e-01, -1.0319e+00,  5.3151e-01,\n",
              "          -1.8163e+00,  9.4592e-03,  1.4288e-01,  7.8683e-01, -1.1940e-01,\n",
              "           1.6237e+00,  6.2970e-01,  9.4364e-01, -1.0725e+00, -3.2965e-01,\n",
              "           1.4213e+00, -1.2311e-01, -8.2936e-01, -1.9771e-01, -3.2420e-01,\n",
              "           9.8960e-01,  1.2693e+00, -8.3579e-01,  9.7526e-01,  2.8688e-01,\n",
              "          -1.3519e+00,  2.7858e+00, -4.3354e-01, -1.9950e+00,  1.4658e+00,\n",
              "           1.0207e+00, -5.1037e-01,  1.0987e-01, -5.6180e-01, -3.2946e-01,\n",
              "           2.0317e+00,  2.4167e-01,  9.5670e-01,  4.8379e-01, -9.5239e-02,\n",
              "           9.2163e-02, -4.1330e-01,  1.1957e+00, -1.7430e-01,  7.1537e-01,\n",
              "           3.0714e+00, -2.5543e+00, -1.3166e-01,  4.4914e-01,  4.6026e-01,\n",
              "           1.1398e+00, -1.2293e+00, -6.5955e-01,  7.5625e-01,  1.5288e+00,\n",
              "          -5.8120e-01,  3.3028e-01, -1.1114e+00, -5.4238e-01, -5.4275e-01,\n",
              "          -5.7058e-01,  2.4990e-01,  7.4326e-01, -2.2223e-01,  9.0599e-01,\n",
              "           1.1373e-01,  1.1947e+00, -1.4176e-01,  3.0546e-01, -1.4695e+00,\n",
              "           9.0999e-01,  1.2014e+00, -6.4727e-01,  1.4139e-01,  6.6673e-01,\n",
              "          -8.0546e-01,  7.7607e-01, -1.9361e+00, -4.4566e-02,  1.2265e+00,\n",
              "           5.0207e-01]]], grad_fn=<EmbeddingBackward>)"
            ]
          },
          "metadata": {
            "tags": []
          },
          "execution_count": 21
        }
      ]
    },
    {
      "cell_type": "markdown",
      "metadata": {
        "id": "nyXi2nkDbj-t"
      },
      "source": [
        "#### Creating the RNN model"
      ]
    },
    {
      "cell_type": "code",
      "metadata": {
        "id": "h0OIKqYlbj-u"
      },
      "source": [
        "input_size = lookup.weight.size(1)\n",
        "vocab_size = lookup.weight.size(0)\n",
        "hidden_size = 1024\n",
        "num_layers = 1\n",
        "\n",
        "rnn_lm = RNN(input_size, hidden_size, num_layers, batch_first=True) #batchfirst is important - tells you dimension that minibatch is on. Will give model if have it backward but will be wrong. We create batch in loader"
      ],
      "execution_count": 22,
      "outputs": []
    },
    {
      "cell_type": "code",
      "metadata": {
        "id": "P0d5Brchbj-w",
        "colab": {
          "base_uri": "https://localhost:8080/"
        },
        "outputId": "0f29e3f7-0756-4718-b234-d0ddb6dba4f8"
      },
      "source": [
        "rnn_lm"
      ],
      "execution_count": 23,
      "outputs": [
        {
          "output_type": "execute_result",
          "data": {
            "text/plain": [
              "RNN(256, 1024, batch_first=True)"
            ]
          },
          "metadata": {
            "tags": []
          },
          "execution_count": 23
        }
      ]
    },
    {
      "cell_type": "code",
      "metadata": {
        "id": "eMYxMNsLbj-y"
      },
      "source": [
        "from torch.nn import Linear\n",
        "# linear projection layer is needed to convert the hidden representation into the token-level output probability distribution\n",
        "\n",
        "projection = Linear(hidden_size, vocab_size, bias=True)"
      ],
      "execution_count": 24,
      "outputs": []
    },
    {
      "cell_type": "code",
      "metadata": {
        "id": "NxtW_Rxnbj-0",
        "colab": {
          "base_uri": "https://localhost:8080/"
        },
        "outputId": "fb8399c1-c2c4-458e-ca1c-0ffcddf66086"
      },
      "source": [
        "projection"
      ],
      "execution_count": 25,
      "outputs": [
        {
          "output_type": "execute_result",
          "data": {
            "text/plain": [
              "Linear(in_features=1024, out_features=20089, bias=True)"
            ]
          },
          "metadata": {
            "tags": []
          },
          "execution_count": 25
        }
      ]
    },
    {
      "cell_type": "markdown",
      "metadata": {
        "id": "kLLD95Z2G3my"
      },
      "source": [
        "\n",
        "\n",
        "---\n",
        "\n"
      ]
    },
    {
      "cell_type": "markdown",
      "metadata": {
        "id": "4zev2mdGbj--"
      },
      "source": [
        "### Customize our model\n",
        "\n",
        "Now we know how to define each part of LM. Next we are going to make an abstract LM module with all previously discussed parts, as well as data loader which pads and make batches out of our training data."
      ]
    },
    {
      "cell_type": "markdown",
      "metadata": {
        "id": "QwPXurN1bj_F"
      },
      "source": [
        "#### Dataset\n",
        "Making an efficient dataset using `torch.utils.data.DataLoader`"
      ]
    },
    {
      "cell_type": "markdown",
      "metadata": {
        "id": "K8TCegGeOZy7"
      },
      "source": [
        "cf. \n",
        "> [`torch.utils.data.DataLoader`](https://pytorch.org/docs/stable/data.html#torch.utils.data.DataLoader) combines a dataset and a sampler, and provides an iterable over the given dataset."
      ]
    },
    {
      "cell_type": "code",
      "metadata": {
        "id": "9inTW9TO-v-l"
      },
      "source": [
        "def tokenize_dataset(datasets, dictionary, ngram_order=2): #substitute words with numbers. Sometimes can include splitting strings, dealing with punctuation and symbols.\n",
        "    tokenized_datasets = {}\n",
        "    for split, dataset in datasets.items():\n",
        "        _current_dictified = []\n",
        "        for l in tqdm(dataset):\n",
        "            l = ['<bos>']*(ngram_order-1) + l + ['<eos>']\n",
        "            encoded_l = dictionary.encode_token_seq(l)\n",
        "            _current_dictified.append(encoded_l)\n",
        "        tokenized_datasets[split] = _current_dictified\n",
        "        \n",
        "    return tokenized_datasets"
      ],
      "execution_count": 26,
      "outputs": []
    },
    {
      "cell_type": "code",
      "metadata": {
        "id": "8owF_WQMbj_H"
      },
      "source": [
        "class TensoredDataset(Dataset):\n",
        "    def __init__(self, list_of_lists_of_tokens):\n",
        "        self.input_tensors = []\n",
        "        self.target_tensors = []\n",
        "        \n",
        "        for sample in list_of_lists_of_tokens:\n",
        "            self.input_tensors.append(torch.tensor([sample[:-1]], dtype=torch.long))\n",
        "            self.target_tensors.append(torch.tensor([sample[1:]], dtype=torch.long))\n",
        "    \n",
        "    def __len__(self):\n",
        "        return len(self.input_tensors)\n",
        "    \n",
        "    def __getitem__(self, idx):\n",
        "        # return a (input, target) tuple\n",
        "        return (self.input_tensors[idx], self.target_tensors[idx])"
      ],
      "execution_count": 27,
      "outputs": []
    },
    {
      "cell_type": "code",
      "metadata": {
        "id": "UN-To_JLS9gH",
        "colab": {
          "base_uri": "https://localhost:8080/"
        },
        "outputId": "58e3e88f-9dab-47d7-a291-57a6ddb95915"
      },
      "source": [
        "personachat_tokenized_datasets = tokenize_dataset(personachat_dataset, persona_dict)\n",
        "persona_tensor_dataset = {}\n",
        "\n",
        "for split, listoflists in personachat_tokenized_datasets.items():\n",
        "    persona_tensor_dataset[split] = TensoredDataset(listoflists)\n",
        "    \n",
        "# check the first example\n",
        "persona_tensor_dataset['train'][0]"
      ],
      "execution_count": 28,
      "outputs": [
        {
          "output_type": "stream",
          "text": [
            "100%|██████████| 133176/133176 [00:00<00:00, 196589.66it/s]\n",
            "100%|██████████| 16181/16181 [00:00<00:00, 85308.61it/s]\n",
            "100%|██████████| 15608/15608 [00:00<00:00, 222994.43it/s]\n"
          ],
          "name": "stderr"
        },
        {
          "output_type": "execute_result",
          "data": {
            "text/plain": [
              "(tensor([[ 0,  4,  5,  6,  7,  8,  9, 10, 11, 12]]),\n",
              " tensor([[ 4,  5,  6,  7,  8,  9, 10, 11, 12,  1]]))"
            ]
          },
          "metadata": {
            "tags": []
          },
          "execution_count": 28
        }
      ]
    },
    {
      "cell_type": "code",
      "metadata": {
        "id": "oO9bQBklOE0g"
      },
      "source": [
        "torch.utils.data.DataLoader?"
      ],
      "execution_count": 29,
      "outputs": []
    },
    {
      "cell_type": "code",
      "metadata": {
        "id": "LZYTS4jc0lyW"
      },
      "source": [
        "torch.cat?"
      ],
      "execution_count": 30,
      "outputs": []
    },
    {
      "cell_type": "code",
      "metadata": {
        "id": "76j3yHD7bj_K"
      },
      "source": [
        "def pad_list_of_tensors(list_of_tensors, pad_token):\n",
        "    max_length = max([t.size(-1) for t in list_of_tensors])\n",
        "    padded_list = []\n",
        "    \n",
        "    for t in list_of_tensors:\n",
        "        padded_tensor = torch.cat([t, torch.tensor([[pad_token]*(max_length - t.size(-1))], dtype=torch.long)], dim = -1)\n",
        "        padded_list.append(padded_tensor)\n",
        "        \n",
        "    padded_tensor = torch.cat(padded_list, dim=0)\n",
        "    \n",
        "    return padded_tensor\n",
        "\n",
        "def pad_collate_fn(batch):\n",
        "    # batch is a list of sample tuples\n",
        "    input_list = [s[0] for s in batch]\n",
        "    target_list = [s[1] for s in batch]\n",
        "    \n",
        "    pad_token = persona_dict.get_id('<pad>')\n",
        "    #pad_token = 2\n",
        "    \n",
        "    input_tensor = pad_list_of_tensors(input_list, pad_token)\n",
        "    target_tensor = pad_list_of_tensors(target_list, pad_token)\n",
        "    \n",
        "    return input_tensor, target_tensor"
      ],
      "execution_count": 31,
      "outputs": []
    },
    {
      "cell_type": "code",
      "metadata": {
        "id": "qwBqO3z7bj_L"
      },
      "source": [
        "persona_loaders = {}\n",
        "\n",
        "batch_size = 128\n",
        "\n",
        "for split, persona_dataset in persona_tensor_dataset.items():\n",
        "    persona_loaders[split] = DataLoader(persona_dataset, batch_size=batch_size, shuffle=True, collate_fn=pad_collate_fn)"
      ],
      "execution_count": 32,
      "outputs": []
    },
    {
      "cell_type": "markdown",
      "metadata": {
        "id": "LHqYjtCYbj--"
      },
      "source": [
        "#### Model\n",
        "Making our own `nn.Module` model to combine Embedding, RNN and Projection in a single object\n",
        "\n",
        "Above we have created each part of the language model separately. Further we made a criterion and optimizer which takes every parameter we are going to update with an optimizer. To simplify the whole process now we create an abstract model class which combines all parts in a single RNNLanguageModel object."
      ]
    },
    {
      "cell_type": "code",
      "metadata": {
        "id": "IdlUbyiybj_A"
      },
      "source": [
        "class RNNLanguageModel(nn.Module): #RNN is only difference from previous model\n",
        "    \"\"\"\n",
        "    This model combines embedding, rnn and projection layer into a single model\n",
        "    \"\"\"\n",
        "    def __init__(self, options):\n",
        "        super().__init__()\n",
        "        \n",
        "        # create each LM part here \n",
        "        self.lookup = nn.Embedding(num_embeddings=options['num_embeddings'], embedding_dim=options['embedding_dim'], padding_idx=options['padding_idx'])\n",
        "        self.rnn = nn.RNN(options['input_size'], options['hidden_size'], options['num_layers'], dropout=options['rnn_dropout'], batch_first=True)\n",
        "        self.projection = nn.Linear(options['hidden_size'], options['num_embeddings'])\n",
        "        \n",
        "    def forward(self, encoded_input_sequence):\n",
        "        \"\"\"\n",
        "        Forward method process the input from token ids to logits\n",
        "        \"\"\"\n",
        "        embeddings = self.lookup(encoded_input_sequence)\n",
        "        rnn_outputs = self.rnn(embeddings)\n",
        "        logits = self.projection(rnn_outputs[0]) #convenient for seq to seq models. check shape of output. lstm gives different\n",
        "        \n",
        "        return logits"
      ],
      "execution_count": 33,
      "outputs": []
    },
    {
      "cell_type": "code",
      "metadata": {
        "id": "zQB-RbIhbj_B"
      },
      "source": [
        "# Create a model if we do not want to use pretrained model\n",
        "\n",
        "load_pretrained = True\n",
        "\n",
        "num_gpus = torch.cuda.device_count()\n",
        "if num_gpus > 0:\n",
        "    current_device = 'cuda'\n",
        "else:\n",
        "    current_device = 'cpu'\n",
        "\n",
        "if load_pretrained:\n",
        "    if not os.path.exists('personachat_rnn_lm.pt'):\n",
        "        raise EOFError('Download pretrained model!')\n",
        "    model_dict = torch.load('personachat_rnn_lm.pt', map_location=current_device)\n",
        "    \n",
        "    options = model_dict['options']\n",
        "    model = RNNLanguageModel(options).to(current_device)\n",
        "    model.load_state_dict(model_dict['model_dict'])\n",
        "    \n",
        "else:\n",
        "    embedding_size = 256\n",
        "    hidden_size = 512\n",
        "    num_layers = 3\n",
        "    rnn_dropout = 0.3\n",
        "\n",
        "    options = {\n",
        "        'num_embeddings': len(persona_dict),\n",
        "        'embedding_dim': embedding_size,\n",
        "        'padding_idx': persona_dict.get_id('<pad>'),\n",
        "        'input_size': embedding_size,\n",
        "        'hidden_size': hidden_size,\n",
        "        'num_layers': num_layers,\n",
        "        'rnn_dropout': rnn_dropout,\n",
        "    }\n",
        "\n",
        "    \n",
        "\n",
        "    model = RNNLanguageModel(options).to(current_device)\n",
        "\n",
        "criterion = nn.CrossEntropyLoss(ignore_index=persona_dict.get_id('<pad>'))\n",
        "\n",
        "model_parameters = [p for p in model.parameters() if p.requires_grad]\n",
        "optimizer = optim.SGD(model_parameters, lr=0.001, momentum=0.999)"
      ],
      "execution_count": 34,
      "outputs": []
    },
    {
      "cell_type": "code",
      "metadata": {
        "id": "qmMLIrhjbj_D",
        "colab": {
          "base_uri": "https://localhost:8080/"
        },
        "outputId": "ad5e17c1-fd1b-4baa-e291-00a5907547be"
      },
      "source": [
        "model"
      ],
      "execution_count": 35,
      "outputs": [
        {
          "output_type": "execute_result",
          "data": {
            "text/plain": [
              "RNNLanguageModel(\n",
              "  (lookup): Embedding(20089, 256, padding_idx=2)\n",
              "  (rnn): RNN(256, 512, num_layers=3, batch_first=True, dropout=0.3)\n",
              "  (projection): Linear(in_features=512, out_features=20089, bias=True)\n",
              ")"
            ]
          },
          "metadata": {
            "tags": []
          },
          "execution_count": 35
        }
      ]
    },
    {
      "cell_type": "code",
      "metadata": {
        "id": "R4WayxKfV3Ua",
        "colab": {
          "base_uri": "https://localhost:8080/"
        },
        "outputId": "7dad6451-a493-4d4f-fc08-1fc7589c4372"
      },
      "source": [
        "model_dict.keys()"
      ],
      "execution_count": 36,
      "outputs": [
        {
          "output_type": "execute_result",
          "data": {
            "text/plain": [
              "dict_keys(['options', 'loss_cache', 'model_dict'])"
            ]
          },
          "metadata": {
            "tags": []
          },
          "execution_count": 36
        }
      ]
    },
    {
      "cell_type": "code",
      "metadata": {
        "id": "eVDzkw0dWaCm",
        "colab": {
          "base_uri": "https://localhost:8080/"
        },
        "outputId": "3b21956a-5683-42e8-c8ac-d46872d41b45"
      },
      "source": [
        "model_dict['options']"
      ],
      "execution_count": 37,
      "outputs": [
        {
          "output_type": "execute_result",
          "data": {
            "text/plain": [
              "{'embedding_dim': 256,\n",
              " 'hidden_size': 512,\n",
              " 'input_size': 256,\n",
              " 'num_embeddings': 20089,\n",
              " 'num_layers': 3,\n",
              " 'padding_idx': 2,\n",
              " 'rnn_dropout': 0.3}"
            ]
          },
          "metadata": {
            "tags": []
          },
          "execution_count": 37
        }
      ]
    },
    {
      "cell_type": "markdown",
      "metadata": {
        "id": "d6nknrolRIfy"
      },
      "source": [
        "#### Training"
      ]
    },
    {
      "cell_type": "code",
      "metadata": {
        "id": "Fw28_6qXbj_M",
        "colab": {
          "base_uri": "https://localhost:8080/"
        },
        "outputId": "bb537e32-7dfc-4634-9933-6cf0e81d7ee8"
      },
      "source": [
        "plot_cache = []\n",
        "\n",
        "for epoch_number in range(100):\n",
        "    avg_loss=0\n",
        "    if not load_pretrained:\n",
        "        # do train\n",
        "        model.train()\n",
        "        train_log_cache = []\n",
        "        for i, (inp, target) in enumerate(persona_loaders['train']):\n",
        "            optimizer.zero_grad()\n",
        "            inp = inp.to(current_device)\n",
        "            target = target.to(current_device)\n",
        "            logits = model(inp)\n",
        "            \n",
        "            loss = criterion(logits.view(-1, logits.size(-1)), target.view(-1))\n",
        "            \n",
        "            loss.backward()\n",
        "            optimizer.step()\n",
        "            \n",
        "            train_log_cach.eappend(loss.item())\n",
        "            \n",
        "            if i % 100 == 0:\n",
        "                avg_loss = sum(train_log_cache)/len(train_log_cache)\n",
        "                print('Step {} avg train loss = {:.{prec}f}'.format(i, avg_loss, prec=4))\n",
        "                train_log_cache = []\n",
        "            \n",
        "    #do valid\n",
        "    valid_losses = []\n",
        "    model.eval()\n",
        "    with torch.no_grad():\n",
        "        for i, (inp, target) in enumerate(persona_loaders['valid']):\n",
        "            inp = inp.to(current_device)\n",
        "            target = target.to(current_device)\n",
        "            logits = model(inp)\n",
        "\n",
        "            loss = criterion(logits.view(-1, logits.size(-1)), target.view(-1))\n",
        "            valid_losses.append(loss.item())\n",
        "        avg_val_loss = sum(valid_losses) / len(valid_losses)\n",
        "        print('Validation loss after {} epoch = {:.{prec}f}'.format(epoch_number, avg_val_loss, prec=4))\n",
        "        \n",
        "    plot_cache.append((avg_loss, avg_val_loss))\n",
        "\n",
        "    if load_pretrained:\n",
        "        break"
      ],
      "execution_count": 38,
      "outputs": [
        {
          "output_type": "stream",
          "text": [
            "Validation loss after 0 epoch = 3.6496\n"
          ],
          "name": "stdout"
        }
      ]
    },
    {
      "cell_type": "markdown",
      "metadata": {
        "id": "UTyb2zZYbj_O"
      },
      "source": [
        "---\n",
        "### Evaluation: Perplexity\n",
        "#### Recap: Perplexity and how to get it right\n",
        "\n",
        "Intuitively, a good model should assign high probabilities to sequences from the 'true' distribution that it is modeling.\n",
        "\n",
        "A common way of quantifying this is with **perplexity**, a metric inversely-proportional to the probability that the model assigns to a set of sequences, e.g. a 'test set':\n",
        "\n",
        "\\begin{align}\n",
        "\\huge \\text{ppl}(p, D) &\\huge = -\\frac{1}{N_{total}}\\log p(D)\n",
        "\\end{align}\n",
        "\n",
        "where $D=\\{(w_1,\\ldots,w_{N_i})_i\\}_{i=1}^M$ is a dataset of $M$ sequences with total length $N_{\\text{total}}=\\sum_{i}N_i$.\n",
        "\n",
        "Intuitively, when measured in exponential form ($2^{-\\frac{1}{N_{total}}\\log_2 p(D)}$), **_perplexity measures the average rank of the true next-token, when tokens are ordered by the model's conditional probabilities_**. It is defined on $[1,\\infty)$, with 1 being a perfect model (assigning probability 1 to $D$), and a 'worse' model as perplexity increases. Section 1.3 of [[Chen & Goodman 1998]](https://dash.harvard.edu/bitstream/handle/1/25104739/tr-10-98.pdf?sequence=1) has a concise summary of perplexity and its motivation.\n",
        "\n",
        "### Perplexity in our case\n",
        "\n",
        "In our case model computes the loss for every token in the output sequence. There are several important points:\n",
        "\n",
        "- we have to mask loss assigned to padding token. \\<pad\\> is introduced in order to shape batches of specific size and such tokens do not contribute to the actual data. To our luck, pytorch already handles this in the criterion (check that **ignore_index=**argument)\n",
        "- we have to check the base of the logaithm: by default **torch.log** uses natural base $e$, in order to convert that to base 2 we do the following math: log_2 p = log_e p / log_e 2"
      ]
    },
    {
      "cell_type": "code",
      "metadata": {
        "id": "KAV_hzMvbj_O"
      },
      "source": [
        "if load_pretrained:\n",
        "    plot_cache = model_dict['loss_cache']"
      ],
      "execution_count": 39,
      "outputs": []
    },
    {
      "cell_type": "code",
      "metadata": {
        "id": "fhTtmqBfufyE",
        "colab": {
          "base_uri": "https://localhost:8080/",
          "height": 281
        },
        "outputId": "9d9af774-a221-4228-b96a-8eec5022f4f6"
      },
      "source": [
        "epochs = numpy.array(list(range(len(plot_cache))))\n",
        "plt.plot(epochs, [i[0] for i in plot_cache], label='Train loss')\n",
        "plt.plot(epochs, [i[1] for i in plot_cache], label='Valid loss')\n",
        "\n",
        "plt.legend()\n",
        "plt.title('Loss curves')\n",
        "plt.show()"
      ],
      "execution_count": 40,
      "outputs": [
        {
          "output_type": "display_data",
          "data": {
            "image/png": "[encoded data removed]",
            "text/plain": [
              "<Figure size 432x288 with 1 Axes>"
            ]
          },
          "metadata": {
            "tags": [],
            "needs_background": "light"
          }
        }
      ]
    },
    {
      "cell_type": "code",
      "metadata": {
        "id": "R_A4w1QFufyN",
        "colab": {
          "base_uri": "https://localhost:8080/",
          "height": 281
        },
        "outputId": "59c22401-7262-4a0b-e2a8-82b04b3a888b"
      },
      "source": [
        "epochs = numpy.array(list(range(len(plot_cache))))\n",
        "plt.plot(epochs, [2**(i[0]/numpy.log(2)) for i in plot_cache], label='Train ppl')\n",
        "plt.plot(epochs, [2**(i[1]/numpy.log(2)) for i in plot_cache], label='Valid ppl')\n",
        "\n",
        "plt.legend()\n",
        "plt.title('PPL curves')\n",
        "plt.show()"
      ],
      "execution_count": 41,
      "outputs": [
        {
          "output_type": "display_data",
          "data": {
            "image/png": "[encoded data removed]",
            "text/plain": [
              "<Figure size 432x288 with 1 Axes>"
            ]
          },
          "metadata": {
            "tags": [],
            "needs_background": "light"
          }
        }
      ]
    },
    {
      "cell_type": "markdown",
      "metadata": {
        "id": "zAvP_FXgbj_W"
      },
      "source": [
        "### Compare the results\n",
        "#### Checking some trigram probabilities\n",
        "\n",
        "In the previous lab we have this using 3gram count based LM:\n",
        "\n",
        "$p( \\text{dog }| \\text{ my pet} ) = 0.03030$\n",
        "\n",
        "$p( \\text{zebra } | \\text{ my pet} ) = 0.01515$\n",
        "\n",
        "$p( \\text{lion } | \\text{ my pet} ) = 0$\n",
        "\n",
        "The last trigram had $p=0$ since such trigram did not appear in the training corpus.\n",
        "\n",
        "Lets check what we get using personachat dataset."
      ]
    },
    {
      "cell_type": "code",
      "metadata": {
        "id": "TMG0r9zwbj_X",
        "colab": {
          "base_uri": "https://localhost:8080/"
        },
        "outputId": "e62de0fc-d2a3-4b75-de7a-6863c7590059"
      },
      "source": [
        "def get_prob_of_token_given_prefix(prefix, token):\n",
        "    inp = persona_dict.encode_token_seq(prefix.split(' '))\n",
        "    #print(inp)\n",
        "    with torch.no_grad():\n",
        "        model.eval()\n",
        "        logits = model(torch.tensor([inp], dtype=torch.long).to(current_device))\n",
        "        \n",
        "    tokid = persona_dict.get_id(token)\n",
        "    prob_distr = torch.softmax(logits[0,-1], dim=-1)\n",
        "    return prob_distr[tokid]\n",
        "\n",
        "prefix='my pet'\n",
        "\n",
        "for w in ['dog', 'zebra', 'lion', 'hotdog', 'table', 'math', 'pizza']:\n",
        "    prob = get_prob_of_token_given_prefix(prefix, w)\n",
        "    print('p( {} | {} ) = {:.{prec}f}'.format(w, prefix, prob, prec=8))\n",
        "    \n",
        "print('====================')\n",
        "\n",
        "prefix='<bos> i have a'\n",
        "\n",
        "for w in ['dog', 'zebra', 'lion', 'hotdog', 'table', 'math', 'pizza']:\n",
        "    prob = get_prob_of_token_given_prefix(prefix, w)\n",
        "    print('p( {} | {} ) = {:.{prec}f}'.format(w, prefix, prob, prec=8))\n",
        "    \n",
        "print('====================')\n",
        "\n",
        "prefix='i have'\n",
        "\n",
        "for w in ['dog', 'zebra', 'lion', 'hotdog', 'table', 'math', 'pizza']:\n",
        "    prob = get_prob_of_token_given_prefix(prefix, w)\n",
        "    print('p( {} | {} ) = {:.{prec}f}'.format(w, prefix, prob, prec=8))\n",
        "\n",
        "print('====================')\n",
        "\n",
        "prefix='have'\n",
        "\n",
        "for w in ['dog', 'zebra', 'lion', 'hotdog', 'table', 'math', 'pizza']:\n",
        "    prob = get_prob_of_token_given_prefix(prefix, w)\n",
        "    print('p( {} | {} ) = {:.{prec}f}'.format(w, prefix, prob, prec=8))"
      ],
      "execution_count": 42,
      "outputs": [
        {
          "output_type": "stream",
          "text": [
            "p( dog | my pet ) = 0.00360091\n",
            "p( zebra | my pet ) = 0.00063178\n",
            "p( lion | my pet ) = 0.00004970\n",
            "p( hotdog | my pet ) = 0.00002596\n",
            "p( table | my pet ) = 0.00002861\n",
            "p( math | my pet ) = 0.00003056\n",
            "p( pizza | my pet ) = 0.00003829\n",
            "====================\n",
            "p( dog | <bos> i have a ) = 0.06960344\n",
            "p( zebra | <bos> i have a ) = 0.00016325\n",
            "p( lion | <bos> i have a ) = 0.00032840\n",
            "p( hotdog | <bos> i have a ) = 0.00002465\n",
            "p( table | <bos> i have a ) = 0.00001450\n",
            "p( math | <bos> i have a ) = 0.00002590\n",
            "p( pizza | <bos> i have a ) = 0.00027605\n",
            "====================\n",
            "p( dog | i have ) = 0.00005810\n",
            "p( zebra | i have ) = 0.00000022\n",
            "p( lion | i have ) = 0.00000022\n",
            "p( hotdog | i have ) = 0.00000029\n",
            "p( table | i have ) = 0.00000070\n",
            "p( math | i have ) = 0.00000164\n",
            "p( pizza | i have ) = 0.00003808\n",
            "====================\n",
            "p( dog | have ) = 0.00000301\n",
            "p( zebra | have ) = 0.00000043\n",
            "p( lion | have ) = 0.00000049\n",
            "p( hotdog | have ) = 0.00000143\n",
            "p( table | have ) = 0.00000090\n",
            "p( math | have ) = 0.00000037\n",
            "p( pizza | have ) = 0.00000082\n"
          ],
          "name": "stdout"
        }
      ]
    },
    {
      "cell_type": "code",
      "metadata": {
        "id": "l4zVv--owi3d",
        "colab": {
          "base_uri": "https://localhost:8080/"
        },
        "outputId": "934ab82f-73bc-41b5-fe0d-68f3c5084c44"
      },
      "source": [
        "def get_top_token_given_prefix(prefix):\n",
        "    inp = persona_dict.encode_token_seq(prefix.split(' '))\n",
        "    with torch.no_grad():\n",
        "        model.eval()\n",
        "        logits = model(torch.tensor([inp], dtype=torch.long).to(current_device))\n",
        "        \n",
        "    prob_distr = torch.softmax(logits[0,-1], dim=-1)\n",
        "    sorted_best_probs, sorted_best_toks = torch.topk(prob_distr, 20)\n",
        "\n",
        "    for i in range(sorted_best_toks.size(0)):\n",
        "        print('p( {} | {} ) = {:.{prec}f}'.format(persona_dict.decode_idx_seq([sorted_best_toks[i]])[0], prefix, sorted_best_probs[i], prec=8))\n",
        "\n",
        "    print(persona_dict.decode_idx_seq(sorted_best_toks))\n",
        "\n",
        "get_top_token_given_prefix('<bos> I live in')"
      ],
      "execution_count": 43,
      "outputs": [
        {
          "output_type": "stream",
          "text": [
            "p( the | <bos> I live in ) = 0.20480631\n",
            "p( florida | <bos> I live in ) = 0.06449958\n",
            "p( california | <bos> I live in ) = 0.04631159\n",
            "p( a | <bos> I live in ) = 0.04002793\n",
            "p( your | <bos> I live in ) = 0.03340455\n",
            "p( my | <bos> I live in ) = 0.03132324\n",
            "p( texas | <bos> I live in ) = 0.02445629\n",
            "p( ny | <bos> I live in ) = 0.01626381\n",
            "p( canada | <bos> I live in ) = 0.01619168\n",
            "p( japan | <bos> I live in ) = 0.01268912\n",
            "p( chicago | <bos> I live in ) = 0.01215492\n",
            "p( new | <bos> I live in ) = 0.01203236\n",
            "p( portland | <bos> I live in ) = 0.01175667\n",
            "p( kansas | <bos> I live in ) = 0.01038381\n",
            "p( seattle | <bos> I live in ) = 0.00876119\n",
            "p( georgia | <bos> I live in ) = 0.00813358\n",
            "p( ohio | <bos> I live in ) = 0.00810100\n",
            "p( this | <bos> I live in ) = 0.00755779\n",
            "p( america | <bos> I live in ) = 0.00752445\n",
            "p( france | <bos> I live in ) = 0.00744125\n",
            "['the', 'florida', 'california', 'a', 'your', 'my', 'texas', 'ny', 'canada', 'japan', 'chicago', 'new', 'portland', 'kansas', 'seattle', 'georgia', 'ohio', 'this', 'america', 'france']\n"
          ],
          "name": "stdout"
        }
      ]
    },
    {
      "cell_type": "code",
      "metadata": {
        "id": "uzGqlrKhbj_g"
      },
      "source": [
        "# Save the model\n",
        "# BE CAREFUL TO NOT OVERWRITE SOME IMPORTANT MODEL\n",
        "\n",
        "if False:\n",
        "    torch.save({\n",
        "        'options': options,\n",
        "        'loss_cache': plot_cache,\n",
        "        'model_dict': model.state_dict()\n",
        "    }, './static_files/persona_rnn_lm.pt')"
      ],
      "execution_count": 44,
      "outputs": []
    },
    {
      "cell_type": "markdown",
      "metadata": {
        "id": "bYFDzZsfGBIx"
      },
      "source": [
        "---\n",
        "## References\n",
        "- Deep Learning book, chapter 10\n",
        "- DS-GA 1011 NLP with Representation Learning Fall 2019"
      ]
    }
  ]
}