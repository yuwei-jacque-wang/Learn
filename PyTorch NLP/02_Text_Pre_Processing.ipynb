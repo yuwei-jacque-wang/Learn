{
  "nbformat": 4,
  "nbformat_minor": 0,
  "metadata": {
    "colab": {
      "name": "02-text_pre-processing.ipynb",
      "provenance": [],
      "collapsed_sections": []
    },
    "kernelspec": {
      "display_name": "Python 3",
      "language": "python",
      "name": "python3"
    },
    "language_info": {
      "codemirror_mode": {
        "name": "ipython",
        "version": 3
      },
      "file_extension": ".py",
      "mimetype": "text/x-python",
      "name": "python",
      "nbconvert_exporter": "python",
      "pygments_lexer": "ipython3",
      "version": "3.7.6"
    }
  },
  "cells": [
    {
      "cell_type": "markdown",
      "metadata": {
        "id": "Txr08HTBTBcc"
      },
      "source": [
        "# Fall 2020: DS-GA 1011 NLP with Representation Learning\n",
        "## Lab 2: 11-Sep-2020, Friday\n",
        "## Text Pre-processing\n",
        "\n",
        "In this lab, we will cover the steps on how to clean and process text data before it is ready to be fed to nlp models."
      ]
    },
    {
      "cell_type": "markdown",
      "metadata": {
        "id": "zyos7BBRWHbm"
      },
      "source": [
        "---\n",
        "### Data\n",
        "We are using [movie review data](https://ai.stanford.edu/~amaas/data/sentiment/) from IMDB, which is for *binary sentiment classification*. There are 25,000 reviews for training and 25,000 for testing."
      ]
    },
    {
      "cell_type": "markdown",
      "metadata": {
        "id": "SGVKSWChPdxH"
      },
      "source": [
        "### Download and unzip the data\n",
        "\n",
        "The command `wget` helps you download the data from the following url.\n",
        "\n",
        "Linux/Mac: Install using `brew install wget` if utility not available."
      ]
    },
    {
      "cell_type": "code",
      "metadata": {
        "colab": {
          "base_uri": "https://localhost:8080/"
        },
        "id": "DDjOqYucUun-",
        "outputId": "b0b52ffa-17e4-4d70-dbab-cde355a0f53e"
      },
      "source": [
        "# !brew install wget\n",
        "!wget https://ai.stanford.edu/~amaas/data/sentiment/aclImdb_v1.tar.gz"
      ],
      "execution_count": 1,
      "outputs": [
        {
          "output_type": "stream",
          "text": [
            "--2021-07-29 15:58:58--  https://ai.stanford.edu/~amaas/data/sentiment/aclImdb_v1.tar.gz\n",
            "Resolving ai.stanford.edu (ai.stanford.edu)... 171.64.68.10\n",
            "Connecting to ai.stanford.edu (ai.stanford.edu)|171.64.68.10|:443... connected.\n",
            "HTTP request sent, awaiting response... 200 OK\n",
            "Length: 84125825 (80M) [application/x-gzip]\n",
            "Saving to: ‘aclImdb_v1.tar.gz’\n",
            "\n",
            "aclImdb_v1.tar.gz   100%[===================>]  80.23M  37.3MB/s    in 2.2s    \n",
            "\n",
            "2021-07-29 15:59:01 (37.3 MB/s) - ‘aclImdb_v1.tar.gz’ saved [84125825/84125825]\n",
            "\n"
          ],
          "name": "stdout"
        }
      ]
    },
    {
      "cell_type": "markdown",
      "metadata": {
        "id": "7rBlSyq22Bq1"
      },
      "source": [
        "Windows: Download utility using `conda` or `pip`. Can also refer to tip on Campuswire post #28. File extraction can be done using utility like 7-Zip too."
      ]
    },
    {
      "cell_type": "code",
      "metadata": {
        "id": "4zA9mWx22Bq2"
      },
      "source": [
        "# !pip install wget \n",
        "# import wget\n",
        "# wget.download('https://ai.stanford.edu/~amaas/data/sentiment/aclImdb_v1.tar.gz', 'aclImdb_v1.tar.gz')"
      ],
      "execution_count": null,
      "outputs": []
    },
    {
      "cell_type": "markdown",
      "metadata": {
        "id": "pTrnDCE0MCcH"
      },
      "source": [
        "The command `tar` is used to compress and extract files to and from an archive."
      ]
    },
    {
      "cell_type": "code",
      "metadata": {
        "id": "ng5JXygMVVJ5"
      },
      "source": [
        "# Unzip\n",
        "!tar xzf aclImdb_v1.tar.gz"
      ],
      "execution_count": 2,
      "outputs": []
    },
    {
      "cell_type": "markdown",
      "metadata": {
        "id": "_ubcWS2DZV5g"
      },
      "source": [
        "### Read data"
      ]
    },
    {
      "cell_type": "code",
      "metadata": {
        "id": "CONBxGOIV4al"
      },
      "source": [
        "import os\n",
        "from tqdm import tqdm"
      ],
      "execution_count": 3,
      "outputs": []
    },
    {
      "cell_type": "markdown",
      "metadata": {
        "id": "fasIoYEwMrhi"
      },
      "source": [
        "cf. \n",
        "  \n",
        "> [`tqdm`](https://pypi.org/project/tqdm/) makes your loops show a smart progress meter. Just wrap any iterable with *tqdm(iterable)*, and you're done!\n",
        "\n",
        "> `os.listdir(path)` returns a list containing the names of the entries in the directory given by path."
      ]
    },
    {
      "cell_type": "code",
      "metadata": {
        "colab": {
          "base_uri": "https://localhost:8080/"
        },
        "id": "83QEeSALaeh-",
        "outputId": "6278c288-0fc5-462c-9c91-1ff618269339"
      },
      "source": [
        "# Set path strings\n",
        "train_path = \"aclImdb/train/\"\n",
        "test_path = \"aclImdb/test/\"\n",
        "\n",
        "train_corpus = []\n",
        "for filename in tqdm(os.listdir(train_path+\"pos\")):\n",
        "    review = open(train_path+\"pos/\"+filename, 'rt', encoding='ISO-8859-1').read()\n",
        "    train_corpus.append(review)\n",
        "\n",
        "for filename in tqdm(os.listdir(train_path+\"neg\")):\n",
        "    review = open(train_path+\"neg/\"+filename, 'rt').read()\n",
        "    train_corpus.append(review)\n",
        "\n",
        "\n",
        "\n",
        "test_corpus = []\n",
        "for filename in tqdm(os.listdir(test_path+\"pos\")):\n",
        "    review = open(test_path+\"pos/\"+filename, 'rt').read()\n",
        "    test_corpus.append(review)\n",
        "\n",
        "for filename in tqdm(os.listdir(test_path+\"neg\")):\n",
        "    review = open(test_path+\"neg/\"+filename, 'rt').read()\n",
        "    test_corpus.append(review)"
      ],
      "execution_count": 4,
      "outputs": [
        {
          "output_type": "stream",
          "text": [
            "100%|██████████| 12500/12500 [00:00<00:00, 30264.85it/s]\n",
            "100%|██████████| 12500/12500 [00:00<00:00, 28032.67it/s]\n",
            "100%|██████████| 12500/12500 [00:00<00:00, 29507.05it/s]\n",
            "100%|██████████| 12500/12500 [00:00<00:00, 30411.86it/s]\n"
          ],
          "name": "stderr"
        }
      ]
    },
    {
      "cell_type": "code",
      "metadata": {
        "id": "s22uIVrz2BrI",
        "colab": {
          "base_uri": "https://localhost:8080/"
        },
        "outputId": "c03f1ff8-b3ef-4102-8b6e-bde673a2acef"
      },
      "source": [
        "print(len(train_corpus), len(test_corpus))"
      ],
      "execution_count": 5,
      "outputs": [
        {
          "output_type": "stream",
          "text": [
            "25000 25000\n"
          ],
          "name": "stdout"
        }
      ]
    },
    {
      "cell_type": "code",
      "metadata": {
        "id": "wsoyu-sAhUgR"
      },
      "source": [
        "# Reducing corpus size for faster processing\n",
        "train_corpus = train_corpus[:500]\n",
        "test_corpus = test_corpus[:500]"
      ],
      "execution_count": 6,
      "outputs": []
    },
    {
      "cell_type": "code",
      "metadata": {
        "id": "OcThICgJ2Brb",
        "colab": {
          "base_uri": "https://localhost:8080/",
          "height": 137
        },
        "outputId": "c019bf41-6bbb-47a8-c108-f8d305f43981"
      },
      "source": [
        "train_corpus[1]"
      ],
      "execution_count": 7,
      "outputs": [
        {
          "output_type": "execute_result",
          "data": {
            "application/vnd.google.colaboratory.intrinsic+json": {
              "type": "string"
            },
            "text/plain": [
              "'In Rosenstrasse, Margarethe von Trotta blends two stories to create a vibrant tapestry of love and courage. The film depicts a family drama of estrangement between a mother and her daughter, and the story of German women who staged a protest on Rosenstrasse to free their Jewish husbands from certain extermination. In addition to the dramatization of historical events, the focus of the film is on the saving of a child from the Holocaust by a German and the result of the child\\'s experience of losing her mother. While Ms. von Trotta shows that the courage of a small number of Germans made a difference, she does not use it to excuse German society. Indeed, she shows how in the midst of torture and extermination, the wealthy artists and intellectuals of German high society went on about their lives and parties, oblivious to the suffering.<br /><br />Rosenstrasse opens in New York as a Jewish widow Ruth Weinstein (Jutta Lampe) decides to sit Shiva, a seven-day period of mourning that takes place following a funeral in which Jewish family members devote full attention to remembering and mourning the deceased. When her daughter Hannah (Maria Schrader), is forbidden to receive phone calls from her fiancÃ© Luis (Fedja van Huet), a non-Jew, Hannah questions why her mother has suddenly decided to follow an Orthodox tradition that she previously rejected. When Ruth coldly rejects her cousin, Hannah questions her and learns about a woman named Lena who took Ruth in as a child when the latter\\'s mother was deported and murdered by the Nazis, and she vows to find Lena and discover the secret of her mother\\'s past.<br /><br />Her quest takes her to Berlin where she finds Lena (Doris Schade), now ninety years old, and interviews her on the pretext that she is a journalist researching certain aspects of the Holocaust. With unfailing memory, Lena tells her story of how, as a young 33-year old woman (Katja Reimann), she searched for her husband, Jewish pianist Fabian Israel Fischer (Martin Feifel), who disappeared and was presumed to have been imprisoned despite the protection normally given Jews in mixed marriages. Lena, in a radiant performance by Reimann, discovers that her husband and other Jews are being held prisoner in a former factory on the Rosenstrasse.<br /><br />Standing together in the freezing night, German women whose husband are missing congregate outside the building, their numbers growing daily until they reach one thousand shouting \"Give us back our husbands\". Lena finds Ruth (Svea Lohde), a young girl whose mother is in the building. She takes care of her, protecting her from the Gestapo and raising her after her mother is killed. Lena comes from an aristocratic German family and her brother, recently returned from Stalingrad, is a Wehrmacht officer. After being refused help from her father to free Fabian she enlists the aid of her brother who tells a fellow Officer, \"I know what they do to the Jews. I saw it\". Given his support, she is bold enough to bypass channels and go to the top where her beauty and charm prove irresistible for the Minister of Culture, Joseph Goebbels, a known womanizer. While this fictional part of the film has been criticized as degrading to the women protesters, it is a historical fact that Goebbels was very active in making the decisions affecting Rosenstrasse.<br /><br />The director Margarethe von Trotta, an activist, feminist, and intellectual, is no stranger to political drama. She directed a film about Socialist Rosa Luxembourg and Marianne and Julianne, a story of the relationship between two sisters, one of whom resorts to political violence to accomplish her liberal objectives. In Rosenstrasse, a film she worked on for eight years, she had to make compromises, adding the present day fictional element in order to have her film produced. That it works so well is a tribute to Ms. von Trotta\\'s artistry and the beautiful screenplay by Pamela Katz whose father was a refugee from Leipzig. The events at Rosenstrasse give the lie to Germans, who say, \"there was nothing we could do\". Now von Trotta has shown the opposite to be true, that something could be done to resist the Nazis. It is tragic that the example did not catch on.'"
            ]
          },
          "metadata": {
            "tags": []
          },
          "execution_count": 7
        }
      ]
    },
    {
      "cell_type": "code",
      "metadata": {
        "id": "uJ7Ncarl2Brh",
        "colab": {
          "base_uri": "https://localhost:8080/",
          "height": 103
        },
        "outputId": "47e99372-a23c-4a89-a4a4-af1675bb4c34"
      },
      "source": [
        "train_corpus[3]"
      ],
      "execution_count": 8,
      "outputs": [
        {
          "output_type": "execute_result",
          "data": {
            "application/vnd.google.colaboratory.intrinsic+json": {
              "type": "string"
            },
            "text/plain": [
              "'While many unfortunately passed on, the ballroom scene is still very much alive and carrying on their legacy. Some are still very much alive and quite well, Octavia is more radiant and beautiful than ever, Willi Ninja is very accomplished and gives a great deal of support to the gay community as a whole, Pepper Labeija just passed on last year of natural cause, may she rest in peace. After Anji\\'s passing Carmen became the mother of the house of Xtravaganza (she was in the beach scene) and she is looking more and more lovely as well. Some balls have categories dedicated to those who have passed, may they all rest in peace. There is currently another project underway known as \"How Do I Look?\", you can check out the website at www.howdoilooknyc.org.'"
            ]
          },
          "metadata": {
            "tags": []
          },
          "execution_count": 8
        }
      ]
    },
    {
      "cell_type": "markdown",
      "metadata": {
        "id": "YrEckjTOe_JG"
      },
      "source": [
        "---\n",
        "### Pre-processing\n",
        "#### Remove white space and punctuation"
      ]
    },
    {
      "cell_type": "markdown",
      "metadata": {
        "id": "MTr8ATcx2Brn"
      },
      "source": [
        "cf.\n",
        "> A regular expression is a sequence of characters that forms a search pattern for strings. The functions in [`re`](https://docs.python.org/3/library/re.html) module let you check if a particular string matches a given regular expression (or vice versa)."
      ]
    },
    {
      "cell_type": "code",
      "metadata": {
        "colab": {
          "base_uri": "https://localhost:8080/"
        },
        "id": "eurmPAOmbPGE",
        "outputId": "58f301c7-200c-4a94-ec6d-67a53c9620e4"
      },
      "source": [
        "import re\n",
        "\n",
        "def remove_space_punctuation(data):\n",
        "  # input: list of raw sentences\n",
        "  # output: list of sentences without punctuation and white space\n",
        "  \n",
        "    result = [re.sub('<.*?>',' ',s) for s in tqdm(data)] # html tags\n",
        "    result = [re.sub(r'[^\\w\\s]',' ',s) for s in tqdm(result)] # punctuation\n",
        "    result = [re.sub(' +',' ',s) for s in tqdm(result)] # white space\n",
        "    return result\n",
        "\n",
        "train = remove_space_punctuation(train_corpus)\n",
        "test = remove_space_punctuation(test_corpus)"
      ],
      "execution_count": 9,
      "outputs": [
        {
          "output_type": "stream",
          "text": [
            "100%|██████████| 500/500 [00:00<00:00, 80062.30it/s]\n",
            "100%|██████████| 500/500 [00:00<00:00, 20011.95it/s]\n",
            "100%|██████████| 500/500 [00:00<00:00, 13916.26it/s]\n",
            "100%|██████████| 500/500 [00:00<00:00, 134856.41it/s]\n",
            "100%|██████████| 500/500 [00:00<00:00, 29922.55it/s]\n",
            "100%|██████████| 500/500 [00:00<00:00, 13622.65it/s]\n"
          ],
          "name": "stderr"
        }
      ]
    },
    {
      "cell_type": "code",
      "metadata": {
        "colab": {
          "base_uri": "https://localhost:8080/",
          "height": 137
        },
        "id": "osLlEBZNeZfa",
        "outputId": "1e1d7ec7-10c0-420c-f617-5c8b6142b4fe"
      },
      "source": [
        "train[1]"
      ],
      "execution_count": 10,
      "outputs": [
        {
          "output_type": "execute_result",
          "data": {
            "application/vnd.google.colaboratory.intrinsic+json": {
              "type": "string"
            },
            "text/plain": [
              "'In Rosenstrasse Margarethe von Trotta blends two stories to create a vibrant tapestry of love and courage The film depicts a family drama of estrangement between a mother and her daughter and the story of German women who staged a protest on Rosenstrasse to free their Jewish husbands from certain extermination In addition to the dramatization of historical events the focus of the film is on the saving of a child from the Holocaust by a German and the result of the child s experience of losing her mother While Ms von Trotta shows that the courage of a small number of Germans made a difference she does not use it to excuse German society Indeed she shows how in the midst of torture and extermination the wealthy artists and intellectuals of German high society went on about their lives and parties oblivious to the suffering Rosenstrasse opens in New York as a Jewish widow Ruth Weinstein Jutta Lampe decides to sit Shiva a seven day period of mourning that takes place following a funeral in which Jewish family members devote full attention to remembering and mourning the deceased When her daughter Hannah Maria Schrader is forbidden to receive phone calls from her fiancÃ Luis Fedja van Huet a non Jew Hannah questions why her mother has suddenly decided to follow an Orthodox tradition that she previously rejected When Ruth coldly rejects her cousin Hannah questions her and learns about a woman named Lena who took Ruth in as a child when the latter s mother was deported and murdered by the Nazis and she vows to find Lena and discover the secret of her mother s past Her quest takes her to Berlin where she finds Lena Doris Schade now ninety years old and interviews her on the pretext that she is a journalist researching certain aspects of the Holocaust With unfailing memory Lena tells her story of how as a young 33 year old woman Katja Reimann she searched for her husband Jewish pianist Fabian Israel Fischer Martin Feifel who disappeared and was presumed to have been imprisoned despite the protection normally given Jews in mixed marriages Lena in a radiant performance by Reimann discovers that her husband and other Jews are being held prisoner in a former factory on the Rosenstrasse Standing together in the freezing night German women whose husband are missing congregate outside the building their numbers growing daily until they reach one thousand shouting Give us back our husbands Lena finds Ruth Svea Lohde a young girl whose mother is in the building She takes care of her protecting her from the Gestapo and raising her after her mother is killed Lena comes from an aristocratic German family and her brother recently returned from Stalingrad is a Wehrmacht officer After being refused help from her father to free Fabian she enlists the aid of her brother who tells a fellow Officer I know what they do to the Jews I saw it Given his support she is bold enough to bypass channels and go to the top where her beauty and charm prove irresistible for the Minister of Culture Joseph Goebbels a known womanizer While this fictional part of the film has been criticized as degrading to the women protesters it is a historical fact that Goebbels was very active in making the decisions affecting Rosenstrasse The director Margarethe von Trotta an activist feminist and intellectual is no stranger to political drama She directed a film about Socialist Rosa Luxembourg and Marianne and Julianne a story of the relationship between two sisters one of whom resorts to political violence to accomplish her liberal objectives In Rosenstrasse a film she worked on for eight years she had to make compromises adding the present day fictional element in order to have her film produced That it works so well is a tribute to Ms von Trotta s artistry and the beautiful screenplay by Pamela Katz whose father was a refugee from Leipzig The events at Rosenstrasse give the lie to Germans who say there was nothing we could do Now von Trotta has shown the opposite to be true that something could be done to resist the Nazis It is tragic that the example did not catch on '"
            ]
          },
          "metadata": {
            "tags": []
          },
          "execution_count": 10
        }
      ]
    },
    {
      "cell_type": "code",
      "metadata": {
        "id": "ExeJ2RTK2Brz",
        "colab": {
          "base_uri": "https://localhost:8080/",
          "height": 103
        },
        "outputId": "0463a25c-a83b-4bc5-9aea-c0bc99a025b4"
      },
      "source": [
        "train[3]"
      ],
      "execution_count": 11,
      "outputs": [
        {
          "output_type": "execute_result",
          "data": {
            "application/vnd.google.colaboratory.intrinsic+json": {
              "type": "string"
            },
            "text/plain": [
              "'While many unfortunately passed on the ballroom scene is still very much alive and carrying on their legacy Some are still very much alive and quite well Octavia is more radiant and beautiful than ever Willi Ninja is very accomplished and gives a great deal of support to the gay community as a whole Pepper Labeija just passed on last year of natural cause may she rest in peace After Anji s passing Carmen became the mother of the house of Xtravaganza she was in the beach scene and she is looking more and more lovely as well Some balls have categories dedicated to those who have passed may they all rest in peace There is currently another project underway known as How Do I Look you can check out the website at www howdoilooknyc org '"
            ]
          },
          "metadata": {
            "tags": []
          },
          "execution_count": 11
        }
      ]
    },
    {
      "cell_type": "markdown",
      "metadata": {
        "id": "ecz6-LRYfB6R"
      },
      "source": [
        "#### Lowercasing, tokenization and lemmatization \n",
        "\n",
        "*Tokenization* \n",
        "The task of chopping the input text into pieces, called *tokens*. *Tokens* are the building blocks for nlp, sequence of characters grouped together as basic unit. They can be either words, subwords or just characters.\n",
        "\n",
        "**Token Normalization**\n",
        "\n",
        "*Stemming*\n",
        "The process of converting any word in the data to its root form. \n",
        "\n",
        "*Lemmatization*\n",
        "Transforms words to the actual root.\n"
      ]
    },
    {
      "cell_type": "markdown",
      "metadata": {
        "id": "m1pdfdHVRsYH"
      },
      "source": [
        "cf.\n",
        "\n",
        "> [spaCy](https://spacy.io): for app developers\n",
        "\n",
        "> [NLTK](https://www.nltk.org): for researchers and scholars"
      ]
    },
    {
      "cell_type": "markdown",
      "metadata": {
        "id": "KKZWGmWJ2Br9"
      },
      "source": [
        "Install `spacy` & load model"
      ]
    },
    {
      "cell_type": "code",
      "metadata": {
        "id": "EGhAGWqd2Br-"
      },
      "source": [
        "#!conda install -c conda-forge spacy\n",
        "#!pip install spacy\n",
        "#!python -m spacy download en_core_web_sm\n",
        "\n",
        "import spacy\n",
        "\n",
        "# load model for en\n",
        "nlp = spacy.load(\"en_core_web_sm\") "
      ],
      "execution_count": 12,
      "outputs": []
    },
    {
      "cell_type": "markdown",
      "metadata": {
        "id": "pgVMKOBS2BsD"
      },
      "source": [
        "Example"
      ]
    },
    {
      "cell_type": "code",
      "metadata": {
        "id": "LvY6DG-92BsE",
        "colab": {
          "base_uri": "https://localhost:8080/"
        },
        "outputId": "df7f8a52-fa46-4b9a-c671-805d98147b6f"
      },
      "source": [
        "# Example\n",
        "doc = nlp('1. 09/11/2020 - This is a test string. You\\'re good')\n",
        "print(doc, type(doc))"
      ],
      "execution_count": 13,
      "outputs": [
        {
          "output_type": "stream",
          "text": [
            "1. 09/11/2020 - This is a test string. You're good <class 'spacy.tokens.doc.Doc'>\n"
          ],
          "name": "stdout"
        }
      ]
    },
    {
      "cell_type": "code",
      "metadata": {
        "id": "pQPlvpNq2BsJ",
        "colab": {
          "base_uri": "https://localhost:8080/"
        },
        "outputId": "2b3693e9-8a05-451b-d41f-31d931e91e23"
      },
      "source": [
        "for token in doc:\n",
        "    print([token, token.text, token.lemma_, token.pos_, token.is_stop, type(token)])"
      ],
      "execution_count": 14,
      "outputs": [
        {
          "output_type": "stream",
          "text": [
            "[1, '1', '1', 'X', False, <class 'spacy.tokens.token.Token'>]\n",
            "[., '.', '.', 'PUNCT', False, <class 'spacy.tokens.token.Token'>]\n",
            "[09/11/2020, '09/11/2020', '09/11/2020', 'NUM', False, <class 'spacy.tokens.token.Token'>]\n",
            "[-, '-', '-', 'PUNCT', False, <class 'spacy.tokens.token.Token'>]\n",
            "[This, 'This', 'this', 'DET', True, <class 'spacy.tokens.token.Token'>]\n",
            "[is, 'is', 'be', 'AUX', True, <class 'spacy.tokens.token.Token'>]\n",
            "[a, 'a', 'a', 'DET', True, <class 'spacy.tokens.token.Token'>]\n",
            "[test, 'test', 'test', 'NOUN', False, <class 'spacy.tokens.token.Token'>]\n",
            "[string, 'string', 'string', 'NOUN', False, <class 'spacy.tokens.token.Token'>]\n",
            "[., '.', '.', 'PUNCT', False, <class 'spacy.tokens.token.Token'>]\n",
            "[You, 'You', '-PRON-', 'PRON', True, <class 'spacy.tokens.token.Token'>]\n",
            "['re, \"'re\", 'be', 'AUX', True, <class 'spacy.tokens.token.Token'>]\n",
            "[good, 'good', 'good', 'ADJ', False, <class 'spacy.tokens.token.Token'>]\n"
          ],
          "name": "stdout"
        }
      ]
    },
    {
      "cell_type": "code",
      "metadata": {
        "id": "VSXiUo1_2BsO",
        "jupyter": {
          "outputs_hidden": true
        }
      },
      "source": [
        "#nlp.Defaults.stop_words"
      ],
      "execution_count": null,
      "outputs": []
    },
    {
      "cell_type": "markdown",
      "metadata": {
        "id": "-iq7ESAi2BsU"
      },
      "source": [
        "Implementation"
      ]
    },
    {
      "cell_type": "code",
      "metadata": {
        "colab": {
          "base_uri": "https://localhost:8080/"
        },
        "id": "oQB6sW6Cea7f",
        "outputId": "859cf543-4cef-4723-ad74-36dfc2d1685d"
      },
      "source": [
        "import string\n",
        "\n",
        "def tokenize(data):\n",
        "  # input: list of sentences without punctuations and white spaces\n",
        "  # output: list of lists of lower-case lemmatized word tokens\n",
        "\n",
        "    tokenized_data = []  \n",
        "    for review in tqdm(data):\n",
        "        result = nlp(review) # tokenized document\n",
        "        tokenized_data.append([token.lemma_.lower() for token in result \\\n",
        "                           if not token.is_stop \\\n",
        "                           and token.text not in string.punctuation]) \n",
        "    return tokenized_data\n",
        "\n",
        "train_tokenized = tokenize(train)\n",
        "test_tokenized = tokenize(test)"
      ],
      "execution_count": 15,
      "outputs": [
        {
          "output_type": "stream",
          "text": [
            "100%|██████████| 500/500 [00:23<00:00, 21.00it/s]\n",
            "100%|██████████| 500/500 [00:21<00:00, 23.19it/s]\n"
          ],
          "name": "stderr"
        }
      ]
    },
    {
      "cell_type": "code",
      "metadata": {
        "id": "MRwsJpUM2Bsa",
        "colab": {
          "base_uri": "https://localhost:8080/"
        },
        "outputId": "940c16cb-3fc0-4a91-c818-5b3134e3ccd0"
      },
      "source": [
        "print(train_tokenized[1])"
      ],
      "execution_count": 16,
      "outputs": [
        {
          "output_type": "stream",
          "text": [
            "['rosenstrasse', 'margarethe', 'von', 'trotta', 'blend', 'story', 'create', 'vibrant', 'tapestry', 'love', 'courage', 'film', 'depict', 'family', 'drama', 'estrangement', 'mother', 'daughter', 'story', 'german', 'woman', 'stage', 'protest', 'rosenstrasse', 'free', 'jewish', 'husband', 'certain', 'extermination', 'addition', 'dramatization', 'historical', 'event', 'focus', 'film', 'saving', 'child', 'holocaust', 'german', 'result', 'child', 's', 'experience', 'lose', 'mother', 'ms', 'von', 'trotta', 'show', 'courage', 'small', 'number', 'germans', 'difference', 'use', 'excuse', 'german', 'society', 'show', 'midst', 'torture', 'extermination', 'wealthy', 'artist', 'intellectual', 'german', 'high', 'society', 'go', 'life', 'party', 'oblivious', 'suffer', 'rosenstrasse', 'open', 'new', 'york', 'jewish', 'widow', 'ruth', 'weinstein', 'jutta', 'lampe', 'decide', 'sit', 'shiva', 'seven', 'day', 'period', 'mourning', 'take', 'place', 'follow', 'funeral', 'jewish', 'family', 'member', 'devote', 'attention', 'remember', 'mourn', 'deceased', 'daughter', 'hannah', 'maria', 'schrader', 'forbid', 'receive', 'phone', 'call', 'fiancã', 'luis', 'fedja', 'van', 'huet', 'non', 'jew', 'hannah', 'question', 'mother', 'suddenly', 'decide', 'follow', 'orthodox', 'tradition', 'previously', 'reject', 'ruth', 'coldly', 'reject', 'cousin', 'hannah', 'question', 'learn', 'woman', 'name', 'lena', 'take', 'ruth', 'child', 's', 'mother', 'deport', 'murder', 'nazis', 'vow', 'find', 'lena', 'discover', 'secret', 'mother', 's', 'past', 'quest', 'take', 'berlin', 'find', 'lena', 'doris', 'schade', 'ninety', 'year', 'old', 'interview', 'pretext', 'journalist', 'research', 'certain', 'aspect', 'holocaust', 'unfailing', 'memory', 'lena', 'tell', 'story', 'young', '33', 'year', 'old', 'woman', 'katja', 'reimann', 'search', 'husband', 'jewish', 'pianist', 'fabian', 'israel', 'fischer', 'martin', 'feifel', 'disappear', 'presume', 'imprison', 'despite', 'protection', 'normally', 'give', 'jews', 'mixed', 'marriage', 'lena', 'radiant', 'performance', 'reimann', 'discover', 'husband', 'jews', 'hold', 'prisoner', 'factory', 'rosenstrasse', 'stand', 'freezing', 'night', 'german', 'woman', 'husband', 'miss', 'congregate', 'outside', 'building', 'number', 'grow', 'daily', 'reach', 'thousand', 'shout', 'husband', 'lena', 'find', 'ruth', 'svea', 'lohde', 'young', 'girl', 'mother', 'building', 'take', 'care', 'protect', 'gestapo', 'raise', 'mother', 'kill', 'lena', 'come', 'aristocratic', 'german', 'family', 'brother', 'recently', 'return', 'stalingrad', 'wehrmacht', 'officer', 'refuse', 'help', 'father', 'free', 'fabian', 'enlist', 'aid', 'brother', 'tell', 'fellow', 'officer', 'know', 'jews', 'see', 'give', 'support', 'bold', 'bypass', 'channel', 'beauty', 'charm', 'prove', 'irresistible', 'minister', 'culture', 'joseph', 'goebbels', 'know', 'womanizer', 'fictional', 'film', 'criticize', 'degrade', 'woman', 'protester', 'historical', 'fact', 'goebbels', 'active', 'make', 'decision', 'affect', 'rosenstrasse', 'director', 'margarethe', 'von', 'trotta', 'activist', 'feminist', 'intellectual', 'stranger', 'political', 'drama', 'direct', 'film', 'socialist', 'rosa', 'luxembourg', 'marianne', 'julianne', 'story', 'relationship', 'sister', 'resort', 'political', 'violence', 'accomplish', 'liberal', 'objective', 'rosenstrasse', 'film', 'work', 'year', 'compromise', 'add', 'present', 'day', 'fictional', 'element', 'order', 'film', 'produce', 'work', 'tribute', 'ms', 'von', 'trotta', 's', 'artistry', 'beautiful', 'screenplay', 'pamela', 'katz', 'father', 'refugee', 'leipzig', 'event', 'rosenstrasse', 'lie', 'germans', 'von', 'trotta', 'show', 'opposite', 'true', 'resist', 'nazis', 'tragic', 'example', 'catch']\n"
          ],
          "name": "stdout"
        }
      ]
    },
    {
      "cell_type": "code",
      "metadata": {
        "id": "xJhHgFEu2Bsg",
        "colab": {
          "base_uri": "https://localhost:8080/"
        },
        "outputId": "cbe517af-d77d-43e2-b429-bc7988df04e0"
      },
      "source": [
        "print(train_tokenized[3])"
      ],
      "execution_count": 17,
      "outputs": [
        {
          "output_type": "stream",
          "text": [
            "['unfortunately', 'pass', 'ballroom', 'scene', 'alive', 'carry', 'legacy', 'alive', 'octavia', 'radiant', 'beautiful', 'willi', 'ninja', 'accomplished', 'give', 'great', 'deal', 'support', 'gay', 'community', 'pepper', 'labeija', 'pass', 'year', 'natural', 'cause', 'rest', 'peace', 'anji', 's', 'pass', 'carmen', 'mother', 'house', 'xtravaganza', 'beach', 'scene', 'look', 'lovely', 'ball', 'category', 'dedicate', 'pass', 'rest', 'peace', 'currently', 'project', 'underway', 'know', 'look', 'check', 'website', 'www', 'howdoilooknyc', 'org']\n"
          ],
          "name": "stdout"
        }
      ]
    },
    {
      "cell_type": "markdown",
      "metadata": {
        "id": "2x7QcJa1iyrA"
      },
      "source": [
        "---\n",
        "### Explore\n",
        "\n",
        "Find most common words and build vocabulary."
      ]
    },
    {
      "cell_type": "markdown",
      "metadata": {
        "id": "6-7emMrn2Bsn"
      },
      "source": [
        "cf.\n",
        "> [`collections`](https://docs.python.org/2/library/collections.html) provides specialized container datatypes like `OrderedDict` & `Counter`\n",
        "\n",
        "> `Counter` is an unordered collection where elements are stored as dictionary keys and their counts are stored as dictionary values\n",
        "\n",
        "Example"
      ]
    },
    {
      "cell_type": "code",
      "metadata": {
        "id": "Ie_wjToX2Bso",
        "colab": {
          "base_uri": "https://localhost:8080/"
        },
        "outputId": "47897fdc-07c3-4542-b89e-c9558675fbce"
      },
      "source": [
        "from collections import Counter\n",
        "\n",
        "animals = ['dogs', 'cats', 'fish', 'monkey', 'cats', 'elephant', 'dogs', 'cats', 'lion', 'monkey']\n",
        "c = Counter(animals)\n",
        "c"
      ],
      "execution_count": 18,
      "outputs": [
        {
          "output_type": "execute_result",
          "data": {
            "text/plain": [
              "Counter({'cats': 3,\n",
              "         'dogs': 2,\n",
              "         'elephant': 1,\n",
              "         'fish': 1,\n",
              "         'lion': 1,\n",
              "         'monkey': 2})"
            ]
          },
          "metadata": {
            "tags": []
          },
          "execution_count": 18
        }
      ]
    },
    {
      "cell_type": "code",
      "metadata": {
        "id": "3U_G53tz2Bst",
        "colab": {
          "base_uri": "https://localhost:8080/"
        },
        "outputId": "04620732-6361-4347-edaa-8f8533a60d98"
      },
      "source": [
        "c.most_common(3)"
      ],
      "execution_count": 19,
      "outputs": [
        {
          "output_type": "execute_result",
          "data": {
            "text/plain": [
              "[('cats', 3), ('dogs', 2), ('monkey', 2)]"
            ]
          },
          "metadata": {
            "tags": []
          },
          "execution_count": 19
        }
      ]
    },
    {
      "cell_type": "code",
      "metadata": {
        "id": "SmMnIXNZ2Bsy",
        "colab": {
          "base_uri": "https://localhost:8080/"
        },
        "outputId": "1a56fcfb-f47a-4311-e417-5869a4075fed"
      },
      "source": [
        "vocab, count = zip(*c.most_common(5))\n",
        "print(f'vocab: ', vocab, '\\ncount: ', count)"
      ],
      "execution_count": 20,
      "outputs": [
        {
          "output_type": "stream",
          "text": [
            "vocab:  ('cats', 'dogs', 'monkey', 'fish', 'elephant') \n",
            "count:  (3, 2, 2, 1, 1)\n"
          ],
          "name": "stdout"
        }
      ]
    },
    {
      "cell_type": "markdown",
      "metadata": {
        "id": "YkxI08Fw2Bs5"
      },
      "source": [
        "#### Implementation"
      ]
    },
    {
      "cell_type": "code",
      "metadata": {
        "id": "sOudM3amh1IG"
      },
      "source": [
        "def build_vocab(tokenized_data, max_vocab=10000):\n",
        "    # input: list of lists of tokens\n",
        "    # output: token2id: dict, id2token: list\n",
        "\n",
        "    PAD_IDX = 0\n",
        "    UNK_IDX = 1\n",
        "\n",
        "    all_tokens = [token for tokens in tokenized_data for token in tokens]\n",
        "\n",
        "    token_counter = Counter(all_tokens)\n",
        "    vocab, count = zip(*token_counter.most_common(max_vocab))\n",
        "    token2id = dict(zip(vocab, range(2, 2 + len(vocab))))\n",
        "    token2id[\"<PAD>\"] = PAD_IDX\n",
        "    token2id[\"<UNK>\"] = UNK_IDX\n",
        "    id2token = [\"<PAD>\", \"<UNK>\"] + list(vocab)\n",
        "\n",
        "    return token2id, id2token\n",
        "\n",
        "token2id, id2token = build_vocab(train_tokenized)"
      ],
      "execution_count": 21,
      "outputs": []
    },
    {
      "cell_type": "code",
      "metadata": {
        "id": "TV3Vb9yHkI6G",
        "jupyter": {
          "outputs_hidden": true
        }
      },
      "source": [
        "#print(token2id)"
      ],
      "execution_count": null,
      "outputs": []
    },
    {
      "cell_type": "markdown",
      "metadata": {
        "id": "w8KaOtTEkirr"
      },
      "source": [
        "#### Transform tokens into indices according to token2id"
      ]
    },
    {
      "cell_type": "code",
      "metadata": {
        "id": "oE_8noJXkKVn",
        "colab": {
          "base_uri": "https://localhost:8080/"
        },
        "outputId": "e39d6aea-5a52-4bda-d1a0-7dd6b590e604"
      },
      "source": [
        "def transform(tokenized_data, token2id):\n",
        "  # input: list of lists of tokens, token2id: dict which maps token to value\n",
        "  # output: list of list of ids according to token2id\n",
        "\n",
        "    text_indices = []\n",
        "    for tokens in tqdm(tokenized_data):\n",
        "        indices = [token2id.get(token, 1) for token in tokens]\n",
        "        text_indices.append(indices)\n",
        "    return text_indices\n",
        "\n",
        "train_transformed = transform(train_tokenized, token2id)\n",
        "test_transformed = transform(test_tokenized, token2id)"
      ],
      "execution_count": 22,
      "outputs": [
        {
          "output_type": "stream",
          "text": [
            "100%|██████████| 500/500 [00:00<00:00, 30821.89it/s]\n",
            "100%|██████████| 500/500 [00:00<00:00, 31298.44it/s]\n"
          ],
          "name": "stderr"
        }
      ]
    },
    {
      "cell_type": "code",
      "metadata": {
        "colab": {
          "base_uri": "https://localhost:8080/"
        },
        "id": "6NIt3HQrlbjh",
        "outputId": "32e8f48f-90d0-4f24-8b65-044ffbebf5e1"
      },
      "source": [
        "print(train_transformed[1])\n",
        "print([id2token[i] for i in train_transformed[1]])"
      ],
      "execution_count": 23,
      "outputs": [
        {
          "output_type": "stream",
          "text": [
            "[1406, 3632, 1583, 1854, 2218, 8, 122, 3633, 5352, 13, 1855, 3, 716, 45, 224, 5353, 225, 297, 8, 902, 63, 531, 3634, 1406, 368, 1856, 351, 599, 3635, 997, 5354, 903, 310, 382, 3, 5355, 127, 3636, 902, 322, 127, 2, 298, 118, 225, 1407, 1583, 1854, 42, 1855, 195, 237, 3637, 1104, 154, 2756, 902, 417, 42, 2219, 1408, 3635, 3638, 1584, 2220, 902, 151, 417, 27, 25, 631, 5356, 632, 1406, 383, 58, 532, 1856, 1585, 1857, 5357, 5358, 5359, 206, 418, 5360, 1239, 49, 533, 5361, 43, 95, 155, 2221, 1856, 45, 334, 5362, 384, 196, 2222, 2223, 297, 2757, 1858, 5363, 2758, 674, 1240, 265, 998, 3639, 5364, 1241, 5365, 633, 5366, 2757, 403, 225, 904, 206, 155, 2759, 905, 3640, 2760, 1857, 5367, 2760, 717, 2757, 403, 266, 63, 226, 1409, 43, 1857, 127, 2, 225, 5368, 227, 2761, 2224, 33, 1409, 352, 675, 225, 2, 216, 1105, 43, 5369, 33, 1409, 5370, 5371, 5372, 23, 47, 1242, 5373, 1586, 2762, 599, 445, 3636, 5374, 634, 1409, 55, 8, 51, 3641, 23, 47, 63, 5375, 3642, 906, 351, 1856, 5376, 3643, 2763, 5377, 1410, 5378, 1587, 2225, 5379, 323, 5380, 1588, 70, 2764, 2765, 635, 1409, 3644, 36, 3642, 352, 351, 2764, 162, 2766, 2226, 1406, 287, 5381, 130, 902, 63, 351, 141, 5382, 839, 636, 237, 497, 999, 773, 1106, 2227, 351, 1409, 33, 1857, 5383, 5384, 51, 96, 225, 636, 43, 207, 907, 5385, 908, 225, 128, 1409, 21, 5386, 902, 45, 276, 774, 238, 5387, 5388, 775, 637, 106, 124, 368, 3643, 5389, 1411, 276, 55, 909, 775, 19, 2764, 14, 70, 201, 2767, 5390, 1412, 564, 676, 353, 5391, 1107, 677, 1589, 3645, 19, 5392, 1243, 3, 2228, 5393, 63, 5394, 903, 111, 3645, 2768, 28, 1108, 1000, 1406, 46, 3632, 1583, 1854, 5395, 3646, 2220, 2229, 228, 224, 208, 3, 3647, 5396, 5397, 5398, 5399, 8, 239, 498, 2769, 228, 404, 2230, 3648, 2770, 1406, 3, 32, 23, 2771, 181, 213, 49, 1243, 217, 335, 3, 638, 32, 1590, 1407, 1583, 1854, 2, 5400, 131, 600, 3649, 5401, 124, 1859, 5402, 310, 1406, 910, 3637, 1583, 1854, 42, 1244, 114, 1860, 2761, 840, 419, 385]\n",
            "['rosenstrasse', 'margarethe', 'von', 'trotta', 'blend', 'story', 'create', 'vibrant', 'tapestry', 'love', 'courage', 'film', 'depict', 'family', 'drama', 'estrangement', 'mother', 'daughter', 'story', 'german', 'woman', 'stage', 'protest', 'rosenstrasse', 'free', 'jewish', 'husband', 'certain', 'extermination', 'addition', 'dramatization', 'historical', 'event', 'focus', 'film', 'saving', 'child', 'holocaust', 'german', 'result', 'child', 's', 'experience', 'lose', 'mother', 'ms', 'von', 'trotta', 'show', 'courage', 'small', 'number', 'germans', 'difference', 'use', 'excuse', 'german', 'society', 'show', 'midst', 'torture', 'extermination', 'wealthy', 'artist', 'intellectual', 'german', 'high', 'society', 'go', 'life', 'party', 'oblivious', 'suffer', 'rosenstrasse', 'open', 'new', 'york', 'jewish', 'widow', 'ruth', 'weinstein', 'jutta', 'lampe', 'decide', 'sit', 'shiva', 'seven', 'day', 'period', 'mourning', 'take', 'place', 'follow', 'funeral', 'jewish', 'family', 'member', 'devote', 'attention', 'remember', 'mourn', 'deceased', 'daughter', 'hannah', 'maria', 'schrader', 'forbid', 'receive', 'phone', 'call', 'fiancã', 'luis', 'fedja', 'van', 'huet', 'non', 'jew', 'hannah', 'question', 'mother', 'suddenly', 'decide', 'follow', 'orthodox', 'tradition', 'previously', 'reject', 'ruth', 'coldly', 'reject', 'cousin', 'hannah', 'question', 'learn', 'woman', 'name', 'lena', 'take', 'ruth', 'child', 's', 'mother', 'deport', 'murder', 'nazis', 'vow', 'find', 'lena', 'discover', 'secret', 'mother', 's', 'past', 'quest', 'take', 'berlin', 'find', 'lena', 'doris', 'schade', 'ninety', 'year', 'old', 'interview', 'pretext', 'journalist', 'research', 'certain', 'aspect', 'holocaust', 'unfailing', 'memory', 'lena', 'tell', 'story', 'young', '33', 'year', 'old', 'woman', 'katja', 'reimann', 'search', 'husband', 'jewish', 'pianist', 'fabian', 'israel', 'fischer', 'martin', 'feifel', 'disappear', 'presume', 'imprison', 'despite', 'protection', 'normally', 'give', 'jews', 'mixed', 'marriage', 'lena', 'radiant', 'performance', 'reimann', 'discover', 'husband', 'jews', 'hold', 'prisoner', 'factory', 'rosenstrasse', 'stand', 'freezing', 'night', 'german', 'woman', 'husband', 'miss', 'congregate', 'outside', 'building', 'number', 'grow', 'daily', 'reach', 'thousand', 'shout', 'husband', 'lena', 'find', 'ruth', 'svea', 'lohde', 'young', 'girl', 'mother', 'building', 'take', 'care', 'protect', 'gestapo', 'raise', 'mother', 'kill', 'lena', 'come', 'aristocratic', 'german', 'family', 'brother', 'recently', 'return', 'stalingrad', 'wehrmacht', 'officer', 'refuse', 'help', 'father', 'free', 'fabian', 'enlist', 'aid', 'brother', 'tell', 'fellow', 'officer', 'know', 'jews', 'see', 'give', 'support', 'bold', 'bypass', 'channel', 'beauty', 'charm', 'prove', 'irresistible', 'minister', 'culture', 'joseph', 'goebbels', 'know', 'womanizer', 'fictional', 'film', 'criticize', 'degrade', 'woman', 'protester', 'historical', 'fact', 'goebbels', 'active', 'make', 'decision', 'affect', 'rosenstrasse', 'director', 'margarethe', 'von', 'trotta', 'activist', 'feminist', 'intellectual', 'stranger', 'political', 'drama', 'direct', 'film', 'socialist', 'rosa', 'luxembourg', 'marianne', 'julianne', 'story', 'relationship', 'sister', 'resort', 'political', 'violence', 'accomplish', 'liberal', 'objective', 'rosenstrasse', 'film', 'work', 'year', 'compromise', 'add', 'present', 'day', 'fictional', 'element', 'order', 'film', 'produce', 'work', 'tribute', 'ms', 'von', 'trotta', 's', 'artistry', 'beautiful', 'screenplay', 'pamela', 'katz', 'father', 'refugee', 'leipzig', 'event', 'rosenstrasse', 'lie', 'germans', 'von', 'trotta', 'show', 'opposite', 'true', 'resist', 'nazis', 'tragic', 'example', 'catch']\n"
          ],
          "name": "stdout"
        }
      ]
    },
    {
      "cell_type": "code",
      "metadata": {
        "colab": {
          "base_uri": "https://localhost:8080/"
        },
        "id": "30sMklPoldzI",
        "outputId": "43bc212f-7037-4ca8-ea90-1b8de46a99f0"
      },
      "source": [
        "# Example\n",
        "tokens = [\"oh\", \"lot\", \"skhjdaasdsa\"]\n",
        "print([token2id.get(token, 1) for token in tokens])"
      ],
      "execution_count": 24,
      "outputs": [
        {
          "output_type": "stream",
          "text": [
            "[914, 50, 1]\n"
          ],
          "name": "stdout"
        }
      ]
    },
    {
      "cell_type": "markdown",
      "metadata": {
        "id": "JXVf3_d52BtU"
      },
      "source": [
        "---\n",
        "## References\n",
        "DS-GA 1011 NLP with Representation Learning Fall 2019"
      ]
    }
  ]
}