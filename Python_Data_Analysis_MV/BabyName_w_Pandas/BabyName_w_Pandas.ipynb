{
 "cells": [
  {
   "cell_type": "markdown",
   "metadata": {},
   "source": [
    "# Preparation"
   ]
  },
  {
   "cell_type": "code",
   "execution_count": 9,
   "metadata": {
    "collapsed": true
   },
   "outputs": [],
   "source": [
    "import numpy as np\n",
    "import pandas as pd\n",
    "import matplotlib.pyplot as pp\n",
    "import seaborn"
   ]
  },
  {
   "cell_type": "code",
   "execution_count": 10,
   "metadata": {
    "collapsed": true
   },
   "outputs": [],
   "source": [
    "%matplotlib inline"
   ]
  },
  {
   "cell_type": "markdown",
   "metadata": {},
   "source": [
    "# Import data and put into desirable data frame"
   ]
  },
  {
   "cell_type": "markdown",
   "metadata": {},
   "source": [
    "### Extract data from zipfile"
   ]
  },
  {
   "cell_type": "code",
   "execution_count": 11,
   "metadata": {},
   "outputs": [],
   "source": [
    "import zipfile\n",
    "zipfile.ZipFile('names.zip').extractall('.')"
   ]
  },
  {
   "cell_type": "code",
   "execution_count": 12,
   "metadata": {},
   "outputs": [
    {
     "data": {
      "text/plain": [
       "['NationalReadMe.pdf',\n",
       " 'yob1880.txt',\n",
       " 'yob1881.txt',\n",
       " 'yob1882.txt',\n",
       " 'yob1883.txt']"
      ]
     },
     "execution_count": 12,
     "metadata": {},
     "output_type": "execute_result"
    }
   ],
   "source": [
    "import os\n",
    "os.listdir('names')[:5]"
   ]
  },
  {
   "cell_type": "markdown",
   "metadata": {},
   "source": [
    "Take a look at one"
   ]
  },
  {
   "cell_type": "code",
   "execution_count": 13,
   "metadata": {},
   "outputs": [
    {
     "data": {
      "text/plain": [
       "['Sophia,F,21816\\n',\n",
       " 'Isabella,F,19870\\n',\n",
       " 'Emma,F,18777\\n',\n",
       " 'Olivia,F,17294\\n',\n",
       " 'Ava,F,15480\\n',\n",
       " 'Emily,F,14236\\n',\n",
       " 'Abigail,F,13229\\n',\n",
       " 'Madison,F,12360\\n',\n",
       " 'Mia,F,11512\\n',\n",
       " 'Chloe,F,10970\\n']"
      ]
     },
     "execution_count": 13,
     "metadata": {},
     "output_type": "execute_result"
    }
   ],
   "source": [
    "open('names/yob2011.txt','r').readlines()[:10]"
   ]
  },
  {
   "cell_type": "code",
   "execution_count": 14,
   "metadata": {},
   "outputs": [
    {
     "data": {
      "text/html": [
       "<div>\n",
       "<table border=\"1\" class=\"dataframe\">\n",
       "  <thead>\n",
       "    <tr style=\"text-align: right;\">\n",
       "      <th></th>\n",
       "      <th>name</th>\n",
       "      <th>sex</th>\n",
       "      <th>number</th>\n",
       "    </tr>\n",
       "  </thead>\n",
       "  <tbody>\n",
       "    <tr>\n",
       "      <th>0</th>\n",
       "      <td>Sophia</td>\n",
       "      <td>F</td>\n",
       "      <td>21816</td>\n",
       "    </tr>\n",
       "    <tr>\n",
       "      <th>1</th>\n",
       "      <td>Isabella</td>\n",
       "      <td>F</td>\n",
       "      <td>19870</td>\n",
       "    </tr>\n",
       "    <tr>\n",
       "      <th>2</th>\n",
       "      <td>Emma</td>\n",
       "      <td>F</td>\n",
       "      <td>18777</td>\n",
       "    </tr>\n",
       "    <tr>\n",
       "      <th>3</th>\n",
       "      <td>Olivia</td>\n",
       "      <td>F</td>\n",
       "      <td>17294</td>\n",
       "    </tr>\n",
       "    <tr>\n",
       "      <th>4</th>\n",
       "      <td>Ava</td>\n",
       "      <td>F</td>\n",
       "      <td>15480</td>\n",
       "    </tr>\n",
       "  </tbody>\n",
       "</table>\n",
       "</div>"
      ],
      "text/plain": [
       "       name sex  number\n",
       "0    Sophia   F   21816\n",
       "1  Isabella   F   19870\n",
       "2      Emma   F   18777\n",
       "3    Olivia   F   17294\n",
       "4       Ava   F   15480"
      ]
     },
     "execution_count": 14,
     "metadata": {},
     "output_type": "execute_result"
    }
   ],
   "source": [
    "names2011 = pd.read_csv('names/yob2011.txt', names=['name','sex','number'])\n",
    "  #Have to add names=[], otherwise it will automatically take the first row as column names\n",
    "    \n",
    "names2011.head()"
   ]
  },
  {
   "cell_type": "markdown",
   "metadata": {},
   "source": [
    "### Then we append names from each year into this data frame"
   ]
  },
  {
   "cell_type": "code",
   "execution_count": 15,
   "metadata": {},
   "outputs": [
    {
     "data": {
      "text/html": [
       "<div>\n",
       "<table border=\"1\" class=\"dataframe\">\n",
       "  <thead>\n",
       "    <tr style=\"text-align: right;\">\n",
       "      <th></th>\n",
       "      <th>name</th>\n",
       "      <th>sex</th>\n",
       "      <th>number</th>\n",
       "      <th>year</th>\n",
       "    </tr>\n",
       "  </thead>\n",
       "  <tbody>\n",
       "    <tr>\n",
       "      <th>0</th>\n",
       "      <td>Mary</td>\n",
       "      <td>F</td>\n",
       "      <td>7065</td>\n",
       "      <td>1880</td>\n",
       "    </tr>\n",
       "    <tr>\n",
       "      <th>1</th>\n",
       "      <td>Anna</td>\n",
       "      <td>F</td>\n",
       "      <td>2604</td>\n",
       "      <td>1880</td>\n",
       "    </tr>\n",
       "    <tr>\n",
       "      <th>2</th>\n",
       "      <td>Emma</td>\n",
       "      <td>F</td>\n",
       "      <td>2003</td>\n",
       "      <td>1880</td>\n",
       "    </tr>\n",
       "    <tr>\n",
       "      <th>3</th>\n",
       "      <td>Elizabeth</td>\n",
       "      <td>F</td>\n",
       "      <td>1939</td>\n",
       "      <td>1880</td>\n",
       "    </tr>\n",
       "    <tr>\n",
       "      <th>4</th>\n",
       "      <td>Minnie</td>\n",
       "      <td>F</td>\n",
       "      <td>1746</td>\n",
       "      <td>1880</td>\n",
       "    </tr>\n",
       "  </tbody>\n",
       "</table>\n",
       "</div>"
      ],
      "text/plain": [
       "        name sex  number  year\n",
       "0       Mary   F    7065  1880\n",
       "1       Anna   F    2604  1880\n",
       "2       Emma   F    2003  1880\n",
       "3  Elizabeth   F    1939  1880\n",
       "4     Minnie   F    1746  1880"
      ]
     },
     "execution_count": 15,
     "metadata": {},
     "output_type": "execute_result"
    }
   ],
   "source": [
    "names_all = []\n",
    "\n",
    "for year in range(1880, 2014+1):\n",
    "    names_all.append(pd.read_csv('names/yob{}.txt'.format(year), names=['name','sex','number']))\n",
    "    names_all[-1]['year'] = year #Create new column \"year\" and put value of each year\n",
    "#names_all contains all data we want, but name, sex, number and year are repeated\n",
    "#Not one dataframe, but several putting together\n",
    "\n",
    "#pandas.concat() will concat different data frames into one\n",
    "allyears = pd.concat(names_all)\n",
    "allyears.head()"
   ]
  },
  {
   "cell_type": "code",
   "execution_count": 16,
   "metadata": {},
   "outputs": [
    {
     "data": {
      "text/html": [
       "<div>\n",
       "<table border=\"1\" class=\"dataframe\">\n",
       "  <thead>\n",
       "    <tr style=\"text-align: right;\">\n",
       "      <th></th>\n",
       "      <th>name</th>\n",
       "      <th>sex</th>\n",
       "      <th>number</th>\n",
       "      <th>year</th>\n",
       "    </tr>\n",
       "  </thead>\n",
       "  <tbody>\n",
       "    <tr>\n",
       "      <th>33039</th>\n",
       "      <td>Zykeem</td>\n",
       "      <td>M</td>\n",
       "      <td>5</td>\n",
       "      <td>2014</td>\n",
       "    </tr>\n",
       "    <tr>\n",
       "      <th>33040</th>\n",
       "      <td>Zymeer</td>\n",
       "      <td>M</td>\n",
       "      <td>5</td>\n",
       "      <td>2014</td>\n",
       "    </tr>\n",
       "    <tr>\n",
       "      <th>33041</th>\n",
       "      <td>Zymiere</td>\n",
       "      <td>M</td>\n",
       "      <td>5</td>\n",
       "      <td>2014</td>\n",
       "    </tr>\n",
       "    <tr>\n",
       "      <th>33042</th>\n",
       "      <td>Zyran</td>\n",
       "      <td>M</td>\n",
       "      <td>5</td>\n",
       "      <td>2014</td>\n",
       "    </tr>\n",
       "    <tr>\n",
       "      <th>33043</th>\n",
       "      <td>Zyrin</td>\n",
       "      <td>M</td>\n",
       "      <td>5</td>\n",
       "      <td>2014</td>\n",
       "    </tr>\n",
       "  </tbody>\n",
       "</table>\n",
       "</div>"
      ],
      "text/plain": [
       "          name sex  number  year\n",
       "33039   Zykeem   M       5  2014\n",
       "33040   Zymeer   M       5  2014\n",
       "33041  Zymiere   M       5  2014\n",
       "33042    Zyran   M       5  2014\n",
       "33043    Zyrin   M       5  2014"
      ]
     },
     "execution_count": 16,
     "metadata": {},
     "output_type": "execute_result"
    }
   ],
   "source": [
    "allyears.tail()"
   ]
  },
  {
   "cell_type": "markdown",
   "metadata": {},
   "source": [
    "# Name Popularity"
   ]
  },
  {
   "cell_type": "markdown",
   "metadata": {},
   "source": [
    "### Create new dataframe with multi-indexes: by sex first, then name and year. Also sort the index."
   ]
  },
  {
   "cell_type": "code",
   "execution_count": 17,
   "metadata": {},
   "outputs": [
    {
     "data": {
      "text/html": [
       "<div>\n",
       "<table border=\"1\" class=\"dataframe\">\n",
       "  <thead>\n",
       "    <tr style=\"text-align: right;\">\n",
       "      <th></th>\n",
       "      <th></th>\n",
       "      <th></th>\n",
       "      <th>number</th>\n",
       "    </tr>\n",
       "    <tr>\n",
       "      <th>sex</th>\n",
       "      <th>name</th>\n",
       "      <th>year</th>\n",
       "      <th></th>\n",
       "    </tr>\n",
       "  </thead>\n",
       "  <tbody>\n",
       "    <tr>\n",
       "      <th rowspan=\"5\" valign=\"top\">F</th>\n",
       "      <th rowspan=\"3\" valign=\"top\">Aabha</th>\n",
       "      <th>2011</th>\n",
       "      <td>7</td>\n",
       "    </tr>\n",
       "    <tr>\n",
       "      <th>2012</th>\n",
       "      <td>5</td>\n",
       "    </tr>\n",
       "    <tr>\n",
       "      <th>2014</th>\n",
       "      <td>9</td>\n",
       "    </tr>\n",
       "    <tr>\n",
       "      <th rowspan=\"2\" valign=\"top\">Aabriella</th>\n",
       "      <th>2008</th>\n",
       "      <td>5</td>\n",
       "    </tr>\n",
       "    <tr>\n",
       "      <th>2014</th>\n",
       "      <td>5</td>\n",
       "    </tr>\n",
       "  </tbody>\n",
       "</table>\n",
       "</div>"
      ],
      "text/plain": [
       "                    number\n",
       "sex name      year        \n",
       "F   Aabha     2011       7\n",
       "              2012       5\n",
       "              2014       9\n",
       "    Aabriella 2008       5\n",
       "              2014       5"
      ]
     },
     "execution_count": 17,
     "metadata": {},
     "output_type": "execute_result"
    }
   ],
   "source": [
    "allyears_indexed = allyears.set_index(['sex','name','year']).sort_index()\n",
    "allyears_indexed.head()"
   ]
  },
  {
   "cell_type": "code",
   "execution_count": 18,
   "metadata": {},
   "outputs": [
    {
     "data": {
      "text/html": [
       "<div>\n",
       "<table border=\"1\" class=\"dataframe\">\n",
       "  <thead>\n",
       "    <tr style=\"text-align: right;\">\n",
       "      <th></th>\n",
       "      <th>number</th>\n",
       "    </tr>\n",
       "    <tr>\n",
       "      <th>year</th>\n",
       "      <th></th>\n",
       "    </tr>\n",
       "  </thead>\n",
       "  <tbody>\n",
       "    <tr>\n",
       "      <th>1880</th>\n",
       "      <td>7065</td>\n",
       "    </tr>\n",
       "    <tr>\n",
       "      <th>1881</th>\n",
       "      <td>6919</td>\n",
       "    </tr>\n",
       "    <tr>\n",
       "      <th>1882</th>\n",
       "      <td>8148</td>\n",
       "    </tr>\n",
       "    <tr>\n",
       "      <th>1883</th>\n",
       "      <td>8012</td>\n",
       "    </tr>\n",
       "    <tr>\n",
       "      <th>1884</th>\n",
       "      <td>9217</td>\n",
       "    </tr>\n",
       "  </tbody>\n",
       "</table>\n",
       "</div>"
      ],
      "text/plain": [
       "      number\n",
       "year        \n",
       "1880    7065\n",
       "1881    6919\n",
       "1882    8148\n",
       "1883    8012\n",
       "1884    9217"
      ]
     },
     "execution_count": 18,
     "metadata": {},
     "output_type": "execute_result"
    }
   ],
   "source": [
    "#If we want to look for specific rows, we can use loc() and iloc() to look for the info, for example:\n",
    "allyears_indexed.loc['F','Mary'].head()"
   ]
  },
  {
   "cell_type": "markdown",
   "metadata": {},
   "source": [
    "### Now we can build a function to plot the popularity of a name across years"
   ]
  },
  {
   "cell_type": "code",
   "execution_count": 19,
   "metadata": {},
   "outputs": [
    {
     "data": {
      "image/png": "[encoded data removed]",
      "text/plain": [
       "<matplotlib.figure.Figure at 0x11bcf6860>"
      ]
     },
     "metadata": {},
     "output_type": "display_data"
    }
   ],
   "source": [
    "def plotname(sex, name):\n",
    "    data = allyears_indexed.loc[sex, name]\n",
    "    pp.plot(data.index, data.values) #data.index is just the year because \"year\" was used as the index in dataframe above\n",
    "    \n",
    "plotname('F','Mary')"
   ]
  },
  {
   "cell_type": "markdown",
   "metadata": {},
   "source": [
    "### Let's try plot some names together"
   ]
  },
  {
   "cell_type": "code",
   "execution_count": 20,
   "metadata": {},
   "outputs": [
    {
     "data": {
      "text/plain": [
       "<matplotlib.legend.Legend at 0x12fad0160>"
      ]
     },
     "execution_count": 20,
     "metadata": {},
     "output_type": "execute_result"
    },
    {
     "data": {
      "image/png": "[encoded data removed]",
      "text/plain": [
       "<matplotlib.figure.Figure at 0x12fac1588>"
      ]
     },
     "metadata": {},
     "output_type": "display_data"
    }
   ],
   "source": [
    "pp.figure(figsize=(12,2.5))\n",
    "\n",
    "names = ['Chiara','Claire','Clare','Clara','Ciara']\n",
    "for name in names:\n",
    "    plotname('F',name)\n",
    "\n",
    "pp.legend(names)"
   ]
  },
  {
   "cell_type": "code",
   "execution_count": 21,
   "metadata": {},
   "outputs": [
    {
     "data": {
      "text/html": [
       "<div>\n",
       "<table border=\"1\" class=\"dataframe\">\n",
       "  <thead>\n",
       "    <tr style=\"text-align: right;\">\n",
       "      <th></th>\n",
       "      <th></th>\n",
       "      <th>number</th>\n",
       "    </tr>\n",
       "    <tr>\n",
       "      <th>name</th>\n",
       "      <th>year</th>\n",
       "      <th></th>\n",
       "    </tr>\n",
       "  </thead>\n",
       "  <tbody>\n",
       "    <tr>\n",
       "      <th rowspan=\"5\" valign=\"top\">Chiara</th>\n",
       "      <th>1959</th>\n",
       "      <td>9</td>\n",
       "    </tr>\n",
       "    <tr>\n",
       "      <th>1960</th>\n",
       "      <td>5</td>\n",
       "    </tr>\n",
       "    <tr>\n",
       "      <th>1962</th>\n",
       "      <td>8</td>\n",
       "    </tr>\n",
       "    <tr>\n",
       "      <th>1963</th>\n",
       "      <td>8</td>\n",
       "    </tr>\n",
       "    <tr>\n",
       "      <th>1964</th>\n",
       "      <td>12</td>\n",
       "    </tr>\n",
       "  </tbody>\n",
       "</table>\n",
       "</div>"
      ],
      "text/plain": [
       "             number\n",
       "name   year        \n",
       "Chiara 1959       9\n",
       "       1960       5\n",
       "       1962       8\n",
       "       1963       8\n",
       "       1964      12"
      ]
     },
     "execution_count": 21,
     "metadata": {},
     "output_type": "execute_result"
    }
   ],
   "source": [
    "allyears_indexed.loc['F'].loc[names].head()"
   ]
  },
  {
   "cell_type": "markdown",
   "metadata": {},
   "source": [
    "### Unstack the name index, put it to columns (as values) instead"
   ]
  },
  {
   "cell_type": "code",
   "execution_count": 22,
   "metadata": {},
   "outputs": [
    {
     "data": {
      "text/html": [
       "<div>\n",
       "<table border=\"1\" class=\"dataframe\">\n",
       "  <thead>\n",
       "    <tr>\n",
       "      <th></th>\n",
       "      <th colspan=\"5\" halign=\"left\">number</th>\n",
       "    </tr>\n",
       "    <tr>\n",
       "      <th>name</th>\n",
       "      <th>Chiara</th>\n",
       "      <th>Ciara</th>\n",
       "      <th>Claire</th>\n",
       "      <th>Clara</th>\n",
       "      <th>Clare</th>\n",
       "    </tr>\n",
       "    <tr>\n",
       "      <th>year</th>\n",
       "      <th></th>\n",
       "      <th></th>\n",
       "      <th></th>\n",
       "      <th></th>\n",
       "      <th></th>\n",
       "    </tr>\n",
       "  </thead>\n",
       "  <tbody>\n",
       "    <tr>\n",
       "      <th>1880</th>\n",
       "      <td>NaN</td>\n",
       "      <td>NaN</td>\n",
       "      <td>21.0</td>\n",
       "      <td>1226.0</td>\n",
       "      <td>15.0</td>\n",
       "    </tr>\n",
       "    <tr>\n",
       "      <th>1881</th>\n",
       "      <td>NaN</td>\n",
       "      <td>NaN</td>\n",
       "      <td>23.0</td>\n",
       "      <td>1242.0</td>\n",
       "      <td>20.0</td>\n",
       "    </tr>\n",
       "    <tr>\n",
       "      <th>1882</th>\n",
       "      <td>NaN</td>\n",
       "      <td>NaN</td>\n",
       "      <td>30.0</td>\n",
       "      <td>1490.0</td>\n",
       "      <td>21.0</td>\n",
       "    </tr>\n",
       "    <tr>\n",
       "      <th>1883</th>\n",
       "      <td>NaN</td>\n",
       "      <td>NaN</td>\n",
       "      <td>38.0</td>\n",
       "      <td>1548.0</td>\n",
       "      <td>22.0</td>\n",
       "    </tr>\n",
       "    <tr>\n",
       "      <th>1884</th>\n",
       "      <td>NaN</td>\n",
       "      <td>NaN</td>\n",
       "      <td>33.0</td>\n",
       "      <td>1852.0</td>\n",
       "      <td>38.0</td>\n",
       "    </tr>\n",
       "  </tbody>\n",
       "</table>\n",
       "</div>"
      ],
      "text/plain": [
       "     number                           \n",
       "name Chiara Ciara Claire   Clara Clare\n",
       "year                                  \n",
       "1880    NaN   NaN   21.0  1226.0  15.0\n",
       "1881    NaN   NaN   23.0  1242.0  20.0\n",
       "1882    NaN   NaN   30.0  1490.0  21.0\n",
       "1883    NaN   NaN   38.0  1548.0  22.0\n",
       "1884    NaN   NaN   33.0  1852.0  38.0"
      ]
     },
     "execution_count": 22,
     "metadata": {},
     "output_type": "execute_result"
    }
   ],
   "source": [
    "allyears_indexed.loc['F'].loc[names].unstack(level=0).head()\n",
    "    #level could be either 0 or 1. If level=1 the table rows and columns would be shifted."
   ]
  },
  {
   "cell_type": "markdown",
   "metadata": {},
   "source": [
    "### Fill NaN values with 0, then store into a new data frame called variants"
   ]
  },
  {
   "cell_type": "code",
   "execution_count": 23,
   "metadata": {
    "collapsed": true
   },
   "outputs": [],
   "source": [
    "variants = allyears_indexed.loc['F'].loc[names].unstack(level=0).fillna(0)"
   ]
  },
  {
   "cell_type": "code",
   "execution_count": 24,
   "metadata": {},
   "outputs": [
    {
     "data": {
      "image/png": "[encoded data removed]",
      "text/plain": [
       "<matplotlib.figure.Figure at 0x117b6d630>"
      ]
     },
     "metadata": {},
     "output_type": "display_data"
    }
   ],
   "source": [
    "pp.figure(figsize=(12,2.5))\n",
    "pp.stackplot(variants.index, variants.values.T) #values needs to be transposed here\n",
    "\n",
    "palette = seaborn.color_palette()\n",
    "\n",
    "for i,name in enumerate(names):\n",
    "    pp.text(1882,5000+800*i, name,color = palette[i])"
   ]
  },
  {
   "cell_type": "markdown",
   "metadata": {},
   "source": [
    "# A Yearly Top 10"
   ]
  },
  {
   "cell_type": "code",
   "execution_count": 25,
   "metadata": {},
   "outputs": [
    {
     "data": {
      "text/html": [
       "<div>\n",
       "<table border=\"1\" class=\"dataframe\">\n",
       "  <thead>\n",
       "    <tr style=\"text-align: right;\">\n",
       "      <th></th>\n",
       "      <th></th>\n",
       "      <th></th>\n",
       "      <th>number</th>\n",
       "    </tr>\n",
       "    <tr>\n",
       "      <th>sex</th>\n",
       "      <th>name</th>\n",
       "      <th>year</th>\n",
       "      <th></th>\n",
       "    </tr>\n",
       "  </thead>\n",
       "  <tbody>\n",
       "    <tr>\n",
       "      <th rowspan=\"5\" valign=\"top\">M</th>\n",
       "      <th>Jacob</th>\n",
       "      <th>2008</th>\n",
       "      <td>22568</td>\n",
       "    </tr>\n",
       "    <tr>\n",
       "      <th>Michael</th>\n",
       "      <th>2008</th>\n",
       "      <td>20590</td>\n",
       "    </tr>\n",
       "    <tr>\n",
       "      <th>Ethan</th>\n",
       "      <th>2008</th>\n",
       "      <td>20196</td>\n",
       "    </tr>\n",
       "    <tr>\n",
       "      <th>Joshua</th>\n",
       "      <th>2008</th>\n",
       "      <td>19186</td>\n",
       "    </tr>\n",
       "    <tr>\n",
       "      <th>Daniel</th>\n",
       "      <th>2008</th>\n",
       "      <td>18985</td>\n",
       "    </tr>\n",
       "  </tbody>\n",
       "</table>\n",
       "</div>"
      ],
      "text/plain": [
       "                  number\n",
       "sex name    year        \n",
       "M   Jacob   2008   22568\n",
       "    Michael 2008   20590\n",
       "    Ethan   2008   20196\n",
       "    Joshua  2008   19186\n",
       "    Daniel  2008   18985"
      ]
     },
     "execution_count": 25,
     "metadata": {},
     "output_type": "execute_result"
    }
   ],
   "source": [
    "#Sort only males in 2008\n",
    "allyears_indexed.loc['M',:,2008].sort_values('number',ascending=False).head()\n",
    "   \n",
    "    #loc[sex, name, year], since name is all, replce by \":\"\n",
    "    #sort_values is to sort the data frame by \"number\" on descending order"
   ]
  },
  {
   "cell_type": "markdown",
   "metadata": {},
   "source": [
    "### We want to keep these 5 names as most popular names in 2008, let's make it a new data frame"
   ]
  },
  {
   "cell_type": "code",
   "execution_count": 26,
   "metadata": {},
   "outputs": [
    {
     "data": {
      "text/html": [
       "<div>\n",
       "<table border=\"1\" class=\"dataframe\">\n",
       "  <thead>\n",
       "    <tr style=\"text-align: right;\">\n",
       "      <th></th>\n",
       "      <th>name</th>\n",
       "    </tr>\n",
       "  </thead>\n",
       "  <tbody>\n",
       "    <tr>\n",
       "      <th>0</th>\n",
       "      <td>Jacob</td>\n",
       "    </tr>\n",
       "    <tr>\n",
       "      <th>1</th>\n",
       "      <td>Michael</td>\n",
       "    </tr>\n",
       "    <tr>\n",
       "      <th>2</th>\n",
       "      <td>Ethan</td>\n",
       "    </tr>\n",
       "    <tr>\n",
       "      <th>3</th>\n",
       "      <td>Joshua</td>\n",
       "    </tr>\n",
       "    <tr>\n",
       "      <th>4</th>\n",
       "      <td>Daniel</td>\n",
       "    </tr>\n",
       "  </tbody>\n",
       "</table>\n",
       "</div>"
      ],
      "text/plain": [
       "      name\n",
       "0    Jacob\n",
       "1  Michael\n",
       "2    Ethan\n",
       "3   Joshua\n",
       "4   Daniel"
      ]
     },
     "execution_count": 26,
     "metadata": {},
     "output_type": "execute_result"
    }
   ],
   "source": [
    "pop2008 = allyears_indexed.loc['M',:,2008].sort_values('number',ascending=False).head()\n",
    "\n",
    "#Then we drop columns we don't need by using reset_index().drop()\n",
    "pop2008.reset_index().drop(['sex','year','number'], axis=1).head()"
   ]
  },
  {
   "cell_type": "markdown",
   "metadata": {},
   "source": [
    "### Now we build a function to give top 10 popular names with given gender and year"
   ]
  },
  {
   "cell_type": "code",
   "execution_count": 27,
   "metadata": {},
   "outputs": [
    {
     "data": {
      "text/html": [
       "<div>\n",
       "<table border=\"1\" class=\"dataframe\">\n",
       "  <thead>\n",
       "    <tr style=\"text-align: right;\">\n",
       "      <th></th>\n",
       "      <th>2009</th>\n",
       "    </tr>\n",
       "  </thead>\n",
       "  <tbody>\n",
       "    <tr>\n",
       "      <th>1</th>\n",
       "      <td>Jacob</td>\n",
       "    </tr>\n",
       "    <tr>\n",
       "      <th>2</th>\n",
       "      <td>Ethan</td>\n",
       "    </tr>\n",
       "    <tr>\n",
       "      <th>3</th>\n",
       "      <td>Michael</td>\n",
       "    </tr>\n",
       "    <tr>\n",
       "      <th>4</th>\n",
       "      <td>Alexander</td>\n",
       "    </tr>\n",
       "    <tr>\n",
       "      <th>5</th>\n",
       "      <td>William</td>\n",
       "    </tr>\n",
       "    <tr>\n",
       "      <th>6</th>\n",
       "      <td>Joshua</td>\n",
       "    </tr>\n",
       "    <tr>\n",
       "      <th>7</th>\n",
       "      <td>Daniel</td>\n",
       "    </tr>\n",
       "    <tr>\n",
       "      <th>8</th>\n",
       "      <td>Jayden</td>\n",
       "    </tr>\n",
       "    <tr>\n",
       "      <th>9</th>\n",
       "      <td>Noah</td>\n",
       "    </tr>\n",
       "    <tr>\n",
       "      <th>10</th>\n",
       "      <td>Christopher</td>\n",
       "    </tr>\n",
       "  </tbody>\n",
       "</table>\n",
       "</div>"
      ],
      "text/plain": [
       "           2009\n",
       "1         Jacob\n",
       "2         Ethan\n",
       "3       Michael\n",
       "4     Alexander\n",
       "5       William\n",
       "6        Joshua\n",
       "7        Daniel\n",
       "8        Jayden\n",
       "9          Noah\n",
       "10  Christopher"
      ]
     },
     "execution_count": 27,
     "metadata": {},
     "output_type": "execute_result"
    }
   ],
   "source": [
    "def topten(sex, year):\n",
    "    simple = allyears_indexed.loc[sex, :, year].sort_values('number',ascending=False)\n",
    "    simple = simple.reset_index().drop(['sex', 'year', 'number'], axis=1).head(10)\n",
    "    \n",
    "    simple.columns = [year]    #set name for column as year\n",
    "    simple.index = simple.index + 1  #set index to start from 1 instead of 10 (default)\n",
    "    return simple\n",
    "\n",
    "topten('M', 2009)"
   ]
  },
  {
   "cell_type": "markdown",
   "metadata": {},
   "source": [
    "### Then let's build a function for top 10 names across certain years, in order for comparison"
   ]
  },
  {
   "cell_type": "code",
   "execution_count": 28,
   "metadata": {
    "collapsed": true
   },
   "outputs": [],
   "source": [
    "def topten_comparison(sex, year0, year1):\n",
    "    years = [topten(sex,year) for year in range(year0, year1+1)]\n",
    "    \n",
    "    return years[0].join(years[1:])"
   ]
  },
  {
   "cell_type": "code",
   "execution_count": 29,
   "metadata": {},
   "outputs": [
    {
     "data": {
      "text/html": [
       "<div>\n",
       "<table border=\"1\" class=\"dataframe\">\n",
       "  <thead>\n",
       "    <tr style=\"text-align: right;\">\n",
       "      <th></th>\n",
       "      <th>2000</th>\n",
       "      <th>2001</th>\n",
       "      <th>2002</th>\n",
       "      <th>2003</th>\n",
       "      <th>2004</th>\n",
       "      <th>2005</th>\n",
       "      <th>2006</th>\n",
       "      <th>2007</th>\n",
       "      <th>2008</th>\n",
       "      <th>2009</th>\n",
       "      <th>2010</th>\n",
       "    </tr>\n",
       "  </thead>\n",
       "  <tbody>\n",
       "    <tr>\n",
       "      <th>1</th>\n",
       "      <td>Jacob</td>\n",
       "      <td>Jacob</td>\n",
       "      <td>Jacob</td>\n",
       "      <td>Jacob</td>\n",
       "      <td>Jacob</td>\n",
       "      <td>Jacob</td>\n",
       "      <td>Jacob</td>\n",
       "      <td>Jacob</td>\n",
       "      <td>Jacob</td>\n",
       "      <td>Jacob</td>\n",
       "      <td>Jacob</td>\n",
       "    </tr>\n",
       "    <tr>\n",
       "      <th>2</th>\n",
       "      <td>Michael</td>\n",
       "      <td>Michael</td>\n",
       "      <td>Michael</td>\n",
       "      <td>Michael</td>\n",
       "      <td>Michael</td>\n",
       "      <td>Michael</td>\n",
       "      <td>Michael</td>\n",
       "      <td>Michael</td>\n",
       "      <td>Michael</td>\n",
       "      <td>Ethan</td>\n",
       "      <td>Ethan</td>\n",
       "    </tr>\n",
       "    <tr>\n",
       "      <th>3</th>\n",
       "      <td>Matthew</td>\n",
       "      <td>Matthew</td>\n",
       "      <td>Joshua</td>\n",
       "      <td>Joshua</td>\n",
       "      <td>Joshua</td>\n",
       "      <td>Joshua</td>\n",
       "      <td>Joshua</td>\n",
       "      <td>Ethan</td>\n",
       "      <td>Ethan</td>\n",
       "      <td>Michael</td>\n",
       "      <td>Michael</td>\n",
       "    </tr>\n",
       "    <tr>\n",
       "      <th>4</th>\n",
       "      <td>Joshua</td>\n",
       "      <td>Joshua</td>\n",
       "      <td>Matthew</td>\n",
       "      <td>Matthew</td>\n",
       "      <td>Matthew</td>\n",
       "      <td>Matthew</td>\n",
       "      <td>Ethan</td>\n",
       "      <td>Joshua</td>\n",
       "      <td>Joshua</td>\n",
       "      <td>Alexander</td>\n",
       "      <td>Jayden</td>\n",
       "    </tr>\n",
       "    <tr>\n",
       "      <th>5</th>\n",
       "      <td>Christopher</td>\n",
       "      <td>Christopher</td>\n",
       "      <td>Ethan</td>\n",
       "      <td>Andrew</td>\n",
       "      <td>Ethan</td>\n",
       "      <td>Ethan</td>\n",
       "      <td>Matthew</td>\n",
       "      <td>Daniel</td>\n",
       "      <td>Daniel</td>\n",
       "      <td>William</td>\n",
       "      <td>William</td>\n",
       "    </tr>\n",
       "    <tr>\n",
       "      <th>6</th>\n",
       "      <td>Nicholas</td>\n",
       "      <td>Nicholas</td>\n",
       "      <td>Andrew</td>\n",
       "      <td>Ethan</td>\n",
       "      <td>Andrew</td>\n",
       "      <td>Andrew</td>\n",
       "      <td>Daniel</td>\n",
       "      <td>Christopher</td>\n",
       "      <td>Alexander</td>\n",
       "      <td>Joshua</td>\n",
       "      <td>Alexander</td>\n",
       "    </tr>\n",
       "    <tr>\n",
       "      <th>7</th>\n",
       "      <td>Andrew</td>\n",
       "      <td>Andrew</td>\n",
       "      <td>Joseph</td>\n",
       "      <td>Joseph</td>\n",
       "      <td>Daniel</td>\n",
       "      <td>Daniel</td>\n",
       "      <td>Andrew</td>\n",
       "      <td>Anthony</td>\n",
       "      <td>William</td>\n",
       "      <td>Daniel</td>\n",
       "      <td>Noah</td>\n",
       "    </tr>\n",
       "    <tr>\n",
       "      <th>8</th>\n",
       "      <td>Joseph</td>\n",
       "      <td>Joseph</td>\n",
       "      <td>Christopher</td>\n",
       "      <td>Daniel</td>\n",
       "      <td>William</td>\n",
       "      <td>Anthony</td>\n",
       "      <td>Christopher</td>\n",
       "      <td>William</td>\n",
       "      <td>Anthony</td>\n",
       "      <td>Jayden</td>\n",
       "      <td>Daniel</td>\n",
       "    </tr>\n",
       "    <tr>\n",
       "      <th>9</th>\n",
       "      <td>Daniel</td>\n",
       "      <td>Daniel</td>\n",
       "      <td>Nicholas</td>\n",
       "      <td>Christopher</td>\n",
       "      <td>Joseph</td>\n",
       "      <td>Joseph</td>\n",
       "      <td>Anthony</td>\n",
       "      <td>Matthew</td>\n",
       "      <td>Christopher</td>\n",
       "      <td>Noah</td>\n",
       "      <td>Aiden</td>\n",
       "    </tr>\n",
       "    <tr>\n",
       "      <th>10</th>\n",
       "      <td>Tyler</td>\n",
       "      <td>William</td>\n",
       "      <td>Daniel</td>\n",
       "      <td>Anthony</td>\n",
       "      <td>Christopher</td>\n",
       "      <td>Christopher</td>\n",
       "      <td>William</td>\n",
       "      <td>Andrew</td>\n",
       "      <td>Matthew</td>\n",
       "      <td>Christopher</td>\n",
       "      <td>Anthony</td>\n",
       "    </tr>\n",
       "  </tbody>\n",
       "</table>\n",
       "</div>"
      ],
      "text/plain": [
       "           2000         2001         2002         2003         2004  \\\n",
       "1         Jacob        Jacob        Jacob        Jacob        Jacob   \n",
       "2       Michael      Michael      Michael      Michael      Michael   \n",
       "3       Matthew      Matthew       Joshua       Joshua       Joshua   \n",
       "4        Joshua       Joshua      Matthew      Matthew      Matthew   \n",
       "5   Christopher  Christopher        Ethan       Andrew        Ethan   \n",
       "6      Nicholas     Nicholas       Andrew        Ethan       Andrew   \n",
       "7        Andrew       Andrew       Joseph       Joseph       Daniel   \n",
       "8        Joseph       Joseph  Christopher       Daniel      William   \n",
       "9        Daniel       Daniel     Nicholas  Christopher       Joseph   \n",
       "10        Tyler      William       Daniel      Anthony  Christopher   \n",
       "\n",
       "           2005         2006         2007         2008         2009       2010  \n",
       "1         Jacob        Jacob        Jacob        Jacob        Jacob      Jacob  \n",
       "2       Michael      Michael      Michael      Michael        Ethan      Ethan  \n",
       "3        Joshua       Joshua        Ethan        Ethan      Michael    Michael  \n",
       "4       Matthew        Ethan       Joshua       Joshua    Alexander     Jayden  \n",
       "5         Ethan      Matthew       Daniel       Daniel      William    William  \n",
       "6        Andrew       Daniel  Christopher    Alexander       Joshua  Alexander  \n",
       "7        Daniel       Andrew      Anthony      William       Daniel       Noah  \n",
       "8       Anthony  Christopher      William      Anthony       Jayden     Daniel  \n",
       "9        Joseph      Anthony      Matthew  Christopher         Noah      Aiden  \n",
       "10  Christopher      William       Andrew      Matthew  Christopher    Anthony  "
      ]
     },
     "execution_count": 29,
     "metadata": {},
     "output_type": "execute_result"
    }
   ],
   "source": [
    "topten_comparison('M', 2000, 2010)"
   ]
  },
  {
   "cell_type": "code",
   "execution_count": 30,
   "metadata": {},
   "outputs": [
    {
     "data": {
      "text/plain": [
       "1  1985    Jessica\n",
       "   1986    Jessica\n",
       "   1987    Jessica\n",
       "   1988    Jessica\n",
       "   1989    Jessica\n",
       "dtype: object"
      ]
     },
     "execution_count": 30,
     "metadata": {},
     "output_type": "execute_result"
    }
   ],
   "source": [
    "# Use stack function would put all rows into one series\n",
    "topten_comparison('F',1985,1995).stack().head()"
   ]
  },
  {
   "cell_type": "code",
   "execution_count": 31,
   "metadata": {},
   "outputs": [
    {
     "data": {
      "text/plain": [
       "Sarah        11\n",
       "Elizabeth    11\n",
       "Amanda       11\n",
       "Ashley       11\n",
       "Jessica      11\n",
       "Brittany     10\n",
       "Stephanie     9\n",
       "Samantha      8\n",
       "Jennifer      7\n",
       "Emily         5\n",
       "Nicole        4\n",
       "Heather       3\n",
       "Megan         3\n",
       "Taylor        3\n",
       "Lauren        2\n",
       "Hannah        1\n",
       "dtype: int64"
      ]
     },
     "execution_count": 31,
     "metadata": {},
     "output_type": "execute_result"
    }
   ],
   "source": [
    "#Use value_counts to count the frequency of each name appearing in top 10 for 11 years\n",
    "topten_comparison('F',1985,1995).stack().value_counts()"
   ]
  },
  {
   "cell_type": "markdown",
   "metadata": {},
   "source": [
    "### Let's plot the first 6 names for all years"
   ]
  },
  {
   "cell_type": "code",
   "execution_count": 32,
   "metadata": {
    "collapsed": true
   },
   "outputs": [],
   "source": [
    "popular = topten_comparison('F',1985,1995).stack().value_counts().index[:6]"
   ]
  },
  {
   "cell_type": "code",
   "execution_count": 33,
   "metadata": {},
   "outputs": [
    {
     "data": {
      "text/plain": [
       "<matplotlib.legend.Legend at 0x123a90c88>"
      ]
     },
     "execution_count": 33,
     "metadata": {},
     "output_type": "execute_result"
    },
    {
     "data": {
      "image/png": "[encoded data removed]",
      "text/plain": [
       "<matplotlib.figure.Figure at 0x12fac8cc0>"
      ]
     },
     "metadata": {},
     "output_type": "display_data"
    }
   ],
   "source": [
    "pp.figure(figsize = (12,2.5))\n",
    "\n",
    "for name in popular:\n",
    "    plotname('F',name)\n",
    "    \n",
    "pp.legend(popular)"
   ]
  },
  {
   "cell_type": "markdown",
   "metadata": {},
   "source": [
    "# Name Fads (Determine Spikes)"
   ]
  },
  {
   "cell_type": "markdown",
   "metadata": {},
   "source": [
    "### We want to observe total counts of each name across all years"
   ]
  },
  {
   "cell_type": "code",
   "execution_count": 34,
   "metadata": {},
   "outputs": [
    {
     "data": {
      "text/plain": [
       "sex  name     \n",
       "F    Aabha         21\n",
       "     Aabriella     10\n",
       "     Aaden          5\n",
       "     Aadhira       29\n",
       "     Aadhya       639\n",
       "Name: number, dtype: int64"
      ]
     },
     "execution_count": 34,
     "metadata": {},
     "output_type": "execute_result"
    }
   ],
   "source": [
    "totals = allyears.groupby(['sex','name'])['number'].sum()\n",
    "\n",
    "totals.head()"
   ]
  },
  {
   "cell_type": "markdown",
   "metadata": {},
   "source": [
    "### We define spikiness of a name by the following fomula: \n",
    "\n",
    "    Spikiness = (sum of (squares)) / sum square = (y1^2 + y2^2 + ... + yn^2) / (y1 + y2 + ... + yn)^2\n",
    "    \n",
    "The smaller the number is, the less spiky it is (equals 1/n if all years are equal)\n",
    "\n",
    "The larger the number is, the more spiky it is (eequals 1 if only one year has non-zero value)"
   ]
  },
  {
   "cell_type": "code",
   "execution_count": 35,
   "metadata": {
    "collapsed": true
   },
   "outputs": [],
   "source": [
    "def sumsq(x):\n",
    "    return sum(x**2)"
   ]
  },
  {
   "cell_type": "code",
   "execution_count": 36,
   "metadata": {},
   "outputs": [
    {
     "data": {
      "text/plain": [
       "sex  name     \n",
       "F    Aabha        0.351474\n",
       "     Aabriella    0.500000\n",
       "     Aaden        1.000000\n",
       "     Aadhira      0.362663\n",
       "     Aadhya       0.262673\n",
       "Name: number, dtype: float64"
      ]
     },
     "execution_count": 36,
     "metadata": {},
     "output_type": "execute_result"
    }
   ],
   "source": [
    "spikyness = allyears.groupby(['sex','name'])['number'].agg(sumsq) / totals**2\n",
    "spikyness.head()\n",
    "\n",
    "#.agg() contains formula for aggregation. In this case we use sum of squares which was defined before."
   ]
  },
  {
   "cell_type": "markdown",
   "metadata": {},
   "source": [
    "### We define a dataframe with the spikyness computed but only contains names with totals greater than 5000"
   ]
  },
  {
   "cell_type": "code",
   "execution_count": 38,
   "metadata": {},
   "outputs": [
    {
     "data": {
      "text/plain": [
       "sex  name     \n",
       "M    Iker         0.199368\n",
       "     Shaquille    0.195689\n",
       "     Jase         0.182165\n",
       "F    Adalynn      0.177107\n",
       "     Harper       0.164827\n",
       "Name: number, dtype: float64"
      ]
     },
     "execution_count": 38,
     "metadata": {},
     "output_type": "execute_result"
    }
   ],
   "source": [
    "spiky_common = spikyness[totals > 5000].copy()\n",
    "spiky_common.sort_values(ascending=False, inplace=True)\n",
    "\n",
    "#Print the top 5 \"spiky\" names\n",
    "spiky_common.head()"
   ]
  },
  {
   "cell_type": "code",
   "execution_count": 40,
   "metadata": {},
   "outputs": [
    {
     "data": {
      "text/plain": [
       "sex  name  \n",
       "F    Rosa      0.008512\n",
       "     Mollie    0.008437\n",
       "M    Ike       0.008310\n",
       "F    Delia     0.008263\n",
       "     Louisa    0.007931\n",
       "Name: number, dtype: float64"
      ]
     },
     "execution_count": 40,
     "metadata": {},
     "output_type": "execute_result"
    }
   ],
   "source": [
    "#Then print top 5 \"not spiky\" names\n",
    "spiky_common.tail()"
   ]
  },
  {
   "cell_type": "markdown",
   "metadata": {},
   "source": [
    "### We can plot \"Iker\" against \"Louisa\" to observe the pattern"
   ]
  },
  {
   "cell_type": "code",
   "execution_count": 48,
   "metadata": {},
   "outputs": [
    {
     "data": {
      "text/plain": [
       "<matplotlib.legend.Legend at 0x1285547b8>"
      ]
     },
     "execution_count": 48,
     "metadata": {},
     "output_type": "execute_result"
    },
    {
     "data": {
      "image/png": "[encoded data removed]",
      "text/plain": [
       "<matplotlib.figure.Figure at 0x12855d908>"
      ]
     },
     "metadata": {},
     "output_type": "display_data"
    }
   ],
   "source": [
    "pp.figure(figsize=(12,2.5))\n",
    "\n",
    "plotname('M','Iker')\n",
    "plotname('F','Louisa')\n",
    "\n",
    "pp.legend(['Iker','Louisa'])"
   ]
  },
  {
   "cell_type": "markdown",
   "metadata": {},
   "source": [
    "### Lastly we want to select names that only used to be popular (not popular for recent 10 years)"
   ]
  },
  {
   "cell_type": "code",
   "execution_count": 59,
   "metadata": {},
   "outputs": [
    {
     "data": {
      "text/plain": [
       "sex  name     \n",
       "M    Shaquille    0.195689\n",
       "F    Katina       0.120872\n",
       "     Krystle      0.100106\n",
       "M    Devante      0.099617\n",
       "F    Khadijah     0.091410\n",
       "     Shanice      0.089675\n",
       "     Iesha        0.088810\n",
       "     Shaniqua     0.087601\n",
       "     Sheena       0.080751\n",
       "     Marquita     0.080338\n",
       "Name: number, dtype: float64"
      ]
     },
     "execution_count": 59,
     "metadata": {},
     "output_type": "execute_result"
    }
   ],
   "source": [
    "totals_recent = allyears[allyears['year'] > 2005].groupby(['sex','name'])['number'].sum()\n",
    "\n",
    "spiky_common = spikyness[(totals > 5000) & (totals_recent < 1000)].copy()\n",
    "    #Two Boolean controls here: names over 5000 but no more than 1000 since 2005\n",
    "spiky_common.sort_values(ascending=False, inplace=True)\n",
    "\n",
    "spiky_common.head(10)"
   ]
  },
  {
   "cell_type": "markdown",
   "metadata": {},
   "source": [
    "### Finally we plot these names"
   ]
  },
  {
   "cell_type": "code",
   "execution_count": 76,
   "metadata": {},
   "outputs": [
    {
     "data": {
      "text/plain": [
       "<matplotlib.legend.Legend at 0x1293a7e80>"
      ]
     },
     "execution_count": 76,
     "metadata": {},
     "output_type": "execute_result"
    },
    {
     "data": {
      "image/png": "[encoded data removed]",
      "text/plain": [
       "<matplotlib.figure.Figure at 0x12a1c7ef0>"
      ]
     },
     "metadata": {},
     "output_type": "display_data"
    }
   ],
   "source": [
    "#Define a fads contains sex and name for the top 10 names\n",
    "fads = spiky_common.head(10).index.values  \n",
    "\n",
    "pp.figure(figsize = (12, 4.5))\n",
    "\n",
    "for sex, name in fads:\n",
    "    plotname(sex, name)\n",
    "\n",
    "pp.legend([name for sex, name in fads], loc = 'upper left')"
   ]
  },
  {
   "cell_type": "markdown",
   "metadata": {
    "collapsed": true
   },
   "source": [
    "# Exercise"
   ]
  },
  {
   "cell_type": "markdown",
   "metadata": {},
   "source": [
    "### Task 1: Compute the number of times each name was used, seperately for boys and girls"
   ]
  },
  {
   "cell_type": "code",
   "execution_count": 31,
   "metadata": {},
   "outputs": [
    {
     "data": {
      "text/html": [
       "<div>\n",
       "<style scoped>\n",
       "    .dataframe tbody tr th:only-of-type {\n",
       "        vertical-align: middle;\n",
       "    }\n",
       "\n",
       "    .dataframe tbody tr th {\n",
       "        vertical-align: top;\n",
       "    }\n",
       "\n",
       "    .dataframe thead th {\n",
       "        text-align: right;\n",
       "    }\n",
       "</style>\n",
       "<table border=\"1\" class=\"dataframe\">\n",
       "  <thead>\n",
       "    <tr style=\"text-align: right;\">\n",
       "      <th></th>\n",
       "      <th></th>\n",
       "      <th></th>\n",
       "      <th>number</th>\n",
       "    </tr>\n",
       "    <tr>\n",
       "      <th>sex</th>\n",
       "      <th>name</th>\n",
       "      <th>year</th>\n",
       "      <th></th>\n",
       "    </tr>\n",
       "  </thead>\n",
       "  <tbody>\n",
       "    <tr>\n",
       "      <th rowspan=\"5\" valign=\"top\">F</th>\n",
       "      <th rowspan=\"3\" valign=\"top\">Aabha</th>\n",
       "      <th>2011</th>\n",
       "      <td>7</td>\n",
       "    </tr>\n",
       "    <tr>\n",
       "      <th>2012</th>\n",
       "      <td>5</td>\n",
       "    </tr>\n",
       "    <tr>\n",
       "      <th>2014</th>\n",
       "      <td>9</td>\n",
       "    </tr>\n",
       "    <tr>\n",
       "      <th rowspan=\"2\" valign=\"top\">Aabriella</th>\n",
       "      <th>2008</th>\n",
       "      <td>5</td>\n",
       "    </tr>\n",
       "    <tr>\n",
       "      <th>2014</th>\n",
       "      <td>5</td>\n",
       "    </tr>\n",
       "  </tbody>\n",
       "</table>\n",
       "</div>"
      ],
      "text/plain": [
       "                    number\n",
       "sex name      year        \n",
       "F   Aabha     2011       7\n",
       "              2012       5\n",
       "              2014       9\n",
       "    Aabriella 2008       5\n",
       "              2014       5"
      ]
     },
     "execution_count": 31,
     "metadata": {},
     "output_type": "execute_result"
    }
   ],
   "source": [
    "allyears_indexed.head()"
   ]
  },
  {
   "cell_type": "code",
   "execution_count": 78,
   "metadata": {},
   "outputs": [],
   "source": [
    "totals_F = pd.DataFrame(totals.loc['F'])\n",
    "totals_M = pd.DataFrame(totals.loc['M'])\n",
    "\n",
    "totals_F.rename(columns={'number':'F_number'}, inplace=True)\n",
    "totals_M.rename(columns={'number':'M_number'}, inplace=True)"
   ]
  },
  {
   "cell_type": "markdown",
   "metadata": {},
   "source": [
    "totals_F and totals_M are dataframes with number of times each name used."
   ]
  },
  {
   "cell_type": "markdown",
   "metadata": {},
   "source": [
    "### Task 2: Identify the unisex names where the ratio is between 1-4 and 4-1 "
   ]
  },
  {
   "cell_type": "code",
   "execution_count": 82,
   "metadata": {},
   "outputs": [
    {
     "data": {
      "text/html": [
       "<div>\n",
       "<style scoped>\n",
       "    .dataframe tbody tr th:only-of-type {\n",
       "        vertical-align: middle;\n",
       "    }\n",
       "\n",
       "    .dataframe tbody tr th {\n",
       "        vertical-align: top;\n",
       "    }\n",
       "\n",
       "    .dataframe thead th {\n",
       "        text-align: right;\n",
       "    }\n",
       "</style>\n",
       "<table border=\"1\" class=\"dataframe\">\n",
       "  <thead>\n",
       "    <tr style=\"text-align: right;\">\n",
       "      <th></th>\n",
       "      <th>F_number</th>\n",
       "      <th>M_number</th>\n",
       "    </tr>\n",
       "    <tr>\n",
       "      <th>name</th>\n",
       "      <th></th>\n",
       "      <th></th>\n",
       "    </tr>\n",
       "  </thead>\n",
       "  <tbody>\n",
       "    <tr>\n",
       "      <th>Aaden</th>\n",
       "      <td>5</td>\n",
       "      <td>3915.0</td>\n",
       "    </tr>\n",
       "    <tr>\n",
       "      <th>Aadi</th>\n",
       "      <td>16</td>\n",
       "      <td>667.0</td>\n",
       "    </tr>\n",
       "    <tr>\n",
       "      <th>Aadyn</th>\n",
       "      <td>16</td>\n",
       "      <td>387.0</td>\n",
       "    </tr>\n",
       "    <tr>\n",
       "      <th>Aalijah</th>\n",
       "      <td>107</td>\n",
       "      <td>155.0</td>\n",
       "    </tr>\n",
       "    <tr>\n",
       "      <th>Aaliyah</th>\n",
       "      <td>69833</td>\n",
       "      <td>84.0</td>\n",
       "    </tr>\n",
       "  </tbody>\n",
       "</table>\n",
       "</div>"
      ],
      "text/plain": [
       "         F_number  M_number\n",
       "name                       \n",
       "Aaden           5    3915.0\n",
       "Aadi           16     667.0\n",
       "Aadyn          16     387.0\n",
       "Aalijah       107     155.0\n",
       "Aaliyah     69833      84.0"
      ]
     },
     "execution_count": 82,
     "metadata": {},
     "output_type": "execute_result"
    }
   ],
   "source": [
    "uni_name_all = totals_F.join(totals_M)\n",
    "\n",
    "uni_name_all.dropna(inplace=True)\n",
    "uni_name_all.head()"
   ]
  },
  {
   "cell_type": "code",
   "execution_count": 89,
   "metadata": {},
   "outputs": [
    {
     "name": "stderr",
     "output_type": "stream",
     "text": [
      "C:\\Program Files (x86)\\Microsoft Visual Studio\\Shared\\Anaconda3_64\\lib\\site-packages\\ipykernel_launcher.py:5: SettingWithCopyWarning: \n",
      "A value is trying to be set on a copy of a slice from a DataFrame.\n",
      "Try using .loc[row_indexer,col_indexer] = value instead\n",
      "\n",
      "See the caveats in the documentation: http://pandas.pydata.org/pandas-docs/stable/indexing.html#indexing-view-versus-copy\n",
      "  \"\"\"\n"
     ]
    },
    {
     "data": {
      "text/html": [
       "<div>\n",
       "<style scoped>\n",
       "    .dataframe tbody tr th:only-of-type {\n",
       "        vertical-align: middle;\n",
       "    }\n",
       "\n",
       "    .dataframe tbody tr th {\n",
       "        vertical-align: top;\n",
       "    }\n",
       "\n",
       "    .dataframe thead th {\n",
       "        text-align: right;\n",
       "    }\n",
       "</style>\n",
       "<table border=\"1\" class=\"dataframe\">\n",
       "  <thead>\n",
       "    <tr style=\"text-align: right;\">\n",
       "      <th></th>\n",
       "      <th>F_number</th>\n",
       "      <th>M_number</th>\n",
       "      <th>ratio</th>\n",
       "    </tr>\n",
       "    <tr>\n",
       "      <th>name</th>\n",
       "      <th></th>\n",
       "      <th></th>\n",
       "      <th></th>\n",
       "    </tr>\n",
       "  </thead>\n",
       "  <tbody>\n",
       "    <tr>\n",
       "      <th>Aalijah</th>\n",
       "      <td>107</td>\n",
       "      <td>155.0</td>\n",
       "      <td>0.690323</td>\n",
       "    </tr>\n",
       "    <tr>\n",
       "      <th>Aamari</th>\n",
       "      <td>67</td>\n",
       "      <td>88.0</td>\n",
       "      <td>0.761364</td>\n",
       "    </tr>\n",
       "    <tr>\n",
       "      <th>Aaren</th>\n",
       "      <td>282</td>\n",
       "      <td>717.0</td>\n",
       "      <td>0.393305</td>\n",
       "    </tr>\n",
       "    <tr>\n",
       "      <th>Aareon</th>\n",
       "      <td>10</td>\n",
       "      <td>33.0</td>\n",
       "      <td>0.303030</td>\n",
       "    </tr>\n",
       "    <tr>\n",
       "      <th>Aarian</th>\n",
       "      <td>40</td>\n",
       "      <td>76.0</td>\n",
       "      <td>0.526316</td>\n",
       "    </tr>\n",
       "  </tbody>\n",
       "</table>\n",
       "</div>"
      ],
      "text/plain": [
       "         F_number  M_number     ratio\n",
       "name                                 \n",
       "Aalijah       107     155.0  0.690323\n",
       "Aamari         67      88.0  0.761364\n",
       "Aaren         282     717.0  0.393305\n",
       "Aareon         10      33.0  0.303030\n",
       "Aarian         40      76.0  0.526316"
      ]
     },
     "execution_count": 89,
     "metadata": {},
     "output_type": "execute_result"
    }
   ],
   "source": [
    "#Define ratio for later selection\n",
    "ratio = uni_name_all['F_number'] / uni_name_all['M_number']\n",
    "\n",
    "#Create selected dataframe\n",
    "uni_name_select = uni_name_all[(ratio>0.25) & (ratio<4)]\n",
    "\n",
    "#Add the column \"ratio' into the dataframe\n",
    "uni_name_select['ratio'] = ratio\n",
    "\n",
    "uni_name_select.head()"
   ]
  },
  {
   "cell_type": "markdown",
   "metadata": {},
   "source": [
    "### Task 3: Plot popularity vs. year for the top 10 unisex names"
   ]
  },
  {
   "cell_type": "markdown",
   "metadata": {},
   "source": [
    "Count total popularity and select top 10"
   ]
  },
  {
   "cell_type": "code",
   "execution_count": 96,
   "metadata": {},
   "outputs": [
    {
     "name": "stderr",
     "output_type": "stream",
     "text": [
      "C:\\Program Files (x86)\\Microsoft Visual Studio\\Shared\\Anaconda3_64\\lib\\site-packages\\ipykernel_launcher.py:1: SettingWithCopyWarning: \n",
      "A value is trying to be set on a copy of a slice from a DataFrame.\n",
      "Try using .loc[row_indexer,col_indexer] = value instead\n",
      "\n",
      "See the caveats in the documentation: http://pandas.pydata.org/pandas-docs/stable/indexing.html#indexing-view-versus-copy\n",
      "  \"\"\"Entry point for launching an IPython kernel.\n"
     ]
    },
    {
     "data": {
      "text/html": [
       "<div>\n",
       "<style scoped>\n",
       "    .dataframe tbody tr th:only-of-type {\n",
       "        vertical-align: middle;\n",
       "    }\n",
       "\n",
       "    .dataframe tbody tr th {\n",
       "        vertical-align: top;\n",
       "    }\n",
       "\n",
       "    .dataframe thead th {\n",
       "        text-align: right;\n",
       "    }\n",
       "</style>\n",
       "<table border=\"1\" class=\"dataframe\">\n",
       "  <thead>\n",
       "    <tr style=\"text-align: right;\">\n",
       "      <th></th>\n",
       "      <th>F_number</th>\n",
       "      <th>M_number</th>\n",
       "      <th>ratio</th>\n",
       "      <th>Total_number</th>\n",
       "    </tr>\n",
       "    <tr>\n",
       "      <th>name</th>\n",
       "      <th></th>\n",
       "      <th></th>\n",
       "      <th></th>\n",
       "      <th></th>\n",
       "    </tr>\n",
       "  </thead>\n",
       "  <tbody>\n",
       "    <tr>\n",
       "      <th>Willie</th>\n",
       "      <td>146129</td>\n",
       "      <td>447759.0</td>\n",
       "      <td>0.326356</td>\n",
       "      <td>593888.0</td>\n",
       "    </tr>\n",
       "    <tr>\n",
       "      <th>Jordan</th>\n",
       "      <td>126910</td>\n",
       "      <td>352524.0</td>\n",
       "      <td>0.360004</td>\n",
       "      <td>479434.0</td>\n",
       "    </tr>\n",
       "    <tr>\n",
       "      <th>Taylor</th>\n",
       "      <td>308130</td>\n",
       "      <td>107966.0</td>\n",
       "      <td>2.853954</td>\n",
       "      <td>416096.0</td>\n",
       "    </tr>\n",
       "    <tr>\n",
       "      <th>Leslie</th>\n",
       "      <td>264054</td>\n",
       "      <td>112533.0</td>\n",
       "      <td>2.346458</td>\n",
       "      <td>376587.0</td>\n",
       "    </tr>\n",
       "    <tr>\n",
       "      <th>Jamie</th>\n",
       "      <td>265838</td>\n",
       "      <td>84424.0</td>\n",
       "      <td>3.148844</td>\n",
       "      <td>350262.0</td>\n",
       "    </tr>\n",
       "    <tr>\n",
       "      <th>Angel</th>\n",
       "      <td>91734</td>\n",
       "      <td>209691.0</td>\n",
       "      <td>0.437472</td>\n",
       "      <td>301425.0</td>\n",
       "    </tr>\n",
       "    <tr>\n",
       "      <th>Lee</th>\n",
       "      <td>62037</td>\n",
       "      <td>229654.0</td>\n",
       "      <td>0.270132</td>\n",
       "      <td>291691.0</td>\n",
       "    </tr>\n",
       "    <tr>\n",
       "      <th>Jessie</th>\n",
       "      <td>165614</td>\n",
       "      <td>109317.0</td>\n",
       "      <td>1.514989</td>\n",
       "      <td>274931.0</td>\n",
       "    </tr>\n",
       "    <tr>\n",
       "      <th>Marion</th>\n",
       "      <td>187796</td>\n",
       "      <td>71753.0</td>\n",
       "      <td>2.617256</td>\n",
       "      <td>259549.0</td>\n",
       "    </tr>\n",
       "    <tr>\n",
       "      <th>Dana</th>\n",
       "      <td>190553</td>\n",
       "      <td>52964.0</td>\n",
       "      <td>3.597783</td>\n",
       "      <td>243517.0</td>\n",
       "    </tr>\n",
       "  </tbody>\n",
       "</table>\n",
       "</div>"
      ],
      "text/plain": [
       "        F_number  M_number     ratio  Total_number\n",
       "name                                              \n",
       "Willie    146129  447759.0  0.326356      593888.0\n",
       "Jordan    126910  352524.0  0.360004      479434.0\n",
       "Taylor    308130  107966.0  2.853954      416096.0\n",
       "Leslie    264054  112533.0  2.346458      376587.0\n",
       "Jamie     265838   84424.0  3.148844      350262.0\n",
       "Angel      91734  209691.0  0.437472      301425.0\n",
       "Lee        62037  229654.0  0.270132      291691.0\n",
       "Jessie    165614  109317.0  1.514989      274931.0\n",
       "Marion    187796   71753.0  2.617256      259549.0\n",
       "Dana      190553   52964.0  3.597783      243517.0"
      ]
     },
     "execution_count": 96,
     "metadata": {},
     "output_type": "execute_result"
    }
   ],
   "source": [
    "uni_name_select['Total_number'] = uni_name_select['F_number'] + uni_name_select['M_number']\n",
    "uni_name_select.sort_values(['Total_number'], ascending=False).head(10)"
   ]
  },
  {
   "cell_type": "markdown",
   "metadata": {},
   "source": [
    "Define a list of top 10 names, then plot popularity vs. year"
   ]
  },
  {
   "cell_type": "code",
   "execution_count": 98,
   "metadata": {},
   "outputs": [
    {
     "data": {
      "text/plain": [
       "Index(['Willie', 'Jordan', 'Taylor', 'Leslie', 'Jamie', 'Angel', 'Lee',\n",
       "       'Jessie', 'Marion', 'Dana'],\n",
       "      dtype='object', name='name')"
      ]
     },
     "execution_count": 98,
     "metadata": {},
     "output_type": "execute_result"
    }
   ],
   "source": [
    "top10_unisex = uni_name_select.sort_values(['Total_number'], ascending=False).head(10).index\n",
    "\n",
    "top10_unisex"
   ]
  },
  {
   "cell_type": "code",
   "execution_count": 100,
   "metadata": {},
   "outputs": [
    {
     "data": {
      "text/plain": [
       "<matplotlib.legend.Legend at 0x142e24e0b38>"
      ]
     },
     "execution_count": 100,
     "metadata": {},
     "output_type": "execute_result"
    },
    {
     "data": {
      "image/png": "[encoded data removed]",
      "text/plain": [
       "<matplotlib.figure.Figure at 0x142da614470>"
      ]
     },
     "metadata": {},
     "output_type": "display_data"
    }
   ],
   "source": [
    "pp.figure(figsize=(12,4))\n",
    "\n",
    "for name in top10_unisex:\n",
    "    plotname('M',name)\n",
    "    \n",
    "pp.legend(top10_unisex)"
   ]
  },
  {
   "cell_type": "code",
   "execution_count": null,
   "metadata": {},
   "outputs": [],
   "source": []
  }
 ],
 "metadata": {
  "kernelspec": {
   "display_name": "Python 3",
   "language": "python",
   "name": "python3"
  },
  "language_info": {
   "codemirror_mode": {
    "name": "ipython",
    "version": 3
   },
   "file_extension": ".py",
   "mimetype": "text/x-python",
   "name": "python",
   "nbconvert_exporter": "python",
   "pygments_lexer": "ipython3",
   "version": "3.6.4"
  }
 },
 "nbformat": 4,
 "nbformat_minor": 2
}
