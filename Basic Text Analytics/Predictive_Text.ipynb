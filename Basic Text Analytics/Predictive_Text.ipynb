{
 "cells": [
  {
   "cell_type": "markdown",
   "metadata": {},
   "source": [
    "## 1. Prepare data and preprocess"
   ]
  },
  {
   "cell_type": "code",
   "execution_count": 15,
   "metadata": {},
   "outputs": [
    {
     "name": "stdout",
     "output_type": "stream",
     "text": [
      "Number of tokens: 564\n",
      "\n",
      "Some sample tokens: ['in', 'this', 'practical', 'course', 'learn']\n"
     ]
    }
   ],
   "source": [
    "import nltk\n",
    "\n",
    "with open('data/Course-Descriptions.txt', 'r') as f:\n",
    "    raw = f.read()\n",
    "    \n",
    "token_list = nltk.word_tokenize(raw)\n",
    "\n",
    "# Define a function to: 1. remove punctuation 2. replace special character 3. convert to lower case\n",
    "def process_token(tokens):\n",
    "    tokens = list(token.replace(\"'\", \"\") for token in tokens)\n",
    "    tokens = list(token.lower() for token in tokens)\n",
    "    for token in tokens:\n",
    "        if not token.isalpha():\n",
    "            tokens.remove(token)\n",
    "    \n",
    "    return tokens\n",
    "\n",
    "token_list_final = process_token(token_list)\n",
    "\n",
    "print(\"Number of tokens:\", len(token_list_final))\n",
    "print(\"\\nSome sample tokens:\", token_list_final[:5])"
   ]
  },
  {
   "cell_type": "markdown",
   "metadata": {},
   "source": [
    "## 2. Build n-grams database"
   ]
  },
  {
   "cell_type": "code",
   "execution_count": 17,
   "metadata": {},
   "outputs": [
    {
     "name": "stdout",
     "output_type": "stream",
     "text": [
      "FIRST= in SECOND= this COUNT= 2\n",
      "FIRST= this SECOND= practical COUNT= 1\n",
      "FIRST= practical SECOND= course COUNT= 1\n",
      "FIRST= course SECOND= learn COUNT= 1\n",
      "FIRST= learn SECOND= how COUNT= 2\n"
     ]
    }
   ],
   "source": [
    "from nltk.util import ngrams\n",
    "\n",
    "#Use a sqlite database to store ngrams information\n",
    "import sqlite3\n",
    "conn = sqlite3.connect(\":memory:\")\n",
    "\n",
    "#table to store first word, second word and count of occurance\n",
    "conn.execute('''DROP TABLE IF EXISTS NGRAMS''')\n",
    "conn.execute('''CREATE TABLE NGRAMS \n",
    "         (FIRST   TEXT  NOT NULL,\n",
    "          SECOND  TEXT  NOT NULL,\n",
    "          COUNTS  INT   NOT NULL,\n",
    "         CONSTRAINT PK_GRAMS PRIMARY KEY (FIRST,SECOND));''')\n",
    "\n",
    "#Generate bigrams\n",
    "bigrams = ngrams(token_list_final,2)\n",
    "\n",
    "#Store bigrams in DB\n",
    "for i in bigrams:\n",
    "    insert_str=\"INSERT INTO NGRAMS (FIRST,SECOND,COUNTS) \\\n",
    "          VALUES ('\" + i[0] + \"','\" + i[1] + \"',1 ) \\\n",
    "          ON CONFLICT(FIRST,SECOND) DO UPDATE SET COUNTS=COUNTS + 1\"   \n",
    "    conn.execute(insert_str);\n",
    "\n",
    "#Look at sample data from the table\n",
    "cursor = conn.execute(\"SELECT FIRST, SECOND, COUNTS from NGRAMS LIMIT 5\")\n",
    "for gram_row in cursor:\n",
    "    print(\"FIRST=\", gram_row[0], \"SECOND=\",gram_row[1],\"COUNT=\",gram_row[2])"
   ]
  },
  {
   "cell_type": "markdown",
   "metadata": {},
   "source": [
    "## 3. Recommend the next word"
   ]
  },
  {
   "cell_type": "code",
   "execution_count": 18,
   "metadata": {},
   "outputs": [
    {
     "name": "stdout",
     "output_type": "stream",
     "text": [
      "Next word for data  ['science', 'analysis', 'data', 'from', 'in', 'mining', 'munging', 'node.js', 'preparation', 'scientists', 'visualization', 'you']\n",
      "\n",
      "Next word for science  ['begins', 'requires', 'specialists', 'teams']\n"
     ]
    }
   ],
   "source": [
    "#Function to query DB and find next word\n",
    "def recommend(str):\n",
    "    nextwords = []\n",
    "    #Find next words, sort them by most occurance\n",
    "    cur_filter = conn.execute(\"SELECT SECOND from NGRAMS \\\n",
    "                              WHERE FIRST='\" + str + \"' \\\n",
    "                              ORDER BY COUNTS DESC\")\n",
    "    \n",
    "    #Build a list ordered from most frequent to least frequent next word\n",
    "    for filt_row in cur_filter:\n",
    "        nextwords.append(filt_row[0])\n",
    "    return nextwords\n",
    "\n",
    "#Recommend for words data and science\n",
    "print(\"Next word for data \", recommend(\"data\"))\n",
    "print(\"\\nNext word for science \", recommend(\"science\"))"
   ]
  }
 ],
 "metadata": {
  "kernelspec": {
   "display_name": "Python 3",
   "language": "python",
   "name": "python3"
  },
  "language_info": {
   "codemirror_mode": {
    "name": "ipython",
    "version": 3
   },
   "file_extension": ".py",
   "mimetype": "text/x-python",
   "name": "python",
   "nbconvert_exporter": "python",
   "pygments_lexer": "ipython3",
   "version": "3.7.6"
  }
 },
 "nbformat": 4,
 "nbformat_minor": 4
}
