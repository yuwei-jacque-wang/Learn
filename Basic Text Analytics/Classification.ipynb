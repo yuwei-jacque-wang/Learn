{
 "cells": [
  {
   "cell_type": "markdown",
   "metadata": {},
   "source": [
    "## 1. Prepare text"
   ]
  },
  {
   "cell_type": "code",
   "execution_count": 3,
   "metadata": {},
   "outputs": [
    {
     "name": "stdout",
     "output_type": "stream",
     "text": [
      "Sample text: ['In this practical, hands-on course, learn how to do data preparation, data munging, data visualization, and predictive analytics. ', 'PHP is the most popular server-side language used to build dynamic websites, and though it is not especially difficult to use, nonprogrammers often find it intimidating. ']\n"
     ]
    }
   ],
   "source": [
    "with open('data/Course-Descriptions.txt', 'r') as f:\n",
    "    descriptions = f.read().splitlines()\n",
    "    \n",
    "print('Sample text:', descriptions[:2])"
   ]
  },
  {
   "cell_type": "markdown",
   "metadata": {},
   "source": [
    "Use NLTK to preprocess data: remove stopwords, performe lemmatization. Then use TF-IDF vectorizer to transform"
   ]
  },
  {
   "cell_type": "code",
   "execution_count": 18,
   "metadata": {},
   "outputs": [
    {
     "name": "stderr",
     "output_type": "stream",
     "text": [
      "[nltk_data] Downloading package stopwords to\n",
      "[nltk_data]     /Users/yuweiwang/nltk_data...\n",
      "[nltk_data]   Package stopwords is already up-to-date!\n",
      "[nltk_data] Downloading package wordnet to\n",
      "[nltk_data]     /Users/yuweiwang/nltk_data...\n",
      "[nltk_data]   Package wordnet is already up-to-date!\n"
     ]
    },
    {
     "name": "stdout",
     "output_type": "stream",
     "text": [
      "Sample features: [\"'ll\", \"'re\", \"'s\", '(', ')', ',', '.', '?', 'actively', 'adopting']\n",
      "Matrix dimension: (20, 238)\n"
     ]
    }
   ],
   "source": [
    "import nltk\n",
    "nltk.download('stopwords')\n",
    "from nltk.corpus import stopwords\n",
    "\n",
    "nltk.download('wordnet')\n",
    "from nltk.stem import WordNetLemmatizer\n",
    "\n",
    "from sklearn.feature_extraction.text import TfidfVectorizer\n",
    "\n",
    "# Custom tokenizer to remove stopwords and conduct lemmatization\n",
    "def custom_tokenizer(str):\n",
    "    tokens = nltk.word_tokenize(str)\n",
    "    stop_removed = list(set(tokens) - set(stopwords.words('english')))\n",
    "    lemmatizer = WordNetLemmatizer()\n",
    "    lemmatized = list(lemmatizer.lemmatize(word) for word in stop_removed)\n",
    "    return lemmatized\n",
    "\n",
    "vectorizer = TfidfVectorizer(tokenizer=custom_tokenizer)\n",
    "tfidf_matrix = vectorizer.fit_transform(descriptions)\n",
    "\n",
    "print('Sample features:', vectorizer.get_feature_names()[:10])\n",
    "print('Matrix dimension:', tfidf_matrix.shape)"
   ]
  },
  {
   "cell_type": "markdown",
   "metadata": {},
   "source": [
    "## 2. Build classification model"
   ]
  },
  {
   "cell_type": "markdown",
   "metadata": {},
   "source": [
    "First, read file of labels and encode labels into number categories"
   ]
  },
  {
   "cell_type": "code",
   "execution_count": 19,
   "metadata": {},
   "outputs": [
    {
     "name": "stdout",
     "output_type": "stream",
     "text": [
      "Classes found: ['Cloud-Computing' 'Data-Science' 'Programming']\n",
      "\n",
      "Interger classes: [1 2 2 0 1 2 1 2 0 1 1 2 2 0 2 0 0 0 2 2]\n"
     ]
    }
   ],
   "source": [
    "from sklearn import preprocessing\n",
    "\n",
    "with open('data/Course-Classification.txt', 'r') as f:\n",
    "    labels = f.read().splitlines()\n",
    "    \n",
    "encoder = preprocessing.LabelEncoder()\n",
    "encoder.fit(labels)\n",
    "print('Classes found:', encoder.classes_)\n",
    "int_classes = encoder.transform(labels)\n",
    "print('\\nInterger classes:', int_classes)"
   ]
  },
  {
   "cell_type": "markdown",
   "metadata": {},
   "source": [
    "Then fit into Naive Bayes classification model with 3 classes"
   ]
  },
  {
   "cell_type": "code",
   "execution_count": 21,
   "metadata": {},
   "outputs": [],
   "source": [
    "from sklearn.model_selection import train_test_split\n",
    "from sklearn.naive_bayes import MultinomialNB\n",
    "\n",
    "#Split as training and testing sets\n",
    "X_train, X_test, y_train, y_test = train_test_split(tfidf_matrix, int_classes,random_state=0)\n",
    "\n",
    "#Build the model\n",
    "clf= MultinomialNB().fit(X_train, y_train)"
   ]
  },
  {
   "cell_type": "markdown",
   "metadata": {},
   "source": [
    "## 3. Run predictions"
   ]
  },
  {
   "cell_type": "code",
   "execution_count": 23,
   "metadata": {},
   "outputs": [
    {
     "name": "stdout",
     "output_type": "stream",
     "text": [
      "Testing with Test data: \n",
      "Confusion matrix:\n",
      "[[0 0 1]\n",
      " [0 0 1]\n",
      " [1 0 2]]\n",
      "Accuracy score: 0.4\n",
      "\n",
      "Testing with Full dataset: \n",
      "Confusion matrix:\n",
      "[[5 0 1]\n",
      " [0 4 1]\n",
      " [1 0 8]]\n",
      "Accuracy score: 0.85\n"
     ]
    }
   ],
   "source": [
    "from sklearn import metrics\n",
    "\n",
    "pred = clf.predict(X_test)\n",
    "\n",
    "print('Testing with Test data: ')\n",
    "print('Confusion matrix:')\n",
    "print(metrics.confusion_matrix(y_test, pred))\n",
    "print('Accuracy score:', metrics.accuracy_score(y_test, pred))\n",
    "\n",
    "pred_full = clf.predict(tfidf_matrix)\n",
    "print('\\nTesting with Full dataset: ')\n",
    "print('Confusion matrix:')\n",
    "print(metrics.confusion_matrix(int_classes, pred_full))\n",
    "print('Accuracy score:', metrics.accuracy_score(int_classes, pred_full))"
   ]
  }
 ],
 "metadata": {
  "kernelspec": {
   "display_name": "Python 3",
   "language": "python",
   "name": "python3"
  },
  "language_info": {
   "codemirror_mode": {
    "name": "ipython",
    "version": 3
   },
   "file_extension": ".py",
   "mimetype": "text/x-python",
   "name": "python",
   "nbconvert_exporter": "python",
   "pygments_lexer": "ipython3",
   "version": "3.7.6"
  }
 },
 "nbformat": 4,
 "nbformat_minor": 4
}
