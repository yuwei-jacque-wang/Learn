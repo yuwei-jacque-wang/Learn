{
  "nbformat": 4,
  "nbformat_minor": 0,
  "metadata": {
    "colab": {
      "name": "03-ngram_lms.ipynb",
      "provenance": [],
      "collapsed_sections": []
    },
    "kernelspec": {
      "display_name": "Python 3",
      "language": "python",
      "name": "python3"
    },
    "language_info": {
      "codemirror_mode": {
        "name": "ipython",
        "version": 3
      },
      "file_extension": ".py",
      "mimetype": "text/x-python",
      "name": "python",
      "nbconvert_exporter": "python",
      "pygments_lexer": "ipython3",
      "version": "3.7.6"
    }
  },
  "cells": [
    {
      "cell_type": "markdown",
      "metadata": {
        "id": "Txr08HTBTBcc"
      },
      "source": [
        "# Fall 2020: DS-GA 1011 NLP with Representation Learning\n",
        "## Lab 3: 18-Sep-2020, Friday\n",
        "## N-Gram Language Models"
      ]
    },
    {
      "cell_type": "code",
      "metadata": {
        "id": "4W7Va58r_su2",
        "colab": {
          "base_uri": "https://localhost:8080/"
        },
        "outputId": "318a4dc9-8dda-49c5-9610-a405e2db5300"
      },
      "source": [
        "# !conda install -c conda-forge jsonlines #OR\n",
        "!pip install jsonlines"
      ],
      "execution_count": 1,
      "outputs": [
        {
          "output_type": "stream",
          "text": [
            "Collecting jsonlines\n",
            "  Downloading jsonlines-2.0.0-py3-none-any.whl (6.3 kB)\n",
            "Installing collected packages: jsonlines\n",
            "Successfully installed jsonlines-2.0.0\n"
          ],
          "name": "stdout"
        }
      ]
    },
    {
      "cell_type": "code",
      "metadata": {
        "id": "yNviidVu_su6"
      },
      "source": [
        "# Import required packages\n",
        "import numpy as np\n",
        "import pandas as pd\n",
        "from tqdm import tqdm\n",
        "\n",
        "from collections import defaultdict\n",
        "from pprint import pprint\n",
        "import jsonlines\n",
        "import matplotlib.pyplot as plt\n",
        "from itertools import product\n",
        "\n",
        "# Set random seed\n",
        "np.random.seed(1011)"
      ],
      "execution_count": 2,
      "outputs": []
    },
    {
      "cell_type": "markdown",
      "metadata": {
        "id": "psRISlQv_su-"
      },
      "source": [
        "cf.\n",
        "> `pprint` Prints (“pretty-print”) the formatted representation of object followed by a newline.\n",
        "\n",
        "> [`defaultdict`](https://docs.python.org/3.7/library/collections.html#collections.defaultdict) a subclass of the built-in `dict` class that makes it simpler and faster to create dictionary of iterables\n",
        "\n",
        "> [`jsonlines`](https://pypi.org/project/jsonlines/) library to simplify working with JSON Lines text (newline-delimited JSON) format\n",
        "\n",
        "> [`matplotlib`](https://matplotlib.org/3.3.1/index.html) visualization library for Python. `pyplot` provides simple interface for generating interactive plot programmaticaly\n",
        "\n",
        "> [`itertools`](https://docs.python.org/3.7/library/itertools.html) module for implementing objects representing stream of data ($\\texttt{iterator}$). `product` results in a cartesian product of input iterables."
      ]
    },
    {
      "cell_type": "markdown",
      "metadata": {
        "id": "o9OTmBK8_su_"
      },
      "source": [
        "---\n",
        "### N-gram Language Modeling\n",
        "\n",
        "Recall that we want to model the probability of variable length sequences, $$p(w_1,\\ldots,w_T)=\\prod_{t=1}^T p(w_t|w_{<t}).$$\n",
        "\n",
        "An **n-gram language model** assumes that each word $w_t$ only depends on the preceding $n-1$ words, $$p(w_1,\\ldots,w_T)=\\prod_{t=1}^T p(w_t|w_{t-n+1},\\ldots,w_{t-1}).$$\n",
        "\n",
        "We will abbreviate the preceding $n-1$ words as $w_{t-n+1}^{t-1}$. \n",
        "\n",
        "#### Example\n",
        "For instance, when modeling the sentence $$\\texttt{the cat sat on the mat .}$$ a 3-gram language model assumes that $$p(\\texttt{mat}|\\texttt{the cat sat on the}) \\approx p(\\texttt{mat}|\\texttt{on the}).$$\n",
        "\n",
        "The sub-sequence $(\\texttt{on the mat})$ is a *3-gram* or *trigram*.\n",
        "\n",
        "#### Estimation\n",
        "\n",
        "Given some dataset $D$ of sequences, we can estimate an n-gram model through counting, derived as follows:\n",
        "\n",
        "\\begin{align}\n",
        "p(w_t|w_{t-n+1},\\ldots,w_{t-1}) &= \\frac{p(w_{t-n+1},\\ldots,w_t)}{p(w_{t-n+1},\\ldots,w_{t-1})} & \\text{definition of conditional probability}\\\\\n",
        "                       &= \\frac{p(w_{t-n+1},\\ldots,w_t)}{\\sum_{w_{t'}}p(w_{t-n+1},\\ldots,w_{t-1},w_{t'})}\\\\\n",
        "                       &\\approx \\frac{\\frac{1}{N}\\text{count}(w_{t-n+1},\\ldots,w_t)}{\\frac{1}{N}\\sum_{w_{t'}}\\text{count}(w_{t-n+1},\\ldots,w_{t-1},w_{t'})}\\\\\n",
        "                       &= \\frac{\\text{count}(w_{t-n+1},\\ldots,w_t)}{\\sum_{w_{t'}}\\text{count}(w_{t-n+1},\\ldots,w_{t-1},w_{t'})}\\\\\n",
        "                       &= \\frac{\\text{count}(w_{t-n+1},\\ldots,w_t)}{\\text{count}(w_{t-n+1},\\ldots,w_{t-1})},\n",
        "\\end{align}\n",
        "\n",
        "where $N$ is the number of $n$-grams in the dataset.\n",
        "\n",
        "In Python, we can collect these counts into a dictionary mapping a prefix to a dictionary of counts:\n",
        "\n",
        "        count[(w_n+1,...,w_t-1)] = {wt1: count of (w_n+1,...,w_t1),\n",
        "                                    wt2: count of (w_n+1,...,w_t2),\n",
        "                                    ...\n",
        "                                   }\n",
        "                                   \n",
        "and for the denominator, maintain a dictionary of totals:\n",
        "\n",
        "        total[(w_n+1,...,w_t-1)] = count of w_n+1,...,w_t-1"
      ]
    },
    {
      "cell_type": "markdown",
      "metadata": {
        "id": "RkEt32Vt_su_"
      },
      "source": [
        "---\n",
        "### Simplified Language\n",
        "\n",
        "To get intuition, lets start by modeling a simple language called `ABC`. A word in this language is one of three tokens, $$w\\in \\{\\texttt{A, B, C}\\},$$\n",
        "and we'll denote a sentence as $\\textbf{s}=(w_1,\\ldots,w_{|\\textbf{w}|})$.\n",
        "\n",
        "\n",
        "Suppose we are given the following dataset, and want to estimate a **bigram model**: $$p(\\textbf{s})\\approx\\prod_{t=1}^{|\\textbf{w}|}p(w_t|w_{t-1})$$"
      ]
    },
    {
      "cell_type": "code",
      "metadata": {
        "id": "c0uuEu4s_svA"
      },
      "source": [
        "data_raw = [['A', 'A', 'B', 'B'],\n",
        "            ['A', 'A', 'B'],\n",
        "            ['A', 'A', 'B', 'C'],\n",
        "            ['A', 'A', 'A'],\n",
        "            ['A', 'A', 'A', 'A']]"
      ],
      "execution_count": 3,
      "outputs": []
    },
    {
      "cell_type": "markdown",
      "metadata": {
        "id": "G4UIhb4b_svD"
      },
      "source": [
        "To make the model meaningful for $t = 1$ we pad the sentences with an additional **beginning token**, `<bos>`. \n",
        "\n",
        "Since our model is a probability distribution, the total probability of all possible strings in the language must sum to 1, i.e.: $$\\sum_{\\textbf{s}}p(\\textbf{s})=1.$$\n",
        "\n",
        "In order to satisfy this criterion we need an additional **end token**, `<eos>`."
      ]
    },
    {
      "cell_type": "code",
      "metadata": {
        "id": "gUCJzK2c_svD",
        "colab": {
          "base_uri": "https://localhost:8080/"
        },
        "outputId": "9b04044c-5247-415a-b001-9f02b6fd5ab1"
      },
      "source": [
        "data = [['<bos>'] + d + ['<eos>'] for d in data_raw]\n",
        "data"
      ],
      "execution_count": 4,
      "outputs": [
        {
          "output_type": "execute_result",
          "data": {
            "text/plain": [
              "[['<bos>', 'A', 'A', 'B', 'B', '<eos>'],\n",
              " ['<bos>', 'A', 'A', 'B', '<eos>'],\n",
              " ['<bos>', 'A', 'A', 'B', 'C', '<eos>'],\n",
              " ['<bos>', 'A', 'A', 'A', '<eos>'],\n",
              " ['<bos>', 'A', 'A', 'A', 'A', '<eos>']]"
            ]
          },
          "metadata": {
            "tags": []
          },
          "execution_count": 4
        }
      ]
    },
    {
      "cell_type": "markdown",
      "metadata": {
        "id": "UMnOlrYT_svH"
      },
      "source": [
        "Now let's estimate a bigram model:\n",
        "\n",
        "\\begin{align}\n",
        "p(w_t|w_{t-1}) &= \\frac{\\text{count}(w_{t-1}w_{t})}{\\sum_{w_{t'}}\\text{count}(w_{t-1}w_{t'})}\\\\\n",
        "               &= \\texttt{count[prefix][wt] / totals[prefix]}\n",
        "\\end{align} \n",
        "\n",
        "where $\\texttt{prefix}$ is $w_{t-1}$ in this case."
      ]
    },
    {
      "cell_type": "code",
      "metadata": {
        "id": "zv0gjvdH_svI"
      },
      "source": [
        "count = defaultdict(lambda: defaultdict(float))\n",
        "total = defaultdict(float)\n",
        "\n",
        "n = 2\n",
        "for sequence in data:\n",
        "    for i in range(len(sequence)-n+1):         # for each ngram\n",
        "        ngram = tuple(sequence[i:i+n])\n",
        "        prefix, word = ngram[:-1], ngram[-1]\n",
        "        count[prefix][word] += 1               # count(w_{t-n+1}...w_t)\n",
        "        total[prefix] += 1                     # count(w_{t-n+1}...w_{t-1})"
      ],
      "execution_count": 5,
      "outputs": []
    },
    {
      "cell_type": "markdown",
      "metadata": {
        "id": "xDu7Bx9v_svL"
      },
      "source": [
        "cf.\n",
        "> `lambda` lambda expressions (or forms) are used to create anonymous functions. The expression `lambda parameters: expression` yields a function object."
      ]
    },
    {
      "cell_type": "markdown",
      "metadata": {
        "id": "HYYr75QR_svL"
      },
      "source": [
        "Let's see if the counts and totals make sense:\n",
        "\n",
        "- How many times did (A, B) occur? What about (B, B)?\n",
        "- How many times did (A) occur? What about (C)?"
      ]
    },
    {
      "cell_type": "code",
      "metadata": {
        "id": "Dob77m66_svM",
        "colab": {
          "base_uri": "https://localhost:8080/"
        },
        "outputId": "52442118-c2a9-4339-996c-c635ecf461b9"
      },
      "source": [
        "print(\"Counts:\")\n",
        "print(dict(count))\n",
        "print(\"\\nTotals:\")\n",
        "print(dict(total))"
      ],
      "execution_count": 6,
      "outputs": [
        {
          "output_type": "stream",
          "text": [
            "Counts:\n",
            "{('<bos>',): defaultdict(<class 'float'>, {'A': 5.0}), ('A',): defaultdict(<class 'float'>, {'A': 8.0, 'B': 3.0, '<eos>': 2.0}), ('B',): defaultdict(<class 'float'>, {'B': 1.0, '<eos>': 2.0, 'C': 1.0}), ('C',): defaultdict(<class 'float'>, {'<eos>': 1.0})}\n",
            "\n",
            "Totals:\n",
            "{('<bos>',): 5.0, ('A',): 13.0, ('B',): 4.0, ('C',): 1.0}\n"
          ],
          "name": "stdout"
        }
      ]
    },
    {
      "cell_type": "markdown",
      "metadata": {
        "id": "DWRm9lW7_svQ"
      },
      "source": [
        "#### Conditional probability queries\n",
        "\n",
        "We can now query a conditional probability:\n",
        "\n",
        "\\begin{align}\n",
        "\\texttt{p(word|prefix)} &= \\texttt{count[prefix][word] / totals[prefix]}\n",
        "\\end{align}"
      ]
    },
    {
      "cell_type": "code",
      "metadata": {
        "id": "XxV_fNRp_svQ",
        "colab": {
          "base_uri": "https://localhost:8080/"
        },
        "outputId": "9d765207-21ff-4640-99bb-0c2032627518"
      },
      "source": [
        "queries = [('<bos>', 'A'),\n",
        "           ('B', 'C')]\n",
        "\n",
        "for query in queries:\n",
        "    prefix, word = query[:-1], query[-1]\n",
        "    p = count[prefix][word] / total[prefix]  # We'll discuss the case when `total[prefix] = 0` below.\n",
        "    print(\"p( %s | %s) = \\t%.5f\" % (word, ', '.join(prefix), p))"
      ],
      "execution_count": 7,
      "outputs": [
        {
          "output_type": "stream",
          "text": [
            "p( A | <bos>) = \t1.00000\n",
            "p( C | B) = \t0.25000\n"
          ],
          "name": "stdout"
        }
      ]
    },
    {
      "cell_type": "markdown",
      "metadata": {
        "id": "U6Qhxs8R_svT"
      },
      "source": [
        "**Exercise**: Look at the training set and convince yourself that these conditional probabilities are correct according to the count-based estimation procedure."
      ]
    },
    {
      "cell_type": "markdown",
      "metadata": {
        "id": "odu38DgT_svU"
      },
      "source": [
        "#### Sequence Probability\n",
        "\n",
        "We can compute the probability of a sequence using the conditional probabilities along with the chain rule:\n",
        "\n",
        "\\begin{align}\n",
        "p(w_1,\\ldots,w_T)&\\approx\\prod_{t=1}^T p(w_t|w_{t-1})\n",
        "\\end{align}\n",
        "\n",
        "(Here $w_0$ is `<bos>` and $w_T$ is `<eos>`)"
      ]
    },
    {
      "cell_type": "code",
      "metadata": {
        "id": "lGadntXF_svU",
        "colab": {
          "base_uri": "https://localhost:8080/"
        },
        "outputId": "47bcdf44-34ba-4daf-e7b0-0ff107c1a170"
      },
      "source": [
        "sequence = ['<bos>', 'A', 'A', 'B', '<eos>']\n",
        "\n",
        "def sequence_p(sequence, log=False):\n",
        "    total_p = 1\n",
        "\n",
        "    for i in range(len(sequence)-n+1):\n",
        "        ngram = tuple(sequence[i:i+n])\n",
        "        prefix = ngram[:-1]\n",
        "        word = ngram[-1]\n",
        "        p = count[prefix][word] / max(total[prefix], 1)\n",
        "        if log:\n",
        "            print(\"p(%s | %s) =\\t%.3f\" % (word, ', '.join(prefix), p))\n",
        "\n",
        "        total_p *= p\n",
        "    return total_p\n",
        "    \n",
        "\n",
        "print(\"\\nProduct: p(%s) = %.3f\" % (''.join(sequence[1:-1]), sequence_p(sequence, log=True)))"
      ],
      "execution_count": 8,
      "outputs": [
        {
          "output_type": "stream",
          "text": [
            "p(A | <bos>) =\t1.000\n",
            "p(A | A) =\t0.615\n",
            "p(B | A) =\t0.231\n",
            "p(<eos> | B) =\t0.500\n",
            "\n",
            "Product: p(AAB) = 0.071\n"
          ],
          "name": "stdout"
        }
      ]
    },
    {
      "cell_type": "markdown",
      "metadata": {
        "id": "iJ_nr0uH_svX"
      },
      "source": [
        "---\n",
        "### Real Example: Dialogue Utterances\n",
        "\n",
        "Now lets use the same ideas on a more realistic text corpus.\n",
        "\n",
        "We will use utterances from a dialogue dataset called **Persona-Chat**. This dataset is relatively small and centers on a single domain, but it is simple and interpretable for our purposes here."
      ]
    },
    {
      "cell_type": "markdown",
      "metadata": {
        "id": "40OAXKgS_svX"
      },
      "source": [
        "#### Loading the dataset"
      ]
    },
    {
      "cell_type": "code",
      "metadata": {
        "colab": {
          "base_uri": "https://localhost:8080/"
        },
        "id": "2Mq87QkeGo_-",
        "outputId": "7dafbe55-fddd-4d37-cd9e-cb870c245d8b"
      },
      "source": [
        "from google.colab import drive\n",
        "drive.mount('/content/drive')"
      ],
      "execution_count": 17,
      "outputs": [
        {
          "output_type": "stream",
          "text": [
            "Mounted at /content/drive\n"
          ],
          "name": "stdout"
        }
      ]
    },
    {
      "cell_type": "code",
      "metadata": {
        "id": "pRbjY9r_WYi5"
      },
      "source": [
        "path = \"/content/drive/My Drive/NLP Lab/Lab 3/\""
      ],
      "execution_count": 20,
      "outputs": []
    },
    {
      "cell_type": "code",
      "metadata": {
        "id": "ZIeF4g0-_svY",
        "colab": {
          "base_uri": "https://localhost:8080/"
        },
        "outputId": "d7926ca4-4709-4bfc-f0c1-d4644eb08d19"
      },
      "source": [
        "train = []\n",
        "val = []\n",
        "\n",
        "for ds, name in [(train, 'train'), (val, 'valid')]:\n",
        "    for line in jsonlines.Reader(open(path+'data/personachat/personachat_all_sentences_%s.jsonl' % name, 'r')):\n",
        "        ds.append(line['tokens'])\n",
        "        \n",
        "vocab = list(set([t for ts in train for t in ts]))      \n",
        "print(\"Number of train examples: %d\" % (len(train)))\n",
        "print(\"Number of valid examples: %d\" % (len(val)))\n",
        "print(\"Vocab size: %d\" % (len(vocab)))\n",
        "\n",
        "print(\"\\nExamples:\")\n",
        "pprint(train[:3])"
      ],
      "execution_count": 21,
      "outputs": [
        {
          "output_type": "stream",
          "text": [
            "Number of train examples: 133176\n",
            "Number of valid examples: 16181\n",
            "Vocab size: 19153\n",
            "\n",
            "Examples:\n",
            "[['i', 'am', 'doing', 'great', 'except', 'for', 'the', 'allergies', '.'],\n",
            " ['i', 'am', 'a', 'woman', 'what', 'about', 'you', '.'],\n",
            " ['i', 'thought', 'you', 'were', 'a', 'college', 'kid', '.']]\n"
          ],
          "name": "stdout"
        }
      ]
    },
    {
      "cell_type": "markdown",
      "metadata": {
        "id": "VWH4C0jk_svc"
      },
      "source": [
        "#### Estimate a **3-gram** model\n",
        "\n",
        "We will use the same approach as in the `ABC` example, except for a 3-gram model.\n",
        "\n",
        "Notice that we now prepend 2 `<bos>` tokens, so that the first conditional probability is `p(first_word|<bos>, <bos>)`."
      ]
    },
    {
      "cell_type": "code",
      "metadata": {
        "id": "c5ZOaFyP_svc"
      },
      "source": [
        "count = defaultdict(lambda: defaultdict(float))\n",
        "total = defaultdict(float)\n",
        "\n",
        "n = 3\n",
        "\n",
        "for sequence_raw in train:\n",
        "    sequence = ['<bos>']*(n-1) + sequence_raw + ['<eos>']\n",
        "    for i in range(len(sequence)-n+1):\n",
        "        ngram = tuple(sequence[i:i+n])\n",
        "        prefix, word = ngram[:-1], ngram[-1]\n",
        "\n",
        "        count[prefix][word] += 1\n",
        "        total[prefix] += 1"
      ],
      "execution_count": 22,
      "outputs": []
    },
    {
      "cell_type": "markdown",
      "metadata": {
        "id": "iaoQh1Ph_svf"
      },
      "source": [
        "#### Counts\n",
        "\n",
        "Let's check some of the counts for a few trigrams, by querying bigrams and finding the next-words with the highest counts:"
      ]
    },
    {
      "cell_type": "code",
      "metadata": {
        "id": "hgC2CPLk_svf",
        "colab": {
          "base_uri": "https://localhost:8080/"
        },
        "outputId": "35874bf7-2c73-4659-904e-ea317ce0d3a7"
      },
      "source": [
        "bigram = ('i', 'have')\n",
        "limit = 10\n",
        "\n",
        "for w, c in sorted(count[bigram].items(), key=lambda x: -x[1])[:limit]:\n",
        "    print(\"(%s, %s, %s) -> %.1f\" % (bigram[0], bigram[1], w, c))"
      ],
      "execution_count": 23,
      "outputs": [
        {
          "output_type": "stream",
          "text": [
            "(i, have, a) -> 2092.0\n",
            "(i, have, been) -> 740.0\n",
            "(i, have, to) -> 567.0\n",
            "(i, have, never) -> 531.0\n",
            "(i, have, not) -> 484.0\n",
            "(i, have, two) -> 335.0\n",
            "(i, have, no) -> 191.0\n",
            "(i, have, 2) -> 175.0\n",
            "(i, have, 3) -> 163.0\n",
            "(i, have, one) -> 161.0\n"
          ],
          "name": "stdout"
        }
      ]
    },
    {
      "cell_type": "markdown",
      "metadata": {
        "id": "acAC08FX_svi"
      },
      "source": [
        "**Exercise:** How many times does `my pet dog` occur in the training set? What about `my pet lion`?"
      ]
    },
    {
      "cell_type": "code",
      "metadata": {
        "id": "g35lfP-i_svj",
        "colab": {
          "base_uri": "https://localhost:8080/"
        },
        "outputId": "f9128b68-5964-415f-b574-55548859a421"
      },
      "source": [
        "count[('my', 'pet')]"
      ],
      "execution_count": 24,
      "outputs": [
        {
          "output_type": "execute_result",
          "data": {
            "text/plain": [
              "defaultdict(float,\n",
              "            {'.': 6.0,\n",
              "             '?': 1.0,\n",
              "             'and': 2.0,\n",
              "             'bear': 1.0,\n",
              "             'beta': 2.0,\n",
              "             'cat': 3.0,\n",
              "             'dog': 2.0,\n",
              "             'dogs': 2.0,\n",
              "             'dragon': 1.0,\n",
              "             'iguana': 8.0,\n",
              "             'iguanas': 4.0,\n",
              "             'is': 3.0,\n",
              "             'keeps': 1.0,\n",
              "             'koala': 1.0,\n",
              "             'like': 1.0,\n",
              "             'lizard': 8.0,\n",
              "             'on': 1.0,\n",
              "             'panda': 3.0,\n",
              "             'poodle': 1.0,\n",
              "             'skunk': 5.0,\n",
              "             'snake': 7.0,\n",
              "             'turtles': 1.0,\n",
              "             'was': 1.0,\n",
              "             'zebra': 1.0})"
            ]
          },
          "metadata": {
            "tags": []
          },
          "execution_count": 24
        }
      ]
    },
    {
      "cell_type": "code",
      "metadata": {
        "id": "ycJGPMhT_svl",
        "colab": {
          "base_uri": "https://localhost:8080/"
        },
        "outputId": "35367d2a-91ee-4de6-f273-b4255e884774"
      },
      "source": [
        "bigram = ('my', 'pet')\n",
        "limit = 15\n",
        "\n",
        "for w, c in sorted(count[bigram].items(), key=lambda x: x[1])[:limit]:\n",
        "    print(\"(%s, %s, %s) -> %.1f\" % (bigram[0], bigram[1], w, c))"
      ],
      "execution_count": 25,
      "outputs": [
        {
          "output_type": "stream",
          "text": [
            "(my, pet, on) -> 1.0\n",
            "(my, pet, like) -> 1.0\n",
            "(my, pet, zebra) -> 1.0\n",
            "(my, pet, was) -> 1.0\n",
            "(my, pet, poodle) -> 1.0\n",
            "(my, pet, turtles) -> 1.0\n",
            "(my, pet, ?) -> 1.0\n",
            "(my, pet, dragon) -> 1.0\n",
            "(my, pet, keeps) -> 1.0\n",
            "(my, pet, bear) -> 1.0\n",
            "(my, pet, koala) -> 1.0\n",
            "(my, pet, dog) -> 2.0\n",
            "(my, pet, dogs) -> 2.0\n",
            "(my, pet, and) -> 2.0\n",
            "(my, pet, beta) -> 2.0\n"
          ],
          "name": "stdout"
        }
      ]
    },
    {
      "cell_type": "markdown",
      "metadata": {
        "id": "NDLugs9j_svo"
      },
      "source": [
        "#### Conditional probability queries\n",
        "We can now query the model for conditional probabilities:\n",
        "\n",
        "\\begin{align}\n",
        "p(w_t|w_{t-2},w_{t-1}) &= \\frac{\\text{count}(w_{t-2}w_{t-1}w_t)}{\\sum_{w_{t'}}\\text{count}(w_{t-2}w_{t-1}w_{t'})},\n",
        "\\end{align} "
      ]
    },
    {
      "cell_type": "code",
      "metadata": {
        "id": "r3KpGzIM_svo",
        "colab": {
          "base_uri": "https://localhost:8080/"
        },
        "outputId": "f782cfcf-8368-4335-ae04-7c75d3f14924"
      },
      "source": [
        "total[('i', 'have')]"
      ],
      "execution_count": 26,
      "outputs": [
        {
          "output_type": "execute_result",
          "data": {
            "text/plain": [
              "9034.0"
            ]
          },
          "metadata": {
            "tags": []
          },
          "execution_count": 26
        }
      ]
    },
    {
      "cell_type": "code",
      "metadata": {
        "id": "oj0STHYj_svr",
        "colab": {
          "base_uri": "https://localhost:8080/"
        },
        "outputId": "3add68c3-5427-4be9-850e-6b744121f8c2"
      },
      "source": [
        "queries = [('i', 'have', 'a'),\n",
        "           ('i', 'have', 'no'),\n",
        "           ('my', 'name', 'is'),\n",
        "           ('my', 'pet', 'dog'),\n",
        "           ('my', 'pet', 'zebra'),\n",
        "           ('my', 'pet', 'lion')]\n",
        "\n",
        "for query in queries:\n",
        "    prefix, word = query[:-1], query[-1]\n",
        "    p = count[prefix][word] / max(total[prefix], 1)\n",
        "    print(\"p( %s | %s) = \\t%.5f\" % (word, ', '.join(prefix), p))"
      ],
      "execution_count": 27,
      "outputs": [
        {
          "output_type": "stream",
          "text": [
            "p( a | i, have) = \t0.23157\n",
            "p( no | i, have) = \t0.02114\n",
            "p( is | my, name) = \t0.93409\n",
            "p( dog | my, pet) = \t0.03030\n",
            "p( zebra | my, pet) = \t0.01515\n",
            "p( lion | my, pet) = \t0.00000\n"
          ],
          "name": "stdout"
        }
      ]
    },
    {
      "cell_type": "markdown",
      "metadata": {
        "id": "n5opdHBO_svu"
      },
      "source": [
        "#### Sequence probabilities:\n",
        "\\begin{align}\n",
        "p(w_1,\\ldots,w_T)&\\approx\\prod_{t=1}^T p(w_t|w_{t-2},w_{t-1})\\\\\n",
        "&=\\sum_{t=1}^T \\log p(w_t|w_{t-2},w_{t-1}).\n",
        "\\end{align}\n",
        "\n",
        "where we use log probabilities in practice to avoid a product of many small numbers."
      ]
    },
    {
      "cell_type": "code",
      "metadata": {
        "id": "2qg_sRlW_svu",
        "colab": {
          "base_uri": "https://localhost:8080/"
        },
        "outputId": "ef6e20c9-4fe5-4deb-9495-90d5138569fd"
      },
      "source": [
        "padded_sequence = ['<bos>']*(n-1) + train[0] + ['<eos>']\n",
        "print(padded_sequence)"
      ],
      "execution_count": 28,
      "outputs": [
        {
          "output_type": "stream",
          "text": [
            "['<bos>', '<bos>', 'i', 'am', 'doing', 'great', 'except', 'for', 'the', 'allergies', '.', '<eos>']\n"
          ],
          "name": "stdout"
        }
      ]
    },
    {
      "cell_type": "code",
      "metadata": {
        "id": "bX42Nd42_svw",
        "colab": {
          "base_uri": "https://localhost:8080/"
        },
        "outputId": "be598072-6382-4aff-91b5-0effdc2e19a5"
      },
      "source": [
        "total_logp = 0\n",
        "\n",
        "for i in range(len(padded_sequence)-n+1):\n",
        "    ngram = tuple(padded_sequence[i:i+n])\n",
        "    prefix = ngram[:-1]\n",
        "    word = ngram[-1]\n",
        "    logp = np.log2(count[prefix][word] / max(total[prefix], 1))\n",
        "    print(\"log p(%s | %s) =\\t%.3f\" % (word, ', '.join(prefix), logp))\n",
        "    \n",
        "    total_logp += logp\n",
        "    \n",
        "print(\"\\nTotal: %.3f\" % total_logp)"
      ],
      "execution_count": 29,
      "outputs": [
        {
          "output_type": "stream",
          "text": [
            "log p(i | <bos>, <bos>) =\t-1.631\n",
            "log p(am | <bos>, i) =\t-1.969\n",
            "log p(doing | i, am) =\t-4.455\n",
            "log p(great | am, doing) =\t-2.359\n",
            "log p(except | doing, great) =\t-8.205\n",
            "log p(for | great, except) =\t0.000\n",
            "log p(the | except, for) =\t-2.644\n",
            "log p(allergies | for, the) =\t-9.671\n",
            "log p(. | the, allergies) =\t-0.415\n",
            "log p(<eos> | allergies, .) =\t-0.363\n",
            "\n",
            "Total: -31.710\n"
          ],
          "name": "stdout"
        }
      ]
    },
    {
      "cell_type": "markdown",
      "metadata": {
        "id": "o058NM_r_svz"
      },
      "source": [
        "**Exercise**: Which conditional probability above has the highest probability?"
      ]
    },
    {
      "cell_type": "markdown",
      "metadata": {
        "id": "YUTTCupU_svz"
      },
      "source": [
        "#### Generation\n",
        "\n",
        "Finally, we can generate sentences using the model's conditional distribution:\n",
        "\n",
        "            context = [<bos>, <bos>]\n",
        "            until <eos> is generated:\n",
        "                wt ~ p(wt | context)\n",
        "                context += [wt]\n",
        "                \n",
        "                \n",
        "Here, the `~` symbol stands for sampling from a categorical distribution. "
      ]
    },
    {
      "cell_type": "code",
      "metadata": {
        "id": "a5ZigeaT_sv0",
        "colab": {
          "base_uri": "https://localhost:8080/"
        },
        "outputId": "9bc1fb00-6655-4295-9990-cdb874d163a5"
      },
      "source": [
        "for n_samples in range(10):\n",
        "    context = ('<bos>', '<bos>')\n",
        "\n",
        "    output = context\n",
        "    while output[-1] != '<eos>':\n",
        "        # Form conditional distribution to sample from\n",
        "        probs, tokens = [], []\n",
        "        for token in count[context]:\n",
        "            p = count[context][token] / total[context]\n",
        "            probs.append(p)\n",
        "            tokens.append(token)\n",
        "        # Sample\n",
        "        wt = np.random.choice(tokens, p=probs) # randomly sample from list (tokens) with probs\n",
        "        output = output + (wt,)\n",
        "        context = context[1:] + (wt,)\n",
        "    \n",
        "    print(' '.join(output))"
      ],
      "execution_count": 30,
      "outputs": [
        {
          "output_type": "stream",
          "text": [
            "<bos> <bos> my wife was in africa . now . t . have you tried using a racket and ball game . <eos>\n",
            "<bos> <bos> not sure yet . <eos>\n",
            "<bos> <bos> i am a nurse . <eos>\n",
            "<bos> <bos> i ride my bike , that feels . i am guessing you are not you take with me . <eos>\n",
            "<bos> <bos> i travelled the world . <eos>\n",
            "<bos> <bos> interesting ? <eos>\n",
            "<bos> <bos> it is a boy and girl . <eos>\n",
            "<bos> <bos> i like to play board games a lot mostly poems . <eos>\n",
            "<bos> <bos> i like rocks ? <eos>\n",
            "<bos> <bos> hey , good , i could , i wish i can see that from your mother ? that sounds nice but i do anymore . <eos>\n"
          ],
          "name": "stdout"
        }
      ]
    },
    {
      "cell_type": "markdown",
      "metadata": {
        "id": "-yMbFvMK_sv2"
      },
      "source": [
        "**Exercise:** Try different starting contexts.\n",
        "\n",
        "**Exercise:** Use **greedy** decoding, `wt = argmax p(wt | context)`, or another decoding method instead of the categorical sampling from above."
      ]
    },
    {
      "cell_type": "markdown",
      "metadata": {
        "id": "8p4adWLR_sv2"
      },
      "source": [
        "---\n",
        "### 🚨Issues: Data Sparsity & Generalization 🚨\n",
        "\n",
        "As you might have noticed, the model assigns zero probability to even some reasonable n-grams:"
      ]
    },
    {
      "cell_type": "code",
      "metadata": {
        "id": "v6IHqTSW_sv3",
        "colab": {
          "base_uri": "https://localhost:8080/"
        },
        "outputId": "d1feb38e-54bd-46c6-998b-88d7bdd5fcab"
      },
      "source": [
        "queries = [('my', 'pet', 'dog'),\n",
        "           ('my', 'pet', 'zebra'),\n",
        "           ('my', 'pet', 'lion')]\n",
        "\n",
        "for query in queries:\n",
        "    prefix, word = query[:-1], query[-1]\n",
        "    p = count[prefix][word] / max(total[prefix], 1)\n",
        "    print(\"p( %s | %s) = \\t%.5f\" % (word, ', '.join(prefix), p))"
      ],
      "execution_count": 31,
      "outputs": [
        {
          "output_type": "stream",
          "text": [
            "p( dog | my, pet) = \t0.03030\n",
            "p( zebra | my, pet) = \t0.01515\n",
            "p( lion | my, pet) = \t0.00000\n"
          ],
          "name": "stdout"
        }
      ]
    },
    {
      "cell_type": "code",
      "metadata": {
        "id": "OTSrnTfB_sv5",
        "colab": {
          "base_uri": "https://localhost:8080/"
        },
        "outputId": "0632eb83-5cc6-4b45-9f8c-3d4a37a0b234"
      },
      "source": [
        "count[('my', 'pet')][('<UNK>')]"
      ],
      "execution_count": 32,
      "outputs": [
        {
          "output_type": "execute_result",
          "data": {
            "text/plain": [
              "0.0"
            ]
          },
          "metadata": {
            "tags": []
          },
          "execution_count": 32
        }
      ]
    },
    {
      "cell_type": "markdown",
      "metadata": {
        "id": "9lGy0zeP_sv8"
      },
      "source": [
        "The tri-gram `my pet lion` never occurred in the corpus, corresponding to zero count and hence zero probability under the model.\n",
        "\n",
        "This is in part an issue of **data sparsity** (given infinite data we'd probably see `my pet lion`), but is also an instance of the **generalization** problem; intuitively, even though the model *has* seen `my pet dog` and `my pet zebra`, it does not form a general notion of `my pet {animal}`."
      ]
    },
    {
      "cell_type": "markdown",
      "metadata": {
        "id": "7SS92UlQ_sv9"
      },
      "source": [
        "#### Additive smoothing\n",
        "\n",
        "N-gram language models address data sparsity through **smoothing** techniques which re-allocate probability mass, for instance to n-grams with zero counts.\n",
        "\n",
        "A simple (and naive, according to empirical performance) smoothing method is to add a *fixed* 'pseudo-count' $\\delta$ to *every* n-gram:\n",
        "\\begin{align}\n",
        "p(w_t|w_{t-n+1},\\ldots,w_{t-1}) &\\approx \\frac{\\text{count}(w_{t-n+1},\\ldots,w_{t})+ \\delta}{\\sum_{w_{t'}}\\left[\\text{count}(w_{t-n+1},\\ldots,w_{t-1},w_{t'})+\\delta\\right]}\\\\\n",
        "&= \\frac{\\text{count}(w_{t-n+1},\\ldots,w_{t})+ \\delta}{\\delta|V| + \\sum_{w_{t'}}\\text{count}(w_{t-n+1},\\ldots,w_{t-1},w_{t'})},\n",
        "\\end{align}\n",
        "\n",
        "where V is the vocabulary.\n",
        "\n",
        "Let's implement this below:"
      ]
    },
    {
      "cell_type": "code",
      "metadata": {
        "id": "fUHCRjyT_sv-",
        "colab": {
          "base_uri": "https://localhost:8080/"
        },
        "outputId": "3c30c53d-3f36-4059-98e6-b07aa69f76f7"
      },
      "source": [
        "delta = 0.01\n",
        "Vsize = len(vocab)\n",
        "\n",
        "queries = [('my', 'pet', 'dog'),\n",
        "           ('my', 'pet', 'zebra'),\n",
        "           ('my', 'pet', 'lion')]\n",
        "\n",
        "for query in queries:\n",
        "    prefix, word = query[:-1], query[-1]\n",
        "    \n",
        "    ### note the ADDITIVE SMOOTHING ↓\n",
        "    p = (delta + count[prefix][word]) / (total[prefix] + delta*Vsize)\n",
        "    \n",
        "    print(\"p( %s | %s) = \\t%.5f\" % (word, ', '.join(prefix), p))"
      ],
      "execution_count": 33,
      "outputs": [
        {
          "output_type": "stream",
          "text": [
            "p( dog | my, pet) = \t0.00780\n",
            "p( zebra | my, pet) = \t0.00392\n",
            "p( lion | my, pet) = \t0.00004\n"
          ],
          "name": "stdout"
        }
      ]
    },
    {
      "cell_type": "markdown",
      "metadata": {
        "id": "gqFvmdPn_swA"
      },
      "source": [
        "**Exercise:** How does `p(lion | my, pet)` change as $\\delta$ decreases/increases? What about `p(dog | my, pet)`?"
      ]
    },
    {
      "cell_type": "markdown",
      "metadata": {
        "id": "alc0eOgp_swB"
      },
      "source": [
        "---\n",
        "### Evaluation\n",
        "\n",
        "#### Perplexity\n",
        "\n",
        "Intuitively, a good model should assign high probabilities to sequences from the 'true' distribution that it is modeling.\n",
        "\n",
        "A common way of quantifying this is with **perplexity**, a metric inversely-proportional to the probability that the model assigns to a set of sequences, e.g. a 'test set':\n",
        "\n",
        "\\begin{align}\n",
        "\\huge \\text{ppl}(p, D) &\\huge = -\\frac{1}{N_{total}}\\log p(D)\n",
        "\\end{align}\n",
        "\n",
        "where $D=\\{(w_1,\\ldots,w_{N_i})_i\\}_{i=1}^M$ is a dataset of $M$ sequences with total length $N_{\\text{total}}=\\sum_{i}N_i$.\n",
        "\n",
        "Intuitively, when measured in exponential form, **_perplexity measures the average rank of the true next-token, when tokens are ordered by the model's conditional probabilities_**. It is defined on $[1,\\infty)$, with 1 being a perfect model (assigning probability 1 to $D$), and a 'worse' model as perplexity increases."
      ]
    },
    {
      "cell_type": "markdown",
      "metadata": {
        "id": "uOimpyPE_swB"
      },
      "source": [
        "#### Evaluating our model (and variations)\n",
        "\n",
        "To allow for adjusting $n$ and $\\delta$, let's first put the n-gram model estimation and querying from above into a python class:"
      ]
    },
    {
      "cell_type": "code",
      "metadata": {
        "id": "umoTLRXJ_swC"
      },
      "source": [
        "class NGramLM(object):\n",
        "    def __init__(self, n, delta, vocab):\n",
        "        self.n = n\n",
        "        self.delta = delta\n",
        "        self.count = defaultdict(lambda: defaultdict(float))\n",
        "        self.total = defaultdict(float)\n",
        "        self.vocab = vocab\n",
        "        if '<eos>' not in self.vocab:\n",
        "            self.vocab.append('<eos>')\n",
        "        self.vsize = len(vocab)\n",
        "    \n",
        "    def estimate(self, sequences):\n",
        "        for sequence_raw in sequences:\n",
        "            sequence = ['<bos>']*(self.n-1) + sequence_raw + ['<eos>']\n",
        "            for i in range(len(sequence)-self.n+1):\n",
        "                ngram = tuple(sequence[i:i+self.n])\n",
        "                prefix, word = ngram[:-1], ngram[-1]\n",
        "                self.count[prefix][word] += 1\n",
        "                self.total[prefix] += 1\n",
        "                \n",
        "    def sequence_logp(self, sequence_raw):\n",
        "        sequence = ['<bos>']*(self.n-1) + sequence_raw + ['<eos>']\n",
        "        total_logp = 0\n",
        "        for i in range(len(sequence)-self.n+1):\n",
        "            ngram = tuple(sequence[i:i+self.n])\n",
        "            prefix = ngram[:-1]\n",
        "            word = ngram[-1]\n",
        "            logp = np.log2((self.delta + self.count[prefix][word]) / \n",
        "                           (self.total[prefix] + self.delta*self.vsize))\n",
        "            total_logp += logp\n",
        "        return total_logp"
      ],
      "execution_count": 34,
      "outputs": []
    },
    {
      "cell_type": "code",
      "metadata": {
        "id": "JywFVi0E_swE",
        "colab": {
          "base_uri": "https://localhost:8080/"
        },
        "outputId": "e33b5cc4-bb99-4587-f43a-6ecfd933c549"
      },
      "source": [
        "lm = NGramLM(n=3, delta=0.0001, vocab=vocab)\n",
        "lm.estimate(train)\n",
        "print(lm.sequence_logp(train[0]))"
      ],
      "execution_count": 35,
      "outputs": [
        {
          "output_type": "stream",
          "text": [
            "-33.158200479259946\n"
          ],
          "name": "stdout"
        }
      ]
    },
    {
      "cell_type": "markdown",
      "metadata": {
        "id": "bJjcG-WA_swG"
      },
      "source": [
        "Next we'll define a `perplexity` function:"
      ]
    },
    {
      "cell_type": "code",
      "metadata": {
        "id": "Ni9LUkl8_swG"
      },
      "source": [
        "def perplexity(model, sequences):\n",
        "    n_total = 0\n",
        "    logp_total = 0\n",
        "    for sequence in sequences:\n",
        "        logp_total += model.sequence_logp(sequence)\n",
        "        n_total += len(sequence) + 1             # add 1 for <eos>\n",
        "#     ppl = - (1.0 / n_total) * logp_total\n",
        "    ppl = 2 ** (- (1.0 / n_total) * logp_total)  # the log needs to be in base 2!\n",
        "    return ppl"
      ],
      "execution_count": 36,
      "outputs": []
    },
    {
      "cell_type": "code",
      "metadata": {
        "id": "MzY8I7dS_swI",
        "colab": {
          "base_uri": "https://localhost:8080/"
        },
        "outputId": "f3e42f87-7832-4ad1-a196-e78a9bbae621"
      },
      "source": [
        "print(perplexity(lm, [['i', 'have', 'a', 'dog', '.']]))\n",
        "\n",
        "print(perplexity(lm, [['i', 'have', 'a', 'zebra', '.']]))\n",
        "\n",
        "print(perplexity(lm, [['i', 'have', 'a', 'lion', '.']]))"
      ],
      "execution_count": 37,
      "outputs": [
        {
          "output_type": "stream",
          "text": [
            "5.167222880362521\n",
            "14.307400631227289\n",
            "54.29411412205784\n"
          ],
          "name": "stdout"
        }
      ]
    },
    {
      "cell_type": "markdown",
      "metadata": {
        "id": "P2_yvIQg_swM"
      },
      "source": [
        "#### Evaluation\n",
        "\n",
        "Let's evaluate `train` and `val` perplexity for a range of `n` at a fixed `delta`:"
      ]
    },
    {
      "cell_type": "code",
      "metadata": {
        "id": "w6eUQmyO_swM",
        "colab": {
          "base_uri": "https://localhost:8080/"
        },
        "outputId": "668ba712-d5d8-43e8-dd21-ea6bc36d9d7e"
      },
      "source": [
        "ns = [2, 3, 4]\n",
        "deltas = [0.0001]\n",
        "\n",
        "train_results = {}\n",
        "val_results = {}\n",
        "lms = {}\n",
        "combos = list(product(ns, deltas))\n",
        "for n, d in tqdm(combos, total=len(combos)):\n",
        "    lm = NGramLM(n=n, delta=d, vocab=vocab)\n",
        "    lm.estimate(train)\n",
        "    \n",
        "    lms[n, d] = lm\n",
        "    train_results[n, d] = perplexity(lm, train)\n",
        "    val_results[n, d] = perplexity(lm, val)"
      ],
      "execution_count": 38,
      "outputs": [
        {
          "output_type": "stream",
          "text": [
            "100%|██████████| 3/3 [00:27<00:00,  9.05s/it]\n"
          ],
          "name": "stderr"
        }
      ]
    },
    {
      "cell_type": "code",
      "metadata": {
        "id": "5CzWbnzV_swO",
        "colab": {
          "base_uri": "https://localhost:8080/"
        },
        "outputId": "3746792b-4ecc-42dc-df4e-b4e8efee5906"
      },
      "source": [
        "ns = [2, 3, 4]\n",
        "deltas = [0.0001]\n",
        "list(product(ns, deltas))"
      ],
      "execution_count": 39,
      "outputs": [
        {
          "output_type": "execute_result",
          "data": {
            "text/plain": [
              "[(2, 0.0001), (3, 0.0001), (4, 0.0001)]"
            ]
          },
          "metadata": {
            "tags": []
          },
          "execution_count": 39
        }
      ]
    },
    {
      "cell_type": "code",
      "metadata": {
        "id": "YxmfDINr_swQ",
        "colab": {
          "base_uri": "https://localhost:8080/",
          "height": 120
        },
        "outputId": "6ed85200-bf7a-4893-876a-99efaedc82a9"
      },
      "source": [
        "print(\"=== Train ===\")\n",
        "df = pd.DataFrame([(k[0], k[1], v) for k, v in train_results.items()], columns=['n', 'delta', 'ppl'])\n",
        "df[df.delta == 0.0001].style.hide_index()"
      ],
      "execution_count": 40,
      "outputs": [
        {
          "output_type": "stream",
          "text": [
            "=== Train ===\n"
          ],
          "name": "stdout"
        },
        {
          "output_type": "execute_result",
          "data": {
            "text/html": [
              "<style  type=\"text/css\" >\n",
              "</style><table id=\"T_860ef0bc_f094_11eb_b5be_0242ac1c0002\" ><thead>    <tr>        <th class=\"col_heading level0 col0\" >n</th>        <th class=\"col_heading level0 col1\" >delta</th>        <th class=\"col_heading level0 col2\" >ppl</th>    </tr></thead><tbody>\n",
              "                <tr>\n",
              "                                <td id=\"T_860ef0bc_f094_11eb_b5be_0242ac1c0002row0_col0\" class=\"data row0 col0\" >2</td>\n",
              "                        <td id=\"T_860ef0bc_f094_11eb_b5be_0242ac1c0002row0_col1\" class=\"data row0 col1\" >0.000100</td>\n",
              "                        <td id=\"T_860ef0bc_f094_11eb_b5be_0242ac1c0002row0_col2\" class=\"data row0 col2\" >35.478667</td>\n",
              "            </tr>\n",
              "            <tr>\n",
              "                                <td id=\"T_860ef0bc_f094_11eb_b5be_0242ac1c0002row1_col0\" class=\"data row1 col0\" >3</td>\n",
              "                        <td id=\"T_860ef0bc_f094_11eb_b5be_0242ac1c0002row1_col1\" class=\"data row1 col1\" >0.000100</td>\n",
              "                        <td id=\"T_860ef0bc_f094_11eb_b5be_0242ac1c0002row1_col2\" class=\"data row1 col2\" >12.189784</td>\n",
              "            </tr>\n",
              "            <tr>\n",
              "                                <td id=\"T_860ef0bc_f094_11eb_b5be_0242ac1c0002row2_col0\" class=\"data row2 col0\" >4</td>\n",
              "                        <td id=\"T_860ef0bc_f094_11eb_b5be_0242ac1c0002row2_col1\" class=\"data row2 col1\" >0.000100</td>\n",
              "                        <td id=\"T_860ef0bc_f094_11eb_b5be_0242ac1c0002row2_col2\" class=\"data row2 col2\" >7.071077</td>\n",
              "            </tr>\n",
              "    </tbody></table>"
            ],
            "text/plain": [
              "<pandas.io.formats.style.Styler at 0x7f93eb79ba10>"
            ]
          },
          "metadata": {
            "tags": []
          },
          "execution_count": 40
        }
      ]
    },
    {
      "cell_type": "markdown",
      "metadata": {
        "id": "txRbifx8_swS"
      },
      "source": [
        "On the **training set**, perplexity **decreased** as n-gram order increased (at a fixed `delta` value).\n",
        "\n",
        "\n",
        "Now, on the validation set:"
      ]
    },
    {
      "cell_type": "code",
      "metadata": {
        "id": "xGs_7qUM_swT",
        "colab": {
          "base_uri": "https://localhost:8080/",
          "height": 120
        },
        "outputId": "85e91b01-44ff-4c9a-94df-ee48ed6b8535"
      },
      "source": [
        "print(\"=== Valid ===\")\n",
        "df = pd.DataFrame([(k[0], k[1], v) for k, v in val_results.items()], columns=['n', 'd', 'ppl'])\n",
        "df[df.d == 0.0001].style.hide_index()"
      ],
      "execution_count": 41,
      "outputs": [
        {
          "output_type": "stream",
          "text": [
            "=== Valid ===\n"
          ],
          "name": "stdout"
        },
        {
          "output_type": "execute_result",
          "data": {
            "text/html": [
              "<style  type=\"text/css\" >\n",
              "</style><table id=\"T_8a374158_f094_11eb_b5be_0242ac1c0002\" ><thead>    <tr>        <th class=\"col_heading level0 col0\" >n</th>        <th class=\"col_heading level0 col1\" >d</th>        <th class=\"col_heading level0 col2\" >ppl</th>    </tr></thead><tbody>\n",
              "                <tr>\n",
              "                                <td id=\"T_8a374158_f094_11eb_b5be_0242ac1c0002row0_col0\" class=\"data row0 col0\" >2</td>\n",
              "                        <td id=\"T_8a374158_f094_11eb_b5be_0242ac1c0002row0_col1\" class=\"data row0 col1\" >0.000100</td>\n",
              "                        <td id=\"T_8a374158_f094_11eb_b5be_0242ac1c0002row0_col2\" class=\"data row0 col2\" >94.251318</td>\n",
              "            </tr>\n",
              "            <tr>\n",
              "                                <td id=\"T_8a374158_f094_11eb_b5be_0242ac1c0002row1_col0\" class=\"data row1 col0\" >3</td>\n",
              "                        <td id=\"T_8a374158_f094_11eb_b5be_0242ac1c0002row1_col1\" class=\"data row1 col1\" >0.000100</td>\n",
              "                        <td id=\"T_8a374158_f094_11eb_b5be_0242ac1c0002row1_col2\" class=\"data row1 col2\" >196.977312</td>\n",
              "            </tr>\n",
              "            <tr>\n",
              "                                <td id=\"T_8a374158_f094_11eb_b5be_0242ac1c0002row2_col0\" class=\"data row2 col0\" >4</td>\n",
              "                        <td id=\"T_8a374158_f094_11eb_b5be_0242ac1c0002row2_col1\" class=\"data row2 col1\" >0.000100</td>\n",
              "                        <td id=\"T_8a374158_f094_11eb_b5be_0242ac1c0002row2_col2\" class=\"data row2 col2\" >601.984842</td>\n",
              "            </tr>\n",
              "    </tbody></table>"
            ],
            "text/plain": [
              "<pandas.io.formats.style.Styler at 0x7f93eaa29a90>"
            ]
          },
          "metadata": {
            "tags": []
          },
          "execution_count": 41
        }
      ]
    },
    {
      "cell_type": "markdown",
      "metadata": {
        "id": "xjdATtxU_swV"
      },
      "source": [
        "Next we can plot **performance as `delta` varies**.\n",
        "\n",
        "(for efficiency we'll simply modify the `.delta` parameter instead of creating a new model)"
      ]
    },
    {
      "cell_type": "code",
      "metadata": {
        "id": "OYu7dSQ8_swW",
        "colab": {
          "base_uri": "https://localhost:8080/"
        },
        "outputId": "39384dd2-d53f-49c8-cfd4-7f0aea302eed"
      },
      "source": [
        "ns = [2, 3, 4]\n",
        "deltas = np.linspace(0.00001, 0.01, 10)\n",
        "\n",
        "T = np.zeros((len(ns), len(deltas)))\n",
        "V = np.zeros((len(ns), len(deltas)))\n",
        "\n",
        "for i, n in tqdm(enumerate(ns), total=len(ns)):\n",
        "    lm = lms[n, 0.0001]\n",
        "    for j, delta in enumerate(deltas):\n",
        "        lm.delta = delta\n",
        "        \n",
        "        T[i, j] = perplexity(lm, train)\n",
        "        V[i, j] = perplexity(lm, val)"
      ],
      "execution_count": 42,
      "outputs": [
        {
          "output_type": "stream",
          "text": [
            "100%|██████████| 3/3 [04:02<00:00, 80.71s/it]\n"
          ],
          "name": "stderr"
        }
      ]
    },
    {
      "cell_type": "code",
      "metadata": {
        "id": "TN6MP8Wh_swY",
        "colab": {
          "base_uri": "https://localhost:8080/",
          "height": 331
        },
        "outputId": "4f47d2e0-0b16-46a5-d28a-5f1bac641c7f"
      },
      "source": [
        "fig, axs = plt.subplots(1, 2, figsize=(10, 4))\n",
        "for i in range(len(ns)):\n",
        "    axs[0].plot(T[i])\n",
        "    axs[1].plot(V[i])\n",
        "    \n",
        "axs[0].set_title(\"Train Perplexity\", fontsize=15)\n",
        "axs[1].set_title(\"Val Perplexity\", fontsize=15)\n",
        "\n",
        "axs[0].set_xticks(np.arange(len(deltas)))\n",
        "axs[1].set_xticks(np.arange(len(deltas)))\n",
        "\n",
        "axs[0].set_xticklabels(['{:.1e}'.format(x) for x in deltas], rotation=90)\n",
        "axs[1].set_xticklabels(['{:.1e}'.format(x) for x in deltas], rotation=90)\n",
        "\n",
        "axs[0].set_xlabel('delta', fontsize=15)\n",
        "axs[1].set_xlabel('delta', fontsize=15)\n",
        "\n",
        "axs[0].set_ylabel('ppl', fontsize=15)\n",
        "axs[1].set_ylabel('ppl', fontsize=15)\n",
        "\n",
        "plt.legend(ns, fontsize=15);"
      ],
      "execution_count": 43,
      "outputs": [
        {
          "output_type": "display_data",
          "data": {
            "image/png": "[encoded data removed]",
            "text/plain": [
              "<Figure size 720x288 with 2 Axes>"
            ]
          },
          "metadata": {
            "tags": [],
            "needs_background": "light"
          }
        }
      ]
    },
    {
      "cell_type": "markdown",
      "metadata": {
        "id": "fmR0yleB_swa"
      },
      "source": [
        "### Scoring Sentences"
      ]
    },
    {
      "cell_type": "code",
      "metadata": {
        "id": "Ck6S6aWy_swb",
        "colab": {
          "base_uri": "https://localhost:8080/"
        },
        "outputId": "07fa7dd6-ed48-4cfb-c35c-498847c2a17c"
      },
      "source": [
        "sentences = [\n",
        "    'i like my pet dog .',\n",
        "    'i like my pet zebra .',\n",
        "    'i like my pet lion .',\n",
        "    'i live in the united states .',\n",
        "    'i live in the united states of america .'\n",
        "]\n",
        "\n",
        "for sentence in sentences:\n",
        "    print(sentence)\n",
        "    for n in [2, 3, 4]:\n",
        "        logp = lms[n, 0.0001].sequence_logp(sentence.split())\n",
        "        print(\"n: %d\\t logp: %.3f\" % (n, logp))\n",
        "    print()"
      ],
      "execution_count": 44,
      "outputs": [
        {
          "output_type": "stream",
          "text": [
            "i like my pet dog .\n",
            "n: 2\t logp: -29.697\n",
            "n: 3\t logp: -35.726\n",
            "n: 4\t logp: -54.898\n",
            "\n",
            "i like my pet zebra .\n",
            "n: 2\t logp: -34.919\n",
            "n: 3\t logp: -42.678\n",
            "n: 4\t logp: -63.110\n",
            "\n",
            "i like my pet lion .\n",
            "n: 2\t logp: -40.617\n",
            "n: 3\t logp: -54.717\n",
            "n: 4\t logp: -69.753\n",
            "\n",
            "i live in the united states .\n",
            "n: 2\t logp: -26.129\n",
            "n: 3\t logp: -27.717\n",
            "n: 4\t logp: -29.649\n",
            "\n",
            "i live in the united states of america .\n",
            "n: 2\t logp: -44.935\n",
            "n: 3\t logp: -43.757\n",
            "n: 4\t logp: -49.340\n",
            "\n"
          ],
          "name": "stdout"
        }
      ]
    },
    {
      "cell_type": "markdown",
      "metadata": {
        "id": "2lpzzKrU_swd"
      },
      "source": [
        "---\n",
        "## References\n",
        "DS-GA 1011 NLP with Representation Learning Fall 2019"
      ]
    }
  ]
}