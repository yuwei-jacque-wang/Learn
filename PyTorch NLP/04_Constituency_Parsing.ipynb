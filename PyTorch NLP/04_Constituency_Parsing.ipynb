{
  "nbformat": 4,
  "nbformat_minor": 0,
  "metadata": {
    "colab": {
      "name": "04-constituency_parsing.ipynb",
      "provenance": [],
      "collapsed_sections": []
    },
    "kernelspec": {
      "display_name": "Python 3",
      "language": "python",
      "name": "python3"
    },
    "language_info": {
      "codemirror_mode": {
        "name": "ipython",
        "version": 3
      },
      "file_extension": ".py",
      "mimetype": "text/x-python",
      "name": "python",
      "nbconvert_exporter": "python",
      "pygments_lexer": "ipython3",
      "version": "3.7.6"
    }
  },
  "cells": [
    {
      "cell_type": "markdown",
      "metadata": {
        "id": "GaCXDxWp6j4-"
      },
      "source": [
        "# Fall 2020: DS-GA 1011 NLP with Representation Learning\n",
        "## Lab 4: 25-Sep-2020, Friday\n",
        "## Constituency Parsing\n",
        "In this lab, we will familiarize ourselves with constituency parsing grammars."
      ]
    },
    {
      "cell_type": "markdown",
      "metadata": {
        "id": "vHV2LBIbhB7F"
      },
      "source": [
        "---\n",
        "### Definitions\n",
        "\n",
        "**Syntax** refers to the way for ordering words to form phrases and sentences in a language.\n",
        "\n",
        "**Grammar** defines the rules for forming these phrases and sentences through combination of lexical units. A declarative specification of well-formedness.\n",
        "\n",
        "**Parsing** assigns the *syntactic* structural description (usually in the form of a tree) to a string of words, in accordance with a *grammar*. A procedural interpretation of the *grammar*. Useful for natural language understanding/processing applications like information extraction, machine translation and even psycholinguistics amongst others.\n",
        "\n",
        "**Constituency Parsing** breaks down a string of words into its *constituents*.\n",
        "\n",
        "**Constituent** is a group of words behaving as a single unit. [Penn Treebank II Constituent Tags](http://www.surdeanu.info/mihai/teaching/ista555-fall13/readings/PennTreebankConstituents.html#NX)"
      ]
    },
    {
      "cell_type": "markdown",
      "metadata": {
        "id": "lIuQ1cWwhB7I"
      },
      "source": [
        "---\n",
        "### Context-Free Grammar \n",
        "A useful formalism for *constituency parsing*, i.e. for natural language *syntax* representation by modeling *constituent* structure.\n",
        "\n",
        "$$N \\rightarrow (\\Sigma \\cup N)*$$\n",
        "Where, \n",
        "$N \\text{ a set of non-terminal tags}\\\\\n",
        "\\Sigma \\text{ a set of terminal symbols (disjoint from }N\n",
        ")\\\\ \\rightarrow \\text{represents a production rule}\\\\\n",
        "S \\text{ start symbol, member of } N$\n",
        "\n",
        "By convention, the left-hand-side of the first *production* is the *start symbol* of the *grammar*, and all well-formed trees must have this symbol as their root label.\n",
        "\n",
        "A parser searches through the space of trees licensed by a *grammar* to find one that has the required sentence. Let's start off by looking at a simple *context-free grammar* using [Natural Language Toolkit (NLTK)](https://www.nltk.org)."
      ]
    },
    {
      "cell_type": "code",
      "metadata": {
        "colab": {
          "base_uri": "https://localhost:8080/"
        },
        "id": "xCjsU_PShB7K",
        "outputId": "b23142f6-5c87-4a36-9a3e-ffe5e9faa4e7"
      },
      "source": [
        "# !conda install -c conda-forge nltk #OR\n",
        "!pip install nltk==3.4.4 # for chomsky_normal_form() method\n",
        "\n",
        "import nltk"
      ],
      "execution_count": 1,
      "outputs": [
        {
          "output_type": "stream",
          "text": [
            "Collecting nltk==3.4.4\n",
            "  Downloading nltk-3.4.4.zip (1.5 MB)\n",
            "\u001b[K     |████████████████████████████████| 1.5 MB 4.3 MB/s \n",
            "\u001b[?25hRequirement already satisfied: six in /usr/local/lib/python3.7/dist-packages (from nltk==3.4.4) (1.15.0)\n",
            "Building wheels for collected packages: nltk\n",
            "  Building wheel for nltk (setup.py) ... \u001b[?25l\u001b[?25hdone\n",
            "  Created wheel for nltk: filename=nltk-3.4.4-py3-none-any.whl size=1450237 sha256=ace3dc8db27c7fb9842c2ea260403ce6671c15710fc73d58aaa309e6738118a5\n",
            "  Stored in directory: /root/.cache/pip/wheels/73/28/18/d5bdb0068269770efa004fccd72e55aaaed39cd79dc142ad50\n",
            "Successfully built nltk\n",
            "Installing collected packages: nltk\n",
            "  Attempting uninstall: nltk\n",
            "    Found existing installation: nltk 3.2.5\n",
            "    Uninstalling nltk-3.2.5:\n",
            "      Successfully uninstalled nltk-3.2.5\n",
            "Successfully installed nltk-3.4.4\n"
          ],
          "name": "stdout"
        }
      ]
    },
    {
      "cell_type": "markdown",
      "metadata": {
        "id": "PcvB88KJhB7i"
      },
      "source": [
        "In NLTK, *context-free grammars* are defined in the [`nltk.grammar`](https://www.nltk.org/api/nltk.html#module-nltk.grammar) module using `CFG` class."
      ]
    },
    {
      "cell_type": "code",
      "metadata": {
        "colab": {
          "base_uri": "https://localhost:8080/"
        },
        "id": "Gnn9WnZOj70t",
        "outputId": "3344079f-6ef1-425b-996b-f4134936e2ba"
      },
      "source": [
        "nltk.CFG"
      ],
      "execution_count": 2,
      "outputs": [
        {
          "output_type": "execute_result",
          "data": {
            "text/plain": [
              "nltk.grammar.CFG"
            ]
          },
          "metadata": {
            "tags": []
          },
          "execution_count": 2
        }
      ]
    },
    {
      "cell_type": "code",
      "metadata": {
        "id": "HigM7QKphB7s"
      },
      "source": [
        "simple_cfg = nltk.CFG.fromstring(\"\"\"\n",
        "  S -> NP VP\n",
        "  NP -> Det N | Det N PP | \"John\" | \"Mary\" | \"Bob\" | 'I'\n",
        "  VP -> V NP |  VP PP\n",
        "  PP -> P NP\n",
        "  V -> \"saw\" | \"ate\" | \"walked\" | 'shot'\n",
        "  Det -> \"a\" | \"an\" | \"the\" | \"my\"\n",
        "  N -> \"man\" | \"dog\" | \"cat\" | \"telescope\" | \"park\" | 'elephant' | 'pajamas'\n",
        "  P -> \"in\" | \"on\" | \"by\" | \"with\"\n",
        "  \"\"\")"
      ],
      "execution_count": 3,
      "outputs": []
    },
    {
      "cell_type": "markdown",
      "metadata": {
        "id": "goHo7O-GsJfl"
      },
      "source": [
        "The *grammar* defined above contains *productions* involving various *syntactic categories*, as laid out below.\n",
        "\n",
        "![cp.jpg](data:image/jpeg;base64,/9j/4AAQSkZJRgABAQEAkACQAAD/2wBDAAMCAgMCAgMDAwMEAwMEBQgFBQQEBQoHBwYIDAoMDAsKCwsNDhIQDQ4RDgsLEBYQERMUFRUVDA8XGBYUGBIUFRT/2wBDAQMEBAUEBQkFBQkUDQsNFBQUFBQUFBQUFBQUFBQUFBQUFBQUFBQUFBQUFBQUFBQUFBQUFBQUFBQUFBQUFBQUFBT/wAARCADxArkDASIAAhEBAxEB/8QAHwAAAQUBAQEBAQEAAAAAAAAAAAECAwQFBgcICQoL/8QAtRAAAgEDAwIEAwUFBAQAAAF9AQIDAAQRBRIhMUEGE1FhByJxFDKBkaEII0KxwRVS0fAkM2JyggkKFhcYGRolJicoKSo0NTY3ODk6Q0RFRkdISUpTVFVWV1hZWmNkZWZnaGlqc3R1dnd4eXqDhIWGh4iJipKTlJWWl5iZmqKjpKWmp6ipqrKztLW2t7i5usLDxMXGx8jJytLT1NXW19jZ2uHi4+Tl5ufo6erx8vP09fb3+Pn6/8QAHwEAAwEBAQEBAQEBAQAAAAAAAAECAwQFBgcICQoL/8QAtREAAgECBAQDBAcFBAQAAQJ3AAECAxEEBSExBhJBUQdhcRMiMoEIFEKRobHBCSMzUvAVYnLRChYkNOEl8RcYGRomJygpKjU2Nzg5OkNERUZHSElKU1RVVldYWVpjZGVmZ2hpanN0dXZ3eHl6goOEhYaHiImKkpOUlZaXmJmaoqOkpaanqKmqsrO0tba3uLm6wsPExcbHyMnK0tPU1dbX2Nna4uPk5ebn6Onq8vP09fb3+Pn6/9oADAMBAAIRAxEAPwD9U68l8f8Ax5/sP4p6X8MfCuj2/iXx9fabJrJs73UPsFnaWaOE82ecRyuCznaqpE5OCTtHNetV8X/tlfsi698bPiRp/wARPhH44bwj8X/C1jHbtG0zxR3FuzSNEpkUHYTmYchlcEq2MZqG+VpvbrbfZ/rb5FJXTXXp/Xpc+gfCfxc1rUvicPAfiPwTdeHtVXSZNW/tKG8S70y4RZYo9lvNtSRyDJ8wkiiK4XhgwNen18G/so/tQfEjxl8WNU+Av7QPhd9F+IMek3DWev6efsk9xblR5mJIDhSwXcs0DKuY+gZQa5r4F+LtZ+BP7QHxu+EHxN8X+MvF9zJpR1Hwpe6n4nvXnvLJgcQQZmAS4YsiiSPa+5JMEAVo+iWt4tprrZvT1S++zZHdvo0mu17a+mv4r1P0Xor83v8AgoZpPiv9m/8AZP8Ah9PoPxF8cQeK4dajtL7Wl8V6i0t0ZYJHmDkz/Mm+JdgOdgBxjc2bXxC8TfFL4V/tyfCbw3Y/FjX9RsfiFpO3UbPUlSWxsnIkBe0tuEj27VKFt7ZHztICQRayUV1ly/Pl5vxHJOEOd7cvN8ua39I/RWQuI2Maqz4O1WOAT2BODj8q+cP2W/2ur79ob4ifFDwbqfgu38K6j4EvEsbma11ltQiupDJNGxQtbwkKDCSCRkhugxXkH7G/jjxroP7avxy+Eet+OfEHjjw5o0Ed7Yz+JLoXNzC5MWQGCqFBExBVAq/KCFFec/sX+DU8cftD/tjadLq+saOray4SfRNRlsJ0k+03uyQSwsr5Ujhd205O4NxhRa5VUeqdNyXyaX+f4F2TjOO0ozjH7/6X4n6bUV+V3hf9v34laT/wTo17xZd37ah48sPEv/CJWfiCaFXba0SzC4cY2mRULqCQckIWySc+ueMPid4m/Zd+Pv7Oei2fiTXvEeh/EWD7B4gste1OfUt90TAi3ULTMxgO+fJSPbHtH3B1GkYOVX2S7pL1lHmX4fi152zm3ThzTVrJv5Rlyv8AH8n5X9c8A/tiaj4q/bA8UfAbVPBFtpVzotlJfrrlrrbXSTxgQtGPJa2jKsyTKSNxCkEAsPmr6Zr86Phj/wApl/iZ/wBi0P8A0nsa/ResqfvUacnu1r97LqLlqzitlb8Yp/qFFFFMkKKKKACiiigAooooAKKKKACiiigAooooAK86+O3xA8WfDDwHdeIvCnhCy8azWY33Gm3OsNp0rqSAohIt5VdyxA2sUH+12r0WuN+L/wDyTzVP96D/ANHx1nUvyvldmVGyeqPJf2Lf2yNP/a/8J+IL8eHm8I65od8LS80aS++1siMuY5N/lxnDESLgrwUNcl+2N+3zJ+yn4u8O6HZeAf8AhNDqxML3P9sixWC4+QiHHkS5OyWNiTjAdeuePnDUNTt/2C/+Cl99e3kn9m/DX4l2z3E0jZEMEkjFmP1S5U/RJ6x/+CpGl3NlpvwAvtQiMOraxrWo6pexsBujklezKxHHXy4/Li+kYranas6EkrKTSa872a/N/ctg5eSVWD1spSXpyuSf5Kx+pHhK81zUPD9pceJNMsNH1mQEz2Wm3730EXzHaFmeGEt8uCf3YwSQMgZOxXxb+3N+0R4l8B/FT4L/AAw8OnVIbfxfqAfVn0K4ittRubdZERbW3mlkjWJpCzAv5iEYGGXNbvwzj/aA0rQ/jRpb6ZdeFdJWD7T4A1Px9rFrqNxZs0ZEkV3LFcXLsiON6tKzkA8lhwI5lKEqqWi5refLa6/HT0fleFpKMG9Xy/LmvZ/hr6rzt9a0V+XfiL46+Nfh/wDGj9l+fQ/HGqaw/jC8XSfFdwmr3eoaBq8wuLeCaSzjuG2qo81/3kCJHkjYW2mu2/ab8QeOtL/4KTfCbwl4R8f+IvDemeJdLE99ZLqlxNY7/wDSo3kW0dzCGEcSlRs2b1VmVvmzpyv3Lfak4/NdfR9H+A1rGcv5YqXyelvVdT9Da8t+A/xd8S/Fqz8SzeJPhrrfw3fStUksLWLWnDG/iXpOnyrwfbcv9125x8q/sH+PvGHiD45ftG/CTxX418ReMNB8P30tvp97q1+5v4k8+eFytxGUeMlQhHllQpXKbK86/ZF8eeMfG37N37Vh13x14u1S68PG5k0m+uPEV6buxMEFxJH5U/m+Yo3RoSA2GxhgQSKw50oupuuTm/FJ/PW3Zmns26yw+0vacn4N/dpr/wAOfqFRX4w6p8XPjN4d/YE+HvxfT4xeLDrcXiybT7e2N80iTwlrhi128m6S4YNFtVWbywmBszlq+u/2rvjR45b4p/s4eEbXU7/wr4D8dXEB1zVtLnazmndjGRarcqQ0OQ2fkZWO7g/LWyi5SUFu5KP/AIErr8DGUlCPPLbllL5Rdn+J9x0V8Lfsq2viMftxfHDQm8Q+MPEngLwqIItLm1fxRqV9bWdzJGhe22yztHKQHk/1gdl8tTkHk/dNJawhNfaV/vC/vzh/K7BRRRSKCiiigAooooAKKKKACiiigAooooAKKKKACiiigAooooAKKKKACiiigAooooAKKKKACiiigAooooA4H45ePtf+Fvw01vxboPh/T/EraLazaheWN/qr6fm3iieRzG62826T5QArBQcn5hjB8I/Z3/bC+I37THwxn8c+Fvhb4VsdLivn04W2seOZ4LiSZQmFULpbJ8xkVRlxkntXtf7TX/JuPxU/7FXVP/SSWvzz/wCCcuh/Ea+/Zz8IXeh63pUfgm3+I0D6xpP9nyC+lQPbgMLnzihQSGImPylOFJ3n7tFFe0qTg9rR+XNLluPEfu6FOpFatzuu/LHmSXnc/RX4FfErWPiv8PYdd8QeFX8Fa0t7d2N3ocl4Ls20lvcPCf3oRAwOzcCFxgjBPWvQa85+Mfwti+KvgDWvDekeJNW8Gaw26e31Twzqc1hcW10ysUkk8h1MiknLI+Q3XqAR8S/sC6vrvxm1/U/A/wASfGHjCLxx8L724gv4ovGOqLJrObl9pnQThHSFwyHglwYgSEG1nH95Nxtayv8A529PyfrZT9yHPur29L7X+XXufpBRXxL+01r3jTT/ABp8WLbWvGxi0mLwhNqng3Q/ButXllrFjPBAzyXd2sBRfJ3hstO5jO1FRSzFTxfhj4weNfih/wAEo9X8ea14p1iLxnplpeSQa7pV/NYXZe3uWjjZ3gZC/wAvBB4bqQTzWEqijSnVf2VzfK7X36bfia+zfNCP8zt87J/dr+eh+h1FfkR8Sfix8Wfhd+yL+zz8abX4s+Kb7XLq/Wyn0m5vC9hdQ5uJM3KtmS4kPlbS0jsMEbVTGT7jrnjT4hfCH/gpP8M/CkvxI8QeKNA8baO11qek6nKgsYZCt1gW1uihYVUwIV6v1DO+Sa63Taqcj/mcfmlf8TmhLno+2W3KpfK9n91/mfoNXPfELxDqPhLwPrut6Vp1vq9/p1nJdx2N3dtaxzbFLMplWOQrwDg7Dzjp1Hw1r2oeI7z/AIKnj4fx+OPGFn4L1Hw++oXWiW/iK8W3MjQOzeWvm/uQSAR5W0r/AAletWvgD8WvFUfxG/ah+C2va9qHifRvClneXeiX2r3D3V5BbsjgwSTuS8oAePBck/K3PIFedVqv2EpQ0lyzkv8AtxtP8rruu3Xohy+0tLZSjF/9vJNfnZ/1b6H/AGN/2oP+GtvhLN43/wCEa/4RXy9Sm0/7D9v+2Z8tUbfv8qPrv6be3Wvda/JT9lv48ax+zn/wS08Y+MPDyx/2+PE01jYSyoHSCWYW6eaVPB2ruYA8EgZ4r6T+AN58aJPHnwo13StA8aXvw+1zQw3i/UfGHiOwvY57iSFZIb2ziW9meFS2QY40jXaw/dgjI9OUVKo4w0S5U/Vw5v682ul7cdOb5Ly1b5vuUrf16Pyv9sUUUVgdAUUUUAFFFFABXkfiH4H6vN8X9S+JHhvx1e6BrV3pNtpDaXPZx3elTRwySurzw5SR3BmbBjljIGRkhjXrlYXjDx54a+HuljU/FXiLSfDOm7xH9s1i+itIdx6LvkYDPtmltr/XYLX0POfDPwPi0H4m3nxc8da9b+IvGkGkf2VFeWlgbCw06xVmkcQwGWVwWYsWd5XOOBtGQfPJ/Cvwy/aw+OXwh+K/hu4j8Q2vhqzvr9NThQpHIPM8m3jkR1DhlmWd0yBgwv6ivpXR/EOk+JLOK40rU7LVLWeJZo5rOdJkkjYkBwVJBUlWAPQ4PpVXwr4J8O+BbS4tfDegaX4etbiZriaHSrOO2SSVvvSMqKAWPdjyapXjJN/Z28nr/nf1v30Uvei1/Nv5qy/RL5W7Hh37av7Juo/tfeC9D8LReM7bwhpen3/9ozM2jNfTTSqjIgVvtMQRQHfIKsSSuCuCDzXjz9jPxn4++Ovw2+KF38TdFt9U8D2sNtbWUXhOXybkgHzWcnUMjczOQB90ED5sEn6xopR9xpro+b52tf7tCpPni4y2a5fle9vvPmH4T/sg+I/hr+1N4y+M1z8QNN1dvFaPBqGix+HHtwkWE8sRTfbH2spijyzIwYBuFyCtbwh+xTqnwt8YfEbxP4F+I7aXqvj+7uJ9ZGraKt7DEkksrx/ZVWaIxyIJWG+RpVPUp2r6nopWSjGHRLlXo+nn8x8zvJ92pP1WzPnaD9hX4a2/7L8vwNEN4fDkv799RMi/bWvNwf7Vu27d+4DjGNo24xTNB/ZFm1D4neBPG3xD8Ww+M7/wJYmy8PW9npH9nRRkgD7RcAzSmabCryvloCAQgNfRlFXzPn9p13+drX+52M+VcvJ0/wA3d/e1dny34P8A2N9f8M/ti658ep/iBp97NrEL2VxoMfh14lW1KRoipMbxsSAQxZcoQx3YRcjb9SUUVK92KgtlsW3zScnuwooooEFFFFABRRRQAUUUUAFFFFABRRRQAUUUUAFcB8aPBHiz4heE/wCxvCnirTfCUs0qtc3l/oramzIrKwWNRcQhDlRktu4JAAPNd/RSaUlZj2PCfi9+yvp/x+/4VhfeO9Qs73XvBmsJqsl3pumtbwXyjlrcRPNI0aMywk5d/wDVn+9x55+2F+w94m/a48T+Hr27+JuneGNJ8OTST6VZW/hd7iZWkEW8zTNeqJDuiBG2NAAcEE8n65oprRpro+b56a/gg128uX5a6fiz5k/aM/Yt/wCGnvBfhRfFPjAaR8RfDMzz6f4t8Oaa1rHGzMCB9meeRsDZGeJgdybgVB21v69+zBq3jv4A+Jvh/wCNPiZrHifX9fsRY3HiprKC1eJFYMiR28QVAmR8wJLOGIZ/u7ffKKUkpRlB7S3+e9u3ysCbi4yW8dv66/M+JdQ/4JqSaloHwbtpvi/rjav8NboSWGpHS7baIA8brFDF92Mq0SkPKZj1DbgFC9x8UP2O/EXxC/aq8HfGq3+Ien6bN4VgjtLHR5vDj3AkhHmeZ5swvE3OxmlwyooXK/KcHP1FRV8zbT7NyXq938ydouC2a5X6b2/r02PlP4D/ALGfij4H/GP4m/EWL4jaTrOpeORPNcWsnhiSGK2uXkeWN0xfEmNXc5QnLAYDqeawPg3+wL4k+Dnw5+LvhSz+J+maivxEikWe7n8LSKbJ5A6SMqi++cGOWQAEjDbWJYAqfsuis+VcvL0ty/K97feaOcnU9r9rm5r/AN7a/wDWh8F6t/wTK1/WP2YdD+CMvxa09dB0nWpNZj1BfCb/AGl2YPiM/wCn7cBpZTnGTlRxtJZ37X8PxU0u9+Dfw48GReDfifrMOmXMuo+CPEFgILLWlhSOJLloZp/LKREkiNrjO8hgH2/J95VheLvAfhn4gaeLDxR4d0nxJYgki11exiuogT1O2RSKcrv70352Vl939WeqSaVr9E0vK7u/x/q2h8g/sq/GP42eF/ironwn+JvwS8J/DzS9Ssbq+08+C3hjgtVhC7jJBDPOqqzMqhiU5YYzzX23XPeDfh34V+Hdi9n4U8M6P4Ys3OXt9GsIrSNj6lY1APU/nXQ1pKXNbv8A1+mn4mUY2uFFFFQWFFFFABRRRQAUUUUAFFFFABRRRQAUUUUAFFFFABRXN+PviR4V+Ffh99c8YeINO8NaQriP7ZqVwsKFyCQilj8zEKSFGScGtLw34i0/xd4f03W9Jn+1aXqNul1az+WyeZE6hkbawDDIIPIHWje9ugbWv1NKiiigAooooAKKKKACiiigAooooAKKK5zx98RvC/wt8Oy694v1/T/DejxuI2vdSuFhj3nOFBJ5Y4OFHJxSbUVdjSb2MT45eAdf+KXw01vwloPiDT/DTa1azafeX1/pT6hi3lieNxGi3EO2T5gQzFgMH5TnI8J/Zo/ZB+Jn7K/w+vPB3hP4s+GtQ0u4vZL8Saz4InlmikdEVgpj1SMbfkBwwPJPOOK9x1j9oT4c+HtL8NX+p+LtPsYvEwhOjQzsy3F+JiBEYoceY24sMfL3r0OqScOZrro/l0+QnLnUYvZar59fmeE6N8FPijoPw18RaTbfF61m8b69qk1/d+Lbrwxv8mN4liWK3tVulWMosaBWLMODlCTmvK2/YM8U6P8AtA6N8W/CXxM0TwjrljpsGnXNjZeEZXtdSCRhJWuA2o7n8wjP3tw2plmZd5+yqbJIkMbSSMqIoLMzHAAHUk0KXLJTW6/RW+6339Q3Th0f6u/57dtlofKmofsFxal8dviT8QH+JGuW2m+PNKk0rVdBtbWEb43iEbL9ofcwjG1SqoqMMY3kZBqeFP2EdV8F/si6/wDAvT/ia1zaavLKDqmoaEki2lvI+944YUnRtxbne8rjJOFAwB9B/Dj40+Bvi/Jqw8E+J9P8Ux6XIkV3caXJ50EbsCVUSqNjHAJwrHHGcZFdrWbprk9m17rVv+3b3t6a/wBIfM+bnvqnf52tf1svwPhrx/8A8E4fEXxC/Zz+H/wfvPivp1vpHg+8e7g1CHwm/n3HDiNWBv8AaNollyQPmyv3dp3dt40/Yz8YeOP2lPAPxkvPiXo0OreEbKGyh06HwpKILhQsgmLE35YFzNKVx9wFAd+0lvq+itueTlzPe/N87Wv9xEYqMPZra3L8r3t96Pzm8XW17ff8Fh7CLS9UTStQHhLMU8kInj3C2kO2SMkFlPcKytjoy9a+ifh5+x+/w90r4ranD4si1L4kfEZpW1PxJd6UfskAbeBHDZrOCqKJGwDMTnbliBivUb39n34W6l4nbxJd/DXwhdeImuBeNq82g2r3ZnBDCUzGPfvBAO7OcjrXf1zxpx9j7OXVST9JScmvxt52Ku1UlNPdxfzjFRX5X+fkfIfwh/4J66Z4I/Zn8V/BHxb4rXxf4Z1u7N7FeWelnT7q0mOw7wTPMrFWjjZflGMEHcDx2/7Mf7LfiL4A6PaaJrnxX1bx/wCHdJyuh6RdadDaw2C843OC8sxUEhQzhF7ICFK/QtFdHPK7l3t+Csvml13I5UoqPS7f36v7+2wUUUVBYUUUUAFFFFABXyH8fvGHiD9nn9pS1+LWueDtQ8afDGbw/Ho8uo6RF9puvDEomd5Z/J6+VKpTe644jUE/Kqt9eV5jrnxK13wl8RNbtNW8Ja3e+B49Ptp7bXdJsjfbbgmUTQG2h3XD/KImDJG6/MQSMcrVSUk9VffbZp3+TfzHo04taO22+6f5pGZ8Cbj4WePtY8Q/FH4YalpOpxeJre1t9Tm0pQheaAysrTpwyTbZ8EOobCrntXsNfLHwL+EMFj+1R4y+J3g/wzeeCPAOsaBDYz2N5p76adW1LzzI12LORVkiCJ8hMiIWZ3IB5Y/U9aS+GL2027atW/C68mideaV3fbXvovy2fmgoooqBhRRRQAUUUUAFFFFABSUtIehpPYDxTw38fPEXi6HS9f0jwVZ3/gXUtXXSodUh1zN9D/pJt2nmtPI2ogdfurMz/MNyr823X8T/ABf16a+8TWngHwna+MJfDEgh1Y3urnTl84xLMbe3Ihl82YRvGxD+Wg8xRvzuC/PMOkXOreItD8VfDLwf40+GXxVvNYtn8SaQ2jXtn4f1K388LeTXJkT7I+Yg7o6N55JXIJyBl+MvAdh8I/jr49uvG/7Nsnxt8N+L9UXVtI8RaL4as9ZvrOR4kSW0uFnw0cashZXLBQH/AClXcUurvr5+7b1TvLXTVW6WdPST62t93vX+e3fR3729mm/bQ0K++Hfwt8aeH/Deqa3ovjvWLfRYWV445LK4kaRXSRMli6NFIMAbSQPmAOa6Pwz8edbvvjRffDbxD4HPhvVZdGfXdFuTqiXUN9bpIsTpKUj/AHEiu6ZUeYMHIY9/FPjxA3hLwl8DdO0f4UaroMOn+ObLxHdeHvBXhma8g0mxQzh2mNnE0Il/eqzIhJJLbd4G49H4h8TSal+3j4D1i38MeL5NCt/Cd3pM+sHwrqK2cVzczQSxI8xgCqNincxO1D8rFSGA10lNcq0cpL0XJdf+T6X67Gcvdjv9mL+fO0//ACSzfbfQs/svfFzx7rTfF3XPiFZeG7DQdF8T6pDe6nZaxPI1n9kjhj8pIGtVDQrHGT5pkVicnyxmuo8UftP6h4Dh8KeI/E/gv+yvh14kvLaxttaXVPMvrN7j/UPd2fkhY42OMlJpGXcNyjkDz/4d/DvX9e8L/tI/CvVPD+taHP4o8Qa7d2muXFsUsHtr6IeRJHNnEhycMiZK4O7FcV8GfDei3g0nwR4i/Y0sNK+IWnxx2954ll8Kab/wjxdMKbtb3hnzjf5cas+SBn+IKn7zgn/LT+envfNWtvpu76l1vddTl/mqfLX3Pk/x2VtD6F/4aE1vVPip46+H+hfD67vtd8N2dleRSXmpQ21tdLcCUqzSAP5SDyscB3Jb7gAJEfg79qzRte+B0nxC1jRL7Q7q31OTQrnw8rpcXP8AaiXP2UWkTjasheXCqx2j5snaAccH8P8AxsNN/bI+L+rXfhXxpa6JfaNptnZ6q/hDUza3Mlkt01wsbi3IbhgEPSU4Ee8sufGPBvgHxv4+/Z48f2vhzwt4g0rxvovxOn8eaNpfiXR7rSk1KEX3nwoslxGikuit8oOVbbu25BqKeqXNta7fW3Oo3X/brbt1tppcKl1O0V1t5fA3/wClWW+l9T7C0H4neN1+IuneGfFPw5fTLLVLaa5tdd0PUZNTs7cx4JivGa3hEEjA/KFMisQQGrlfHH7T2oeF/Auo/EbTPBi698MtLllF9q0eqeTftDFKYpbm2tDCVliVlY5aaNmCkhSNpOz8J/jlrvxikgh/4Vf4v8DRRBv7UuPF1ktmsbBSPKtgJC8xLYxIFCbQTnOFPyr8L/hrpPwfkHww8cfskr8RNetbqaHSvG2l+F9Nu7HVLZpGaGa8u5tvkOFZVbeWb5ScHoW1K/L1tp1vr/WzV1qu4ouNnLpdfLT+ujs3byPv/Q9as/Eei2GradOt1p99bx3VvOvSSN1DKw+oINXqy/C2kroPhnSdNSxsdMSztIoBZaXEI7W3CoB5cKgDbGuMKMDAA4rUrSduZ8uxMb8q5twoooqCgooooAKKKKACiiigAooooAKKKKACiiigAooooAKKKKACiiigAooooAKKKKACiiigAooooAK8j/ao+L2ufAv4La34x8P6Vpus6hZGOOO11K7kgVnlcRRhAkbmRzI6AISgOT864r1yvnz9qDRdY8ZeOPg54eh0PUtT8Mr4hbXNXmsrV5ot1lEZLSCVgNsYknZDucqv7s5IqXHmaj3aT9L6/hcqL5byteyb/DT8TlvjjeeLrP8AZT8P+B/Gk9nF458bXdr4Zv7izvmuYis7l72cO8URUC1S4fbt2x4CgkKCfS9L+M0ej/GXw78Lh4b/ALP0++8P3Gq2F59r/ewwWzxRYmt9g8pWDgod5PykMqHiue8deA774sftX+DG1TTtQi8IeA9Jl1iOZ4XW0vtUuWMMcYkwFk8qKORmUHjzVBGDg+f698OvHPxK8V/tN67Y6Rf6R4hv9Ebwf4Uur2M26G3itt++F2xkTzzyYdflHkjJBolUdpTtvzyt5JcqX/geq8n12BRTag3tyq/m2m3/AOAaPzXQ7/xx+1ZcaL4A1n4geGvCKeIfAOjzeVNq93qn2KTUQJBGzadEIZPtI3nYpdoRI33CwIY+/QzedbpKI3XcgYRsMMMjOD6Gvlf4D+DNKvvBfgS2uPDHjnXNd8NQ2trHpfjiyfS7DRXjRVMqIIYrWcx7T5csSTPkjDqGZh9OeI9WbQfD2p6mlpcX72VrLcLaWcTSzTFELBERQSzHGAACSSBWlXlpKWt7X18v67feyKfNUa0tfp59vl/SR4ZF+1hcXXhP4ta2nge404/D9p47i31bVIIxO0MHny7pIBMqAAqo2mQlyQQNrEaWoftOCzsvg/fJ4XmNp8QL6107ZNdhLixlntnn4jCHzRHsKyHcm3tuwQPFrv4M+Kpv2TfB3gCXSNSj8T/E/wAQQ33jO7htnZrBLqZr2+M7YIjCov2cbsDcVXqa9P1XwdqXiD9sPwaG8P30fgzwH4Ykl026a3YWbX905hYrKRtLRQQ7doJbM4OMZIcY2koz3uk/WMeafylsn3CUk4uUNrSa9JPlh847tdj0HxV8YpYvG83gfwbo0fizxhbWy3l9DPe/Y7HTInz5RurgRyMjSYOxEjkcgEkBfmrzz/hru9g8N/FvXp/h3qE2m/Dq6FjetY6lAzXE0duJrsqJvKAjhyqhgWZ9wIQcisP9mmTxN4F8O/Fcar4P1t/iReeJ9U1S7mu9PlS1vYyxFo8N0V2TRCFYkVI2ZwcjaOSOB0z4Y+MPFH7Ing7wDqGi65aeIviX4kW88Y3rWEkMlpHcTNe3zzArmEbU+zL5gGTtAyCM4x5pxVnq1H5Sm1b5RXMpffpstHyxk77Jv5xinf5vRxXZ9d37f4q/aeuvC/gDwX4rk8INJba5qWmaXd2rajtltp7yRY/KgAiP2iSIv84/dqNrAMWVlHsXi3Wb7w/4dvdQ0zQb3xPfQKDFpOnywRT3BJAwrTyRxjGcnc44Bxk4B8H+J3gm/wBe/aG+Cvhuz8OXx8B+EYLnX3nht2+yfbEC21pE0p+UNGss020ncdgxk19H1o7Si5R0u3b0Vl+al8ramUbxklLWyV/XV/k1/wAA+ftF/bC0K7/Zhv8A4yarod9o0Fk15BNoLuJbpbi3nkhMOVGMkx7icYVck8KTXqF946v7T4k+HvDkehG40nVtNur46yl2v+jyQtEPLaHGSrCUfODgHAxzmvl2H9n/AMVr+zP8ftIv9Mke71K/8VTeGtKgjLzMtxLKyS7OMvIQNg5O1uDiTA9M8feEfiJefsx+Ob2ztNnxS1XwzJaWen2c4c2QEJC20UnAMnLMWGN0jcHaqYipPlpupbVJO3rF+73un+ifZ6qN5qnfeUlfyUlZ/Nff07roV/aGm1+z1nX/AAl4cTXfAmgvOuo+I7jUPsyziAN55sIhE5ufLKlSXaFCQQrtg1518TvitqPxt/ZJ8K/8SVvDOsfFqe00S00z7V9oeC1u5CZZN+xMkWayyngbemTjJyfiYut3v7F+ieBvht4Q8RaTZ6hZ6d4avEutEuYLywtZmjhuz9mZBKWWMyFpNuzkkM3btr/wzqeqftNfDixg8M39n4S8EeGJLuykmt2WzF7cMltsEygx+ZDbJL8oOT5wxxkjXkXO6b1XMl68qcpfKSsl27syU3yKotHZv0baUfVp3cvTpsZfx0mj1D40fCrwFpMFodP8IWNx40ubO6uGt7bNsgtdNhkkVJCitPKSMIx/c8KxGK7fSPjp4l8PeBJPE3xR8E2vglrieG00jRdJ1l9W1HUbiRmVIBEbaELIx27V3NwWL+WENfP/AMS/hj4v8XXPxh+MVtoGvf8ACU6P4k0tfDOkpDcRz3mnaTPFJJ5dvgeb57tdlDtO4EbeG57n9pTR/FPiT4lfBrxwtl4qsfBehXeoPeL4Z09b7VLWSe3WO3untGglbbzMpCRtIgcH5WJCxFuUE5PWTu/+3rNP1cbQ1vZxu79KklGTUVpFWX/bu69FK7807LY9R8N/GvXp/jLZ/D/xL4PttEudR0abXLO4sNY+3PFDFLHGyXaeTGIXJkG3Y8qsVYBuKg/4aEn8RWGsa94K8OReJPBehvMuoeILjUhaR3IhDef9gURv9pKFSpLtDGWGFkOCRxvjzwFqjfA/4rt8MvDeqReKNc0KVbfX9cnlGr6pOY2Cptn/AHsaqrMEWTywrHCxheTy/wAUdN1zXf2NdE8CfDjwx4j0OwvrbTPDl3HLo81vfWlpJJHDdjyJFEg2xGQvKV24PyltxZZfM04x0krLyvKUlr1tGyT6u99NnUeXmTl8Lv8AJJLbzd212s1ruvRf2L9Jnm+EU/jjUIWh1b4g6rdeLLhXGGSO4f8A0ZD/ALtukA/Oveqo6Dp0Gj6Hp9ha232K1tbeOCK24/dIqhVTjjgADjjir1az5U+WHwrRei0X4GUeZrmnu9X6vV/iFFFFQWFFFFABRRRQAUUUUAFFFFABRRRQAUUV8dftAfE74sfsy/FzSPE8PiPU/iN8LJrS71DxB4cuNNskutItEmhRri2lghjeRYvPT5H3HajFmbO5Vdcyi3a/3bX1/wA9u9h2bTa1t06/L/L7j7ForxL47eML/wASfs56l49+G3j+60P7Ppb6zp+qaTb2d3DeIIyypItzDINh/wBnYwI69RXk/wC11rHxO+Cfhf4Y3vh34x+JDPrHirTvDWoteaVo0nnRXLyl5xixASUABRj5MKuVLbmamnF2as7pfN6fmTFqfwu+jfySv+R9i0V8reOPip45/Zx+PXwp8L6v4ouPiJ4O8f3cukmTV7O0g1PT7tdpSRXtIoY5IjvAKmPI253dq+qaS1jzLa7XzX/Dr7wekuV72T+Tv+qf3BRRRQMKKKKACiiigAooooAKK5bVvit4J0DT5b/VPGGgabYxXf8AZ8l1d6nBFElzgHyCzMAJMEfJ15HFb95qllpunS6hd3cFrYRR+bJdTSqkSIBncWJwBjvR0uHWxaorltA+KvgrxX4dvvEGieMNB1jQbBXe71TT9TgntbdUBZzJKjFUCgEkkjABqlD8cPhzceDZvF0Xj/wvJ4UgmFtLrqazbGxjlJAEbT79gbLL8pOeR60bbgdtRWJH438OzaXpOpx6/pcmm6uY1068W8jMN6ZMeWIX3Yk3ZG3aTnIxTdB8eeGvFWpanp2i+ItJ1jUNLk8q/tLC9inltHP8MqIxMZ4PDAdKdneweZu0VXv9QtdLspry9uYbO0gQyS3Fw4SONR1ZmPAA9TWFD8TPB9x4hsdAi8V6HLrt9bi8tNLTUYTc3EBG4SxxbtzIRzuAIx3peQHS0V87N4x1Tw7+2tq+lar4sul8HxfD8a0bK/njis7OU35jaTgKOEQfM5JAzzya9u0bxx4c8ReGk8RaTr+l6p4fdGkXVrO9jmtCoOCwlViuBg5OaPsKfe/4Nx/Qck4zcHurfjFS/Jo26KwdN8f+GNZ1Q6bp/iPSb7UVs01E2dtfRSTC1f7k+xWJ8tuz42nsaqeEvip4K8fX17Z+GPF+g+I7yxJF1b6TqcF1JbkHBEixsSvPHOKfWwulzqaK5XVvit4J8P8AiRPD2qeMdA03X3TzV0q71OCK6ZP7wiZgxHvirfjDx/4Y+Henx3/irxHpHhmwkcRJdaxfRWkTOeihpGAJ9qXS4dbG/RUFle2+pWcN3aTxXVrMgkinhcOkikZDKw4II7ip6ACiiigAooooAKKKKACiiigAooooAKKKKACiiigAooooAKKKKACiiigAooooAKKKKACiiigAorkI/jF4CkuLi3Txv4ce4t72LTJol1a3LRXcpIit2G/IlcghUPzHHANdfR0uHkFFcf408e+GNLkn8OX3jWw8NeILyzmltolvbZdQVFQlpoYZgwfYAWyUZeOQRXlP7IXiLVLT9nG08cfEHxfd3w1y4uNaXVPEl1HH9nsJJCLUMQEjjHkrGxCqq7nbgZpJ3u+i/wA9vwf3MbTVu7/y3/L7z6GorI8K+L9C8daLDrHhvW9O8QaTMSI7/SruO5gcg4IWRCVOD6Gs21+K3gq+8YP4Tt/GGgT+KYwWfQ4tTga+UDqTAG3gD6VWt7dRdLnU0UUUgCiiigAooooAKKKKACiiigAooooAKKKKACiiigAooooAKKKKACiiigAooooAKKKKACvOtchiuvjv4cgmjSWKTwzqqPHIAyspubAEEHqCK9FrzXVf2d/BetfEq38fXSa+fFNvxDdw+KdUijiQsjNEsCXIiWJjGhaIJscr8ymiNudOW2v4pr9Q+y7b6fmmfIXxv0bUv2K/DfjbwtYWVxf/AAO8eQXMOlLApc+F9XnU4tyO1rOx+U9EY44zlvSP+Cklu918OvhFBHcS2kknxK0NFuIQu+InzgGXcCuR1GQRxyDX1P4u8I6N488O32g+INPh1XSL1Nk9rOMq4BBB45BBAIIIIIBBBFcH8XP2Yfh58dtQ0+78b6bqmsNp7RyWkEfiHUbS3gkQsVlSGC4SMSjcf3gXfjAzgCi75YRevLJP5Jp29dLX7W7auNoznNfajJfNpq/43a7376UtL/Zl0P8A4WjpfxC8UeIvEPj7xPo8ckWkTeIJbZYNMD8OYILWCGMMRwXZWbAHPAr2Gs/QdEt/DejWel2kl3LbWsYije/vJrycgf35pneSQ/7TsT71oU+llsT5vcKKKKQwooooAKKKKACmTQpcRPFKiyROpVkcZDA8EEdxT6iurdLy1mt5DIscqNGxikaNwCMHaykMp9CCCOxpO9tBo+L/AII/DrwvqXwk/aXiu9A0+6iXxf4otUSa3VxHEFB2ICPkXIBwuOQD1Fcp4X8Y38ng79hfT9dff4L1aBV1J7gkwz30enf8S+OQk8nzMsoOcsinqor6Z8P/ALH/AML/AAtoPifRdK0/X7LTfEztLrEEfi7V/wDTJGYF5GY3WQ77QHcEM65ViVJFbWk/s2fDnR/hanw5j8Om98FxOJINL1S/ub4W7KQUMMk8jvFtIBXYy7Tkrgk04Xg097KmrecE035b3T6NIc3zSk7bup8ufb7tjyr4o6Jd+H/27Pgxq/heMW9z4g0nWLXxQsACrc2NvHG8EkwH3ik0iqrHJG7HSuP+ByW1v+zx+1HDIsUUEfi3xYrxsAFX930I7da+pfBPwr8N/D2SafSLa7lvZoxDJqGralc6leNECSsX2i5kkl8sEkhN20E8Cufuv2a/hteeKvEPiKXwvEdV8QRlNTZbmdYbklChlMIcRiXaSPNCiT/arKpDmpSpR6xlH/wKSl+hpGa54za1Uov15VJffr9yXqfKOqeH9N1T9mD9jCa6s4ZZz4g8M2/nbcSeW1pLuTcOdpxyM4NetX2h6Z4T/wCCgXguPRdNtNKjv/h9qEVylnCIVkWK8tzECq4B27iBkcA13fiH9j34S+JtF8M6Pc+Gbiz0rw1Ik+k2ek6zf6dFazL9ycLbzxgzLjiVsuOzVqSfs0eApviZpvxBltdbm8X6dClva6lL4m1R/LhUKPK8s3PllG2gshUq5JZgxJJ6qk+et7Tb35y+Uoctv1Oaz9mo9oRj84zcv+B8ij+2Bpdlq37L3xTS9tILxIvDeoTRrPGHCSLbyFXGRww7Ecivm39pL4U+GT+wl4S8U+H9ItLXx3pttoOoaBrFnEPt76hI9sihZfvuz7sYJPQH+EY+kP2vdQltv2b/AB/YWmk6zrmpaxo13pdlY6FpVxqE8s8sEioCkCMUXPV2wo4yQSM89+zX8IfBN18OPAmvf8Ivrum6npljbKukeJBqNvFpt5HEEkkh066YRQPuL4liiGdxKsQc1nS+Kcuzpv7nJ/5fgaTfK6Tav8enR35N/Wz/ABMKbQ7PXv2/oY9ZtIL14vhjDKYZl3x+YNTf5th4JB6EjjqK800PQdJj+D/7a2gppdquk6drOs3FrZ+UphgdtJjcsiYwh3ktx3Jr6Zuf2Z/AF18VpPiU9lrC+NZIvIOqReJNSj/c5z5IiW4EYizz5YXZnnGeawrP9jD4U2OmeKdPh0zxALPxSd2txt4w1lv7RY4y0xN2SzEDBJOWXKnIOKwlGUqfKtLxnF+spqX4Wsa06ihWjU3SlB/+Aw5fx3PMNS8D/Cbwt+xTZ+KvFmkf2dHfeBrHS9R1zRYY11i4huI4R5CTsMnfIyDDnbzzhQar69Dr9h+2Z+zxcarp+j6BHLomu2cOm6a7TyxW6W8TKs05CK/8J2LGFQhsO4Oa+gdH/Z78BaL8KLj4aR6LLe+B54jbto+q6jdX6LFgARo08ruiLtBVVYBSMqAeaztO/ZZ+FulzeGZ4fCcUl14bLnTbq5u7ieeMOgRlkkkkZpl2gLtlLqABgDFdspqVeVXpd29GpL8OZ+vl144QcaEaT1aVvu5bf+k/lueHfEX+1vhHoXj/AF+80zSvij8FdR1u61fWHtmEOuaDOk+2eRQ4Md0kEsOV5SRAgA3BRVvTfEvinxh+118TNE0zxb4T0O9/sjS20ax8UeHZ9Sku9LkgLytbbb62AUzGQSKFYkqmThRj2hf2YPhwutanqX9jXudUvpNT1DTzrd+dOvbl33vLNZef9nlJbB+eMjgegqX4zfsyfC/9oSOwHxB8HWPiKSw/49rh3kgniXOSgliZX2E9VztPpXNFWjFPWyt6K1vnbZXWqvfdW6JNOU2uv/yV7+XnZ72ts74f7Jvwof4J/D3VvCP/AAmNr4xgs9bu5YmsdPayg00SlZGs40M03yxs7EfPxv2kZU59rrH8I+ENE8A+G7Dw/wCHNLtdF0WwiENrY2cYjiiUdgB75JPUkknk1sVpJ3+Vl9yt/X5szj59bv79QoooqSgooooAKKKKACiiigAooooAKKKKACiiigAooooAKKKKACiiigAooooAKKKKACvnj9pLXtS8YfEr4b/BjTb2fTLLxY13qPiC8tZDHMdLtFUyW8bDlTM8kcbMOQm/HWvoeuN8cfCHwp8Rta0DWNc02WXWNBleXTNRs724srm2LgLIqywOjFGAAZCSrY5BpW96N9r6/wBettOq06hrZ23/AK/pPo9eh4T460Xwx43/AGrPhB8PNF062t7D4d2Vz4nu4LOFY7e1G1beytwANoO9mk2jp5Q9a9L/AGrPivqnwb+COt69oMUcviOeS30vSfPGYlu7qZIInf8A2VaQMfXbjvXW6X8I/CGi+OJvF9josVt4gmsotPe6jkkCeTG0jIoi3eWCDNL8wXd87ZPNaPjzwHoHxO8K3/hrxRpkOsaJfKqz2kxYBtrBlYMpDKysAwZSCCAQQaJK8FHrdt+d3+DcbK/zGrKfMtkkl5WX4rmbduzsfLn7Q3gzS/hn+zrZ/CfThLrnjL4hajaaNdaxcYe6ubqeQG41G4k67lRJWX08sBcKh27Xw20aP4hftVeL9L1CIDwh8IbLTNJ8OaK/+pW7mthK96yHgukeyONudoLkYJNe23XwP8F6hD4eS90d9RbQbv7dYz317cXEwm8lod8sryF5z5Tsn70uMHHYU3xZ8DPBfjTxI+v6npdwurTQLa3Vxp+pXVj9tgXO2K6WCVFuYxubCTB1G48c1V7Scut/TolHTy96y6c11siLe6o+Xr1vLXztG/ezXW584/DSx1z4map+1l4p8Ha3H4b0LxHKuleHtYcmO3W9tLFre5v1YfwebtHmDr5ROTisjTvg7q/x6/Zx+Gnwwsfh1F4O8IWdzp17q+uatNZ3UF7FbsskklkkUkkkxuXXPmzrFuSRid27B9++N1nq/hXwf4W0Xwp4WN34G+2rYeItM0O0Rp4NIMMilLeAYypfy0ZYwXCM2wZwR5H4V+EehaX4j8N3nwHh+IXgdbfVrd9T03VLfVLDQjYhwblZLPUlUEtHuVPs65V2U5Vdxp00nJLouRf+AbSa7a33ezVnYqq205Pe0n8npZd5Wjba+qd7tn1hoPh/S/Cuj2mkaJptno+k2aCK2sbCBIIIUHRUjQBVHsBWhRRU7htogooooAKKKKACiiigAooooAKKKKACiiigAooooAKKKKACiiigAooooAKKKKACiiigArwLxp+19YeB/jjonwqvPhv44ufEeutIdJuLaLTvsd9FGC0kqSveLhVVSxVwrgY+XkA++181ft2eANW1T4Z6Z8RvCcRfxx8Nb9fEmm7M7p4U/wCPu3OOSskIbKjqUA71PMoSjKfw319O/wAt/S681Si5pwj8TWnr0Xz2PYfjB8TYvg78P9U8XXPh/WPEdjpkZnu7XQkge5SFQS8oWaWMMFA5CsW9Aa8t+In7ZFv8LdB8Iav4i+E/xBs7TxRdQafYr5WlmRLuZnEVvKv2/MbsE3ZPygMAWDBlXZb4gaT+0Jovw5tdAka50HxLbxeJL8jPy2EJR1hfHRnuDFGVPVUmHY15f/wUpnktfh/8JZoreS7lj+JeiOlvEVDykGYhFLEKCegyQOeSKppwajLrJL5XUX+N/RoKfLUTcekZS+6Lkvy18mj2HQv2k9DufiLpfgPxNoWu/D/xbq0D3Gl6d4jjtiuoKn3xDPbTzQs6jBKeYGwRxXrlfKPxC+F/jz9ov9ob4U+IdR8H3HgDwZ8Pr6bVXuNZvbOa/wBSuGChI4Y7WaZUiyiks7gkE/LwM/V1NfAm97v7uj8vTyv1sQ9J2W1l9+t1+T+dugUUUUhhRRRQAUUUUAFFFQX1vJd2VxBFcy2UskbIlzAEMkRIwHUOrKSOo3KRxyCOKT0Qyeivlj4B+PPGXh/xl8bvCXxU+I2pa3qnhV0vNPuJtOsLVV0eWEvDdxrDbrvkDCRH3bkDRqAoyc2dc+Knij4P6D8OvCfijxL4i1vxZ4ve6u7zVofDq6jfaZaxRK7xxWmn2m13UyRRh3iZQWd2yAEo6J90n9/T1Vnfta24Wd2u1/w6+m1vW+2p9PVleKNal8OeHdQ1ODTbnV5LSFphZWbRrLLtGcKZGVc/U186fBv4sfEPWviF448HTnxNq/h230uPU9A8ceLPBd1pL+Zu2zWk6Nb2scrrlWQoiZXOQ201X/Z18QfFn4wfCXwP8RvEHjnT10i80e//ALV8PW+ix/6a5aRYpRcZDRFSo+VV27eDuPzVFTmVKU46WV//AEr9Ytfc9tSqdnUUX3/y/R/mnroe3/A/4oRfGr4S+F/HUGnvpUGvWa3sdnJKJGiVicAsAATgeldzXwD8LJ/jB4J/YP8AAXxE8GeM9NtbPwv4ZXUn8I3GjxzQanawqzypLcsfNSQqrEGPaBwpDfer7b+HPjS3+JHw98NeLLKNoLXXdMttShjk5KLNEsgB6dA1dVSNpzUVpF2++9vvs/u1OenJypwlL7S3+6/3XX36HR15l+0J8av+FC+AW8UP4dvPENut1b2rpbTxwrEZpo4UZ2Y7sbpB91W6HpXlHhnXvjB8WPHHxq8I2PxB0/wofC+s21np2q2egxTyIsllFOE8qVmXbukO5mLk9F2dT5H8QvjN4l+MH7C/jZfF9vZp428K+MbXwzq7WYMdtcXNtqdriVBztDK6E475wB0GVP35R8+V/wDbsnFf+3Jd9dC53UZNf3lfs0n/AJN9tNT9AKK+dPE3jL4g/Db9pn4Y6RqXiy31zwp47/tCym0Y6dFAmm3FvbGeOS3lUeYwYKVYSO3XIxnAw9G8QfGX4nfFL4x+D9I+IGleGE8KarpIsL9NAS5zFLbrPLC0Tv0YMVLly3TbtwckVzW/q1mk/wA7+m2uhUvd3/rR/qmvXy1PqeivkH9oL4sfET4d+HPid4lvPHEfhLV/D3n3nhfwjptpZ6hHq2nxRIwubxPKkuUV5PNUsrwrGFBY9z1HxU+O17pVn8NNR1fxBqXw38DeI9I+3X/i7TLCG4WzvGWBoLaZ54Z4reJ1kl/eOhyUADr1Mx95Jry/FNr56NW3vpa+gS92XK/P8LX/ADWu1tb21PpaivnTxZ8bNb+FPwl8Iy6rrsPi3XfE/iBtJ0/XtH0t75ZbV3nmjuUtbMO0zLaxD5YwQXwT8uay/hV8XvGrftAweFP+K38afD7VtMlul8ReKPBN1osukXsZz5DyGytopIpE+7lNwYAFjmqSvJxXmvmlf8u/XTfQUnyq7/rXlv8Af+Gux9P0UUUhhRRRQAUUUUAFFFFABRRRQAUUUUAFFFFABRRRQAUUUUAFFFFABRRRQAUUUUAFFFFABRRXkf7U3j7xJ8M/g7f+IvDayo9pd2v9pX1tai6nsNOMyi7uooWBEjxxF3AIYcZKkDFS5KO/9X/Tu+hUYuTsj1yivFtW+LafCL4S6p491vxP/wAJ54aNvaHw/NZwxC91R5QFiQmJUjeWaWRVUxoiBdvyjDE+efG7xJ8Z/Afwdg8Sp4vh0/4geIr2y0Ww8M2dhayadp895OkaeW0kTTTTQqxZnd/Lfy3PlKCNt2fNy21ul83svX8tL2uiLrl5r6Wv8lu/T8+lz6sor5t8K/E7x74J/ac8Q+BvH3iTTte8Ot4RHiPS59P0j7E8Xl3Xkyo48yQySYaPkEBiRtRelJ4f+LXjn4m/BvxxcWN9F4R8dWni280DSoxaR3ao8NyoihdG4cNH/rHH3VLsCAoNEVzWt1Tf3S5Pz/rYb934tNUvvjz/AJH0nRUM9xHZ2sk9zKkUUSF5JGO1VUDJJ9BXz94S+JHir41eFNW+JNh4ik8B/Du08640NI7OCSfVreDduu7tp0fZbybTtjiEcmwbjKCwCxKSim3stX5L+vnv2ZUYuVrbvRev9fL70fQ9FeRfsn+JPGXjb4CeFvFHju7+0+IdeifVTGII4RbW80jSW8ACKuQkTRjcRuPJJJrlNf8AHnxH1H9sCy8AaFrenDwdb+H21nVUj0sCex3t5MCvO8jiV3dZnVVSLaEG7eAQ2koyjP2bWuv4Jtr8H5GcZKUHUW2n4tJfmj6Ior5S8G/tMan8O9L+OkvjbVLrxlpngXxFFpGjaglrBFe6pNPDEyWOyFEjaVZpViDKi53AnoTS/G7xJ8Z/Afwdg8Sp4vh0/wCIHiK9stFsPDNnYWsmnafPeTpGnltJE0000KsWZ3fy38tz5SgjbK97l5db8tvWSTS9dV6XV7XRWivfpzf+S3u/TT59Ln1ZXn/x2+LafA34Y6141n0G+8QWWkwtcXNvp80EbpGASXJmkQEdBhdzEkYU15TqHjz4oSftQXPw/wBH8T6Rf6XZeGE1GRH0bY1tcTSGKKS6cSkyqBHNLtiEOT5acBiw4v8AaQ8Uah4V+GHwj8AfFnxXp97qusasupeK9VtYfKglsNO3XtwEiVQSpaO3iAC5bd0yal6xTTsm7X/7eab9FZt+WxUb8zXLeyvb5JpervZee/n9b+F9Uutc8N6VqN9YHS7y7tIriaxMnmG3d0DNGWwN20nGcDOK068n+EvhLxsusXfifXviZrHiDQdRzPpfhy4sdNSK1t3UFPMmgtkkkcdRtcKAdpMmN59YrWW+1vLt5fIyjtvfz7+YUUUVBYUUUUAFFFFABRRRQAUUUUAFFFFABRRRQAUUUUAFFFFABTJokuInikRZI3UqysMgg8EEU+ik0mrMDw/9l39mWy/Zr03xVY2eoSahbalqs0+nJIxIsNPMjyQWaZ6KjyzNx1MhNcv+2R8F/if8dE8F6X4MtfCMGl+HvEFj4la913V7qGeea3Mn+jiGK0kVUIYfvPMJ6jYMZP0xRTd3y3+zb/yW1vy+fUaduZr7V7/9vXv+dvIz9Bm1S40azk1qzs7DVmjBubWwunuoI37hJXjiZx7mNfpWhRRTJCiiikMKKKKACiiigAooooA8X+J/7OsXj/42+BfH9tqbaYdJhmsNbtIxj+17EkTQwOcfdS4jR8d1Ljvgr+0d8Edf+KH/AAiviTwP4kh8KfELwjdyXej6hdwGa1lWVNk9tcIOTHIoXJHIKgivZ6KVtElpZ3Xrv/XTfux31bfVW+Vrflp327I8Z8F6N8cF8KatqPjfUPBeq+MGtWttO0PQDd2GjoWIzJNPKs0zvxwRGAoBAHzFhQ/ZQ+FXjn4U/AXT/h745Xw+LnSoJLS11Dw/fT3KXEbvI250lgiMbLvAwCwbGcr0r3Wim7SUovaSS+6/+bErxaaeqd/6+4+YvBP7PnxG0X4CwfA/U9R8Nr4Qh046M/irT5rgajcWLEq8f2J4vLilaMlPM+0OFJ3bDjFfR+haJZeGtE0/SNNgW10+wt47W2hXpHGihVUfQACr1Iyh1KnOCMcEg/nVSlJ3b3e/n/X6vuyVFKyWy28v6svuXY+RfhJL4+s/2j/2kp/CNn4e1e0k8Q6bFLaa3fz2JgcaXbnzlkigm8wEEDyyqfd+/wA8S/E39lHxvJ+zne/D/wAF3nh3U/EniDX/APhI/EGu69cT2MT3ZvEunMMMUMxKlkWMKzDaig5Y5r2f4b/s2+A/hN4u1jxP4Zs9Ytdb1jnUrm88R6lfC8bgB5UuLh0dwBgOwLKCQCATXp9Je7GFt0or/wABt+F0n/wyH1kns3J/ff8AGza/4c+afil8NPjF4++LXwf8X22i+B7S28Fz3F7fWsviO8Z7iW4tzBIkTDT8BUBLKzDLHAKpjJ0vgr8Nfil4O+PXxP8AFfiWw8IJ4a8Z3NrcomlazdT3lkba38hAVezjSTeApPzLt5xur3PTPEmk61falZafqllf3mmSi3vre1uEkktZCoYJKqklGKkNhsHBBqfVNUs9E0261DUbuCwsLWNpri6upFjihjUZZ3diAqgAkknApJ8l301+52f6Kw2nKy7WX3X/ADu7nyrdfsv/ABNl8K/HbwYviDwxPofxAuNQvbXXbyO4k1RWuYti206gBBHEAqpIGchFx5fTHd6V4N+Mng/Q/BthYJ4L8R2Fj4fTSNX0TUb+6s4JZUWNUkhmFvPkBRIG3RDfuAwuK9xsNQttVsbe9srmG8s7iNZobi3cPHKjDKsrDgggggjg5qxT1iuXskv/AAFNL8H+u4nab5/V/e03+KX/AAx8tN+xndr8D38M6T4ih8I+K7XxRN4x0O70mEvY6HeNIzpbwxtjdbhXZCCF3b2baudo9E+Deg/G1rwXfxc8Q+EJFswy2mn+CrS5jS4Yjb5tzJOxJIBOI0VVDHJJwuPYaKE7en/AS/JJfLvqD97V7/5tv8238+wUUnTk1R0XXtM8R2jXWk6jaaparK8LTWU6zIJEYq6FlJG5SCCOoIwaQy/RRSdOTQAtFUdH1zTvEFmbvS9QtdStRI8Xn2cyypvRirruUkZVgQR2IINXqACiiigAooooAKKKKACiiigAooooAKKKKACiiigAooooAKKKKACiiigArz/xlpnj6HxRLqvhptE1fSm05bNvD2tXU1nG8xkZmn8+OKbbhCF2eU2/P3kxz6BRSaTt/XS35P8AXew79P67/wBf5Hytq37I3iDTPgL8PfCXh3V9Kudc8H+KovFUdnqAlg0u4YXMs5swVV3iiTziI22sR5akr6dn8Qfg14y+I3xa+FXiu+1DSYdJ8LXN1f3WjiaZ447h4PKgeP8Adjz2QvKdz+Xj5Nqj5t3u1FXezv53+dkv0X3Ceu/a3yu3+r+88s8Q/BCHxJ+0H4d+JF1esIdF0OfS009ek0klxHMrvxyqGIEDP3sH+Hml8JfgTceAPHnjrxJqesf2nHrWu3OraXpyJiHTlmjjWRuRlpX8vljkKp2rgM272Cs/WvEGl+G7P7Xq+pWelWu4L597OkKZPAG5iBmoguS3L2a/8ClzP73/AJBL3ruXdP7lZfgZPxN8Hv8AEL4c+KfC8V8+mSa1pdzpy3sYy0BliZA4GRnG7PXtXgXiH9n34m+LP2Q4fhLLfeG9A1O30u10QvpN5cG2vLeNo0dmkMCvDvhV/wB2qP8AMQC5XcG+o6KLfEu9r/K9vzf3lczXK10vb52v+S+4z9A03+xdDsLDbDGlrAkKpbqVjRVGFVQewAA/CvlH4ESfEzx14k+KfxG8L2XhiPS/GutS2el69q19cG5srKx3WcDraJAUnQsksoXz48mQ5PNfUfjLwfp3jzw7d6HqzXy6fdALL/Zuo3FhMQCDgTW8iSKDjBAYAgkHIJFZHwq+Efhj4K+FY/DfhC2vrHQ4W3Q2d3qt3fLAMAbYjcSyGNOM7FIXJJxkk1XxTlOXVW+9pv8AL8yPhiox6P8AK+nn8+yPGvHv7Jl1D8KPBmg+CNQtbnXfDfiu28X3E3iN2WLXbxZHkna6kiRijSM5YMqMFKoAuAMdD8Qfg14y+I3xa+FXiu+1DSYdJ8LXN1f3WjiaZ447h4PKgeP92PPZC8p3P5ePk2qPm3e7UUJ2++/zsl+SVu1tLDeu/a3yu3+bfrfW55b8IfhVqXg3xp8S/FviCayutc8WayJons3dxDp0ESw2kBLKp3AB3YAYDSNgnrWR4g+BN346+N/iXxV4klsbjw3N4RPhfSLONneaL7Q7tfSyKVCqXAgRdrNkIc46H1n/AISDSxrK6R/aVn/azRmYWHnp55QYBcR53bRkc4xyK0KzcVKKi9krfLlcX+F7lKTTbXV3/FSX4pfLQ81/Z98E+Lfh58K/DPhzxhqdjqGpaNpsOmbtNLPFIsIKLMXdFYuyBMjGAQevWvSqKK2lJzk5S3ZnGKiuWOwUUUVBQUUUUAFFFFABRRRQAUUUUAFFFFABRRRQAUUUUAFFFFABXwn+0p8G/AOp/wDBQD9noX3gvw/eR+JIdefWo7nTYZI9SeK0DRNcKy4lZSchmBPT0FfdlfAP7W3xF+Feq/t0/AHTPFXiDwrfaPosOuQa/a6tc28trZPLbKIUug5KRlnUYD4OcH0q6NvrEO/vf+kS/W3zsOV/Y1PT9Ub/AMP9N0zSf27vGvwp8H29rqPwiufCCz+JPCuwXGkadfM+xY0hOY4vMjI3RABSCcjjjkP2UfgR8IL2T9ppvE/hLw3a6XoXjrU7S31Ka1ihl0izRAQILjAe3VBkjYy47V9xaLoHgb4O+ErubSNN8PeCPDFtG15cyWUEGn2USAZaVyoVFAHJY8Y718Q/sSwfBb4zfFL49w6xaeCfGetXfj+/1XR49TtrW8uZrM7ds9uJFLNHnJ3JwM571jyuT9mnqoS1/wC3k/wTstdluac0VTc31nH/ANIkn97Sb03Z7V/wTi8Z+LvHX7MOmah4tv73WGj1C7tdK1XUsm5vdPR9sMsjHlj95dx5IUcnrX1BUdvbxWlvHBBEkMMahEjjUKqqBgAAdABUlbTlzO/9er83u/MwiuVfN/K7vZeS2XkFFFFQUFFFFABRRRQAVHcTLbwSSuHKxqWIjQu2AM8KAST7AZNSUUAfPd9+2z4Pi8J674h0zwv418RWGhalc6bqq6ToheSx8hgss0qu67UUk8H95hWOzAzXS65+1V8PtF8K+BPEi315qWheNLu3s9J1CxspHhZ5t2zzGIAQgI+VPzjaRtJ4rxL9mX43+BvAOg/GHSvE2t2umah/wsHxA1vpt18s+pBps7LSMjNyxwV2RBmzwRyK8m1ddK/Zp/Zx/Zf8LePNXsfDetW/j601640q9uVWWxs5JruRi6k5CRCeNHb7obPNOnaXJd/F7L/yb4l8t/LW/Qcote17x9rp/h5uV/ekvO6ts7/aGg/tEaRrmi3F3J4a8VaNqP8AbEuiWWh6xpRtb/UrhE37rdHba0RTLeYzKqhWLlcGjwn+0Z4e8SXXivTbzStd8OeJvC8SXGqeHNSs1lvo4XBMcsYtnmSZGwcNE7AEYODXkH7ZLw2+sfCX4oSwa/4h+HOjyXqaxN4L1O7t7mC2u4Y/Jvo5LKVJHiUx/NtYgrJnBq38A4/g3461jxF8Q/hZa+KNelm0OXTbrxh4g1HWp0lj3B1tY/7RkJlwQWLIMJ03fORWUpNQlL+VO/k0tL7Wu/lZ2WqsUknKK/ma/F7edl8+r0Ztal+3h4A0zwP4d8byaJ4uk8D6ssby+JYdHL2OmB22p9pcPkc4z5YfaSA2G4r1jxb8XNH8M3GkWFlb3fijXdYt3u9N0XRPKe4u4ECl5g0skcSRjenzySKpLqASSBXxn8Lvin4U8Tf8E3NK+HtrdRap461TwfLo9l4RUZ1K5nkV4onS3PzmLcyv52PLCgsWABNdbpeh6l+yz8fPhnr/AI0vGbwGfhxbeC7rxFLk22mahbSLJvuJekUcoBAkbC7gMkV0ygo1JQbsk7J99JO3bdRX/by674Rk5Uo1EtWtV846/c5P/t19Ln0R4L/aH8J+L7bxYty154X1bwinm+INF16JYbvTY/LMgkcIzo8ZQFhJG7ocHDGneFfjhH4k8QaRplz4M8U6BHrMMlxpmoanb232e6iSMSFswzyNGSpBEcqpIefl+VseH3lrpGvfHf4rfGu1gHiH4b2Xw6/se4e1Ie116RXluJhCw+WZUiVY/MXK5kKgkqwFD4P+KLHwz8TvAui/CX4i/wDCzPhtqHnC/wDDWpTrfXXhCJbZ2jmW5P76BM7YfJuSW+fCnriIq9ubRtfc7yWvVJpJrok3d9TSfuq62v8AfpF6dNLtP5W10PaPCPxb8LaxcfFWfwN4NvbvxH4dvlh1i1hsYNOuNUvPIVk+eZo9x8vYN8pHAGMjFeffBf8AaRPjT9lS88e/E3wVrEGhtYXd/fyTQW2oWl/btLO0kUMUU0khjjRdh8+OMYA6isL9kv4leEvGnxw/aWtNB8S6TrNzfa9Fe2kNjeRytc26WMMLTRhSd8Yk+QuuQCQM8iuA8C/FDwxov/BMDxDoup6tDpWp6X4b1TRb231ANbmHUGNwqWh3gZmYkYjGWwQcYIrnnJrDyn15INfNO/42X4GtKPNXjF6Lnkm/+3lb8Lv72fXcPxc8J+H/AIb+D9btraaz0/XoLWLQdDtbZRczmWIPDbxQodoIQHPIRFViWCqTVbwf8ftG8SeNLvwbq2ja14L8YwWZ1JNC16GEz3NqDtM0D20s0UwB4Ko5YEjKivly+1onwh+yP8X9EuD4l8C+DbY2PiBtHzd/Yhcaetq1w6x5OIHDLJxlMnI616T4ok0T44ftO/CDx54M12w1bwt4HsNZvNa8SabcpLYhZ4UiitjcKdhbcHkZQTtWMltuVz3VIxjWkr6Xkn5JJtP5732adlqmc1J81GD6uKfzu04/ouz1eh2En7YnhWfwp4q1/SfDXi/xBbeF9RutO1aDTtKHnWxtwpmlZZJEAVc/dJ8w7WIQgZrrtc/aA8Lab4V8G61p/wBs8Rt4y2Dw7p2lRobnUi0JnATzWREAjVmLSOirjBIJAr5c+Afx4+HP/Cof2mZ28caBHF/wlniG+DSahEu+3uNqW8y5b5kkdlVGGQzEKMnisf4b/HrRtD/Z1/ZctRqWnWWi3Ft/ZepeO1tor6Tw3eRWgVbdC6ulvcSl/L3SKQF3Dad2RyxvK0Xvam//AAJPmX4K3m7a6I2laM5JdHUX/gL91/dr5rtufYHw3+LWg/GceKdFbR7/AEvVdBuV0/W/D+v28XnW7SRiRA3lvJFIjocgo7Ka8r/4J5W0Vn+zvJb28SQQReJ9djjijUKqKNRnAUAdAB2rkf2afEegeDf2j/2jXvNT1G10+U6Rqg1DxF56MbZbFjJcyyTgeXGCGwW2oOAoAwK1/wDgm5458PeKvgbqtlo+t2GpXtn4k1ee5tba4V5YI57+eSB3QHcqyLypIwwBx0NJJ+2TX/Pu79W6f63t8yZfBb+/+kv0aPZviN+0D4X+F/jbwv4W1qLVm1PxG1wtibPTZZomaGEzMu4D5nIAVUTcxZgMemN8NP2jPCPxp8WeJPANzoeteHPFGlwia78N+LtOW3mntGO0TxqGdJIiSBkHIyMgZrgf2pvFGneDf2iv2bdX1af7Lptvqusie4KkrCrabIu98A7UXOWY8KASSACarrq3h3x9+1lZfFzRda02TwB4Q8GXdlqni6O5T+zZ5Jp1kWJbnPlyLEiSO5DEJvUHk1UWm1zbe9fysm1+i13v3Kqe6ly72T9bys/w1+XY4r9mf48aB8Av2Wlvb7w9r+o6DpfiDWl1C60GwWa30mD+07gCSbLr8qjBKxh2VSCVAIJ+kPHX7RHhP4feIPB2j6guqXNx4saRdLmsbCSWGUpAZsb8YLMoAVF3MxYADrj4q8I/GzwBcf8ABNX4sWK+MtEW/k/4SO1Szkvo0naW6ubyS1QRk7i0qZZBj5grEfdOOr8X/tDfDhdc/Y9vrrx94eKWxe5vp/7Sh22ytpctv5kxDYjXz90ZLYAZWHVTggpOEVLf92vP3l+lr/MmpJRqS039o/8AwF6fff8AA+kbH9qLSNS0vw99m8HeMB4n16S9Ww8H3enxWequtqwWeVlnmSFIxlcO0oDb1AyTitTwv+0h4R8TfD3xL4uI1HSbbw1ez6ZrGn6hbYvLO8iKhrcohZXcl02+WzBt64JzXn3x/wDizZ+FPjp8OdB1SeHwlo2r6dePD44jsEuLoz7o8adbTPG6wmVRuY7SWCKFw2GHjnwg1rwR4Z8F/tP6T4x0/VtT8MN40kl1G01FLxrr7DPHZoJpHceaH+cyKCRIdh24xwovmUv8LfzUox+W7evrtvVtV6r7mm/nstvTfb648H/FpvEvimTw9qXg7xJ4Q1NbJ9RRdbjtTFLAsixlllt55kzl1OwkMAQWAyM8v4g/aq8LeGIdN1fUdJ1yDwLqF1HZQeOPIhOk+a7+XGW/e+esbPgLMYfKOQQ5UgnyP4Z6lqmqeNdT8C+BviWvxc+H+oeGL9YdeuZor298M3R8tIraS/jH70SbiRHLmUeTkkgV458L774K+Jvh7o/wZ+Jfh74lzfEyxtIdMvfh7NrfiSW2vJYNqpLCq3BtUt2ZFdWYoiAZ4Cg1cfeklbtp1a5pJ6d0ktr6tPbQjo7v59Fomvvbe9tFbfU/SUHIyORS1BYwC1sbeEJ5YjjVAm8vtwAMbjyfqetT0PfQI3aTYUUUUhhRRRQAUUUUAFFFFABRRRQAUUUUAFFFFABXmfxa/aD8L/BXVPDlj4ittbJ12/t9Ot7uz0meWzilmlEaedc7RFH8x+6X34GQpr0yvAf26vD2o+JP2a9dt9GsJtT1mLUNKuLK1t8eZJMmo25ULkjnr3H1o+1G+11f0vqOzaaW9nb16HrF38RtCs/iLpvgeS7z4kv9On1aK1UZxbRSRxs7emWlAHrtb0rg/Fn7RXhjS/hT4p8Ua1ZeLNB0vSrq90q+aHSJpLy2aEMHnHkiQJHtG9ZmIXBXJB4rzf4iaX4j8LftNfCbXNP0WTV/Eut6Pr1peSRAtbWbP9hZGmfjbBEEC5HLbeBuc1c/aut7PRPhj4K+F32mQp468R2+l6hduuZJ7cO13fOQBy8qxOoVRkmYBR0FS480EnvL3fm52XyS39braxS918y2WvyUW3877elnuO+Jnx41X4F/AT4e/wDCKeG/FHjjW/EyWekaJc6/d2rXZup0BhN6XmRnlIyx2jb8h3PGPmqj+0RpGh/Ef4jfAPQ9f0GCHWYr0+KL+41O2gkv7C0so1doTJEXUF7qW2RliYqxBALDFX/iFeW/jL9sr4X+G7hDFpng/RLjxKtmV+aa8uG+x221B18lPtDsRwu4Eml+G2mn4m/tVfE/4kXl07eHvCEcPg7S7YDMck8Ki5vJjxk7ZJggA43R5Iyi405lKSqf3pSv2UHZf+T2v3TXS5lZqLh/dUbd3LV/+Sars0z1zwB8ZtI+IXjPxj4VttP1LS9a8LSWy3tvqMca7kuIzJDImyR8BlB+V9rj+JRxW9468faD8NfDk+ueI79dP06JljDbGkklkchUiijQF5JGYhVRAWYnABrw79h8L4o8F+LfiXOjtqfj7X7nWmkdSNloD5NnCGI52QRpnHALsOoIGX8Vtf0+T9t74caZ40u49M8LaV4eutV0AXzbLe+1t5hCQpPyvNFBuKJy370lRSs+aEHo2lfyfLzNeujXr5F9Jy3Ufx15U/R3v5LvY9GH7Smm2vjrwh4P1Xwh4o0PxB4quJo9NtL6C1JaCKEyvdP5dw+yIABSD+8VmUNGNwNej+MPETeEvC+qa0um3Wr/AGCBrg2VnJCksiqMkK00kcYwMn5nUYFfPfgXXz8U/wBtjxXqF5ZPaWvgPQINJ0uGeNhMZb7bcXE7qR+7zHFAoB5w2Dhtyr0X7cHia50L9nXXdNsblbK+8UXFr4YhvJH2JbfbZlgeVm6KFjdzkkDgVnPmdJcnxS29W7R+/R/PoVBL2rU/hVr+lrv7tV8hvwJ/aQuPG3wVvvij480i48CeH7u4N3pn2+SCRXsX2rb+X5LtI7ucHayK7PJtRWG0nr/DXx4sNd+I1r4KvvDPiLwzq1/p0uq6a+swQLHf20TxrIyCOZ3jKmWPKTpG3zdODXgX7SET+CfEv7OcFtqNj4O+FegyzmXVtc06Saws7qG1WLT/ALSgli8oYMpR5GCq+0sMgCvS9NvvC/w/0/xx8VJNR1Tx1qdhoUlzN4uukQ2r20atMtpYiMKnl5G4mJWBON8jMONKkoR5qn2I39bJaX829dbaa6uSM4RnPlh9p2+9vVLyS0666aWZk/Bvw74Zm/aQ+OPxOtdN03RLHTzB4afUIYY7dZ5IE+039zK4A3N5k0cbOxJ/0fk8V2sf7Tnh+XWPCcQ0LxCnh7xVfLpujeKJLWJLC7uGR3jVUaUXIVxGxWQwiNhghsEE/Mvj/wAO+IdH/YD8IW0GWi1jWtP1bxnqZtnvImtLy5F3fztFEweWBZJQjqGXMavyF5r23R7vwrrV9Y/EGXxHL8XbnQ7C6vdOuNCiiGh6Tthbe0Cxll89wPLG6SaVQ52hVLmnb2S5Z7Q0fyScmrdG2+XtrvawfH70Pt3afztG/mklzfLa9zu5v2hdD/4SLxNp1po2uanY+HLpNO1PWbK2jktYb51jK2oXzBMzkTRZZYzGu75nXBxt+Nvi5pHg3W7Pw/Fa3/iPxXewvc2vh7RY0ku3hU4MrF3SKGPPy+ZM6KWIUEnivBPD+v6dH+1T4e1v4a6h9qHjO3kHxA8KKSX0qSK13W97cxHDWlwGCQMsgUyBl4ypNL8CfHWi+Efj58dk8e6lb6P491PxEq6XZXrEXF9osNvGLP7GhG6dcmYlYgxDscjJpRi9Iy3s2/VNJ2+but/dTvqmNtWco7XVvnd69eln5tdGj2XR/wBobwhe/C+68e6nPP4c0W0uZrG5TUgjyx3EcphaFfIeVJnMg2qIWk3Hhcnim6B8etO1Lx3pnhLWPDuv+D9W1m3mutG/t2GBU1SOIK0vleVNIUdFdWMcwjfB+7wceT/tL3UZ+NPwC8QeLy2ifDDS7zUNR1K51MrHa2mpC3AsGu2yUjAJlKsxCh8AnJAq2tjP8eP2pvCnj6zieP4cfDnTb77BrbgpFq+oXcaxyNASP3lvHCP9aPkZmIUnaTRG1057a38rJ6vteS0XZrdvQdknb5ebb0S72W7XnppZ97p/7TnhzXvHXizwZoeh+JtY8T+GoVmu9NXSzZvKGZgvlG6aIMp2MRISI2G3DksoOn4T/aI8E+LPg/H8ShqEukeGvnSf+04TFcW0ySmF7d4xuJlEoKBE3FmwF3ZGfmr9nn48eGJ/CvxN8e6Bc2fi34q+Odduriw8L6bMkmom3iJttNSWMHdFAIo1laV8IokY57VheNfhnq/7O9j+zdoGseJNN0jwtpWoajq3iPxRq1k91pqa5KhkiecCWIIvmTXHlyOwVWVCQSAKlXtG+l1H73q18lpa/wAXKluOVk5W6N/ctPld6p9uZvY+sPDXx4sNd+I1r4KvvDPiLwzq1/p0uq6a+swQLHf20TxrIyCOZ3jKmWPKTpG3zdODXpteR/CXw3oE3jDVPFdvqepeONdu7NIG8YXgj+yG3Lb1tbLYFjEQJ3ExKwJA3yMw49cqtku//Bf6W+e2lier7f8AAX63+W+oUUUUhhRRRQAUUUUAFFFFABRRRQAUUUUAFFFfLPxi+Mnxf8GftQfDn4a6HqvglNE8dJqEtre6h4dvJ7nThaQ+aVkCahGsxbgbh5eM/d45cU5TUEtXf8Ff8kwekXJ7I+pqK+cPix8cPiR+zNpdp4n8fabofjXwAs8cOr614Ws59Ou9JV3CrO1nLNcedECVBKyhhnO2voTSdUtNc0uz1LT7iO7sLyFLi3uIjlJY3UMrKe4IIP40LVNrpp/X9ag9Gk+pborN8SeItN8IeH9R1vWbyHTtK0+3e6urqdgqRRopZmJ9ABVbwT4oh8b+DdC8RW0TQ2+rWMF/HG5yVWWNXAPuA1Ja3t0t+N7fkw2tfr+lr/mvvNuiiigAooooAKKKKACqupyXkOm3b6dBBdagsTG3gupmhikkAO1XkVHKKTgFgjEDnaelWqKBrc8E/ZR+GXxG+FVp42svHNt4XEGteIb7xDaz+H9Uublka6k3tA6S20QwmOHDHdn7o6173XLfFHUNZ0f4d+I9Q0C7tLLV7Ownubea+tWuIgyRswyiuhPT+9+dcz+zD431j4lfs8/DzxV4guVvNb1jRba9vJ1iWMPK6BmIVQFAyegFJSUvcX2VFfLVL/0mwmuV838zk/ndN/jK56fXP+Pk1+bwfqsXhez02/12WExW0Or3klpbZbgl5I4pWAAJOAhyQBkZyNy4uIrS3lnnkSGCJS7ySMFVVAySSegArmvhl8Q9L+K3gmw8U6JIJtIv3m+yTKciaNJnjWQcDhgm4ezUpRU4uL2/zKjLkkmt/wDI4X9kr4c+M/g/8C/DfgbxrFoX2/w/brYwXWg301zFcwryrsJYIjG3OCo3DjORnaPY6KK0lJzk5PdmcYqEVFbIKKKKkoKK57xJouv6nrnh260nxJ/YunWNy8up2H2GOf8AtOIxlVi8xjmHDkPuXJO3HQ10NABRRRQAUUUUAFFFFAHz38bvhr8UfF/x2+F3i3wtp/hGXQPBdxd3MkesazdW91etc2xt3ULHZyLGEViQdzbjjIXHP0H9aWihaR5fX8QfvO/lb8/8wooooAKKKKACiiigAooooAKKKKACiiigAooooAKKKKACiiigAooooAKKKKACiiquqapZ6HptzqGo3cNjY20bSz3NzII44kAyWZjwAB3NJtJXY99EWqK8M+PXxk1XS/2ZNT+JHgDVLPT5vsa3umyatpjXQvlkOy3jjjE0e1pneLazbsBxlCTges+CrfWLXwfokPiC7F/ryWUIv7pY1jEtxsHmMFUAKC2eBVWfvJ6W/r8OvyF2a63/AAt/nobVFFFIAooooAKKKKACiiigAooooAKKKKACvMf2itB+IPi74W634d+HCaFFrWsWk1g+oa7qE1qlkkiFTLGIreUyOATgHYBwcnGD6dRUTiqkXGWzKjJwkpLdHI/CPw1d+DPhj4Y8P32m6fo8+k2EVh9i0u8e7t40iUImyV4ombKqCcxrgkjnGT11FFbTk6knOW7MoRUIqK2QUUUVBYUUUUAFFFFABRRRQAUUUUAFFFFABRRRQAV8iftC/wDKQL9lj/r28Sf+kS19d14R8Qf2Tbf4ifGDQ/iTc/EvxtpfiHw+LhdFj0/+y/s2nJMmyVY45bF94ZeCZS7e/AxdOXJVjJrRc34xa/NhL3qc49Wrfihn7d/iDTPDv7IXxUl1SeOGO60O4sYBJyZLiZfLhRR3Yuy4x9e1eFeD08Z6fp/7Pnwe1Dw7oevxj4etqN94b8V6vLp9re3Mf2eMRybLW584wo7/ALl025bdkmMY+j/+GZdB1zxFo2ueOdf8QfEvUNFnF1pi+JZ7dbW0mGdsq2trDBA0gzw7xsw7EGtD46/s6+E/2gtL0uHxA2p6ZqmkTNc6Vr2g3jWeo6dKRhnhmGcZAGQQQcDjIFZJcur1u1deSUkt+t5X+Ss+pXxWS0snr5tp/daNvm9NLP5u1P4D+JfBHwW/aL03xnpng+HwHfaFcaz4a8G6bqEuqxaFPHaS+Y0Xn2kAjQyKkiBFARs7cdT9DfsqeB/Dngv4CeB/+Ee8P6XoP9o6JYXt7/ZllHbfap2to90smxRvc92bJPrVvwV+zx4a8H+Adc8LXN/r3ixNdtXstW1bxRq0t/qN7CyMmx53OQoV3AVAqruYgZJJ2/hH8K7L4O+C7Dw1YaxrOuWtlElvBc65dCedYUG2OMFVVQqrwMKCccknmtU1HmXdR/8AJeb/ADXrYiXvKD7OX/k3L/k/v9TtaKKKgYUUUUAFFFFABTJpPJhkcKX2qW2r1OB0p9FKV2mkM+IfhD4X0D9pj9lDxR8UvG+mxap4z1tNcnj1GZi11oqxSzxQ29nJ962VEiTiPbuJJbcWOcTwL4v16P4Jfsj+BdL07StV0/xNoMkl3p2t6rJptnqDW9nG0drJLHbzsynzGcxGPD+UATjIP0bY/sn+GND1LxY2g694m8OaD4pM8uq+GtLv0TTpJ5lIknjDRmSFznJ8qRFOOVI4qPVf2Ovh1rXwV0T4Y3cOry6JoZik0q/bU5TqFhNGu1JoJyf3bAfwqAnJ+Wpt7zklZPk09Oa/5qz3dle2tqk1Kd/Of/k1uX7ra9ulzg/hZ8APE/hPx747tvEPh7wLofwn8S6MNnw+0nU5dTtYr2JgHmigmsoI0idWG9UXG4IcHOR458L3s/g7+wD8Otd8HaJoug694s1LTdI1fWYdumSXEMuoPG32i8iiaRAUJjEu12j8zcoyK+w/g98A9I+D2n3UaeIPFHjPVLpPJm1vxlrEmpXpiHIiV2wsaZ52oqgnk5IGMLwv+yT4E8O/CnWPhtdtq3iTwVqKyRLpWtXpmSzheQyeTAVClArncrElwQPnOBi/hVo/3fmlJtxd77p27JK1tEnC1d3pv8rpK/ytfzet9zzfwz8B/H3hn49eFvFuk+HfAfwu8KSQ3Nh4m0nw14jupjrYkT9xJ5f9n26faI3GRJu3kMRu45xf2bPgb4X+Jdx8QrzxL/auqT+GPirq1zozNq90jWckLoqMGSQM3y4U7y3ygDpXrnwk/ZN0D4Q3T3Vr4w8c+JriGN4tLPijXn1GPRlZSn+iQuvlIQp2hmRmxkZwWBu/Bf8AZtg+B9x4sk0vx/4v1pfEt5Pqd5HrT2EipfTEGS6j8u0Qq5wPlyY/9irjLkd10i7evNGS/J+jaW2ope9G3XmV/TllF/fzL1S9EfOnwR+EXhn4p+Bf2mdN8WWtzr1lZ/ELXorWG9vp3EBjgg8uRSXz5ibV2ucsoGAQCc8X4/0eK+/4Jt+D/jNfXF7qHxP0PTNJ1DTvEt1eStc20guoYsId2ApQlWAHz5JbLEmvqfwJ+yTb/DvQ/HmmaT8TvHJXxneTajqVzcHS3lS7mK+fPEfsICs6rsIIKgElVVsMMrUP2IdD1T9nu3+DFx8Q/HD+CoGRVQSaaLkwIyvHbmT7F/q1dA4ON+eCxXCgjLlcX2VL74K0vv8AxX3G7lCVfnkvd5p3X92TTS+66t3+8oftIQlf2hP2ZbxZ7lZLjxFeRyxrcyeS4GnTMMxbtmQR1xn3rM8M/DfRPGX7YXxw0TXUu9X0KXQtBml0u8vZpLaRnF2GDIW5TjOw/Jk525AI9C8afsur488ReAtb1H4neNk1HwWfN02S3/stQ9wVZHnmU2JDu6NsI4TA+VVJJM2i/sz/ANgfFnxT8Q7P4meNV1vxHbi1vIJP7Me1WJEkW3WNDY5XyTIWQ5JJA8zzAWDYRhyt32cpP5OKSXzav+O5inJxSb15Yr5qTb/A+YvBvxG1z4d/sj6ro2iXjxW9h8UrjwXa3GoanLbra6adU2CI3QSSSBfLbyRIqsyBgwHAx6r4Z+A/j7wz8evC3i3SfDvgP4XeFJIbmw8TaT4a8R3Ux1sSJ+4k8v8As+3T7RG4yJN28hiN3HPceB/2OfCPhP4e+NfA+ra34g8c+FvFt3Nf6jp/iSS1YC5lffLNG9vbwurM+1vvEKUBULzm18JP2TdA+EN091a+MPHPia4hjeLSz4o159Rj0ZWUp/okLr5SEKdoZkZsZGcFgdotxalLVpLXv7ii182m7t/avo1rFnZru38vebT+SaXly6X6eTfsz/BHwx8Rb3x/qHiManqtz4V+K2q3WitLqtyPskkDoEOVcF/lwpD7sqAOnFfZFeQ/Az9nO2+A+o+JrnT/ABx4r8SReIr+bVb601+SykiN7KVMlwnk2sTKzbcbQ2z/AGc8169RtCEF0UfvUUn99vyLl71Scu8pNejk2l8rhRRRUgFFFFABRRRQAUUUUAFFFFABRRRQAUUUUAFFFFABRRRQAUUUUAFFFFABRRRQAUUUUAFfM/7e+j2Hjr4V+Hfh5Lp9nf6t418SWOjWLXNukz2gL+Zc3Me4HYyW8c3zDBG7g19MVwXjz4N6P8QvGng/xPf32pWt/wCGDd/ZI7KZEikFzEIpRJlCwOwYDIyMuThuaVk3G+1038ne3z2Gm0nbezt620PDfj34d0zSPFHwO+CfgXw5Y6dpl1rbeILnTNOtkgtbe0sB5okkRABtN1JA7d3KkZy1YXjDxRYeBP2nvH3juFJJtL+FvgCWTXbpTm41W+um8+OCV++yOAMq9E84BQo4r6bs/hbpVr8Vr74gm4vJ9audIh0RIJXQ29tbpK8p8pQoYM7ONxLHOxMAY5wdJ/Z18I6e/wARfta3utQePLme41i21KcPGRLDHC8SBVUhNkSAbizLzgjNTLn5W0/e993/ALzXIv8AyWzfmuo1y81mvd91fJPmf/k116HzZb/DfWf2kvhPpn2/w3qN9488SLDqF/478SWT2UHhYMVkMelRThZ0eNDsjMKKrkF5JST8329BF5EEce9pNihd7nLNgdSfWvNfA/wIs/B+i2Gi3virxL4u0TTXjbT9P8QXMEkdqsf+rQtFDG86pgY+0NLgqp6qCPTq3k46qGiv/X9a+rMoqWjnq/6/rp5JBRRRWZYUUUUAFFFFABRRRQAUUUUAFFFFABRRRQAUUUUAFFFFABRRRQAUUUUAFFFFABRRRQAUUUUAFeXaX+018OdV+K3/AArQa3dWHjdkkki0nVtIvbBrhYyQzQvPCiTD5WIMbMGCkrkAmvUa+Z/2pvgHY/tA+PvDGkG/m0LxFp2h6jqeg69akibTb+O5sTFKMdRkkMvcE9DghX9+Kautb99E3p923XutyrXT1s/w3tr/AFp2Z7P8Uvi34a+DPhtvEHiyfULTR4yRLd2OkXmoLAACS0v2aKQxpx99wFzgZyRW14T8U2PjTw/aazpsd/FZXQYxrqWnXFhPgMVy0FxGki5I43KMjBGQQa+UYPjxqvxI/Zp+Lngzx9aRaH8W/COjXNpr2mIcJcr5Z8q+g/vQyjDZHQkj0z9hRf6tPoK0cUle977NbW/r0sYqV5ctrNb+v9ff0H0UUVBoFFFFABRRRQAUUUUAFFFMmMixOYlV5Qp2q7bQT2BODge+DQA+ivlrRfj38XvHXw/+KGsaDonhDTdT8F6/qmmBNRe5nhu47MKdihGQh3+b96SAuVHltya6mH9qBNf8FfBufRNPt18V/FGBJdMsbyUmCzUWv2i5llK4LrEoxtXBdioyuSQR95af3X/4Em1+T9La6ajas2n05v8AyT4vu/4Y98or5+T40eNfBfxk0v4V+NpfD8mq+KtNurrwv4p0rTp4bOS5gXMlvcWT3DvlVKuNs/zjI+Q81gfD747fEzxp8B/itr8s/hO18Y+Ctc1bTIpk0m5bT7qOxAJLQfa/MVpAGGRKQuRw2MGZSUYOo9km/knyv7n/AMC4+VuSj1bS+bTa+9J/rY+oKK+X779p7xpafB74BeLofD+jX138Qr7SbDUY1lliWCS7haRvJQk4A2EAs7Yz0bHPWeF/i744039pE/DTxpZeH3s9V0GXX9HvdD85XhEUyRS28/msfMI8xWEiqgIB+QdtZQcZum902vnFcz/DUz5vdUu6T+TfKvx0PdKKKKgoKKKKACiiigAooooAKKKKACiiigAooooAKKKKACiiigAooooAKKKKACiiigAooooAKKKKACiiigAooooAKKKKACiiuE+MHxd0z4QeH7O8ura41XVtUvI9N0fRbIA3Go3kmdkKZ4A4LM54VVZj0pXGS/GD4v8Ah/4HeCbzxX4mTUzpFoCZn0vTJ71owFLFnESN5aAA5dyqDgFhkV0fhnXY/FHhvS9Zitrmyi1C1iu0t7xAk0augYK6gkBgDyMnBr5e/aLPxC8XQ+Bvhj4mfw/NafETW7eC7s9FgnSTT7K2K3d5E8skhFyjxxGPzBHBjcBsO7j0HQPi54q+M154lX4Xf2HpPhrw/ePpi+IfEFnNeQ6ndRcTRW8MU0JWJD8nnl2ywYCMhckTspOXT8EkrvzV5JXXVWVxPeNu333bt+Tuvme50V8x6b+2YfEP7P8A8N/GukeG1n8U+PNWTw9pmjzXRS2jv/NljlaSbbnyU8iV8hdzAAAZPF+6+NHxP8H/AB08M/DC+svB3jXU/EGnT6x9rsXu9EXTLaF0RxIhF6Zixf5GzEGKEELwa05Wp8j3u180rtfJa9hSfLe/TfuteX89D6NoooqBhRRRQAUUUUAFFFFABRRRQAUUUUAFFFFABRRRQAUUUUAFFFFABRRRQAUUUUAFFFFABRRRQAV4p4g17xrH+0Rolza/C3X7/wAK2em3WlzeIItR0tY9881q6yrC92JTEohfcSgfI+VGr2uinH3ZKXa/4q35MHqmj5q/bI/ZZuPjdo0HiTwdcnRviPpcD2kV1FIIhqdhIcXFhOTwyMpYqW4V8HIyTX0nGCsag9QKdRSWkeVbXv8Af/V/W76sT1lzPe1gooooGFFFFABRRRQAUUUUAFRXUz29rNLHBJdSRozLBEVDyEDIVdxC5PQZIHPJFS0UnqgPj74RaR8UPC3w3+Odhqvwf1+31PxNr2r6zo9rHq2kSfaI73ascbMLzEbpks+Tt2qdpZsKcXwp+z38R4fhB+z5r9t4ZbQ/iX8JB9kk0DVtQtjFqtq8AhuVingklRC64KM5GCCGABBr7booiuVqUd0or/wC6X4Np90xybk231cm/wDt/wCL+uh4Svw/1r4wfGrwD8Q/Enhm88G2Pgm2v/sGl6pc2015cXl0iRNI32aaWJYkjRsfvCzM/Krt54Dwn8Lvib4F0n46+Brbwhb6lpfirVNX1vSfEn9qQpC63sX/AB7tCT5glRvl5AjOc71xX1rRUzipxcHs04/KTu/xLU5Jp9mmvK17fm/vvufEniP4afFrRPgn+zj4UtvhnceIdV8D6vpOp6s2k61YCJIbOFonQNcSwlpm35CqCnHMnNd/rek+PdW/bQ8F+NYvhnrcfhDT/Ddxol1qkuoaWPLmuZIZd/lC7MhSPYUYhS2QdquMFvpyitZSc5+0lq+Zy+clyv5WMeX3VHtFR+SlzL8QoooqSgooooAKKKKACiiigAooooAKKKKACiiigAooooAKKKKACiiigAooooAKKKKACiiigAooooAKKKKACiiigAooooAK8F+MngDxReftDfCXx9pugyeLNB8Owala3WnW1zBFPaTXKRol4gndEcKqujANuAfKg9K96oo2kpdv8rfqD1Tj3/r+v8j5/tfhb4w1v9qy48b6/aoNCs/Cn9l6VcQ3itHaXE8rtciOP75cLHbjeyqGDPyMBBxfwr+GfxV+G37O8XwT0Tw9Ho2rWiXNgvj6W8t204wTTyM13FCkhuGuNkhbyniRN/8Ay0IGT9aUVPKuT2b+Hqu+rf8A7c/vK5nzc630f3JLbbov6bPlL4qfC/T/AA38E/DXwR+HXh2z8Z614cjsb06XNffYby2tUkbdeRXQ4trp3V/LfIO5pCAQrY6L9nfxJ4RsvHmo+HZ/h34o+H/xHutPF1cSeMLhtTutStYnVCYtSM85njjaVAUMg2lwdvOa9D8XfA+w8ReNJPGGj+Ite8FeK57OPT7nVdBlgJubdGZo0lhuYZoW2l3wxj3DcQDitnwn8NbTw3qza1e6rqXifxE1t9jOsaw8RmWHcGMaRwxxwxhmClvLjXcVXdnauNYyfM5T3d2/Xpb7le/nboZyiklGGysl+F7/AI2t5XOvoooqCgooooAKKKKACiiigAooooAKKKKACiiigAooooAKKKKACiiigAooooAKKKKACiiigAooooAK+Jf2svCt/wDCn49fCz4hzeN/HNn8MdW1v+yvFOj2nivUYbKCeZSLWcKs4EUPmYDqu1MKox8xB+2q4T46fCfTPjl8JPFHgbVgotdZsngWUjJhl+9FKPdHCsP92pcnTaqpXcdbd11XzW3Z2e6LilNOnJ2Ulb07P5b/AIdTC/aa0uXxH8K7jQtP1fWdF1/WLqHT9IvNB1OewuYruRsLJvidSyRrvldCSpWNsg4Fd14F8IQ+A/CenaDBqOq6vHZx7Pt2t6hNfXc7Eks0k0rM7EknvgDAAAAA+a/2L/Ffiz4xaPpNz460+6stW+G0c/hi7NyPlvNXRjFNcjjnbbrGA3c3Mw7A19ZVq4qF0ndPX1XR/Na+jV9jJNytzKzWnz6/dt6p9woooqCgooooAKKKKACiiigAqC+vI9Psri6lWVooI2ldYInlkIUZIVEBZjxwqgk9ACanopO9tB+p5n8Kv2jvAXxstdeuPBuoanq0OhStBqDSaDqFr5UyjLQjzoE3yr3jTLjK5HzDN/Qfjl4O8R+Cf+EstL6+h0RrlrOJ7/SLyznnnB2+XFbzRJNKxbKgIjFiCBkggeA+IJtZ+AP7UOvaJoNrM2lfGS2+1aXJDEXjsNehVY7mRgBhUa3KznJ5MDDqaT9rCSD4ReKfgRfz+JtX8CfDzR573S7rxBpUNtO2m3EtskVpJL9pgnjCMBNGXKZHmE7hk0J3jF97L/t7Z/jou90/Ibi1Jx7Xfytdf8HzTXmfQHhP45+B/Gmm63e6drqwrobiPVbfVLabT7qwYjKie3uEjlj3Dldyjd2zXHah+0R8KvihY2nhTSvGa3eoeKdKu7vS006S5t5LiKJW3skyBdhGCQCwLLyAVOa4v4OeG/h3ffFvxZ4/8NfF/VPit4guvDw0/Vr5bvS59OggRw0IlaxtokWYfPtBJO3fkY2mn/sKpp837EHgiWyW2fbpl5ueEKcSedMHyR/F696zrRvQm30X5863+Sf3rzHSl+9il3/+R/zfro9Njm/2U/2n/hx8Pv2b/g1oXi/xlb6drupaTbxbrtZXjEz5YLNcBTHE7A5AldSQQe9fYIORkcivhbwG3hnWf+CUFjpcws9QF74Sk023s7fbI82qOGWGFFXJM5nKYUfNur66+Dmg6v4W+EfgrRtfnNzrmn6LZ2l9MTkvOkCLIc9/mBrtqq9Sq30l997/AJWV/wDEtuvLR0pUvNfNWt+d/wAHv07Ciiiuc3CiiigAooooAKKKKACiiigAooooAKKKKACiiigAooooAKKKKACiiigAooooAKKKKACiiigAooooAKKKKACiiigArh/HXxv8BfDPX9D0PxR4r0zRta1yeO203TriYfaLl5HEabYxltpchdxG0Hqa7ivnP9v+waf9mfV9Qgtpbm+0jVdJ1K1WCIySiWPULfBRQCS2Cw4B6ml9qN9m0n6N2Y7NpqO9nb16HvNx4l0u18RWWgy30Kaxe2813b2Zb95JDE0ayOB6KZYx/wACFZfhf4meGPGOg6nrWlaxDLpel3VzZX1zOrW6200DFZlk8wKV2kZyeMYIJBBr5x+Ieq3Xgn9rD4U+KbywurvXvE2g65ptvpcQLMGDWUlvbErkIFAZnc/KpaVs4wKk+MWjnVPi18HPg5q14h0TxHc6j4n8Stny01mW1CSLaYPWNpZFYx8/u4VU5Gacby5V1d16NN/faKba72sErRTfRWfqrfheTSXzv5evf8NO/DcNpW7XbhE1fULfTNLlk0m9WPUppj+7Nq5h23EZ7yxFo1yCzDIrgfE3hWz8aftxeFpLe51Jv+ET8OTavqkB1K4azM1w/wBnsV+zFzCrBUu33KgYkKSTgYoeKtf0r4tftlfD/wAOwRxyaT4B0u58RveEgRzXlwGtraOI/wAQVEuXyOMpwflNV/gj8StNsfBHxr+Oepy7rXUr681K3kwSv9lWCPbWoVsY+f7PLIFB/wCWwPepUlFe2ltHml8l7v33cmu6Q3Ftukt3yr5v3vucbLybOf8ADfxE8IfDn9oX4wfEnxFqHiCLwzaXtr4NsJVt9U1qIXu1ZrsqsazeQGlmghVQETdFtUZOK+ldS+L3hbR/D+k6vfXl3aR6spawsJtMul1K6IG4rHYmP7SzgclBHuA5IFfKv7L7678J/FngvQPiHdWssXiTwreeNIAbYobbVpLvzr0HljJL5d3EobqAjKoG5t2r8LNd8Z+Pvjz8eNdS68O6DqWi6mvh+11HxBLJPdaPpcUKSK0diAirHMztMZGmXcQAykRir5XGKpvdJv8A8BfLL753a1S5e9tZupOU47Nr53V4/dC19Pi9bn094L+KHhf4geFZ/Emiask2j28k0NzNdRSWj2skJIlSeOZUeF0IO5ZFUjuK+c/2uvil4X+KXwWuvDPhfWdZHiTXL+y0zw/cWLajpkV3NczLCJ4Jl8tL2CNJGkbY0kfC7v4awNd8J6E/jT4LfB3TdSvLvwP4outW8W+IdR1EmObxNcQMsmyQ4QMks0glKqAjRxqFGzFdv4i1y1+Ln7Y/gPw9DHbnw94F0qbxKs5Yf6Ve3CvbWwjHdFjW6cHvsyOACVyxm4xezf4R1lr02kl10T6hzOClKO6X5u0b9903utX2Z9FeFfDtp4R8M6Todiuyy020is4VJydkaBVz74FalFFVKTk3J7smMVFKK2QUUUVJQUUUUAFFFFABRRRQAUUUUAFFFFABRRRQAUUUUAFFFFABRRRQAUUUUAFFFfOPxR/aW8e/D/8AaA8HfC+y+HPh/VZPGK3kmi6tceLJraMpbReZL9ojGnyGJsdApkByOeuBe9JQW7v+Cu/wDaLl0R9D2tjbWPnfZreK386RppPKQLvc9WbHVj3J5qevF/hz+0cviP4vav8ACnxb4ebwh8QNPsE1WO1ivBe2WoWbHb51tcbI2YK3BV40Yehwce0U+ifT+l+G3lsHVrr/AE/+CFFFFIAooooAKKKKACiiigAooooAgnsba6uLaea3ilntmLwSSIGaJipUlSfukqSMjsSKj1bSLHXtNuNO1Oyt9R0+5Qxz2t3EssUqnqrIwIYexFW6KW+jDbVHK2vwo8EWPg2fwjbeDtAt/ClwCJtCi0uBbGTJBO6AJsPIHUdhT/A/wv8ABvwxt7qDwd4S0LwnBdsr3EWh6bDZLMwBAZxEqhiATgn1rp6KfVsVkcvYfC3wZpfiufxRZeEdBs/E04Il1q30yFLyQHqGmC7zn3NdRRRR0sPrcKKKKACiuc8M/wDCW/234k/4SH+xf7H+1r/Yf9med9o+zeWu77Vv+XzPM342cbdvfNV4/Fc/jbwBf6v4Gn0+6vpY7qLS59SLGzkuIneJWkMZLGIunVeSvTmk3ZXGtZcp1dFUNB/tP+w9P/tr7J/bH2eP7b9g3fZ/P2jzPL3/ADbN2cbucYzV+qas7Ep3VwooopDCiiigAooooAKKKKACiiigAooooAKKKKACiiigAooooAKKKKACiiigAooooAKKKKACiiigAqC7srfUIRFdQRXMQdZBHMgZdysGVsHuGAIPYgGp6rale/2bp11d+RPdfZ4ml8i2TfLJtBO1F7scYA7k0m1FXY0m3ZBLptpNfW97JawyXtujxw3DRgyRq+3eqtjIDbVyB12jPSszxR4F8NeOI7NPEfh7SvECWUwuLVdUsorkQSjpIm9Ttb3HNP8AB3iT/hMPCula3/ZepaJ9vt0uP7O1i3+z3lvuGdk0eTscdxk4rZqmnF2fQlO6ujJj8J6HDr82ux6Np6a3NbLZy6ktqguXgUkrE0mNxQEkhScDJ4qknw38JR+EZvCqeFtFXwvMGWTRF0+EWTgtuIaDbsOW5OR15ro6KQzL1DwrouranpepXuj2F5qOlF20+7uLZHlsy4CuYnIzHuAAO0jIFZuqfDHwdrnii18S6l4T0PUPEVqoS31e602GW7hUdAkzKXUfQ101FAdLGJ4n8EeHfG0VpH4i0DS9fjs5hcWyapZx3IhlHSRA6naw/vDmrUPh3SrfXJtai0yzj1ieBLWXUEt0FxJCpJWNpMbigLMQpOASfWtGigAooooAKKKKACiiigAooooAKKKKACiiigAooooAKKKKACiiigAooooAKKKKACiiigAr4z/amn1e3/bq/Zgk0KystQ1VbbxH5NtqF29rA/8Aoi5DSpFKy8Z6I3OB719mV83/ABU/Zn8ffEL9oDwb8T7H4k6Do8ng77WmjaVN4SluU2XMflyi4kGoIZWK9CgjAwOOubpy5a0ZPb3tfWLX5sJa05x6tfqif4d/s++K7z9pTU/jb8Q73R4NaGjjQdH8P+H5Zbm2sbbfvd5LmWOJpZGYt0iQAMetfRNNj3CNQ5DPj5mUYBPfAycfnTqnZKK2X+d/zYtW3J7v/K35JIKKKKQwooooAKKKKACiiigAqO4jaaCSNJXgZlKiWMAshI6jIIyPcEe1SUUAfGfwp8BeM/j18O/iVBf/ABc8aaVqek+NNasNIvtLvxbPEYJQsPnFFHmxjAHlDamC3y5O6uX0r43/ABE+I/7PP7OniqbxRfaH4j1jxxa+HNaNisaQXwjmuopJGUKCd5t1YqCEPI24OK6X9lXw34t8UaP8X/8AhFPiDZaNpd58Q9eiu4ZNJW+uLfMwG+0lE8axOQQf3qTLkAheoPoHxI/ZJ1HWPB/ww8J/D/xhYeBvD/gLUbbVrOK80JtTmubqDdsaST7VCNreY5cbdzMxO4dKqnaKpuS0fsm/kk5P5r79Ow5WbrRW96qXzckl8nZ36WfcwvHl1r/wR8TeDvh1pmr+PviMPG2qapq10W1S0/tSK1hhjZrO1uJ5bZYo98it8r+YqhwmMgiT4Vaf8WtL8a/EDS7vSvGnhf4Y3Wji70S+8Va3YapqmnX68SwpKLq7keJ1O9TKW2lWAK8Z9K+OH7Pq/HHwv4dW68SXfhnxt4enW/0rxVoMXlSWl3s2SMsTs+YnBIaJnORgFjjNM8BfDHxP4A8L61qXxA+Jd98SNfFhNENSutPttMtrWDbuYR28ACgkqCzuzMdoGQBg4VHy05t9E/mrWW3bz6q+t2jSPvTgu7X38139/lvt0ufNFrpPxF8WfsJ+HfjFZ/FrxZY+PdF8NHXofLvALC68pWkkjuYCCJ96q3zSE4JG0BRtr0vwv8ab79oT4p+B/A11dX/hvSr/AOHlt411S20u7lsbu5luXSNIFniZZYo48ux8tlYkoC2AQ3J/sl/CHxB8Uf2K/h/4bvPH0R+H2r6Ksd/p9vpY/tMxtI3m2qXom2JEfmjI8gyBSQJAcEe8fEL9ne317xl4U8a+D9XXwV408M2b6ZZXi2YurO4sWAzaXNvvjMkQIBXbIjKeQ1dlRRhVmmvd5np20kvzcX/26/nyUm5UYNP3rb99Yv8AJSX/AG8vl5l4X8UePPAfx8+JHwY0vWbvxDbP4P8A+En8I3/iCZrubT5i7W/2ae4cl5k83a6mQs2NwLNSfAjxdpl98RdA0TUdd8c+D/iNBazPrfg7xtqd1Ompt5W1rmzMjvbyqkgLAWpVArMSgwuPUv8AhQ099Y+OtR1XxH9o8d+LdGOizeILOyNvFYQrHIsS21uZGZFV5Xkw0rMzHl8BQtTTfgZ4m1rxR4O1r4geM9P8Vz+D5ZLrSH0/QTpsr3DwNA0t0/2mUSfI7HbGsSliCQcADKOlr66Wb+crW87NJ3+Jpa9TaeqvHvovlHf1adrfDd6a2OH+Dcmp+PvFn7SvhTxR4h1rXNIsNdisLUSX8ltJb272MUhjieAxmMbnP3NpPfNeY/Anw/J4D/4JpXnirw1r3iDRtd/4RO+vVuF1i4uY4ZIftBTyIZ3kitxnGfJRCcDJr3v4I/APxb8MfH3xE8Q69430nxLbeNboahd2Nj4dk09re4WNIlMcjXk37sRpgqykk4O4YIPO6X+yf4n8Pfs3638INM+JcJ0y8trnS7K91Dw+sxs9PnMheMolxH5k2JCBKWCgAfu85NYSjL2Eox+Jwivmk0/xd/8Ag6GtNxVZSn8KlJ/Ju/5K33GJefGDW5NN/Zh+H66te2t58Q9OE+ra2spN2YbbTlnkRZW5WSZ2RTIPmALEEMQwuanquufAP9qP4c+CdM13XNZ8DfESz1GD7FrWpTancaXfWsQmE8NxctJKUZGwUdmUEAgDpXS3n7K8/iD4UfD3w/rPi3b4y8BSQzaD4u0XTfsjQNCgjTfbySyh1eMBZF3gP1GzjHW6J8ItYuPF1j4z8YeIdP8AEPjDSrC4sNImsdJeysLETFTJILdriV3kbZGGJmxtXChNxJ7Kk4urKaWl5P1TTt9ztpsmuZbs5qaapQhLdRS/7eTev5ebWh4B4G0nxV8TPhT8dn1b4l+L4bnw54s1620m707UTazQC2VTDueMAsq4/wBUMRnLZUk5r6G/Zn8b6l8Sv2e/hz4p1ib7Rq2raDZ3d3NsC+ZM0Sl2wOBlsnj1rzbwD+zP8RvAvgv4m6EvxQ0C/l8bajeaqbyTwfKn2G4uyouNqDUPnTYG2KTlWIJZwNp9M/Z4+FurfBP4Q+HvA2q+ILXxN/YVutla6ha6a1gWt0UBA8Zmly4wcsCAePlGMnCF0mnty0/vSal+nrbyNKms24rTmn9zacfuV/Q9IooooAKKKKACiiigAooooAKKKKACiiigAooooAKKKKACiiigAooooAKKKKACiiigAooooAK8P/bM8Q614X+Aet3/AIa8R6l4c8StJBZaS+liAvdXtxIsEELebFJ8hkkUnZtbC8MBmvcK80+MfwfufixqngO4j8QHR7Xwzri63Ja/YxOLx0ikSIZLqEKNJ5ikhxuVcqamS5rJ7Nq/pfX8Covlu1vZ29bafieNfHa88VeDvGH7PfgjRPG3iS51jUb5YdRsYLiMLqVtaW5knmuJfLMw3yeSrMH2hWf5SevRaFq2vX/7akuiWXiDUr3S9C8H/afEkL3Un2J7y6uB9jSO23GOJkjhmIZRvKsA7Oea9LtvhGB8cJPiLe6qb5oNATQtN097fH2NTMZbiXzdx3tKRCD8q4EXU54q/C/4Lv8ADvx58Q/FM+uyavd+L9V/tBozbCEW8awxRRQltzFxGsR2n5R+8f5ec1pF+8pS/vv5v3Uvu97smrGcl7vKu0V93vN/f7r776nptFFFSUFFFFABRRRQAUUUUAFFFFABRRRQAUUUUAFFFFABRRRQAUUUUAFFFFABRRRQAUUUUAFFFFABRRRQAUUUUAFFFFABRRRQAUUUUAFFFFABRRRQAV5r+01/ybj8VP8AsVdU/wDSSWiiufE/wJ+j/I7MH/vNL/EvzPzR/wCCH/8AyUb4of8AYKtP/Rz1+vFFFehU+Gn6fqzy6Xx1PX/21BXyp/wVC/5Mh+IX/bj/AOlsFFFefiP4fzX5o9LC/wAaPqeJ/wDBEv8A5IN48/7GX/21hr9F6KK763xL0X5I8+j8L9X+bCiiisDYKKKKACiiigAooooAKKKKACiiigAooooAKKKKACiiigAooooAKKKKACiiigAooooAKKKKACiiigAooooAKKKKACiiigAooooAKKKKACiiigAooooAKKKKACiiigAooooAKKKKACiiigAooooAKKKKACiiigAooooAKKKKACiiigAooooA/9k=)\n",
        "\n",
        "A *production* like VP -> V NP | V NP PP has a disjunction on the righthand side, shown by the | and is an abbreviation for the two productions VP -> V NP and VP -> V NP PP."
      ]
    },
    {
      "cell_type": "code",
      "metadata": {
        "colab": {
          "base_uri": "https://localhost:8080/"
        },
        "id": "1D2Ome6aBa39",
        "outputId": "33914f96-1e9f-4108-e659-7dcd235fca62"
      },
      "source": [
        "simple_cfg.productions()"
      ],
      "execution_count": 4,
      "outputs": [
        {
          "output_type": "execute_result",
          "data": {
            "text/plain": [
              "[S -> NP VP,\n",
              " NP -> Det N,\n",
              " NP -> Det N PP,\n",
              " NP -> 'John',\n",
              " NP -> 'Mary',\n",
              " NP -> 'Bob',\n",
              " NP -> 'I',\n",
              " VP -> V NP,\n",
              " VP -> VP PP,\n",
              " PP -> P NP,\n",
              " V -> 'saw',\n",
              " V -> 'ate',\n",
              " V -> 'walked',\n",
              " V -> 'shot',\n",
              " Det -> 'a',\n",
              " Det -> 'an',\n",
              " Det -> 'the',\n",
              " Det -> 'my',\n",
              " N -> 'man',\n",
              " N -> 'dog',\n",
              " N -> 'cat',\n",
              " N -> 'telescope',\n",
              " N -> 'park',\n",
              " N -> 'elephant',\n",
              " N -> 'pajamas',\n",
              " P -> 'in',\n",
              " P -> 'on',\n",
              " P -> 'by',\n",
              " P -> 'with']"
            ]
          },
          "metadata": {
            "tags": []
          },
          "execution_count": 4
        }
      ]
    },
    {
      "cell_type": "code",
      "metadata": {
        "colab": {
          "base_uri": "https://localhost:8080/"
        },
        "id": "joclYKYBhB71",
        "outputId": "fe87a9ac-e9d4-40f2-cbde-b00368ab844a"
      },
      "source": [
        "for p in simple_cfg.productions():\n",
        "    print(p.lhs(), p.rhs())"
      ],
      "execution_count": 5,
      "outputs": [
        {
          "output_type": "stream",
          "text": [
            "S (NP, VP)\n",
            "NP (Det, N)\n",
            "NP (Det, N, PP)\n",
            "NP ('John',)\n",
            "NP ('Mary',)\n",
            "NP ('Bob',)\n",
            "NP ('I',)\n",
            "VP (V, NP)\n",
            "VP (VP, PP)\n",
            "PP (P, NP)\n",
            "V ('saw',)\n",
            "V ('ate',)\n",
            "V ('walked',)\n",
            "V ('shot',)\n",
            "Det ('a',)\n",
            "Det ('an',)\n",
            "Det ('the',)\n",
            "Det ('my',)\n",
            "N ('man',)\n",
            "N ('dog',)\n",
            "N ('cat',)\n",
            "N ('telescope',)\n",
            "N ('park',)\n",
            "N ('elephant',)\n",
            "N ('pajamas',)\n",
            "P ('in',)\n",
            "P ('on',)\n",
            "P ('by',)\n",
            "P ('with',)\n"
          ],
          "name": "stdout"
        }
      ]
    },
    {
      "cell_type": "code",
      "metadata": {
        "colab": {
          "base_uri": "https://localhost:8080/"
        },
        "id": "obqMNIzb6j6B",
        "outputId": "3266fe23-9a0b-4cea-92f1-06b5d6d0308d"
      },
      "source": [
        "simple_cfg.productions(rhs='elephant')"
      ],
      "execution_count": 6,
      "outputs": [
        {
          "output_type": "execute_result",
          "data": {
            "text/plain": [
              "[N -> 'elephant']"
            ]
          },
          "metadata": {
            "tags": []
          },
          "execution_count": 6
        }
      ]
    },
    {
      "cell_type": "code",
      "metadata": {
        "id": "rTCgWCo2hB76"
      },
      "source": [
        "# Utility function\n",
        "def parse(parser, sentence):\n",
        "    for tree in parser.parse(sentence):\n",
        "        print(tree)\n",
        "        print()\n",
        "        tree.pretty_print() # requires python<=3.7.9\n",
        "        print('-'*70)"
      ],
      "execution_count": 7,
      "outputs": []
    },
    {
      "cell_type": "code",
      "metadata": {
        "colab": {
          "base_uri": "https://localhost:8080/"
        },
        "id": "4fEDJGuhj_BD",
        "outputId": "f94e9bc7-c06f-4be0-ba2d-5bab017acafe"
      },
      "source": [
        "# Parsing\n",
        "sentence = \"Mary saw Bob\".split()\n",
        "simple_parser = nltk.ChartParser(simple_cfg)\n",
        "parse(simple_parser, sentence)"
      ],
      "execution_count": 8,
      "outputs": [
        {
          "output_type": "stream",
          "text": [
            "(S (NP Mary) (VP (V saw) (NP Bob)))\n",
            "\n",
            "      S         \n",
            "  ____|___       \n",
            " |        VP    \n",
            " |     ___|___   \n",
            " NP   V       NP\n",
            " |    |       |  \n",
            "Mary saw     Bob\n",
            "\n",
            "----------------------------------------------------------------------\n"
          ],
          "name": "stdout"
        }
      ]
    },
    {
      "cell_type": "markdown",
      "metadata": {
        "id": "uDHyuyziDkIc"
      },
      "source": [
        "\n",
        "If we parse the sentence $$\\texttt{The dog saw a man in the park.}$$ using this grammar, we end up with two trees as shown below."
      ]
    },
    {
      "cell_type": "code",
      "metadata": {
        "colab": {
          "base_uri": "https://localhost:8080/"
        },
        "id": "6DRqhluVsewo",
        "outputId": "a8bd6017-fbe1-4d90-ae44-f94192d46984"
      },
      "source": [
        "sentence = \"the dog saw a man in the park\".split()\n",
        "parse(simple_parser, sentence)"
      ],
      "execution_count": 9,
      "outputs": [
        {
          "output_type": "stream",
          "text": [
            "(S\n",
            "  (NP (Det the) (N dog))\n",
            "  (VP\n",
            "    (VP (V saw) (NP (Det a) (N man)))\n",
            "    (PP (P in) (NP (Det the) (N park)))))\n",
            "\n",
            "                 S                          \n",
            "      ___________|_______                    \n",
            "     |                   VP                 \n",
            "     |            _______|_______            \n",
            "     |           VP              PP         \n",
            "     |        ___|___         ___|___        \n",
            "     NP      |       NP      |       NP     \n",
            "  ___|___    |    ___|___    |    ___|___    \n",
            "Det      N   V  Det      N   P  Det      N  \n",
            " |       |   |   |       |   |   |       |   \n",
            "the     dog saw  a      man  in the     park\n",
            "\n",
            "----------------------------------------------------------------------\n",
            "(S\n",
            "  (NP (Det the) (N dog))\n",
            "  (VP\n",
            "    (V saw)\n",
            "    (NP (Det a) (N man) (PP (P in) (NP (Det the) (N park))))))\n",
            "\n",
            "                 S                      \n",
            "      ___________|___                    \n",
            "     |               VP                 \n",
            "     |        _______|___                \n",
            "     |       |           NP             \n",
            "     |       |    _______|___            \n",
            "     |       |   |   |       PP         \n",
            "     |       |   |   |    ___|___        \n",
            "     NP      |   |   |   |       NP     \n",
            "  ___|___    |   |   |   |    ___|___    \n",
            "Det      N   V  Det  N   P  Det      N  \n",
            " |       |   |   |   |   |   |       |   \n",
            "the     dog saw  a  man  in the     park\n",
            "\n",
            "----------------------------------------------------------------------\n"
          ],
          "name": "stdout"
        }
      ]
    },
    {
      "cell_type": "markdown",
      "metadata": {
        "id": "QTW21M-Ls4bN"
      },
      "source": [
        "The sentence is ***structurally ambiguous***, since our *grammar* licenses two trees for this sentence. This is another example of ***prepositional phrase attachment ambiguity***. "
      ]
    },
    {
      "cell_type": "markdown",
      "metadata": {
        "id": "3PGmN_uphB8E"
      },
      "source": [
        "Lecture example.\n",
        "\n",
        "$$\\texttt{I shot an elephant in my pajamas.}$$"
      ]
    },
    {
      "cell_type": "markdown",
      "metadata": {
        "id": "jdMbHF3tisTG"
      },
      "source": [
        "This grammar permits the sentence to be analyzed in two ways, depending on whether the prepositional phrase in my pajamas describes *the elephant* or *the shooting event*."
      ]
    },
    {
      "cell_type": "code",
      "metadata": {
        "colab": {
          "base_uri": "https://localhost:8080/"
        },
        "id": "9gtesDCYF5i4",
        "outputId": "515ca3ef-8bfb-4137-a87c-fc1ded159f14"
      },
      "source": [
        "sentence = 'I shot an elephant in my pajamas'.split()\n",
        "parse(simple_parser, sentence)"
      ],
      "execution_count": 10,
      "outputs": [
        {
          "output_type": "stream",
          "text": [
            "(S\n",
            "  (NP I)\n",
            "  (VP\n",
            "    (VP (V shot) (NP (Det an) (N elephant)))\n",
            "    (PP (P in) (NP (Det my) (N pajamas)))))\n",
            "\n",
            "     S                                       \n",
            "  ___|______________                          \n",
            " |                  VP                       \n",
            " |         _________|__________               \n",
            " |        VP                   PP            \n",
            " |    ____|___              ___|___           \n",
            " |   |        NP           |       NP        \n",
            " |   |     ___|_____       |    ___|_____     \n",
            " NP  V   Det        N      P  Det        N   \n",
            " |   |    |         |      |   |         |    \n",
            " I  shot  an     elephant  in  my     pajamas\n",
            "\n",
            "----------------------------------------------------------------------\n",
            "(S\n",
            "  (NP I)\n",
            "  (VP\n",
            "    (V shot)\n",
            "    (NP (Det an) (N elephant) (PP (P in) (NP (Det my) (N pajamas))))))\n",
            "\n",
            "     S                                   \n",
            "  ___|__________                          \n",
            " |              VP                       \n",
            " |    __________|______                   \n",
            " |   |                 NP                \n",
            " |   |     ____________|___               \n",
            " |   |    |     |          PP            \n",
            " |   |    |     |       ___|___           \n",
            " |   |    |     |      |       NP        \n",
            " |   |    |     |      |    ___|_____     \n",
            " NP  V   Det    N      P  Det        N   \n",
            " |   |    |     |      |   |         |    \n",
            " I  shot  an elephant  in  my     pajamas\n",
            "\n",
            "----------------------------------------------------------------------\n"
          ],
          "name": "stdout"
        }
      ]
    },
    {
      "cell_type": "markdown",
      "metadata": {
        "id": "0jkf_IW0hB8I"
      },
      "source": [
        "#### Issues:\n",
        "- NLTK does not have a CKY algorithm based parser\n",
        "- Even its CNF conversion function [`chomsky_normal_form`](https://github.com/nltk/nltk/issues/1884) has a bug"
      ]
    },
    {
      "cell_type": "markdown",
      "metadata": {
        "id": "QcaPXGhGhB8I"
      },
      "source": [
        "---\n",
        "### Recursion in Syntactic Structure\n",
        "\n",
        "A grammar is said to be **recursive** if a category occurring on the left hand side of a production also appears on the righthand side of a production, as illustrated below. \n",
        "\n",
        "The production Nom -> Adj Nom (where Nom is the category of nominals) involves direct recursion on the category Nom, whereas indirect recursion on S arises from the combination of two productions, namely S -> NP VP and VP -> V S."
      ]
    },
    {
      "cell_type": "markdown",
      "metadata": {
        "id": "2nC0dITVEYeD"
      },
      "source": [
        "To see how recursion arises from this grammar, consider the following trees. The first involves nested nominal phrases, while the next tree contains nested sentences."
      ]
    },
    {
      "cell_type": "code",
      "metadata": {
        "id": "YAn65xn5hB8J"
      },
      "source": [
        "rc_grammar = nltk.CFG.fromstring(\"\"\"\n",
        "  S  -> NP VP\n",
        "  NP -> Det Nom | PropN\n",
        "  Nom -> Adj Nom | N\n",
        "  VP -> V Adj | V NP | V S | V NP PP\n",
        "  PP -> P NP\n",
        "  PropN -> 'Buster' | 'Chatterer' | 'Joe'\n",
        "  Det -> 'the' | 'a'\n",
        "  N -> 'bear' | 'squirrel' | 'tree' | 'fish' | 'log'\n",
        "  Adj  -> 'angry' | 'frightened' |  'little' | 'tall'\n",
        "  V ->  'chased'  | 'saw' | 'said' | 'thought' | 'was' | 'put'\n",
        "  P -> 'on'\n",
        "  \"\"\")"
      ],
      "execution_count": 11,
      "outputs": []
    },
    {
      "cell_type": "code",
      "metadata": {
        "colab": {
          "base_uri": "https://localhost:8080/"
        },
        "id": "oF6TUh3JEcc9",
        "outputId": "e62abd7c-8bbc-4964-a443-475bed3a8c93"
      },
      "source": [
        "sent1 = 'the angry bear chased the frightened little squirrel'.split()\n",
        "sent2 = 'Chatterer said Buster thought the tree was tall'.split()\n",
        "\n",
        "rc_parser = nltk.ChartParser(rc_grammar)\n",
        "parse(rc_parser, sent1)\n",
        "parse(rc_parser, sent2)"
      ],
      "execution_count": 12,
      "outputs": [
        {
          "output_type": "stream",
          "text": [
            "(S\n",
            "  (NP (Det the) (Nom (Adj angry) (Nom (N bear))))\n",
            "  (VP\n",
            "    (V chased)\n",
            "    (NP\n",
            "      (Det the)\n",
            "      (Nom (Adj frightened) (Nom (Adj little) (Nom (N squirrel)))))))\n",
            "\n",
            "                     S                                          \n",
            "       ______________|____________                               \n",
            "      |                           VP                            \n",
            "      |               ____________|_______                       \n",
            "      |              |                    NP                    \n",
            "      |              |      ______________|____                  \n",
            "      NP             |     |                  Nom               \n",
            "  ____|____          |     |       ____________|_____            \n",
            " |        Nom        |     |      |                 Nom         \n",
            " |     ____|___      |     |      |             _____|_____      \n",
            " |    |       Nom    |     |      |            |          Nom   \n",
            " |    |        |     |     |      |            |           |     \n",
            "Det  Adj       N     V    Det    Adj          Adj          N    \n",
            " |    |        |     |     |      |            |           |     \n",
            "the angry     bear chased the frightened     little     squirrel\n",
            "\n",
            "----------------------------------------------------------------------\n",
            "(S\n",
            "  (NP (PropN Chatterer))\n",
            "  (VP\n",
            "    (V said)\n",
            "    (S\n",
            "      (NP (PropN Buster))\n",
            "      (VP\n",
            "        (V thought)\n",
            "        (S (NP (Det the) (Nom (N tree))) (VP (V was) (Adj tall)))))))\n",
            "\n",
            "           S                                               \n",
            "     ______|_____                                           \n",
            "    |            VP                                        \n",
            "    |       _____|_____________                             \n",
            "    |      |                   S                           \n",
            "    |      |      _____________|_______                     \n",
            "    |      |     |                     VP                  \n",
            "    |      |     |        _____________|____                \n",
            "    |      |     |       |                  S              \n",
            "    |      |     |       |          ________|_______        \n",
            "    |      |     |       |         NP               |      \n",
            "    |      |     |       |      ___|___             |       \n",
            "    NP     |     NP      |     |      Nom           VP     \n",
            "    |      |     |       |     |       |         ___|___    \n",
            "  PropN    V   PropN     V    Det      N        V      Adj \n",
            "    |      |     |       |     |       |        |       |   \n",
            "Chatterer said Buster thought the     tree     was     tall\n",
            "\n",
            "----------------------------------------------------------------------\n"
          ],
          "name": "stdout"
        }
      ]
    },
    {
      "cell_type": "markdown",
      "metadata": {
        "id": "Tm-GevbVFLE0"
      },
      "source": [
        "We've only illustrated two levels of recursion here, but there's no upper limit on the depth. You can experiment with parsing sentences that involve more deeply nested structures."
      ]
    },
    {
      "cell_type": "markdown",
      "metadata": {
        "id": "FcNILv-RtKL0"
      },
      "source": [
        "---\n",
        "### Cocke-Kasami-Younger(CKY) Algorithm\n",
        "As discussed in the lecture, CKY Parsing is an efficient dynamic programming based approach under two assumptions: \n",
        "\n",
        "- Only binary productions in Chomsky Normal Form (CNF)\n",
        "- CFG constituents are contiguous spans of words\n",
        "\n",
        "For this CKY implementation, a **Well-Formed Substring Table (WFST)** is used as the data structure (*chart*) to store intermediate results and reuse them when necessary. An $n × n$ matrix is created as a list of lists in Python, where $n$ is the number of tokens, and initialized with the lexical categories of each token in the `init_wfst()` function. A utility function `display()` is used to pretty-print the *WFST*. "
      ]
    },
    {
      "cell_type": "code",
      "metadata": {
        "id": "mGryZXFfuFz1"
      },
      "source": [
        "# This function creates the matrix and fills the diagonal elements\n",
        "def init_wfst(tokens, grammar):\n",
        "    numtokens = len(tokens)\n",
        "    wfst = [[None for i in range(numtokens+1)] for j in range(numtokens+1)]\n",
        "    for i in range(numtokens):\n",
        "        productions = grammar.productions(rhs=tokens[i])\n",
        "        wfst[i][i+1] = productions[0].lhs()\n",
        "    return wfst\n",
        "\n",
        "# This function fills the rest of the elements in the matrix\n",
        "def complete_wfst(wfst, tokens, grammar, trace=False):\n",
        "    index = dict((p.rhs(), p.lhs()) for p in grammar.productions())\n",
        "    numtokens = len(tokens)\n",
        "    for span in range(2, numtokens+1):\n",
        "        for start in range(numtokens+1-span):\n",
        "            end = start + span\n",
        "            for mid in range(start+1, end):\n",
        "                nt1, nt2 = wfst[start][mid], wfst[mid][end]\n",
        "                if nt1 and nt2 and (nt1,nt2) in index:\n",
        "                    wfst[start][end] = index[(nt1,nt2)]\n",
        "                    if trace:\n",
        "                        print(\"[%s] %3s [%s] %3s [%s] ==> [%s] %3s [%s]\" % \\\n",
        "                        (start, nt1, mid, nt2, end, start, index[(nt1,nt2)], end))\n",
        "    return wfst\n",
        "\n",
        "# Utility function\n",
        "def display(wfst, tokens):\n",
        "    print('\\nWFST ' + ' '.join((\"%-4d\" % i) for i in range(1, len(wfst))))\n",
        "    for i in range(len(wfst)-1):\n",
        "        print(\"%d   \" % i, end=\" \")\n",
        "        for j in range(1, len(wfst)):\n",
        "            print(\"%-4s\" % (wfst[i][j] or '.'), end=\" \")\n",
        "        print()"
      ],
      "execution_count": 13,
      "outputs": []
    },
    {
      "cell_type": "code",
      "metadata": {
        "id": "eUIGPhEChB8S"
      },
      "source": [
        "# Grammar definition\n",
        "atis_grammar = nltk.CFG.fromstring(\"\"\"\n",
        "S -> NP VP\n",
        "S -> Aux NP VP\n",
        "S -> VP\n",
        "NP -> Pro\n",
        "Pro -> 'I' | 'she' | 'me'\n",
        "NP -> Proper-Noun\n",
        "Proper-Noun -> 'TWA' | 'Houston'\n",
        "NP -> Det Nom\n",
        "Det -> 'the' | 'a'\n",
        "Nom -> Noun\n",
        "Noun -> 'book' | 'flight' | 'meal' | 'money'\n",
        "Nom -> Nom Noun\n",
        "Nom -> Nom PP\n",
        "VP -> Verb\n",
        "Verb -> 'book' | 'include' | 'prefer'\n",
        "VP -> Verb NP\n",
        "VP -> Verb NP PP\n",
        "VP -> Verb PP\n",
        "VP -> VP PP\n",
        "PP -> Prep NP\n",
        "Prep -> 'through'\n",
        "\"\"\")"
      ],
      "execution_count": 14,
      "outputs": []
    },
    {
      "cell_type": "code",
      "metadata": {
        "colab": {
          "base_uri": "https://localhost:8080/"
        },
        "id": "8GsFvcUPhB8U",
        "outputId": "b81f85f2-2099-47f2-ae98-fd3addaaea91"
      },
      "source": [
        "atis_grammar.productions()"
      ],
      "execution_count": 15,
      "outputs": [
        {
          "output_type": "execute_result",
          "data": {
            "text/plain": [
              "[S -> NP VP,\n",
              " S -> Aux NP VP,\n",
              " S -> VP,\n",
              " NP -> Pro,\n",
              " Pro -> 'I',\n",
              " Pro -> 'she',\n",
              " Pro -> 'me',\n",
              " NP -> Proper-Noun,\n",
              " Proper-Noun -> 'TWA',\n",
              " Proper-Noun -> 'Houston',\n",
              " NP -> Det Nom,\n",
              " Det -> 'the',\n",
              " Det -> 'a',\n",
              " Nom -> Noun,\n",
              " Noun -> 'book',\n",
              " Noun -> 'flight',\n",
              " Noun -> 'meal',\n",
              " Noun -> 'money',\n",
              " Nom -> Nom Noun,\n",
              " Nom -> Nom PP,\n",
              " VP -> Verb,\n",
              " Verb -> 'book',\n",
              " Verb -> 'include',\n",
              " Verb -> 'prefer',\n",
              " VP -> Verb NP,\n",
              " VP -> Verb NP PP,\n",
              " VP -> Verb PP,\n",
              " VP -> VP PP,\n",
              " PP -> Prep NP,\n",
              " Prep -> 'through']"
            ]
          },
          "metadata": {
            "tags": []
          },
          "execution_count": 15
        }
      ]
    },
    {
      "cell_type": "code",
      "metadata": {
        "colab": {
          "base_uri": "https://localhost:8080/"
        },
        "id": "gwe7Ow_ahB8W",
        "outputId": "89f76e66-d596-44c3-bf0a-5520ecf3aa00"
      },
      "source": [
        "# Not as expected\n",
        "atis_grammar.chomsky_normal_form().productions()"
      ],
      "execution_count": 16,
      "outputs": [
        {
          "output_type": "execute_result",
          "data": {
            "text/plain": [
              "[S -> NP VP,\n",
              " S -> Aux S@$@Aux,\n",
              " S@$@Aux -> NP VP,\n",
              " Pro -> 'I',\n",
              " Pro -> 'she',\n",
              " Pro -> 'me',\n",
              " Proper-Noun -> 'TWA',\n",
              " Proper-Noun -> 'Houston',\n",
              " NP -> Det Nom,\n",
              " Det -> 'the',\n",
              " Det -> 'a',\n",
              " Noun -> 'book',\n",
              " Noun -> 'flight',\n",
              " Noun -> 'meal',\n",
              " Noun -> 'money',\n",
              " Nom -> Nom Noun,\n",
              " Nom -> Nom PP,\n",
              " Verb -> 'book',\n",
              " Verb -> 'include',\n",
              " Verb -> 'prefer',\n",
              " VP -> Verb NP,\n",
              " VP -> Verb VP@$@Verb,\n",
              " VP@$@Verb -> NP PP,\n",
              " VP -> Verb PP,\n",
              " VP -> VP PP,\n",
              " PP -> Prep NP,\n",
              " Prep -> 'through',\n",
              " S -> Verb NP,\n",
              " S -> Verb VP@$@Verb,\n",
              " S -> Verb PP,\n",
              " S -> VP PP,\n",
              " NP -> 'I',\n",
              " NP -> 'she',\n",
              " NP -> 'me',\n",
              " NP -> 'TWA',\n",
              " NP -> 'Houston',\n",
              " Nom -> 'book',\n",
              " Nom -> 'flight',\n",
              " Nom -> 'meal',\n",
              " Nom -> 'money',\n",
              " VP -> 'book',\n",
              " VP -> 'include',\n",
              " VP -> 'prefer',\n",
              " S -> 'book',\n",
              " S -> 'include',\n",
              " S -> 'prefer']"
            ]
          },
          "metadata": {
            "tags": []
          },
          "execution_count": 16
        }
      ]
    },
    {
      "cell_type": "code",
      "metadata": {
        "id": "goTNaci7FmI0"
      },
      "source": [
        "# Expected CNF\n",
        "atis_grammar = nltk.CFG.fromstring(\"\"\"\n",
        "S -> NP VP\n",
        "S -> X1 VP\n",
        "X1 -> Aux NP\n",
        "S -> 'book' | 'include' | 'prefer'\n",
        "S -> Verb NP\n",
        "S -> X2 PP\n",
        "S -> Verb PP\n",
        "S -> VP PP\n",
        "NP -> 'I' | 'she' | 'me'\n",
        "NP -> 'TWA' | 'Houston'\n",
        "NP -> Det Nom\n",
        "Det -> 'the' | 'a'\n",
        "Nom -> 'book' | 'flight' | 'meal' | 'money'\n",
        "Nom -> Nom Noun\n",
        "Nom -> Nom PP\n",
        "VP -> 'book' | 'include' | 'prefer'\n",
        "VP -> Verb NP\n",
        "VP -> X2 PP\n",
        "X2 -> Verb NP\n",
        "VP -> Verb PP\n",
        "VP -> VP PP\n",
        "PP -> Prep NP\n",
        "Prep -> 'through'\n",
        "\"\"\")"
      ],
      "execution_count": 17,
      "outputs": []
    },
    {
      "cell_type": "code",
      "metadata": {
        "colab": {
          "base_uri": "https://localhost:8080/"
        },
        "id": "NLleRxzOhB8c",
        "outputId": "5ee7a03b-61c2-440f-d552-70691befebe0"
      },
      "source": [
        "atis_grammar.productions()"
      ],
      "execution_count": 18,
      "outputs": [
        {
          "output_type": "execute_result",
          "data": {
            "text/plain": [
              "[S -> NP VP,\n",
              " S -> X1 VP,\n",
              " X1 -> Aux NP,\n",
              " S -> 'book',\n",
              " S -> 'include',\n",
              " S -> 'prefer',\n",
              " S -> Verb NP,\n",
              " S -> X2 PP,\n",
              " S -> Verb PP,\n",
              " S -> VP PP,\n",
              " NP -> 'I',\n",
              " NP -> 'she',\n",
              " NP -> 'me',\n",
              " NP -> 'TWA',\n",
              " NP -> 'Houston',\n",
              " NP -> Det Nom,\n",
              " Det -> 'the',\n",
              " Det -> 'a',\n",
              " Nom -> 'book',\n",
              " Nom -> 'flight',\n",
              " Nom -> 'meal',\n",
              " Nom -> 'money',\n",
              " Nom -> Nom Noun,\n",
              " Nom -> Nom PP,\n",
              " VP -> 'book',\n",
              " VP -> 'include',\n",
              " VP -> 'prefer',\n",
              " VP -> Verb NP,\n",
              " VP -> X2 PP,\n",
              " X2 -> Verb NP,\n",
              " VP -> Verb PP,\n",
              " VP -> VP PP,\n",
              " PP -> Prep NP,\n",
              " Prep -> 'through']"
            ]
          },
          "metadata": {
            "tags": []
          },
          "execution_count": 18
        }
      ]
    },
    {
      "cell_type": "code",
      "metadata": {
        "colab": {
          "base_uri": "https://localhost:8080/"
        },
        "id": "tTfRi0RqNEbO",
        "outputId": "93da4982-a2d3-4f72-f3f6-4f6fc929b53f"
      },
      "source": [
        "index = dict((p.rhs(), p.lhs()) for p in atis_grammar.productions())\n",
        "index"
      ],
      "execution_count": 19,
      "outputs": [
        {
          "output_type": "execute_result",
          "data": {
            "text/plain": [
              "{('Houston',): NP,\n",
              " ('I',): NP,\n",
              " ('TWA',): NP,\n",
              " ('a',): Det,\n",
              " ('book',): VP,\n",
              " ('flight',): Nom,\n",
              " ('include',): VP,\n",
              " ('me',): NP,\n",
              " ('meal',): Nom,\n",
              " ('money',): Nom,\n",
              " ('prefer',): VP,\n",
              " ('she',): NP,\n",
              " ('the',): Det,\n",
              " ('through',): Prep,\n",
              " (Aux, NP): X1,\n",
              " (Det, Nom): NP,\n",
              " (NP, VP): S,\n",
              " (Nom, Noun): Nom,\n",
              " (Nom, PP): Nom,\n",
              " (Prep, NP): PP,\n",
              " (VP, PP): VP,\n",
              " (Verb, NP): X2,\n",
              " (Verb, PP): VP,\n",
              " (X1, VP): S,\n",
              " (X2, PP): VP}"
            ]
          },
          "metadata": {
            "tags": []
          },
          "execution_count": 19
        }
      ]
    },
    {
      "cell_type": "code",
      "metadata": {
        "colab": {
          "base_uri": "https://localhost:8080/"
        },
        "id": "VeP1jJ-zuJe6",
        "outputId": "2e298e6e-25fe-474d-d6be-b604802f2536"
      },
      "source": [
        "tokens = \"book the flight through Houston\".split()\n",
        "wfst0 = init_wfst(tokens, atis_grammar)\n",
        "display(wfst0, tokens)"
      ],
      "execution_count": 20,
      "outputs": [
        {
          "output_type": "stream",
          "text": [
            "\n",
            "WFST 1    2    3    4    5   \n",
            "0    S    .    .    .    .    \n",
            "1    .    Det  .    .    .    \n",
            "2    .    .    Nom  .    .    \n",
            "3    .    .    .    Prep .    \n",
            "4    .    .    .    .    NP   \n"
          ],
          "name": "stdout"
        }
      ]
    },
    {
      "cell_type": "code",
      "metadata": {
        "colab": {
          "base_uri": "https://localhost:8080/"
        },
        "id": "GuAd6ue2uNH5",
        "outputId": "91a048dc-f52f-4d31-cc39-fc88be9d23c1"
      },
      "source": [
        "wfst1 = complete_wfst(wfst0, tokens, atis_grammar)\n",
        "display(wfst1, tokens)"
      ],
      "execution_count": 21,
      "outputs": [
        {
          "output_type": "stream",
          "text": [
            "\n",
            "WFST 1    2    3    4    5   \n",
            "0    S    .    .    .    .    \n",
            "1    .    Det  NP   .    NP   \n",
            "2    .    .    Nom  .    Nom  \n",
            "3    .    .    .    Prep PP   \n",
            "4    .    .    .    .    NP   \n"
          ],
          "name": "stdout"
        }
      ]
    },
    {
      "cell_type": "markdown",
      "metadata": {
        "id": "AHot4k9iJwzO"
      },
      "source": [
        "By setting `trace` to $\\texttt{True}$ when calling the function `complete_wfst()`, we see tracing output that shows the WFST being constructed."
      ]
    },
    {
      "cell_type": "code",
      "metadata": {
        "colab": {
          "base_uri": "https://localhost:8080/"
        },
        "id": "gc_HSO7FJmyK",
        "outputId": "5daff475-8354-432a-ed46-d4495dd57d15"
      },
      "source": [
        " complete_wfst(wfst0, tokens, atis_grammar, trace=True)"
      ],
      "execution_count": 22,
      "outputs": [
        {
          "output_type": "stream",
          "text": [
            "[1] Det [2] Nom [3] ==> [1]  NP [3]\n",
            "[3] Prep [4]  NP [5] ==> [3]  PP [5]\n",
            "[2] Nom [3]  PP [5] ==> [2] Nom [5]\n",
            "[1] Det [2] Nom [5] ==> [1]  NP [5]\n"
          ],
          "name": "stdout"
        },
        {
          "output_type": "execute_result",
          "data": {
            "text/plain": [
              "[[None, S, None, None, None, None],\n",
              " [None, None, Det, NP, None, NP],\n",
              " [None, None, None, Nom, None, Nom],\n",
              " [None, None, None, None, Prep, PP],\n",
              " [None, None, None, None, None, NP],\n",
              " [None, None, None, None, None, None]]"
            ]
          },
          "metadata": {
            "tags": []
          },
          "execution_count": 22
        }
      ]
    },
    {
      "cell_type": "code",
      "metadata": {
        "colab": {
          "base_uri": "https://localhost:8080/"
        },
        "id": "OFtnU_qzEeAV",
        "outputId": "1253804b-3d3f-467b-9baa-dee3a6049978"
      },
      "source": [
        "tokens = 'I shot an elephant in my pajamas'.split()\n",
        "wfst0 = init_wfst(tokens, simple_cfg)\n",
        "wfst1 = complete_wfst(wfst0, tokens, simple_cfg)\n",
        "display(wfst1, tokens)"
      ],
      "execution_count": 23,
      "outputs": [
        {
          "output_type": "stream",
          "text": [
            "\n",
            "WFST 1    2    3    4    5    6    7   \n",
            "0    NP   .    .    S    .    .    S    \n",
            "1    .    V    .    VP   .    .    VP   \n",
            "2    .    .    Det  NP   .    .    .    \n",
            "3    .    .    .    N    .    .    .    \n",
            "4    .    .    .    .    P    .    PP   \n",
            "5    .    .    .    .    .    Det  NP   \n",
            "6    .    .    .    .    .    .    N    \n"
          ],
          "name": "stdout"
        }
      ]
    },
    {
      "cell_type": "code",
      "metadata": {
        "colab": {
          "base_uri": "https://localhost:8080/"
        },
        "id": "XYIEtb4w2bJw",
        "outputId": "2599879f-7687-452e-9dcc-86119b57c9d6"
      },
      "source": [
        "complete_wfst(wfst0, tokens, simple_cfg, trace=True)"
      ],
      "execution_count": 24,
      "outputs": [
        {
          "output_type": "stream",
          "text": [
            "[2] Det [3]   N [4] ==> [2]  NP [4]\n",
            "[5] Det [6]   N [7] ==> [5]  NP [7]\n",
            "[1]   V [2]  NP [4] ==> [1]  VP [4]\n",
            "[4]   P [5]  NP [7] ==> [4]  PP [7]\n",
            "[0]  NP [1]  VP [4] ==> [0]   S [4]\n",
            "[1]  VP [4]  PP [7] ==> [1]  VP [7]\n",
            "[0]  NP [1]  VP [7] ==> [0]   S [7]\n"
          ],
          "name": "stdout"
        },
        {
          "output_type": "execute_result",
          "data": {
            "text/plain": [
              "[[None, NP, None, None, S, None, None, S],\n",
              " [None, None, V, None, VP, None, None, VP],\n",
              " [None, None, None, Det, NP, None, None, None],\n",
              " [None, None, None, None, N, None, None, None],\n",
              " [None, None, None, None, None, P, None, PP],\n",
              " [None, None, None, None, None, None, Det, NP],\n",
              " [None, None, None, None, None, None, None, N],\n",
              " [None, None, None, None, None, None, None, None]]"
            ]
          },
          "metadata": {
            "tags": []
          },
          "execution_count": 24
        }
      ]
    },
    {
      "cell_type": "markdown",
      "metadata": {
        "id": "KK31vCztFM33"
      },
      "source": [
        "#### Build Grammar for production usage using [NLTK data](https://www.nltk.org/data.html) and [`nltk.corpus`](http://www.nltk.org/api/nltk.corpus.html) module"
      ]
    },
    {
      "cell_type": "code",
      "metadata": {
        "colab": {
          "base_uri": "https://localhost:8080/"
        },
        "id": "wRm0enQkEoDr",
        "outputId": "d25a8ca1-21d2-4586-ed0b-e722d2ab46bb"
      },
      "source": [
        "from nltk.corpus import treebank\n",
        "nltk.download('treebank')\n",
        "t = treebank.parsed_sents('wsj_0001.mrg')[0]\n",
        "print(t)"
      ],
      "execution_count": 25,
      "outputs": [
        {
          "output_type": "stream",
          "text": [
            "[nltk_data] Downloading package treebank to /root/nltk_data...\n"
          ],
          "name": "stderr"
        },
        {
          "output_type": "stream",
          "text": [
            "(S\n",
            "  (NP-SBJ\n",
            "    (NP (NNP Pierre) (NNP Vinken))\n",
            "    (, ,)\n",
            "    (ADJP (NP (CD 61) (NNS years)) (JJ old))\n",
            "    (, ,))\n",
            "  (VP\n",
            "    (MD will)\n",
            "    (VP\n",
            "      (VB join)\n",
            "      (NP (DT the) (NN board))\n",
            "      (PP-CLR (IN as) (NP (DT a) (JJ nonexecutive) (NN director)))\n",
            "      (NP-TMP (NNP Nov.) (CD 29))))\n",
            "  (. .))\n"
          ],
          "name": "stdout"
        },
        {
          "output_type": "stream",
          "text": [
            "[nltk_data]   Unzipping corpora/treebank.zip.\n"
          ],
          "name": "stderr"
        }
      ]
    },
    {
      "cell_type": "code",
      "metadata": {
        "colab": {
          "base_uri": "https://localhost:8080/"
        },
        "id": "67joFZX6GJ0Q",
        "outputId": "40899bb9-9e4f-4e00-93e8-876714fda95f"
      },
      "source": [
        "from nltk.corpus import indian\n",
        "nltk.download('indian')\n",
        "t = indian.sents()[0]\n",
        "print(t)"
      ],
      "execution_count": 26,
      "outputs": [
        {
          "output_type": "stream",
          "text": [
            "[nltk_data] Downloading package indian to /root/nltk_data...\n"
          ],
          "name": "stderr"
        },
        {
          "output_type": "stream",
          "text": [
            "['মহিষের', 'সন্তান', ':', 'তোড়া', 'উপজাতি', '৷']\n"
          ],
          "name": "stdout"
        },
        {
          "output_type": "stream",
          "text": [
            "[nltk_data]   Unzipping corpora/indian.zip.\n"
          ],
          "name": "stderr"
        }
      ]
    },
    {
      "cell_type": "markdown",
      "metadata": {
        "id": "k-uu8OzlRhEe"
      },
      "source": [
        "---\n",
        "### Real-World Parsers\n",
        "We have many state-of-the-art models for *Constituency Parsing*, few of them are available for production usage. List available at \n",
        "[NLP-progress: Constituency Parsing](http://nlpprogress.com/english/constituency_parsing.html).\n",
        "\n",
        "- [StanfordCoreNLP](https://stanfordnlp.github.io/CoreNLP/parse.html): Stanford's Java based NLP toolkit.\n",
        "- [Kitaev and Klein](https://github.com/nikitakit/self-attentive-parser): [Berkeley Neural Parser](https://parser.kitaev.io). Can be used with NLTK, spaCy also has a plug-in for this."
      ]
    },
    {
      "cell_type": "code",
      "metadata": {
        "id": "TcaeZH0MDK6k"
      },
      "source": [
        "#!pip install cython\n",
        "#!pip install tensorflow==1.15 # for benepar, also requires python<=3.7.9\n",
        "#!pip install benepar"
      ],
      "execution_count": 39,
      "outputs": []
    },
    {
      "cell_type": "code",
      "metadata": {
        "colab": {
          "base_uri": "https://localhost:8080/"
        },
        "id": "ZSumLPaXD-id",
        "outputId": "260d30b4-38e8-4688-9caa-dd50fdd18f10"
      },
      "source": [
        "import benepar\n",
        "benepar.download('benepar_en3')"
      ],
      "execution_count": 41,
      "outputs": [
        {
          "output_type": "stream",
          "text": [
            "[nltk_data] Downloading package benepar_en3 to /root/nltk_data...\n",
            "[nltk_data]   Unzipping models/benepar_en3.zip.\n"
          ],
          "name": "stderr"
        },
        {
          "output_type": "execute_result",
          "data": {
            "text/plain": [
              "True"
            ]
          },
          "metadata": {
            "tags": []
          },
          "execution_count": 41
        }
      ]
    },
    {
      "cell_type": "code",
      "metadata": {
        "colab": {
          "base_uri": "https://localhost:8080/"
        },
        "id": "E1PKpFA_NEbp",
        "outputId": "db97f157-b328-4442-da81-6f3a0f3831db"
      },
      "source": [
        "# NLTK\n",
        "nltk.download('punkt')"
      ],
      "execution_count": 42,
      "outputs": [
        {
          "output_type": "stream",
          "text": [
            "[nltk_data] Downloading package punkt to /root/nltk_data...\n",
            "[nltk_data]   Package punkt is already up-to-date!\n"
          ],
          "name": "stderr"
        },
        {
          "output_type": "execute_result",
          "data": {
            "text/plain": [
              "True"
            ]
          },
          "metadata": {
            "tags": []
          },
          "execution_count": 42
        }
      ]
    },
    {
      "cell_type": "markdown",
      "metadata": {
        "id": "1ItcJ2v_NEbr"
      },
      "source": [
        "cf.\n",
        "> `punkt` [NLTK Sentence Tokenizer](https://www.nltk.org/_modules/nltk/tokenize/punkt.html)"
      ]
    },
    {
      "cell_type": "code",
      "metadata": {
        "colab": {
          "base_uri": "https://localhost:8080/"
        },
        "id": "QINOgLDvhB9A",
        "outputId": "91630025-6bab-4904-8ce0-670a8a1d7836"
      },
      "source": [
        "# Create parser object\n",
        "bparser = benepar.Parser(\"benepar_en3\")\n",
        "tree = bparser.parse(\"Short cuts make long delays.\")\n",
        "print(tree)\n",
        "print()\n",
        "tree.pretty_print()\n",
        "print('-'*70)"
      ],
      "execution_count": 43,
      "outputs": [
        {
          "output_type": "stream",
          "text": [
            "(TOP\n",
            "  (S\n",
            "    (NP (JJ Short) (NNS cuts))\n",
            "    (VP (VBP make) (NP (JJ long) (NNS delays)))\n",
            "    (. .)))\n",
            "\n",
            "               TOP                     \n",
            "                |                       \n",
            "                S                      \n",
            "        ________|____________________   \n",
            "       |             VP              | \n",
            "       |         ____|____           |  \n",
            "       NP       |         NP         | \n",
            "   ____|___     |     ____|____      |  \n",
            "  JJ      NNS  VBP   JJ       NNS    . \n",
            "  |        |    |    |         |     |  \n",
            "Short     cuts make long     delays  . \n",
            "\n",
            "----------------------------------------------------------------------\n"
          ],
          "name": "stdout"
        },
        {
          "output_type": "stream",
          "text": [
            "/usr/local/lib/python3.7/dist-packages/torch/distributions/distribution.py:46: UserWarning: <class 'torch_struct.distributions.TreeCRF'> does not define `arg_constraints`. Please set `arg_constraints = {}` or initialize the distribution with `validate_args=False` to turn off validation.\n",
            "  'with `validate_args=False` to turn off validation.')\n"
          ],
          "name": "stderr"
        }
      ]
    },
    {
      "cell_type": "code",
      "metadata": {
        "colab": {
          "base_uri": "https://localhost:8080/"
        },
        "id": "gezhBlXSrq8U",
        "outputId": "ba17fa90-23cd-443b-d95b-656459d076b6"
      },
      "source": [
        "# Parse for PP-Attachment Ambiguity\n",
        "tree = bparser.parse(sentence)\n",
        "print(tree)\n",
        "print()\n",
        "tree.pretty_print()\n",
        "print('-'*70)"
      ],
      "execution_count": 44,
      "outputs": [
        {
          "output_type": "stream",
          "text": [
            "(TOP\n",
            "  (S\n",
            "    (NP (PRP I))\n",
            "    (VP\n",
            "      (VBD shot)\n",
            "      (NP (DT an) (NN elephant))\n",
            "      (PP (IN in) (NP (PRP$ my) (NNS pajamas))))))\n",
            "\n",
            "    TOP                                       \n",
            "     |                                         \n",
            "     S                                        \n",
            "  ___|______________                           \n",
            " |                  VP                        \n",
            " |    ______________|__________                \n",
            " |   |        |                PP             \n",
            " |   |        |             ___|____           \n",
            " NP  |        NP           |        NP        \n",
            " |   |     ___|_____       |    ____|_____     \n",
            "PRP VBD   DT        NN     IN PRP$       NNS  \n",
            " |   |    |         |      |   |          |    \n",
            " I  shot  an     elephant  in  my      pajamas\n",
            "\n",
            "----------------------------------------------------------------------\n"
          ],
          "name": "stdout"
        },
        {
          "output_type": "stream",
          "text": [
            "/usr/local/lib/python3.7/dist-packages/torch/distributions/distribution.py:46: UserWarning: <class 'torch_struct.distributions.TreeCRF'> does not define `arg_constraints`. Please set `arg_constraints = {}` or initialize the distribution with `validate_args=False` to turn off validation.\n",
            "  'with `validate_args=False` to turn off validation.')\n"
          ],
          "name": "stderr"
        }
      ]
    },
    {
      "cell_type": "code",
      "metadata": {
        "colab": {
          "base_uri": "https://localhost:8080/"
        },
        "id": "Gd322OPizLX-",
        "outputId": "4edcb4e7-aeac-40e9-ccff-4b9d75e84f01"
      },
      "source": [
        "# Parse for CKY example\n",
        "tokens = \"book the flight through Houston\".split()\n",
        "tree = bparser.parse(tokens)\n",
        "print(tree)\n",
        "print()\n",
        "tree.pretty_print()\n",
        "print('-'*70)"
      ],
      "execution_count": 45,
      "outputs": [
        {
          "output_type": "stream",
          "text": [
            "(TOP\n",
            "  (VP\n",
            "    (VB book)\n",
            "    (NP\n",
            "      (NP (DT the) (NN flight))\n",
            "      (PP (IN through) (NP (NNP Houston))))))\n",
            "\n",
            "              TOP                          \n",
            "               |                            \n",
            "               VP                          \n",
            "  _____________|_____                       \n",
            " |                   NP                    \n",
            " |         __________|___________           \n",
            " |        |                      PP        \n",
            " |        |                 _____|_____     \n",
            " |        NP               |           NP  \n",
            " |     ___|____            |           |    \n",
            " VB   DT       NN          IN         NNP  \n",
            " |    |        |           |           |    \n",
            "book the     flight     through     Houston\n",
            "\n",
            "----------------------------------------------------------------------\n"
          ],
          "name": "stdout"
        },
        {
          "output_type": "stream",
          "text": [
            "/usr/local/lib/python3.7/dist-packages/torch/distributions/distribution.py:46: UserWarning: <class 'torch_struct.distributions.TreeCRF'> does not define `arg_constraints`. Please set `arg_constraints = {}` or initialize the distribution with `validate_args=False` to turn off validation.\n",
            "  'with `validate_args=False` to turn off validation.')\n"
          ],
          "name": "stderr"
        }
      ]
    },
    {
      "cell_type": "code",
      "metadata": {
        "id": "iCjzKUxFNEb2",
        "colab": {
          "base_uri": "https://localhost:8080/"
        },
        "outputId": "861289be-7389-44bd-9865-d13927c0e2cc"
      },
      "source": [
        "# spaCy\n",
        "import spacy\n",
        "nlp = spacy.load(\"en_core_web_sm\")\n",
        "from benepar.spacy_plugin import BeneparComponent"
      ],
      "execution_count": 46,
      "outputs": [
        {
          "output_type": "stream",
          "text": [
            "/usr/local/lib/python3.7/dist-packages/benepar/spacy_plugin.py:12: FutureWarning: BeneparComponent and NonConstituentException have been moved to the benepar module. Use `from benepar import BeneparComponent, NonConstituentException` instead of benepar.spacy_plugin. The benepar.spacy_plugin namespace is deprecated and will be removed in a future version.\n",
            "  FutureWarning,\n"
          ],
          "name": "stderr"
        }
      ]
    },
    {
      "cell_type": "markdown",
      "metadata": {
        "id": "l7SzLMx9NEb3"
      },
      "source": [
        "cf.\n",
        "> $\\texttt{en_core_web_sm}$ one of the [pretrained statiscal models for English](https://spacy.io/models/en) in spaCy"
      ]
    },
    {
      "cell_type": "code",
      "metadata": {
        "colab": {
          "base_uri": "https://localhost:8080/"
        },
        "id": "Erskp1PhDcSK",
        "outputId": "ed8b3106-bac9-4599-894d-6b0c418229eb"
      },
      "source": [
        "# Generate document\n",
        "nlp.add_pipe(BeneparComponent('benepar_en3'))\n",
        "doc = nlp(\"The time for action is now. It's never too late to do something.\")\n",
        "doc"
      ],
      "execution_count": 48,
      "outputs": [
        {
          "output_type": "stream",
          "text": [
            "/usr/local/lib/python3.7/dist-packages/torch/distributions/distribution.py:46: UserWarning: <class 'torch_struct.distributions.TreeCRF'> does not define `arg_constraints`. Please set `arg_constraints = {}` or initialize the distribution with `validate_args=False` to turn off validation.\n",
            "  'with `validate_args=False` to turn off validation.')\n"
          ],
          "name": "stderr"
        },
        {
          "output_type": "execute_result",
          "data": {
            "text/plain": [
              "The time for action is now. It's never too late to do something."
            ]
          },
          "metadata": {
            "tags": []
          },
          "execution_count": 48
        }
      ]
    },
    {
      "cell_type": "code",
      "metadata": {
        "colab": {
          "base_uri": "https://localhost:8080/"
        },
        "id": "h0MVXakaE2hz",
        "outputId": "22c9ce64-51bb-48c4-d525-05a3c1a07632"
      },
      "source": [
        "# Get parse\n",
        "for sent in list(doc.sents):\n",
        "    print(sent)\n",
        "    print(sent._.parse_string)\n",
        "    print(list(sent._.children))\n",
        "    print('-'*70)"
      ],
      "execution_count": 49,
      "outputs": [
        {
          "output_type": "stream",
          "text": [
            "The time for action is now.\n",
            "(S (NP (NP (DT The) (NN time)) (PP (IN for) (NP (NN action)))) (VP (VBZ is) (ADVP (RB now))) (. .))\n",
            "[The time for action, is now, .]\n",
            "----------------------------------------------------------------------\n",
            "It's never too late to do something.\n",
            "(S (NP (PRP It)) (VP (VBZ 's) (ADVP (RB never)) (ADJP (RB too) (JJ late) (S (VP (TO to) (VP (VB do) (NP (NN something))))))) (. .))\n",
            "[It, 's never too late to do something, .]\n",
            "----------------------------------------------------------------------\n"
          ],
          "name": "stdout"
        }
      ]
    },
    {
      "cell_type": "code",
      "metadata": {
        "colab": {
          "base_uri": "https://localhost:8080/"
        },
        "id": "rGiz8FgJFMH7",
        "outputId": "662d27d9-4cc5-4be7-e6a3-e169630a2e56"
      },
      "source": [
        "sent1 = list(doc.sents)[0]\n",
        "c1 = list(sent1._.children)[0]\n",
        "print(list(c1._.children))\n",
        "print(list(list(c1._.children)[0]._.children))\n",
        "print(list(list(list(c1._.children)[0]._.children)[0]._.children))"
      ],
      "execution_count": 50,
      "outputs": [
        {
          "output_type": "stream",
          "text": [
            "[The time, for action]\n",
            "[The, time]\n",
            "[]\n"
          ],
          "name": "stdout"
        }
      ]
    },
    {
      "cell_type": "code",
      "metadata": {
        "colab": {
          "base_uri": "https://localhost:8080/",
          "height": 89
        },
        "id": "Z9NcfMBhzvyF",
        "outputId": "45a9a647-0a5d-4001-9edc-623c81f72f84"
      },
      "source": [
        "doc = nlp( 'I shot an elephant in my pajamas')\n",
        "sent = list(doc.sents)\n",
        "sent[0]._.parse_string"
      ],
      "execution_count": 51,
      "outputs": [
        {
          "output_type": "stream",
          "text": [
            "/usr/local/lib/python3.7/dist-packages/torch/distributions/distribution.py:46: UserWarning: <class 'torch_struct.distributions.TreeCRF'> does not define `arg_constraints`. Please set `arg_constraints = {}` or initialize the distribution with `validate_args=False` to turn off validation.\n",
            "  'with `validate_args=False` to turn off validation.')\n"
          ],
          "name": "stderr"
        },
        {
          "output_type": "execute_result",
          "data": {
            "application/vnd.google.colaboratory.intrinsic+json": {
              "type": "string"
            },
            "text/plain": [
              "'(S (NP (PRP I)) (VP (VBD shot) (NP (DT an) (NN elephant)) (PP (IN in) (NP (PRP$ my) (NNS pajamas)))))'"
            ]
          },
          "metadata": {
            "tags": []
          },
          "execution_count": 51
        }
      ]
    },
    {
      "cell_type": "code",
      "metadata": {
        "colab": {
          "base_uri": "https://localhost:8080/",
          "height": 89
        },
        "id": "IESjrHko3wki",
        "outputId": "dfd9a664-4d84-45c2-8960-82aa7869ff5a"
      },
      "source": [
        "doc = nlp( \"book the flight through Houston\")\n",
        "sent = list(doc.sents)\n",
        "sent[0]._.parse_string"
      ],
      "execution_count": 52,
      "outputs": [
        {
          "output_type": "stream",
          "text": [
            "/usr/local/lib/python3.7/dist-packages/torch/distributions/distribution.py:46: UserWarning: <class 'torch_struct.distributions.TreeCRF'> does not define `arg_constraints`. Please set `arg_constraints = {}` or initialize the distribution with `validate_args=False` to turn off validation.\n",
            "  'with `validate_args=False` to turn off validation.')\n"
          ],
          "name": "stderr"
        },
        {
          "output_type": "execute_result",
          "data": {
            "application/vnd.google.colaboratory.intrinsic+json": {
              "type": "string"
            },
            "text/plain": [
              "'(VP (VB book) (NP (NP (DT the) (NN flight)) (PP (IN through) (NP (NNP Houston)))))'"
            ]
          },
          "metadata": {
            "tags": []
          },
          "execution_count": 52
        }
      ]
    },
    {
      "cell_type": "markdown",
      "metadata": {
        "id": "Ji0ISTyyDihU"
      },
      "source": [
        "---\n",
        "## References\n",
        "\n",
        "- Daniel Jurafsky & James H. Martin. *Speech and Language Processing.* Draft of October 2, 2019.\n",
        "- Steven Bird, Ewan Klein, and Edward Loper. [*Natural Language Processing With Python*](http://www.nltk.org/book/). O’Reilly, 2009."
      ]
    }
  ]
}