{
 "cells": [
  {
   "cell_type": "markdown",
   "metadata": {},
   "source": [
    "## 1. Prepare data"
   ]
  },
  {
   "cell_type": "code",
   "execution_count": 2,
   "metadata": {},
   "outputs": [
    {
     "name": "stdout",
     "output_type": "stream",
     "text": [
      "['When your main character in a superhero movie is unwatchable, you already have a problem. In addition, Captain Marvel has no weaknesses, which kills the tension immediately.\\n', 'Her performance was forced, uninspiring and flat! Not looking forward to the next movie with \"her\" in it....\\n']\n"
     ]
    }
   ],
   "source": [
    "# Read data, output is a list of strings (instances)\n",
    "with open('Movie-Reviews.txt', 'r') as f:\n",
    "    reviews = f.readlines() \n",
    "    \n",
    "# Print out a sample\n",
    "print(reviews[:2])"
   ]
  },
  {
   "cell_type": "markdown",
   "metadata": {},
   "source": [
    "## 2. Find sentiments by reviews"
   ]
  },
  {
   "cell_type": "code",
   "execution_count": 3,
   "metadata": {},
   "outputs": [],
   "source": [
    "# ! pip install -U textblob\n",
    "from textblob import TextBlob\n",
    "import pandas as pd\n",
    "\n",
    "polarity_list = []\n",
    "subjectivity_list = []\n",
    "for review in reviews:\n",
    "    sentiment = TextBlob(review)\n",
    "    polarity_list.append(sentiment.polarity)\n",
    "    subjectivity_list.append(sentiment.subjectivity)\n",
    "    \n",
    "# Put the 3 lists into dataframe\n",
    "df = pd.DataFrame(list(zip(reviews, polarity_list, subjectivity_list)), \n",
    "               columns =['Review', 'polarity', 'subjectivity']) "
   ]
  },
  {
   "cell_type": "code",
   "execution_count": 4,
   "metadata": {},
   "outputs": [
    {
     "data": {
      "text/html": [
       "<div>\n",
       "<style scoped>\n",
       "    .dataframe tbody tr th:only-of-type {\n",
       "        vertical-align: middle;\n",
       "    }\n",
       "\n",
       "    .dataframe tbody tr th {\n",
       "        vertical-align: top;\n",
       "    }\n",
       "\n",
       "    .dataframe thead th {\n",
       "        text-align: right;\n",
       "    }\n",
       "</style>\n",
       "<table border=\"1\" class=\"dataframe\">\n",
       "  <thead>\n",
       "    <tr style=\"text-align: right;\">\n",
       "      <th></th>\n",
       "      <th>Review</th>\n",
       "      <th>polarity</th>\n",
       "      <th>subjectivity</th>\n",
       "    </tr>\n",
       "  </thead>\n",
       "  <tbody>\n",
       "    <tr>\n",
       "      <th>0</th>\n",
       "      <td>When your main character in a superhero movie ...</td>\n",
       "      <td>0.166667</td>\n",
       "      <td>0.333333</td>\n",
       "    </tr>\n",
       "    <tr>\n",
       "      <th>1</th>\n",
       "      <td>Her performance was forced, uninspiring and fl...</td>\n",
       "      <td>-0.110417</td>\n",
       "      <td>0.108333</td>\n",
       "    </tr>\n",
       "    <tr>\n",
       "      <th>2</th>\n",
       "      <td>I couldn't believe how boring this movie was. ...</td>\n",
       "      <td>-0.508333</td>\n",
       "      <td>0.720833</td>\n",
       "    </tr>\n",
       "    <tr>\n",
       "      <th>3</th>\n",
       "      <td>Nothing beats a good marvel movie, and this is...</td>\n",
       "      <td>0.700000</td>\n",
       "      <td>0.600000</td>\n",
       "    </tr>\n",
       "    <tr>\n",
       "      <th>4</th>\n",
       "      <td>This movie did for Marvel what Wonder Woman di...</td>\n",
       "      <td>0.600000</td>\n",
       "      <td>0.675000</td>\n",
       "    </tr>\n",
       "    <tr>\n",
       "      <th>5</th>\n",
       "      <td>Captain Marvel just became my favorite superhe...</td>\n",
       "      <td>0.400000</td>\n",
       "      <td>0.637500</td>\n",
       "    </tr>\n",
       "    <tr>\n",
       "      <th>6</th>\n",
       "      <td>This is a very controversial Marvel film. Whic...</td>\n",
       "      <td>0.357500</td>\n",
       "      <td>0.625000</td>\n",
       "    </tr>\n",
       "    <tr>\n",
       "      <th>7</th>\n",
       "      <td>Unfortunately, despite carrying many elements ...</td>\n",
       "      <td>-0.141667</td>\n",
       "      <td>0.477381</td>\n",
       "    </tr>\n",
       "    <tr>\n",
       "      <th>8</th>\n",
       "      <td>It's worth watching just for the fact that thi...</td>\n",
       "      <td>0.300000</td>\n",
       "      <td>0.100000</td>\n",
       "    </tr>\n",
       "    <tr>\n",
       "      <th>9</th>\n",
       "      <td>It's great for a first time viewing. Would you...</td>\n",
       "      <td>0.376563</td>\n",
       "      <td>0.514583</td>\n",
       "    </tr>\n",
       "  </tbody>\n",
       "</table>\n",
       "</div>"
      ],
      "text/plain": [
       "                                              Review  polarity  subjectivity\n",
       "0  When your main character in a superhero movie ...  0.166667      0.333333\n",
       "1  Her performance was forced, uninspiring and fl... -0.110417      0.108333\n",
       "2  I couldn't believe how boring this movie was. ... -0.508333      0.720833\n",
       "3  Nothing beats a good marvel movie, and this is...  0.700000      0.600000\n",
       "4  This movie did for Marvel what Wonder Woman di...  0.600000      0.675000\n",
       "5  Captain Marvel just became my favorite superhe...  0.400000      0.637500\n",
       "6  This is a very controversial Marvel film. Whic...  0.357500      0.625000\n",
       "7  Unfortunately, despite carrying many elements ... -0.141667      0.477381\n",
       "8  It's worth watching just for the fact that thi...  0.300000      0.100000\n",
       "9  It's great for a first time viewing. Would you...  0.376563      0.514583"
      ]
     },
     "execution_count": 4,
     "metadata": {},
     "output_type": "execute_result"
    }
   ],
   "source": [
    "df"
   ]
  },
  {
   "cell_type": "markdown",
   "metadata": {},
   "source": [
    "## 3. Summarize Sentiment"
   ]
  },
  {
   "cell_type": "code",
   "execution_count": 7,
   "metadata": {},
   "outputs": [],
   "source": [
    "#Custom formula to convert polarity \n",
    "# 0 = (Negative) 1 = (Neutral) 2=(Positive)\n",
    "\n",
    "polarity_list = list(round((polarity+1)*3) % 3 for polarity in polarity_list)"
   ]
  },
  {
   "cell_type": "code",
   "execution_count": 11,
   "metadata": {},
   "outputs": [],
   "source": [
    "from collections import Counter\n",
    "\n",
    "count = Counter(polarity_list)\n",
    "values = count.values()"
   ]
  },
  {
   "cell_type": "code",
   "execution_count": 14,
   "metadata": {},
   "outputs": [
    {
     "name": "stdout",
     "output_type": "stream",
     "text": [
      "\n",
      " Pie Representation \n",
      "-------------------\n"
     ]
    },
    {
     "data": {
      "image/png": "[encoded data removed]",
      "text/plain": [
       "<Figure size 432x288 with 1 Axes>"
      ]
     },
     "metadata": {},
     "output_type": "display_data"
    }
   ],
   "source": [
    "import matplotlib.pyplot as plt\n",
    "#Set colors by label\n",
    "#colors=[\"Green\",\"Blue\",\"Red\"]\n",
    "\n",
    "labels = [\"Neutral\", \"Negative\", \"Positive\"]\n",
    "print(\"\\n Pie Representation \\n-------------------\")\n",
    "#Plot a pie chart\n",
    "plt.pie(values, labels=labels, \\\n",
    "        autopct='%1.1f%%', shadow=True, startangle=140)\n",
    "plt.axis('equal')\n",
    "plt.show()"
   ]
  }
 ],
 "metadata": {
  "kernelspec": {
   "display_name": "Python 3",
   "language": "python",
   "name": "python3"
  },
  "language_info": {
   "codemirror_mode": {
    "name": "ipython",
    "version": 3
   },
   "file_extension": ".py",
   "mimetype": "text/x-python",
   "name": "python",
   "nbconvert_exporter": "python",
   "pygments_lexer": "ipython3",
   "version": "3.7.6"
  }
 },
 "nbformat": 4,
 "nbformat_minor": 4
}
