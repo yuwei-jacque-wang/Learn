{
  "nbformat": 4,
  "nbformat_minor": 0,
  "metadata": {
    "accelerator": "GPU",
    "colab": {
      "name": "01b-pytorch.ipynb",
      "provenance": [],
      "collapsed_sections": []
    },
    "kernelspec": {
      "display_name": "Python 3",
      "language": "python",
      "name": "python3"
    },
    "language_info": {
      "codemirror_mode": {
        "name": "ipython",
        "version": 3
      },
      "file_extension": ".py",
      "mimetype": "text/x-python",
      "name": "python",
      "nbconvert_exporter": "python",
      "pygments_lexer": "ipython3",
      "version": "3.7.6"
    }
  },
  "cells": [
    {
      "cell_type": "markdown",
      "metadata": {
        "id": "cyIDCTjIzT4i"
      },
      "source": [
        "# Fall 2020: DS-GA 1011 NLP with Representation Learning\n",
        "## Lab 1: 04-Sep-2020, Friday\n",
        "## [PyTorch](https://pytorch.org)"
      ]
    },
    {
      "cell_type": "markdown",
      "metadata": {
        "id": "JPtbP570zT4m"
      },
      "source": [
        "All of deep learning is computations on tensors, which are\n",
        "generalizations of a matrix that can be indexed in more than 2\n",
        "dimensions.\n",
        "\n",
        "PyTorch is a Python based scientific computing package (tensorial library) that uses the power of GPUs and provides maximum flexibility and speed."
      ]
    },
    {
      "cell_type": "code",
      "metadata": {
        "id": "u6h6yKnrzT4n"
      },
      "source": [
        "# Before importing, install package in your virtual environment \n",
        "# using statement from the PyTorch website based on your OS, Package Manager\n",
        "\n",
        "# !conda install pytorch torchvision -c pytorch\n",
        "import torch"
      ],
      "execution_count": 1,
      "outputs": []
    },
    {
      "cell_type": "code",
      "metadata": {
        "id": "qpzAk06slF5l",
        "colab": {
          "base_uri": "https://localhost:8080/"
        },
        "outputId": "ad37819f-0ddb-4481-de45-2baf984ac89a"
      },
      "source": [
        "# Fixing random seed\n",
        "# Snippet given below is for all random methods, for now we need only available ones\n",
        "seed = 1011\n",
        "# random.seed(seed)\n",
        "# np.random.seed(seed)\n",
        "torch.manual_seed(seed)\n",
        "# if torch.cuda.is_available(): # We will see how this works in the last section\n",
        "#     torch.cuda.manual_seed(seed)\n",
        "#     torch.cuda.manual_seed_all(seed)\n",
        "#     torch.backends.cudnn.benchmark = False\n",
        "#     torch.backends.cudnn.deterministic = True"
      ],
      "execution_count": 2,
      "outputs": [
        {
          "output_type": "execute_result",
          "data": {
            "text/plain": [
              "<torch._C.Generator at 0x7f7a76970ab0>"
            ]
          },
          "metadata": {
            "tags": []
          },
          "execution_count": 2
        }
      ]
    },
    {
      "cell_type": "markdown",
      "metadata": {
        "id": "cm5u1JUJzT4q"
      },
      "source": [
        "---\n",
        "### Creating Tensors\n",
        "\n",
        "Tensors can be created from Python lists with the torch.tensor()\n",
        "function."
      ]
    },
    {
      "cell_type": "code",
      "metadata": {
        "colab": {
          "base_uri": "https://localhost:8080/"
        },
        "id": "_N1HCh7hzT4q",
        "outputId": "4c0e0eae-1558-4df8-f404-26e2ad20e3e8"
      },
      "source": [
        "# torch.tensor(data) creates a torch.Tensor object with the given data.\n",
        "V_data = [1., 2., 3.]\n",
        "V = torch.tensor(V_data)\n",
        "print(V)\n",
        "\n",
        "# Creates a matrix\n",
        "M_data = [[1., 2., 3.]]\n",
        "M = torch.tensor(M_data)\n",
        "print(M)\n",
        "\n",
        "# Create a 3D tensor of size 2x2x2.\n",
        "T_data = [[[1., 2.], [3., 4.]],\n",
        "          [[5., 6.], [7., 8.]]]\n",
        "T = torch.tensor(T_data)\n",
        "print(T)"
      ],
      "execution_count": 3,
      "outputs": [
        {
          "output_type": "stream",
          "text": [
            "tensor([1., 2., 3.])\n",
            "tensor([[1., 2., 3.]])\n",
            "tensor([[[1., 2.],\n",
            "         [3., 4.]],\n",
            "\n",
            "        [[5., 6.],\n",
            "         [7., 8.]]])\n"
          ],
          "name": "stdout"
        }
      ]
    },
    {
      "cell_type": "code",
      "metadata": {
        "colab": {
          "base_uri": "https://localhost:8080/"
        },
        "id": "0tyqgHQR1vAB",
        "outputId": "2643f24e-9e24-4c74-e437-45a88cf87f84"
      },
      "source": [
        "print(V.shape)\n",
        "print(M.shape)\n",
        "print(T.shape)"
      ],
      "execution_count": 4,
      "outputs": [
        {
          "output_type": "stream",
          "text": [
            "torch.Size([3])\n",
            "torch.Size([1, 3])\n",
            "torch.Size([2, 2, 2])\n"
          ],
          "name": "stdout"
        }
      ]
    },
    {
      "cell_type": "markdown",
      "metadata": {
        "id": "y5Zkst723Xbi"
      },
      "source": [
        "use **.item()** to get a Python number from it "
      ]
    },
    {
      "cell_type": "code",
      "metadata": {
        "id": "7sHQq3R-lF7P",
        "colab": {
          "base_uri": "https://localhost:8080/"
        },
        "outputId": "888ab658-bb07-4e84-b4b6-2281eb6f0666"
      },
      "source": [
        "type(V)"
      ],
      "execution_count": 5,
      "outputs": [
        {
          "output_type": "execute_result",
          "data": {
            "text/plain": [
              "torch.Tensor"
            ]
          },
          "metadata": {
            "tags": []
          },
          "execution_count": 5
        }
      ]
    },
    {
      "cell_type": "code",
      "metadata": {
        "id": "-QIVPHCClF7Z",
        "colab": {
          "base_uri": "https://localhost:8080/"
        },
        "outputId": "6da293c8-7dfb-45dd-9a81-1311cc4d7950"
      },
      "source": [
        "V.dtype"
      ],
      "execution_count": 6,
      "outputs": [
        {
          "output_type": "execute_result",
          "data": {
            "text/plain": [
              "torch.float32"
            ]
          },
          "metadata": {
            "tags": []
          },
          "execution_count": 6
        }
      ]
    },
    {
      "cell_type": "code",
      "metadata": {
        "colab": {
          "base_uri": "https://localhost:8080/"
        },
        "id": "A9ShXemrzT4u",
        "outputId": "9eb7d2a1-698b-4b63-cc2f-0ba660075805"
      },
      "source": [
        "print(T[0, 1, 1])\n",
        "print(T[0, 1, 1].item())"
      ],
      "execution_count": 7,
      "outputs": [
        {
          "output_type": "stream",
          "text": [
            "tensor(4.)\n",
            "4.0\n"
          ],
          "name": "stdout"
        }
      ]
    },
    {
      "cell_type": "markdown",
      "metadata": {
        "id": "OvQfERwIzT4x"
      },
      "source": [
        "You can create a tensor with random data and the supplied dimensionality\n",
        "with **torch.randn()**\n",
        "\n",
        "\n"
      ]
    },
    {
      "cell_type": "code",
      "metadata": {
        "colab": {
          "base_uri": "https://localhost:8080/"
        },
        "id": "kRHYFE7BzT4y",
        "outputId": "623eda17-84a9-491b-f60f-dcd22cae60d1"
      },
      "source": [
        "x = torch.randn((3, 4, 5))\n",
        "print(x)"
      ],
      "execution_count": 8,
      "outputs": [
        {
          "output_type": "stream",
          "text": [
            "tensor([[[ 1.2052,  0.1094, -0.8832,  0.3788, -0.7768],\n",
            "         [-0.6804,  1.2327,  1.0014, -1.5491,  0.1858],\n",
            "         [ 1.4104,  1.7762,  0.6130, -0.0582,  1.0088],\n",
            "         [-0.4520,  0.3206, -0.2076,  1.2377, -1.1629]],\n",
            "\n",
            "        [[-1.0091,  0.0051, -0.2265,  0.4963, -0.0476],\n",
            "         [ 1.5747, -0.1061, -0.5696,  0.1116,  0.7162],\n",
            "         [-0.6617,  1.7941,  0.7287, -0.8194, -0.9019],\n",
            "         [ 1.1155,  0.9972, -0.9204, -0.2496, -0.3251]],\n",
            "\n",
            "        [[ 2.1975,  2.9558,  1.6646, -0.5872,  0.5809],\n",
            "         [-0.5396, -1.2176, -0.3379, -0.4550, -0.5796],\n",
            "         [-0.9330,  0.1720,  1.0668, -0.5753,  0.2944],\n",
            "         [ 0.2626,  0.5561, -0.0462,  0.6692,  2.3364]]])\n"
          ],
          "name": "stdout"
        }
      ]
    },
    {
      "cell_type": "markdown",
      "metadata": {
        "id": "zabIQJv7zT41"
      },
      "source": [
        "---\n",
        "### Operations with Tensors\n",
        "\n",
        "Similar to NumPy, PyTorch tensors are also broadcastable.\n",
        "\n"
      ]
    },
    {
      "cell_type": "code",
      "metadata": {
        "colab": {
          "base_uri": "https://localhost:8080/"
        },
        "id": "uD_gBRIxzT41",
        "outputId": "d484b43a-0815-420c-d475-ab66204dc432"
      },
      "source": [
        "x = torch.tensor([1., 2., 3.])\n",
        "y = torch.tensor([4.])\n",
        "z = x * y\n",
        "print(z)"
      ],
      "execution_count": 9,
      "outputs": [
        {
          "output_type": "stream",
          "text": [
            "tensor([ 4.,  8., 12.])\n"
          ],
          "name": "stdout"
        }
      ]
    },
    {
      "cell_type": "code",
      "metadata": {
        "colab": {
          "base_uri": "https://localhost:8080/"
        },
        "id": "_igf7RKwRuW8",
        "outputId": "86cbe0a0-f982-49ed-a72d-36720ed241b0"
      },
      "source": [
        "x = torch.tensor([3., 5.])\n",
        "y = torch.tensor([[1., 2.],[3., 4.]]) \n",
        "z = x * y\n",
        "print(z)"
      ],
      "execution_count": 10,
      "outputs": [
        {
          "output_type": "stream",
          "text": [
            "tensor([[ 3., 10.],\n",
            "        [ 9., 20.]])\n"
          ],
          "name": "stdout"
        }
      ]
    },
    {
      "cell_type": "code",
      "metadata": {
        "colab": {
          "base_uri": "https://localhost:8080/"
        },
        "id": "S7uX8ne8T1n4",
        "outputId": "b9e2aca1-037a-4021-9d3e-18f601926b49"
      },
      "source": [
        "import numpy as np\n",
        "x = torch.tensor([[0.],[1.],[2.],[3.]])\n",
        "y = torch.tensor(np.ones(5))\n",
        "\n",
        "print(x)\n",
        "print(y)\n",
        "print(x + y)"
      ],
      "execution_count": 11,
      "outputs": [
        {
          "output_type": "stream",
          "text": [
            "tensor([[0.],\n",
            "        [1.],\n",
            "        [2.],\n",
            "        [3.]])\n",
            "tensor([1., 1., 1., 1., 1.], dtype=torch.float64)\n",
            "tensor([[1., 1., 1., 1., 1.],\n",
            "        [2., 2., 2., 2., 2.],\n",
            "        [3., 3., 3., 3., 3.],\n",
            "        [4., 4., 4., 4., 4.]], dtype=torch.float64)\n"
          ],
          "name": "stdout"
        }
      ]
    },
    {
      "cell_type": "markdown",
      "metadata": {
        "id": "08LDoaFnPzFQ"
      },
      "source": [
        "**torch.cat()**"
      ]
    },
    {
      "cell_type": "code",
      "metadata": {
        "colab": {
          "base_uri": "https://localhost:8080/"
        },
        "id": "aghzXvHjPHYl",
        "outputId": "fbcdd94a-079f-4d71-977c-455ed359d432"
      },
      "source": [
        "# By defult, dim = 0; it concatenates tensors along the first axis (concatenate row-wise)\n",
        "x_1 = torch.randn(2, 5)\n",
        "y_1 = torch.randn(3, 5)\n",
        "z_1 = torch.cat([x_1, y_1])\n",
        "print(x_1)\n",
        "print(y_1)\n",
        "print(z_1)\n",
        "\n",
        "print(z_1.shape)"
      ],
      "execution_count": 12,
      "outputs": [
        {
          "output_type": "stream",
          "text": [
            "tensor([[-0.8491, -0.8160,  0.3474,  1.4565,  0.7865],\n",
            "        [ 1.4771,  0.0311,  1.1400, -0.3954,  0.6512]])\n",
            "tensor([[-1.6450e-01,  7.3995e-01, -1.0988e+00, -2.9694e-02, -1.7262e+00],\n",
            "        [ 1.9209e+00,  9.5517e-02,  6.6707e-01, -1.1831e+00, -2.1504e+00],\n",
            "        [-1.8599e-01,  3.0147e-01, -1.4919e+00, -1.3604e-03,  1.2583e+00]])\n",
            "tensor([[-8.4905e-01, -8.1601e-01,  3.4742e-01,  1.4565e+00,  7.8647e-01],\n",
            "        [ 1.4771e+00,  3.1138e-02,  1.1400e+00, -3.9542e-01,  6.5121e-01],\n",
            "        [-1.6450e-01,  7.3995e-01, -1.0988e+00, -2.9694e-02, -1.7262e+00],\n",
            "        [ 1.9209e+00,  9.5517e-02,  6.6707e-01, -1.1831e+00, -2.1504e+00],\n",
            "        [-1.8599e-01,  3.0147e-01, -1.4919e+00, -1.3604e-03,  1.2583e+00]])\n",
            "torch.Size([5, 5])\n"
          ],
          "name": "stdout"
        }
      ]
    },
    {
      "cell_type": "code",
      "metadata": {
        "colab": {
          "base_uri": "https://localhost:8080/"
        },
        "id": "AVxt1bQCzT47",
        "outputId": "6924ca85-d33f-44c6-dc8b-78f41ce7b751"
      },
      "source": [
        "# Concatenate column-wise:\n",
        "x_2 = torch.randn(2, 3)\n",
        "y_2 = torch.randn(2, 5)\n",
        "\n",
        "# second arg specifies which axis to concat along\n",
        "z_2 = torch.cat([x_2, y_2], dim=1)\n",
        "\n",
        "print(x_2)\n",
        "print(y_2)\n",
        "print(z_2)\n",
        "\n",
        "print(z_2.shape)\n",
        "\n",
        "#If your tensors are not compatible, you will get the error.  Uncomment to see the error\n",
        "#torch.cat([x_1, x_2])"
      ],
      "execution_count": 13,
      "outputs": [
        {
          "output_type": "stream",
          "text": [
            "tensor([[ 0.6190, -0.0619, -0.1383],\n",
            "        [ 1.2936, -0.9997, -1.5579]])\n",
            "tensor([[-0.1909,  1.2352, -1.4324,  2.0024, -0.9337],\n",
            "        [-1.9675,  0.2076, -0.7082,  0.0527, -1.8856]])\n",
            "tensor([[ 0.6190, -0.0619, -0.1383, -0.1909,  1.2352, -1.4324,  2.0024, -0.9337],\n",
            "        [ 1.2936, -0.9997, -1.5579, -1.9675,  0.2076, -0.7082,  0.0527, -1.8856]])\n",
            "torch.Size([2, 8])\n"
          ],
          "name": "stdout"
        }
      ]
    },
    {
      "cell_type": "markdown",
      "metadata": {
        "id": "MVF6ienFzT49"
      },
      "source": [
        "---\n",
        "### Reshaping Tensors\n",
        "\n",
        "Many neural network components expect their inputs to have\n",
        "a certain shape. Often you will need to reshape before passing your data\n",
        "to the component.\n",
        "\n",
        "\n"
      ]
    },
    {
      "cell_type": "markdown",
      "metadata": {
        "id": "8HjJMDUCKZrM"
      },
      "source": [
        "**.view()**"
      ]
    },
    {
      "cell_type": "code",
      "metadata": {
        "colab": {
          "base_uri": "https://localhost:8080/"
        },
        "id": "F9FuTqagzT4-",
        "outputId": "fb3524a8-979e-4688-cd4a-a1ed097fd768"
      },
      "source": [
        "x = torch.randn(2, 3, 4)\n",
        "x\n",
        "#print(x.shape)"
      ],
      "execution_count": 14,
      "outputs": [
        {
          "output_type": "execute_result",
          "data": {
            "text/plain": [
              "tensor([[[-2.2171,  2.2268, -0.0554,  0.8204],\n",
              "         [ 2.2787,  0.5273,  0.4185, -0.1374],\n",
              "         [ 0.4606, -1.0243, -1.4957, -1.9919]],\n",
              "\n",
              "        [[-0.6965,  0.6811,  1.5641,  0.5920],\n",
              "         [ 0.0257,  0.5130,  0.0565,  0.1281],\n",
              "         [-0.3367, -0.4313,  1.5731, -0.1342]]])"
            ]
          },
          "metadata": {
            "tags": []
          },
          "execution_count": 14
        }
      ]
    },
    {
      "cell_type": "code",
      "metadata": {
        "colab": {
          "base_uri": "https://localhost:8080/"
        },
        "id": "oZvMuYThKL9i",
        "outputId": "6412f08d-494a-4038-ecbd-0df2f7afcbda"
      },
      "source": [
        "# Reshape to 2 rows, 12 columns\n",
        "print(x.view(2, 12))\n",
        "print(x.view(2, 12).shape)"
      ],
      "execution_count": 15,
      "outputs": [
        {
          "output_type": "stream",
          "text": [
            "tensor([[-2.2171,  2.2268, -0.0554,  0.8204,  2.2787,  0.5273,  0.4185, -0.1374,\n",
            "          0.4606, -1.0243, -1.4957, -1.9919],\n",
            "        [-0.6965,  0.6811,  1.5641,  0.5920,  0.0257,  0.5130,  0.0565,  0.1281,\n",
            "         -0.3367, -0.4313,  1.5731, -0.1342]])\n",
            "torch.Size([2, 12])\n"
          ],
          "name": "stdout"
        }
      ]
    },
    {
      "cell_type": "code",
      "metadata": {
        "colab": {
          "base_uri": "https://localhost:8080/"
        },
        "id": "XAtT1MRvKMAC",
        "outputId": "1e633ca0-9b62-4f1f-9165-9fb694c1f5fe"
      },
      "source": [
        "# If one of the dimensions is -1, its size can be inferred\n",
        "print(x.view(3, -1))\n",
        "print(x.view(3, -1).shape)"
      ],
      "execution_count": 16,
      "outputs": [
        {
          "output_type": "stream",
          "text": [
            "tensor([[-2.2171,  2.2268, -0.0554,  0.8204,  2.2787,  0.5273,  0.4185, -0.1374],\n",
            "        [ 0.4606, -1.0243, -1.4957, -1.9919, -0.6965,  0.6811,  1.5641,  0.5920],\n",
            "        [ 0.0257,  0.5130,  0.0565,  0.1281, -0.3367, -0.4313,  1.5731, -0.1342]])\n",
            "torch.Size([3, 8])\n"
          ],
          "name": "stdout"
        }
      ]
    },
    {
      "cell_type": "markdown",
      "metadata": {
        "id": "A53PzN38KyI1"
      },
      "source": [
        "**.squeeze()** and **.unsqueeze()**"
      ]
    },
    {
      "cell_type": "code",
      "metadata": {
        "colab": {
          "base_uri": "https://localhost:8080/"
        },
        "id": "Ac8zmhfIKxfH",
        "outputId": "699c9241-e41c-43eb-ba48-c834a0dfa59b"
      },
      "source": [
        "a = torch.randn(24)\n",
        "print(a.shape)"
      ],
      "execution_count": 17,
      "outputs": [
        {
          "output_type": "stream",
          "text": [
            "torch.Size([24])\n"
          ],
          "name": "stdout"
        }
      ]
    },
    {
      "cell_type": "code",
      "metadata": {
        "id": "4iJoF5o8lF9C",
        "colab": {
          "base_uri": "https://localhost:8080/"
        },
        "outputId": "789b9b41-9121-462a-f9cd-82aac4322730"
      },
      "source": [
        "a"
      ],
      "execution_count": 18,
      "outputs": [
        {
          "output_type": "execute_result",
          "data": {
            "text/plain": [
              "tensor([ 0.0352, -1.0040,  0.1654,  0.6201, -0.5623,  1.3023, -0.8539,  0.0973,\n",
              "         0.9731, -0.6629, -0.9247, -0.6265, -0.4206, -0.2975, -0.0177, -1.1858,\n",
              "         0.6329, -1.2217,  0.5775, -1.3303, -0.1493, -1.0621, -0.4970, -1.2579])"
            ]
          },
          "metadata": {
            "tags": []
          },
          "execution_count": 18
        }
      ]
    },
    {
      "cell_type": "code",
      "metadata": {
        "colab": {
          "base_uri": "https://localhost:8080/"
        },
        "id": "eGQOoiYaLE2A",
        "outputId": "5995cf82-0353-4f95-b2cc-3b1e17e0fe04"
      },
      "source": [
        "# .unsqueeze() adds a superficial 1 dimension to the tensor at a specific dimension\n",
        "b = a.unsqueeze(dim=0).unsqueeze(dim=0)\n",
        "print(b)\n",
        "print(b.shape)"
      ],
      "execution_count": 19,
      "outputs": [
        {
          "output_type": "stream",
          "text": [
            "tensor([[[ 0.0352, -1.0040,  0.1654,  0.6201, -0.5623,  1.3023, -0.8539,\n",
            "           0.0973,  0.9731, -0.6629, -0.9247, -0.6265, -0.4206, -0.2975,\n",
            "          -0.0177, -1.1858,  0.6329, -1.2217,  0.5775, -1.3303, -0.1493,\n",
            "          -1.0621, -0.4970, -1.2579]]])\n",
            "torch.Size([1, 1, 24])\n"
          ],
          "name": "stdout"
        }
      ]
    },
    {
      "cell_type": "code",
      "metadata": {
        "colab": {
          "base_uri": "https://localhost:8080/"
        },
        "id": "igN0Azo2MSW6",
        "outputId": "2ee3ebce-9898-4873-f9e2-fee78a440f3f"
      },
      "source": [
        "# .squeeze() removes all 1 dimensions of the tensor\n",
        "c = b.squeeze()\n",
        "print(c)\n",
        "print(c.shape)"
      ],
      "execution_count": 20,
      "outputs": [
        {
          "output_type": "stream",
          "text": [
            "tensor([ 0.0352, -1.0040,  0.1654,  0.6201, -0.5623,  1.3023, -0.8539,  0.0973,\n",
            "         0.9731, -0.6629, -0.9247, -0.6265, -0.4206, -0.2975, -0.0177, -1.1858,\n",
            "         0.6329, -1.2217,  0.5775, -1.3303, -0.1493, -1.0621, -0.4970, -1.2579])\n",
            "torch.Size([24])\n"
          ],
          "name": "stdout"
        }
      ]
    },
    {
      "cell_type": "markdown",
      "metadata": {
        "id": "QFVezJ-3V_am"
      },
      "source": [
        "---\n",
        "### Using GPU(s) and CUDA\n",
        "- **GPU** (Graphics Processing Unit) is needed for enough computational power to execute a machine learning or deep learning algorithm on a large dataset. They are designed to rapidly manipulate and alter memory especially for image processing.\n",
        "- [**CUDA** (Compute Unified Device Architecture)](https://developer.nvidia.com/cuda-zone) is a parallel computing platform and application programming interface (API) model created by Nvidia for general-purpose computing on GPUs (GPGPU)."
      ]
    },
    {
      "cell_type": "code",
      "metadata": {
        "colab": {
          "base_uri": "https://localhost:8080/"
        },
        "id": "1c-iNrRkWW3G",
        "outputId": "3e6d3492-1c4a-45f4-ce20-ecd263dc3e04"
      },
      "source": [
        "import torch\n",
        "device = torch.device(\"cuda\" if torch.cuda.is_available() else \"cpu\")\n",
        "print(device)"
      ],
      "execution_count": 21,
      "outputs": [
        {
          "output_type": "stream",
          "text": [
            "cuda\n"
          ],
          "name": "stdout"
        }
      ]
    },
    {
      "cell_type": "code",
      "metadata": {
        "id": "na8-WvuuXR7i"
      },
      "source": [
        "a = torch.tensor([1., 2.], device=device)\n",
        "b = torch.tensor([3., 4.]).to(device)\n",
        "# c = a.cuda()\n",
        "# a = c.cpu()"
      ],
      "execution_count": 22,
      "outputs": []
    },
    {
      "cell_type": "code",
      "metadata": {
        "colab": {
          "base_uri": "https://localhost:8080/"
        },
        "id": "Ozxl6ha2ZFal",
        "outputId": "b7f99c1a-9c35-4a6d-be01-55636a39e463"
      },
      "source": [
        "c = a + b\n",
        "print(c)"
      ],
      "execution_count": 23,
      "outputs": [
        {
          "output_type": "stream",
          "text": [
            "tensor([4., 6.], device='cuda:0')\n"
          ],
          "name": "stdout"
        }
      ]
    },
    {
      "cell_type": "code",
      "metadata": {
        "id": "7w4AHEDblF9y",
        "colab": {
          "base_uri": "https://localhost:8080/"
        },
        "outputId": "79cc9184-dbb1-45dd-b5e2-5b611fbcfe97"
      },
      "source": [
        "print(c.device)"
      ],
      "execution_count": 24,
      "outputs": [
        {
          "output_type": "stream",
          "text": [
            "cuda:0\n"
          ],
          "name": "stdout"
        }
      ]
    },
    {
      "cell_type": "code",
      "metadata": {
        "colab": {
          "base_uri": "https://localhost:8080/"
        },
        "id": "fQtNSfQaZND8",
        "outputId": "87e3aa33-3856-48b9-f69a-11a74a5f7174"
      },
      "source": [
        "d = torch.tensor([4., 5.])\n",
        "print(d.device)"
      ],
      "execution_count": 25,
      "outputs": [
        {
          "output_type": "stream",
          "text": [
            "cpu\n"
          ],
          "name": "stdout"
        }
      ]
    },
    {
      "cell_type": "code",
      "metadata": {
        "colab": {
          "base_uri": "https://localhost:8080/",
          "height": 164
        },
        "id": "3nM6m_QRZnFN",
        "outputId": "e3cef530-c517-44f0-9fff-65cacaad0136"
      },
      "source": [
        "c + d"
      ],
      "execution_count": 26,
      "outputs": [
        {
          "output_type": "error",
          "ename": "RuntimeError",
          "evalue": "ignored",
          "traceback": [
            "\u001b[0;31m---------------------------------------------------------------------------\u001b[0m",
            "\u001b[0;31mRuntimeError\u001b[0m                              Traceback (most recent call last)",
            "\u001b[0;32m<ipython-input-26-73e66d8e9c62>\u001b[0m in \u001b[0;36m<module>\u001b[0;34m()\u001b[0m\n\u001b[0;32m----> 1\u001b[0;31m \u001b[0mc\u001b[0m \u001b[0;34m+\u001b[0m \u001b[0md\u001b[0m\u001b[0;34m\u001b[0m\u001b[0;34m\u001b[0m\u001b[0m\n\u001b[0m",
            "\u001b[0;31mRuntimeError\u001b[0m: Expected all tensors to be on the same device, but found at least two devices, cuda:0 and cpu!"
          ]
        }
      ]
    },
    {
      "cell_type": "code",
      "metadata": {
        "id": "d-HEK02_ZpFt"
      },
      "source": [
        "---\n",
        "## References\n",
        "PyTorch Tutorial: Robert Guthrie"
      ],
      "execution_count": null,
      "outputs": []
    }
  ]
}