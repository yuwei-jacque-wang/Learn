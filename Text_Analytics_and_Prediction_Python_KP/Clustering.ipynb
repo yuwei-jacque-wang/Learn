{
 "cells": [
  {
   "cell_type": "markdown",
   "metadata": {},
   "source": [
    "## 1. Preprare text for clustering"
   ]
  },
  {
   "cell_type": "code",
   "execution_count": 1,
   "metadata": {},
   "outputs": [
    {
     "data": {
      "text/html": [
       "<div>\n",
       "<style scoped>\n",
       "    .dataframe tbody tr th:only-of-type {\n",
       "        vertical-align: middle;\n",
       "    }\n",
       "\n",
       "    .dataframe tbody tr th {\n",
       "        vertical-align: top;\n",
       "    }\n",
       "\n",
       "    .dataframe thead th {\n",
       "        text-align: right;\n",
       "    }\n",
       "</style>\n",
       "<table border=\"1\" class=\"dataframe\">\n",
       "  <thead>\n",
       "    <tr style=\"text-align: right;\">\n",
       "      <th></th>\n",
       "      <th>Course</th>\n",
       "      <th>HashTags</th>\n",
       "    </tr>\n",
       "  </thead>\n",
       "  <tbody>\n",
       "    <tr>\n",
       "      <th>0</th>\n",
       "      <td>Apache Spark Essential Training</td>\n",
       "      <td>BigData,DataScience,MachineLearning</td>\n",
       "    </tr>\n",
       "    <tr>\n",
       "      <th>1</th>\n",
       "      <td>Java Memory Management</td>\n",
       "      <td>Java,Advanced,Programming</td>\n",
       "    </tr>\n",
       "    <tr>\n",
       "      <th>2</th>\n",
       "      <td>Python Automation and Testing</td>\n",
       "      <td>Python,Automation,Scripting</td>\n",
       "    </tr>\n",
       "    <tr>\n",
       "      <th>3</th>\n",
       "      <td>Python for Graphics</td>\n",
       "      <td>Python,Graphics,Scripting</td>\n",
       "    </tr>\n",
       "    <tr>\n",
       "      <th>4</th>\n",
       "      <td>Machine Learning and AI Foundations</td>\n",
       "      <td>DataScience,MachineLearning,Intermediate</td>\n",
       "    </tr>\n",
       "  </tbody>\n",
       "</table>\n",
       "</div>"
      ],
      "text/plain": [
       "                                Course  \\\n",
       "0      Apache Spark Essential Training   \n",
       "1               Java Memory Management   \n",
       "2        Python Automation and Testing   \n",
       "3                  Python for Graphics   \n",
       "4  Machine Learning and AI Foundations   \n",
       "\n",
       "                                   HashTags  \n",
       "0       BigData,DataScience,MachineLearning  \n",
       "1                 Java,Advanced,Programming  \n",
       "2               Python,Automation,Scripting  \n",
       "3                 Python,Graphics,Scripting  \n",
       "4  DataScience,MachineLearning,Intermediate  "
      ]
     },
     "execution_count": 1,
     "metadata": {},
     "output_type": "execute_result"
    }
   ],
   "source": [
    "import pandas as pd\n",
    "from sklearn.feature_extraction.text import TfidfVectorizer\n",
    "\n",
    "df = pd.read_csv('data/Course-Hashtags.csv')\n",
    "df.head()"
   ]
  },
  {
   "cell_type": "code",
   "execution_count": 6,
   "metadata": {},
   "outputs": [
    {
     "name": "stdout",
     "output_type": "stream",
     "text": [
      "Feature names: ['advanced', 'automation', 'bigdata', 'datascience', 'design', 'developer', 'gcp', 'graphics', 'hadoop', 'ide', 'intermediate', 'java', 'jdbc', 'kubernetes', 'machinelearning', 'patterns', 'programming', 'python', 'scala', 'scripting']\n",
      "\n",
      "Matrix dimension: (14, 20)\n"
     ]
    }
   ],
   "source": [
    "course_list = df['Course'].tolist()\n",
    "hashtag_list = df['HashTags'].tolist()\n",
    "\n",
    "# TF-IDF features from hashtag list\n",
    "vectorizer = TfidfVectorizer()\n",
    "hashtag_matrix = vectorizer.fit_transform(hashtag_list)\n",
    "print('Feature names:', vectorizer.get_feature_names())\n",
    "print('\\nMatrix dimension:', hashtag_matrix.shape)"
   ]
  },
  {
   "cell_type": "markdown",
   "metadata": {},
   "source": [
    "Alternatively, try vectorization with course list: "
   ]
  },
  {
   "cell_type": "code",
   "execution_count": 7,
   "metadata": {},
   "outputs": [
    {
     "name": "stdout",
     "output_type": "stream",
     "text": [
      "Feature names: ['ai', 'apache', 'automation', 'cloud', 'data', 'database', 'design', 'developers', 'essential', 'foundations', 'google', 'graphics', 'hadoop', 'ide', 'integration', 'java', 'jdbc', 'kubernetes', 'learning', 'machine', 'management', 'memory', 'overview', 'patterns', 'platform', 'programming', 'python', 'scala', 'science', 'scripting', 'spark', 'testing', 'training']\n",
      "\n",
      "Matrix dimension: (14, 33)\n"
     ]
    }
   ],
   "source": [
    "vectorizer2 = TfidfVectorizer(stop_words='english')\n",
    "course_matrix = vectorizer2.fit_transform(course_list)\n",
    "print('Feature names:', vectorizer2.get_feature_names())\n",
    "print('\\nMatrix dimension:', course_matrix.shape)"
   ]
  },
  {
   "cell_type": "markdown",
   "metadata": {},
   "source": [
    "## 2. Clustering TF-IDF data"
   ]
  },
  {
   "cell_type": "code",
   "execution_count": 21,
   "metadata": {},
   "outputs": [
    {
     "name": "stdout",
     "output_type": "stream",
     "text": [
      "Group: 0 \n",
      "---------------------\n",
      "0           Apache Spark Essential Training\n",
      "4       Machine Learning and AI Foundations\n",
      "8                   Hadoop for Data Science\n",
      "10    Data Science on Google Cloud Platform\n",
      "11                   Scala for Data Science\n",
      "Name: Course, dtype: object\n",
      "Group: 1 \n",
      "---------------------\n",
      "2     Python Automation and Testing\n",
      "3               Python for Graphics\n",
      "7            Python Design Patterns\n",
      "13                 Python Scripting\n",
      "Name: Course, dtype: object\n",
      "Group: 2 \n",
      "---------------------\n",
      "1                   Java Memory Management\n",
      "5     Java : Database Integration and JDBC\n",
      "6                            R Programming\n",
      "9                        Java IDE Overview\n",
      "12          Kubernetes for Java Developers\n",
      "Name: Course, dtype: object\n"
     ]
    }
   ],
   "source": [
    "from sklearn.cluster import KMeans\n",
    "\n",
    "hashtag_kmeans = KMeans(n_clusters=3).fit(hashtag_matrix)\n",
    "labels = hashtag_kmeans.labels_\n",
    "\n",
    "# Assign labels of clusters to original dataframe\n",
    "df['Cluster_hashtag'] = labels\n",
    "\n",
    "for label in set(labels):\n",
    "    print('Group:', label, '\\n---------------------')\n",
    "    print(df['Course'][df['Cluster_hashtag']==label])"
   ]
  },
  {
   "cell_type": "markdown",
   "metadata": {},
   "source": [
    "## 3. Optimal cluster size"
   ]
  },
  {
   "cell_type": "markdown",
   "metadata": {},
   "source": [
    "We compute the sum of squared distances of clusters, given different cluster numbers. This is called \"elbow curve\" which is common to help find optimal cluster size."
   ]
  },
  {
   "cell_type": "code",
   "execution_count": 22,
   "metadata": {},
   "outputs": [],
   "source": [
    "Num_cluster = range(1,15)\n",
    "distances = []\n",
    "\n",
    "for k in Num_cluster:\n",
    "    kmeans = KMeans(n_clusters=k)\n",
    "    kmeans = kmeans.fit(hashtag_matrix)\n",
    "    distances.append(kmeans.inertia_)"
   ]
  },
  {
   "cell_type": "code",
   "execution_count": 23,
   "metadata": {},
   "outputs": [
    {
     "data": {
      "image/png": "[encoded data removed]",
      "text/plain": [
       "<Figure size 432x288 with 1 Axes>"
      ]
     },
     "metadata": {
      "needs_background": "light"
     },
     "output_type": "display_data"
    }
   ],
   "source": [
    "from matplotlib import pyplot as plt\n",
    "\n",
    "plt.plot(Num_cluster, distances, 'bx-')\n",
    "plt.xlabel('Num of clusters')\n",
    "plt.ylabel('Sum of squared distances')\n",
    "plt.show()"
   ]
  },
  {
   "cell_type": "markdown",
   "metadata": {},
   "source": [
    "The \"elbow\" point is at k=3. So we choose 3 clusters as optimal. "
   ]
  }
 ],
 "metadata": {
  "kernelspec": {
   "display_name": "Python 3",
   "language": "python",
   "name": "python3"
  },
  "language_info": {
   "codemirror_mode": {
    "name": "ipython",
    "version": 3
   },
   "file_extension": ".py",
   "mimetype": "text/x-python",
   "name": "python",
   "nbconvert_exporter": "python",
   "pygments_lexer": "ipython3",
   "version": "3.7.6"
  }
 },
 "nbformat": 4,
 "nbformat_minor": 4
}
