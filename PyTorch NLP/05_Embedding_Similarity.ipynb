{
  "nbformat": 4,
  "nbformat_minor": 0,
  "metadata": {
    "colab": {
      "name": "05-embeddings-soln.ipynb",
      "provenance": [],
      "collapsed_sections": []
    },
    "kernelspec": {
      "display_name": "base",
      "language": "python",
      "name": "base"
    },
    "language_info": {
      "codemirror_mode": {
        "name": "ipython",
        "version": 3
      },
      "file_extension": ".py",
      "mimetype": "text/x-python",
      "name": "python",
      "nbconvert_exporter": "python",
      "pygments_lexer": "ipython3",
      "version": "3.8.3"
    }
  },
  "cells": [
    {
      "cell_type": "markdown",
      "metadata": {
        "id": "eTh-YhCJ1r5l"
      },
      "source": [
        "# Fall 2020: DS-GA 1011 NLP with Representation Learning\n",
        "## Lab 5: 02-Oct-2020, Friday\n",
        "## Distributional word representations\n",
        "In this lab, we want to explore creating vector representations of words (__distributed representations__) from co-occurence patterns in text.\n",
        "\n",
        "Note that the term __embedding__, __word vector__, or __word embedding__ can also be used for distributed representations."
      ]
    },
    {
      "cell_type": "markdown",
      "metadata": {
        "id": "ysngTKvO1r59"
      },
      "source": [
        "---\n",
        "### Distributional matrices\n",
        "Here's a basic recipe for building a word $\\times$ word matrix:\n",
        "    \n",
        "1. Define a notion of co-occurrence context. This could be an entire document, a paragraph, a sentence, a clause, an NP — whatever domain seems likely to capture the associations you care about.\n",
        "2. Scan through your corpus building a dictionary $d$ mapping word-pairs to counts. Every time a pair of words $w$ and $w'$ occurs in the same context (as you defined it in 1),  increment $d[(w, w')]$ by $1$.\n",
        "3. Using the count dictionary $d$ that you collected in 2, establish your full vocabulary $V$, an ordered list of words types. For large collections of documents, $|V|$ will typically be huge. You will probably want to winnow the vocabulary at this point. You might do this by filtering to a specific subset, or just imposing a minimum count threshold. You might impose a minimum count threshold even if $|V|$ is small &mdash; for words with very low counts, you simply don't have enough evidence to say anything interesting.\n",
        "4. Now build a matrix $M$ of dimension $|V| \\times |V|$. Both the rows and the columns of $M$ represent words. Each cell $M[i, j]$ is filled with the count $d[(w_i, w_j)]$.\n",
        "\n",
        "For different designs, the procedure differs slightly. For example, if you are building a word $\\times$ document matrix, then the rows of $M$ represent words and the columns of $M$ represent documents. The scan in step 2 then just keeps track of (_word_, _document_) pairs &mdash; compiling the number of times that _word_ appears in _document_. Such matrices are often used in information retrieval, because the columns are multi-set representations of documents. They are much sparser than the the word $\\times$ word matrices we will work with here. (In author's experience, they yield lower-quality lexicons, but others have reported good results with them.)\n",
        "\n",
        "Let's practice building a co-occurrence matrix. We'll use data from the [Stanford Sentiment Treebank](https://nlp.stanford.edu/sentiment/). Download the main zip and extract the file `datasetSentences.txt`.\n",
        "\n",
        "We want to build a co-occurrence matrix where words are considered co-occurring if they are adjacent in a sentence. Let's implement this function.\n",
        "\n",
        "Some practical notes:\n",
        "- for the project, it's okay to use outside libraries, but it's good practice to implement things from scratch\n",
        "- try to stick to built-in Python data structures as much as possible, as using library data structures can add bloat and slow things down. Building the co-occurrence matrix should generally be pretty fast as it only requires one pass over the data, except instantiating the full matrix may be somewhat slow."
      ]
    },
    {
      "cell_type": "code",
      "metadata": {
        "id": "wOpUkzGGefnd"
      },
      "source": [
        "# Import required packages\n",
        "import time\n",
        "import numpy as np\n",
        "from collections import defaultdict"
      ],
      "execution_count": 1,
      "outputs": []
    },
    {
      "cell_type": "markdown",
      "metadata": {
        "id": "SsqIr0X8efne"
      },
      "source": [
        "cf.\n",
        "> [`time`](https://docs.python.org/3/library/time.html) module provides various time-related functions. `time()` function returns the time in seconds since the 'epoch' (platform dependent start date) as a floating point number."
      ]
    },
    {
      "cell_type": "code",
      "metadata": {
        "id": "6iNQbRFm1r5_"
      },
      "source": [
        "def load_sst(data_file):\n",
        "    with open(data_file, 'rt', encoding='UTF8') as data_fh:\n",
        "        data_fh.readline() # skip the header\n",
        "        data = [r.split('\\t')[1] for r in data_fh.readlines()]\n",
        "    return data"
      ],
      "execution_count": 2,
      "outputs": []
    },
    {
      "cell_type": "code",
      "metadata": {
        "id": "AhMm1Nx61r6C"
      },
      "source": [
        "def build_cooccurrence_matrix(data, max_vocab_size=20000):\n",
        "    \"\"\" \n",
        "    args:\n",
        "        - data: iterable where each item is a string sentence\n",
        "        - max_vocab_size: maximum vocabulary size\n",
        "        \n",
        "    returns:\n",
        "        - coocur_mat: co-occurrence matrix as a numpy array\n",
        "    \"\"\"\n",
        "    \n",
        "    def get_token_frequencies():\n",
        "        tok2freq = defaultdict(int)\n",
        "        coocur_counts = defaultdict(lambda: defaultdict(int))\n",
        "\n",
        "        for datum in data:\n",
        "            tokens = datum.strip().split() # we'll use whitespace to tokenize\n",
        "            for i, tok in enumerate(tokens):\n",
        "                tok2freq[tok] += 1\n",
        "                coocur_counts[tok][tok] += 1\n",
        "                if i < len(tokens) - 1:\n",
        "                    coocur_counts[tok][tokens[i+1]] += 1\n",
        "                    coocur_counts[tokens[i+1]][tok] += 1\n",
        "        return tok2freq, coocur_counts\n",
        "    \n",
        "    def prune_vocabulary(tok2freq, max_vocab_size):\n",
        "        \"\"\" Prune vocab by taking max_vocab_size most frequent words \"\"\"\n",
        "        tok_and_freqs = [(k, v) for k, v in tok2freq.items()]\n",
        "        tok_and_freqs.sort(key = lambda x: x[1], reverse=True) # sorts in-place\n",
        "        tok2idx = {tok: idx for idx, (tok, _) in enumerate(tok_and_freqs[:max_vocab_size])}\n",
        "        idx2tok = {idx: tok for tok, idx in tok2idx.items()}\n",
        "        return tok2idx, idx2tok\n",
        "    \n",
        "    def _build_coocurrence_mat(idx2tok, coocur_counts):\n",
        "        #mat = [[coocur_counts[idx2tok[i]][idx2tok[j]] for j in range(len(idx2tok))] for i in range(len(idx2tok))]\n",
        "        vocab_size = len(idx2tok)\n",
        "        mat = [[0 for _ in range(vocab_size)] for _ in range(vocab_size)]\n",
        "        for i in range(vocab_size - 1):\n",
        "            for j in range(i+1, vocab_size):\n",
        "                if coocur_counts[idx2tok[i]][idx2tok[j]]:\n",
        "                    mat[i][j] = coocur_counts[idx2tok[i]][idx2tok[j]]\n",
        "                    mat[j][i] = coocur_counts[idx2tok[i]][idx2tok[j]]\n",
        "        return np.array(mat)\n",
        "        \n",
        "    print(\"Counting words...\")\n",
        "    start_time = time.time()\n",
        "    tok2freq, coocur_counts = get_token_frequencies()\n",
        "    print(\"\\tFinished counting words in %.5f\" % (time.time() - start_time))\n",
        "\n",
        "    print(\"Pruning vocabulary...\")\n",
        "    tok2idx, idx2tok = prune_vocabulary(tok2freq, max_vocab_size)\n",
        "    start_time = time.time()\n",
        "    print(\"\\tFinished pruning vocabulary in %.5f\" % (time.time() - start_time))\n",
        "    \n",
        "    print(\"Building co-occurrence matrix...\")\n",
        "    start_time = time.time()\n",
        "    coocur_mat = _build_coocurrence_mat(idx2tok, coocur_counts)\n",
        "    print(\"\\tFinished building co-occurrence matrix in %.5f\" % (time.time() - start_time))\n",
        "    return coocur_counts, coocur_mat, tok2idx, idx2tok"
      ],
      "execution_count": 3,
      "outputs": []
    },
    {
      "cell_type": "code",
      "metadata": {
        "colab": {
          "base_uri": "https://localhost:8080/"
        },
        "id": "9AYsjuNYh2zr",
        "outputId": "953e4255-50a7-4404-d1c5-06d1169defc8"
      },
      "source": [
        "from google.colab import drive\n",
        "drive.mount('/content/drive')"
      ],
      "execution_count": 5,
      "outputs": [
        {
          "output_type": "stream",
          "text": [
            "Mounted at /content/drive\n"
          ],
          "name": "stdout"
        }
      ]
    },
    {
      "cell_type": "code",
      "metadata": {
        "id": "1igpD-4uh8oq"
      },
      "source": [
        "path = '/content/drive/MyDrive/NLP Lab/Lab 5/'"
      ],
      "execution_count": 6,
      "outputs": []
    },
    {
      "cell_type": "code",
      "metadata": {
        "id": "PXyU6SYb1r6F",
        "colab": {
          "base_uri": "https://localhost:8080/"
        },
        "outputId": "aa8880bb-ffd1-470f-ed4d-a89b18717685"
      },
      "source": [
        "data_file = path + 'stanfordSentimentTreebank/datasetSentences.txt'\n",
        "\n",
        "data = load_sst(data_file)\n",
        "coocur_counts, mat, tok2idx, idx2tok = build_cooccurrence_matrix(data, max_vocab_size=10000)"
      ],
      "execution_count": 7,
      "outputs": [
        {
          "output_type": "stream",
          "text": [
            "Counting words...\n",
            "\tFinished counting words in 0.46263\n",
            "Pruning vocabulary...\n",
            "\tFinished pruning vocabulary in 0.00000\n",
            "Building co-occurrence matrix...\n",
            "\tFinished building co-occurrence matrix in 34.35748\n"
          ],
          "name": "stdout"
        }
      ]
    },
    {
      "cell_type": "markdown",
      "metadata": {
        "id": "g_O9tf0u1r6N"
      },
      "source": [
        "We now have distributed, distributional word representations! Each row of this co-occurrence matrix can be seen as a word vector, nice!"
      ]
    },
    {
      "cell_type": "code",
      "metadata": {
        "colab": {
          "base_uri": "https://localhost:8080/"
        },
        "id": "tBnJ084Mefni",
        "outputId": "7ab68760-4a95-4d96-ff25-0bc2c950b37b"
      },
      "source": [
        "print(len(coocur_counts), mat.shape)"
      ],
      "execution_count": 8,
      "outputs": [
        {
          "output_type": "stream",
          "text": [
            "21701 (10000, 10000)\n"
          ],
          "name": "stdout"
        }
      ]
    },
    {
      "cell_type": "code",
      "metadata": {
        "colab": {
          "base_uri": "https://localhost:8080/"
        },
        "id": "1qOAQA8kefni",
        "outputId": "dc0b4ee4-9bfc-4105-caab-41ff2204a292"
      },
      "source": [
        "tok2idx['superb']"
      ],
      "execution_count": 9,
      "outputs": [
        {
          "output_type": "execute_result",
          "data": {
            "text/plain": [
              "2263"
            ]
          },
          "metadata": {
            "tags": []
          },
          "execution_count": 9
        }
      ]
    },
    {
      "cell_type": "code",
      "metadata": {
        "colab": {
          "base_uri": "https://localhost:8080/"
        },
        "id": "IVHcBmAsefnj",
        "outputId": "21d7a2ac-e745-4f63-c637-84768acdc90f"
      },
      "source": [
        "mat[2263,:]"
      ],
      "execution_count": 10,
      "outputs": [
        {
          "output_type": "execute_result",
          "data": {
            "text/plain": [
              "array([1, 1, 0, ..., 0, 0, 0])"
            ]
          },
          "metadata": {
            "tags": []
          },
          "execution_count": 10
        }
      ]
    },
    {
      "cell_type": "code",
      "metadata": {
        "colab": {
          "base_uri": "https://localhost:8080/"
        },
        "id": "nfvcwUTnefnj",
        "outputId": "9c478d8f-91a2-4d36-907e-b45f5833d240"
      },
      "source": [
        "for j in mat[2263,:].nonzero()[0]:\n",
        "    print(idx2tok[j], coocur_counts[idx2tok[2263]][idx2tok[j]], mat[2263,j])"
      ],
      "execution_count": 11,
      "outputs": [
        {
          "output_type": "stream",
          "text": [
            ". 1 1\n",
            ", 1 1\n",
            "a 2 2\n",
            "film 1 1\n",
            "with 1 1\n",
            "by 1 1\n",
            "his 2 2\n",
            "performances 1 1\n",
            "both 1 1\n",
            "performance 2 2\n",
            "; 1 1\n",
            "actors 1 1\n",
            "recent 1 1\n",
            "performers 1 1\n",
            "uniformly 2 2\n",
            "technically 1 1\n"
          ],
          "name": "stdout"
        }
      ]
    },
    {
      "cell_type": "markdown",
      "metadata": {
        "id": "FDVmtd8_1r6N"
      },
      "source": [
        "---\n",
        "### Vector comparison"
      ]
    },
    {
      "cell_type": "markdown",
      "metadata": {
        "id": "T9pKrb4k1r6O"
      },
      "source": [
        "A key operation on word vectors is being able to compare them. For the most part, we are interested in measuring the _distance_ between vectors. We surmise that semantically related words should be close together and semantically unrelated words should be far apart in the vector spaces we build."
      ]
    },
    {
      "cell_type": "markdown",
      "metadata": {
        "id": "P_FgR6j41r6O"
      },
      "source": [
        "#### Euclidean distance"
      ]
    },
    {
      "cell_type": "markdown",
      "metadata": {
        "id": "SG6XWrSA1r6P"
      },
      "source": [
        "The most basic and intuitive distance measure between vectors is __euclidean distance__. The euclidean distance between two vectors $u$ and $v$ of dimension $n$ is \n",
        "\n",
        "$$\\sqrt{\\sum_{i=1}^{n} |u_{i}-v_{i}|^2}$$ \n",
        "\n",
        "In two-dimensions, this corresponds to the length of the most direct line between the two points.\n",
        "\n",
        "As part of the exercise, implement this without using any other packages (including the one shared for reference) beyond what has been imported already."
      ]
    },
    {
      "cell_type": "code",
      "metadata": {
        "id": "ZoPiPfrXefnk"
      },
      "source": [
        "def euclidean(u, v):    \n",
        "    \"\"\"Eculidean distance between 1d np.arrays `u` and `v`, which must \n",
        "    have the same dimensionality. Returns a float.\"\"\"\n",
        "    return np.sqrt(np.dot(u - v, u - v)) # np.sqrt(np.sum(np.square(u-v)))"
      ],
      "execution_count": 12,
      "outputs": []
    },
    {
      "cell_type": "markdown",
      "metadata": {
        "id": "eM3ULJX1efnk"
      },
      "source": [
        "cf.\n",
        "> [Dot Product](https://en.wikipedia.org/wiki/Dot_product)\n",
        "\n",
        "$$u\\cdot v = v^Tu = u_1v_1 + u_2v_2 + \\ldots + u_nv_n$$ "
      ]
    },
    {
      "cell_type": "markdown",
      "metadata": {
        "id": "YR5-mLOT1r6T"
      },
      "source": [
        "Here's a tiny vector space:"
      ]
    },
    {
      "cell_type": "code",
      "metadata": {
        "id": "fFQwZyAJ1r6U",
        "colab": {
          "base_uri": "https://localhost:8080/",
          "height": 269
        },
        "outputId": "5ef1f9ad-28fb-4b92-bce5-39805c9f5bad"
      },
      "source": [
        "import matplotlib.pyplot as plt\n",
        "\n",
        "ABC = np.array([\n",
        "    [ 1.0,  1.0],  # A\n",
        "    [9.0, 8.0],  # B\n",
        "    [10.0, 5.0]]) # C\n",
        "\n",
        "def plot_ABC(m):\n",
        "    plt.plot(m[:,0], m[:,1], marker='', linestyle='')\n",
        "    plt.xlim([0,np.max(m)*1.2])\n",
        "    plt.ylim([0,np.max(m)*1.2])\n",
        "    for i, x in enumerate(['A','B','C']):\n",
        "        plt.annotate(x, m[i,:])\n",
        "\n",
        "plot_ABC(ABC)"
      ],
      "execution_count": 13,
      "outputs": [
        {
          "output_type": "display_data",
          "data": {
            "image/png": "[encoded data removed]",
            "text/plain": [
              "<Figure size 432x288 with 1 Axes>"
            ]
          },
          "metadata": {
            "tags": [],
            "needs_background": "light"
          }
        }
      ]
    },
    {
      "cell_type": "markdown",
      "metadata": {
        "id": "AG01CTiI1r6X"
      },
      "source": [
        "The euclidean distances align well with the raw visual distance in the plot:"
      ]
    },
    {
      "cell_type": "code",
      "metadata": {
        "id": "9lnuK1XK1r6Z",
        "colab": {
          "base_uri": "https://localhost:8080/"
        },
        "outputId": "0b2b138e-7e91-4695-90d4-49106219716d"
      },
      "source": [
        "euclidean(ABC[0], ABC[1])"
      ],
      "execution_count": 14,
      "outputs": [
        {
          "output_type": "execute_result",
          "data": {
            "text/plain": [
              "10.63014581273465"
            ]
          },
          "metadata": {
            "tags": []
          },
          "execution_count": 14
        }
      ]
    },
    {
      "cell_type": "code",
      "metadata": {
        "id": "LgWk2LbU1r6e",
        "colab": {
          "base_uri": "https://localhost:8080/"
        },
        "outputId": "bce3f0c9-1fcb-42df-c876-bd3be599b2d0"
      },
      "source": [
        "euclidean(ABC[1], ABC[2])"
      ],
      "execution_count": 15,
      "outputs": [
        {
          "output_type": "execute_result",
          "data": {
            "text/plain": [
              "3.1622776601683795"
            ]
          },
          "metadata": {
            "tags": []
          },
          "execution_count": 15
        }
      ]
    },
    {
      "cell_type": "code",
      "metadata": {
        "colab": {
          "base_uri": "https://localhost:8080/",
          "height": 286
        },
        "id": "BR4BJGZKefnm",
        "outputId": "f74a4d8e-3848-44b5-a10e-c06559a1d673"
      },
      "source": [
        "plot_ABC(ABC)\n",
        "plt.plot(ABC[0:2,0], ABC[0:2,1])\n",
        "plt.plot(ABC[1:,0], ABC[1:,1])"
      ],
      "execution_count": 16,
      "outputs": [
        {
          "output_type": "execute_result",
          "data": {
            "text/plain": [
              "[<matplotlib.lines.Line2D at 0x7fb70b02e7d0>]"
            ]
          },
          "metadata": {
            "tags": []
          },
          "execution_count": 16
        },
        {
          "output_type": "display_data",
          "data": {
            "image/png": "[encoded data removed]",
            "text/plain": [
              "<Figure size 432x288 with 1 Axes>"
            ]
          },
          "metadata": {
            "tags": [],
            "needs_background": "light"
          }
        }
      ]
    },
    {
      "cell_type": "code",
      "metadata": {
        "colab": {
          "base_uri": "https://localhost:8080/",
          "height": 286
        },
        "id": "2SDNlTG5efnm",
        "outputId": "444d5a01-8784-468d-a617-51b7daab2f42"
      },
      "source": [
        "for i, x in enumerate(['A','B','C']):\n",
        "    plt.plot([0, ABC[i,0]], [0, ABC[i,1]])\n",
        "    plt.annotate(x, ABC[i,:])\n",
        "plt.xlim([0,np.max(ABC)*1.2])\n",
        "plt.ylim([0,np.max(ABC)*1.2])"
      ],
      "execution_count": 17,
      "outputs": [
        {
          "output_type": "execute_result",
          "data": {
            "text/plain": [
              "(0.0, 12.0)"
            ]
          },
          "metadata": {
            "tags": []
          },
          "execution_count": 17
        },
        {
          "output_type": "display_data",
          "data": {
            "image/png": "[encoded data removed]",
            "text/plain": [
              "<Figure size 432x288 with 1 Axes>"
            ]
          },
          "metadata": {
            "tags": [],
            "needs_background": "light"
          }
        }
      ]
    },
    {
      "cell_type": "markdown",
      "metadata": {
        "id": "EWNEoyCv1r6h"
      },
      "source": [
        "#### Length normalization"
      ]
    },
    {
      "cell_type": "markdown",
      "metadata": {
        "id": "cThOA-SO1r6h"
      },
      "source": [
        "Suppose we believed that vector B should be closer to vector A than to vector C. The Euclidean distances do not reflect that relationship.\n",
        "\n",
        "One strategy to impose this relationship is to normalize the vectors. We might normalize each vector by its __length__, which is defined for a vector $u$ of dimension $n$ as \n",
        "\n",
        "$$\\|u\\| = \\sqrt{\\sum_{i=1}^{n} u_{i}^{2}}$$ \n",
        "\n",
        "Please fill in `vector_length` below without using any new modules:"
      ]
    },
    {
      "cell_type": "code",
      "metadata": {
        "id": "DemhWptY1r6i"
      },
      "source": [
        "def vector_length(u):\n",
        "    \"\"\"Length (L2) of the 1d np.array `u`. Returns a new np.array with the \n",
        "    same dimensions as `u`.\"\"\"\n",
        "    return np.sqrt(np.sum(np.square(u)))"
      ],
      "execution_count": 18,
      "outputs": []
    },
    {
      "cell_type": "markdown",
      "metadata": {
        "id": "793fI8LZ1r6l"
      },
      "source": [
        "Let's use our function to write a length-normalizing function."
      ]
    },
    {
      "cell_type": "code",
      "metadata": {
        "id": "j0rKP3k11r6m"
      },
      "source": [
        "def length_norm(u):\n",
        "    \"\"\"L2 norm of the 1d np.array `u`. Returns a float.\"\"\"\n",
        "    return u / vector_length(u)"
      ],
      "execution_count": 19,
      "outputs": []
    },
    {
      "cell_type": "markdown",
      "metadata": {
        "id": "B7mzD6pj1r6t"
      },
      "source": [
        "Normalization changes the affinity or distance between points A, B, and C dramatically. Is normalization the right thing to do?"
      ]
    },
    {
      "cell_type": "code",
      "metadata": {
        "id": "eDhxzpwE1r6u",
        "colab": {
          "base_uri": "https://localhost:8080/",
          "height": 265
        },
        "outputId": "ded710ae-7d05-4458-c656-96fc923294df"
      },
      "source": [
        "plot_ABC(np.array([length_norm(row) for row in ABC]))"
      ],
      "execution_count": 20,
      "outputs": [
        {
          "output_type": "display_data",
          "data": {
            "image/png": "[encoded data removed]",
            "text/plain": [
              "<Figure size 432x288 with 1 Axes>"
            ]
          },
          "metadata": {
            "tags": [],
            "needs_background": "light"
          }
        }
      ]
    },
    {
      "cell_type": "markdown",
      "metadata": {
        "id": "ikJ8E7dI1r6y"
      },
      "source": [
        "Here, the connection between A and B is more apparent, as is the opposition between B and C."
      ]
    },
    {
      "cell_type": "markdown",
      "metadata": {
        "id": "ehuzS5xX1r6y"
      },
      "source": [
        "#### Cosine distance"
      ]
    },
    {
      "cell_type": "markdown",
      "metadata": {
        "id": "FNOVcQgx1r6z"
      },
      "source": [
        "Implicitly, we have replaced Euclidean distance as our distance metric with cosine distance. __Cosine distance__ takes overall length into account. The cosine distance between two vectors $u$ and $v$ of dimension $n$ is \n",
        "\n",
        "$$1 - \\left(\\frac{\\sum_{i=1}^{n} u_{i} \\cdot v_{i}}{\\|u\\|\\cdot \\|v\\|}\\right)$$\n",
        "\n",
        "The similarity part of this (the righthand term of the subtraction) is actually measuring the _angles_ between the two vectors. The result is the same (in terms of rank order) as one gets from first normalizing both vectors using `vector_length` and then calculating their Euclidean distance.\n",
        "\n",
        "Implement this below:"
      ]
    },
    {
      "cell_type": "code",
      "metadata": {
        "id": "5H8edC3befno"
      },
      "source": [
        "def cosine(u, v):        \n",
        "    \"\"\"Cosine distance between 1d np.arrays `u` and `v`, which must have \n",
        "    the same dimensionality. Returns a float.\"\"\"\n",
        "    return 1.0 - (np.dot(u, v) / (vector_length(u) * vector_length(v)))"
      ],
      "execution_count": 21,
      "outputs": []
    },
    {
      "cell_type": "markdown",
      "metadata": {
        "id": "eRqjpEqS1r63"
      },
      "source": [
        "#### Other distance measures"
      ]
    },
    {
      "cell_type": "markdown",
      "metadata": {
        "id": "GSIKjeOt1r63"
      },
      "source": [
        "It is very common to use Euclidean and cosine distance, but there are other distance measures one might consider using. For example, the particular definition of length we used is the L2-norm (because of the $^2$ exponent); we might consider using a different exponent such as $^1$, yielding the L1-norm.\n",
        "\n",
        "As practice, let's consider the Jaccard distance, which is defined as \n",
        "\n",
        "$$ J(u, v) = 1 - \\left( \\frac{\\sum_{i} min(u_i, v_i)}{\\sum_{i} max(u_i, v_i) } \\right) $$\n",
        "\n",
        "Jaccard distance measures how dissimilar two vectors are by comparing their \"intersection\" and \"union\" (it's usually defined in context of sets). Let's implement this:"
      ]
    },
    {
      "cell_type": "code",
      "metadata": {
        "id": "zO_R-t7Xefno"
      },
      "source": [
        "def jaccard(u, v):\n",
        "    \"\"\"Jaccard similarity between two real-valued vectors\"\"\"\n",
        "    return 1 - (np.sum(np.minimum(u, v)) / np.sum(np.maximum(u, v)))"
      ],
      "execution_count": 22,
      "outputs": []
    },
    {
      "cell_type": "markdown",
      "metadata": {
        "id": "QbywH1991r6-"
      },
      "source": [
        "A recent line of work is in learning _hyperbolic_ word embeddings, where the embeddings live in a non-Euclidean, hyperbolic space. The appeal of this approach is that the learned embeddings can respect the hierarchical relationship that some words have with each other.\n",
        "\n",
        "For more information, see [Nickel and Kiela (2017)](https://arxiv.org/abs/1705.08039) or [Chamberlain et al. (2017)](https://arxiv.org/abs/1705.10359)."
      ]
    },
    {
      "cell_type": "markdown",
      "metadata": {
        "id": "m-QVuUYo1r6_"
      },
      "source": [
        "#### Summary"
      ]
    },
    {
      "cell_type": "markdown",
      "metadata": {
        "id": "El7nMhrI1r6_"
      },
      "source": [
        "Suppose we set for ourselves the goal of associating A with B and disassociating B from C, in keeping with the semantic intuition expressed above. Then we can assess distance measures by whether they achieve this goal:"
      ]
    },
    {
      "cell_type": "code",
      "metadata": {
        "id": "5W2-qgJ51r7A",
        "colab": {
          "base_uri": "https://localhost:8080/"
        },
        "outputId": "cd821493-d60c-4560-b571-6559b15aafa4"
      },
      "source": [
        "for m in (euclidean, cosine, jaccard):\n",
        "    fmt = {'n': m.__name__,  \n",
        "           'AB': m(ABC[0], ABC[1]), \n",
        "           'BC': m(ABC[1], ABC[2])}\n",
        "    print('%(n)15s(A, B) = %(AB)5.3f %(n)15s(B, C) = %(BC)5.3f' % fmt)"
      ],
      "execution_count": 23,
      "outputs": [
        {
          "output_type": "stream",
          "text": [
            "      euclidean(A, B) = 10.630       euclidean(B, C) = 3.162\n",
            "         cosine(A, B) = 0.002          cosine(B, C) = 0.034\n",
            "        jaccard(A, B) = 0.882         jaccard(B, C) = 0.222\n"
          ],
          "name": "stdout"
        }
      ]
    },
    {
      "cell_type": "markdown",
      "metadata": {
        "id": "UxKe4YFtefnp"
      },
      "source": [
        "cf.\n",
        ">[`numpy.linalg.norm`](https://numpy.org/doc/stable/reference/generated/numpy.linalg.norm.html) or [`scipy.linalg.norm`](https://docs.scipy.org/doc/scipy/reference/generated/scipy.linalg.norm.html#scipy.linalg.norm) returns vector or matrix norm\n",
        "\n",
        ">[`scipy.spatial.distance.cdist`](https://docs.scipy.org/doc/scipy/reference/generated/scipy.spatial.distance.cdist.html) computes distance between each pair of the two collections of inputs"
      ]
    },
    {
      "cell_type": "markdown",
      "metadata": {
        "id": "RCPLFuGR1r7D"
      },
      "source": [
        "---\n",
        "### Distributional neighbors"
      ]
    },
    {
      "cell_type": "markdown",
      "metadata": {
        "id": "gckvHh9R1r7D"
      },
      "source": [
        "The `neighbors` function is an investigative aide. For a given `word`, it ranks all the words in the vocabulary `rownames` according to their distance from `word`, as measured by `distfunc` in matrix `mat`:"
      ]
    },
    {
      "cell_type": "code",
      "metadata": {
        "id": "OxV1fh1R1r7E"
      },
      "source": [
        "def neighbors(tok, mat, tok2idx, idx2tok, distfunc=cosine):    \n",
        "    \"\"\"Tool for finding the nearest neighbors of `word` in `mat` according \n",
        "    to `distfunc`. The comparisons are between row vectors.\n",
        "    \n",
        "    Parameters\n",
        "    ----------\n",
        "    tok : str\n",
        "        The anchor word. Assumed to be in `tok2idx`.\n",
        "        \n",
        "    mat : np.array\n",
        "        The vector-space model.\n",
        "        \n",
        "    tok2idx : list of str\n",
        "        The rownames of mat.\n",
        "            \n",
        "    distfunc : function mapping vector pairs to floats (default: `cosine`)\n",
        "        The measure of distance between vectors. Can also be `euclidean`, \n",
        "        `matching`, `jaccard`, as well as any other distance measure  \n",
        "        between 1d vectors.\n",
        "    \n",
        "    Returns\n",
        "    -------    \n",
        "    list of tuples\n",
        "        The list is ordered by closeness to `word`. Each member is a pair \n",
        "        (word, distance) where word is a str and distance is a float.\n",
        "    \n",
        "    \"\"\"\n",
        "    if tok not in tok2idx:\n",
        "        raise ValueError('%s is not in this VSM' % tok)\n",
        "    w = mat[tok2idx[tok]]\n",
        "    dists = [(idx2tok[i], distfunc(w, mat[i])) for i in range(len(mat))]\n",
        "    return sorted(dists, key=lambda x: x[1], reverse=False)"
      ],
      "execution_count": 24,
      "outputs": []
    },
    {
      "cell_type": "markdown",
      "metadata": {
        "id": "yU9cN68s1r7H"
      },
      "source": [
        "By playing around with this function, you can start to get a sense for how the distance functions differ. Here are some example calls; you might try some new words to get a feel for what these matrices are like and how different words look."
      ]
    },
    {
      "cell_type": "code",
      "metadata": {
        "id": "AHfP4rOe1r7H",
        "colab": {
          "base_uri": "https://localhost:8080/"
        },
        "outputId": "04a0ac2b-214e-4a90-ff72-f0474cf04324"
      },
      "source": [
        "neighbors(tok='superb', mat=mat, tok2idx=tok2idx, idx2tok=idx2tok, distfunc=euclidean)[:10]"
      ],
      "execution_count": 25,
      "outputs": [
        {
          "output_type": "execute_result",
          "data": {
            "text/plain": [
              "[('superb', 0.0),\n",
              " ('cipher', 4.69041575982343),\n",
              " ('illuminated', 4.69041575982343),\n",
              " ('Using', 4.795831523312719),\n",
              " ('spine', 4.795831523312719),\n",
              " ('legend', 4.898979485566356),\n",
              " ('shining', 4.898979485566356),\n",
              " ('lick', 4.898979485566356),\n",
              " ('bravura', 4.898979485566356),\n",
              " ('stellar', 4.898979485566356)]"
            ]
          },
          "metadata": {
            "tags": []
          },
          "execution_count": 25
        }
      ]
    },
    {
      "cell_type": "code",
      "metadata": {
        "id": "huGPlxo01r7L",
        "colab": {
          "base_uri": "https://localhost:8080/"
        },
        "outputId": "04570fdd-5a65-4f5a-8e0a-df9a59ea7603"
      },
      "source": [
        "neighbors(tok='superb', mat=mat, tok2idx=tok2idx, idx2tok=idx2tok, distfunc=cosine)[:10]"
      ],
      "execution_count": 26,
      "outputs": [
        {
          "output_type": "stream",
          "text": [
            "/usr/local/lib/python3.7/dist-packages/ipykernel_launcher.py:4: RuntimeWarning: invalid value encountered in true_divide\n",
            "  after removing the cwd from sys.path.\n"
          ],
          "name": "stderr"
        },
        {
          "output_type": "execute_result",
          "data": {
            "text/plain": [
              "[('superb', 1.1102230246251565e-16),\n",
              " ('cipher', 0.5219085562662426),\n",
              " ('fellow', 0.5271337562565397),\n",
              " ('illuminated', 0.527544408738466),\n",
              " ('terrific', 0.5281792278953805),\n",
              " ('solid', 0.538018447402505),\n",
              " ('wonderful', 0.5496408554571595),\n",
              " ('fault', 0.5552504100033393),\n",
              " ('good', 0.560877926872458),\n",
              " ('Using', 0.5635642195280153)]"
            ]
          },
          "metadata": {
            "tags": []
          },
          "execution_count": 26
        }
      ]
    },
    {
      "cell_type": "markdown",
      "metadata": {
        "id": "68VYjf-i1r7R"
      },
      "source": [
        "These rankings are okay, with `cosine` less likely to associate words that happen to have similar frequency, but somewhat noisy. "
      ]
    },
    {
      "cell_type": "code",
      "metadata": {
        "colab": {
          "base_uri": "https://localhost:8080/"
        },
        "id": "C1-qzQDzefnq",
        "outputId": "1659ed78-0272-476f-8257-13743889f2b5"
      },
      "source": [
        "c_idx = tok2idx['cipher']\n",
        "for j in mat[c_idx,:].nonzero()[0]:\n",
        "    print(idx2tok[j], coocur_counts[idx2tok[c_idx]][idx2tok[j]], mat[c_idx,j])"
      ],
      "execution_count": 27,
      "outputs": [
        {
          "output_type": "stream",
          "text": [
            ". 1 1\n",
            ", 2 2\n",
            "a 2 2\n",
            "; 1 1\n"
          ],
          "name": "stdout"
        }
      ]
    },
    {
      "cell_type": "markdown",
      "metadata": {
        "id": "cKZOrf0-1r7R"
      },
      "source": [
        "---\n",
        "### Matrix reweighting"
      ]
    },
    {
      "cell_type": "markdown",
      "metadata": {
        "id": "ePmi0bJc1r7S"
      },
      "source": [
        "*Reweighting* aims to amplify the important, trustworthy, and unusual, while deemphasizing the mundane and the quirky. The intuition behind moving away from raw counts is that just using frequency is too fuzzy a concept for our goal of encoding semantics."
      ]
    },
    {
      "cell_type": "markdown",
      "metadata": {
        "id": "NzTE00t51r7S"
      },
      "source": [
        "*Normalization* (row-wise or column-wise) is perhaps the simplest form of reweighting. With [length_norm](#Length-normalization), we normalize using `vector_length`. We can also normalize each row by the sum of its values, which turns each row into a probability distribution over the columns:"
      ]
    },
    {
      "cell_type": "code",
      "metadata": {
        "id": "We2waLUl1r7T"
      },
      "source": [
        "def prob_norm(u):\n",
        "    \"\"\"Normalize 1d np.array `u` into a probability distribution. Assumes \n",
        "    that all the members of `u` are positive. Returns a 1d np.array of \n",
        "    the same dimensionality as `u`.\"\"\"\n",
        "    return u / np.sum(u)\n",
        "\n",
        "def rowwise_norm_mat(mat):\n",
        "    return np.array([prob_norm(u) for u in mat])"
      ],
      "execution_count": 28,
      "outputs": []
    },
    {
      "cell_type": "code",
      "metadata": {
        "id": "TLfKgioK1r7W",
        "colab": {
          "base_uri": "https://localhost:8080/"
        },
        "outputId": "0c794ea7-79fe-4e97-a683-a046726e7c10"
      },
      "source": [
        "norm_mat = rowwise_norm_mat(mat)"
      ],
      "execution_count": 29,
      "outputs": [
        {
          "output_type": "stream",
          "text": [
            "/usr/local/lib/python3.7/dist-packages/ipykernel_launcher.py:5: RuntimeWarning: invalid value encountered in true_divide\n",
            "  \"\"\"\n"
          ],
          "name": "stderr"
        }
      ]
    },
    {
      "cell_type": "markdown",
      "metadata": {
        "id": "Wev6Vzex1r7Y"
      },
      "source": [
        "Key point: These normalization measures are insensitive to the _magnitude_ of the underlying counts. \n",
        "\n",
        "This is often a mistake in the messy world of large data sets; $[1,10]$ and $[1000,10000]$ are very different in ways that will be partly or totally obscured by normalization.\n",
        "\n",
        "How do we solve this? Pointwise mutual information!\n",
        "\n",
        "$$PMI(w,c) = \\log\\left(\\frac{P(w,c)}{P(w) \\cdot P(c)}\\right)$$"
      ]
    },
    {
      "cell_type": "markdown",
      "metadata": {
        "id": "fWZa2d1N1r7Z"
      },
      "source": [
        "---\n",
        "### Dimensionality reduction\n",
        "The above methods deliver solid results. However, they are not capable of capturing higher-order associations in the data. For example, both _gnarly_ and _wicked_ are used as slangily positive adjectives. We thus expect them to have many of the same neighbors. However, at least stereotypically, _gnarly_ is Californian and _wicked_ is Bostonian. Thus, they are unlikely \n",
        "to occur often in the same texts. Dimensionality reduction techniques are often capable of capturing their semantic similarity (and have the added advantage of shrinking the size of our data structures).\n",
        "\n",
        "The general goal of dimensionality reduction is to eliminate rows/columns that are highly correlated while bringing similar things together and pushing dissimilar things apart. __Latent Semantic Analysis__ (LSA) is a prominent method. It is an application of truncated __singular value decomposition__ (SVD). SVD is a central matrix operation; 'truncation' here means looking only at submatrices of the full decomposition. LSA seeks not only to find a reduced-sized matrix but also to capture similarities that come not just from direct co-occurrence, but also from second-order co-occurrence.\n",
        "\n",
        "Dimensionality reduction is also particularly helpful in our case because our vectors are very sparse. Intuitively, many words don't often appear right next to each other, so many entries in the word vectors are zero. By reducing our word vectors, we won't need to pass around very large vectors and remove some of the sparsity."
      ]
    },
    {
      "cell_type": "code",
      "metadata": {
        "id": "BropKHaqefnr"
      },
      "source": [
        "from numpy.linalg import svd"
      ],
      "execution_count": 30,
      "outputs": []
    },
    {
      "cell_type": "markdown",
      "metadata": {
        "id": "QU6mIc3eefnr"
      },
      "source": [
        "cf.\n",
        ">[`numpy.linalg.svd`](https://numpy.org/doc/stable/reference/generated/numpy.linalg.svd.html) performs Singular Value Decomposition. Also, [`scipy.linalg.svd`](https://docs.scipy.org/doc/scipy/reference/generated/scipy.linalg.svd.html#scipy.linalg.svd) "
      ]
    },
    {
      "cell_type": "code",
      "metadata": {
        "id": "JynMpzvJ1r7a"
      },
      "source": [
        "def lsa(mat=None, k=100):\n",
        "    \"\"\"Latent Semantic Analysis using numpy.\n",
        "    \n",
        "    Parameters\n",
        "    ----------\n",
        "    mat : 2d np.array\n",
        "       The matrix to operate on.\n",
        "        \n",
        "    k : int (default: 100)\n",
        "        Number of dimensions to truncate to.\n",
        "        \n",
        "    Returns\n",
        "    -------    \n",
        "    (np.array, list of str)\n",
        "        The first member is the SVD-reduced version of `mat` with \n",
        "        dimension (m x k), where m is the rowcount of mat and `k` is \n",
        "        either the user-supplied k or the column count of `mat`, whichever \n",
        "        is smaller. The second member is `rownames` (unchanged).\n",
        "\n",
        "    \"\"\"    \n",
        "    rowmat, singvals, colmat = svd(mat, full_matrices=False)\n",
        "    singvals = np.diag(singvals)\n",
        "    trunc = np.dot(rowmat[:, 0:k], singvals[0:k, 0:k])\n",
        "    trunc_doc = np.dot(singvals[0:k, 0:k], colmat[0:k, :])\n",
        "    return trunc"
      ],
      "execution_count": 31,
      "outputs": []
    },
    {
      "cell_type": "markdown",
      "metadata": {
        "id": "wFnrftSV1r7g"
      },
      "source": [
        "Here's a look at the following example:"
      ]
    },
    {
      "cell_type": "code",
      "metadata": {
        "id": "WuwepFNc1r7h"
      },
      "source": [
        "gnmat = np.array([\n",
        "    [1,0,1,0,0,0],\n",
        "    [0,1,0,1,0,0],\n",
        "    [1,1,1,1,0,0],\n",
        "    [0,0,0,0,1,1],\n",
        "    [0,0,0,0,0,1]], dtype='float64')\n",
        "gn_idx2tok = {0:'gnarly', 1:'wicked', 2:'awesome', 3:'lame', 4:'terrible'}\n",
        "gn_tok2idx = {v: k for k, v in gn_idx2tok.items()}"
      ],
      "execution_count": 32,
      "outputs": []
    },
    {
      "cell_type": "code",
      "metadata": {
        "id": "hsQGKgjO1r7m",
        "colab": {
          "base_uri": "https://localhost:8080/"
        },
        "outputId": "fa346777-d973-4e6e-b0ae-46c47bf45285"
      },
      "source": [
        "neighbors(tok='gnarly', mat=gnmat, tok2idx=gn_tok2idx, idx2tok=gn_idx2tok, distfunc=cosine)"
      ],
      "execution_count": 33,
      "outputs": [
        {
          "output_type": "execute_result",
          "data": {
            "text/plain": [
              "[('gnarly', 2.220446049250313e-16),\n",
              " ('awesome', 0.29289321881345254),\n",
              " ('wicked', 1.0),\n",
              " ('lame', 1.0),\n",
              " ('terrible', 1.0)]"
            ]
          },
          "metadata": {
            "tags": []
          },
          "execution_count": 33
        }
      ]
    },
    {
      "cell_type": "markdown",
      "metadata": {
        "id": "hVBDo9Lg1r7t"
      },
      "source": [
        "We see that _gnarly_ and _wicked_ are not close to each other. (Well, it's a small space, but they are as close as _gnarly_ and _lame_.) Reweighting by PMI, PPMI, or TF-IDF is no help. LSA to the rescue:"
      ]
    },
    {
      "cell_type": "code",
      "metadata": {
        "id": "RhVUszJ81r7v"
      },
      "source": [
        "gnmat_lsa = lsa(mat=gnmat, k=2)"
      ],
      "execution_count": 34,
      "outputs": []
    },
    {
      "cell_type": "code",
      "metadata": {
        "id": "yO_BJWLj1r70",
        "colab": {
          "base_uri": "https://localhost:8080/"
        },
        "outputId": "3561a5bb-1e5c-43b0-bf9f-fc02fe482c20"
      },
      "source": [
        "neighbors(tok='gnarly', mat=gnmat_lsa, tok2idx=gn_tok2idx, idx2tok=gn_idx2tok, distfunc=cosine)"
      ],
      "execution_count": 35,
      "outputs": [
        {
          "output_type": "execute_result",
          "data": {
            "text/plain": [
              "[('gnarly', 0.0),\n",
              " ('wicked', 0.0),\n",
              " ('awesome', 0.0),\n",
              " ('lame', 1.0),\n",
              " ('terrible', 1.0)]"
            ]
          },
          "metadata": {
            "tags": []
          },
          "execution_count": 35
        }
      ]
    },
    {
      "cell_type": "markdown",
      "metadata": {
        "id": "h8r5dBS01r75"
      },
      "source": [
        "---\n",
        "### Evaluation: Word Similarity"
      ]
    },
    {
      "cell_type": "markdown",
      "metadata": {
        "id": "tUcXA-Dn1r77"
      },
      "source": [
        "We've done a good deal of work creating these word vectors, but how do we know how good they are? Inspecting the neighbors of words according to their vectors and making sure they match our intuition is a good hueristic.\n",
        "\n",
        "Expanding on this idea, we can evaluate the quality of word vectors by using them to compute similarities of pairs of words and then comparing those similarities to human judgments. Let's use this strategy to evaluate the word vectors we just learned. We'll use the [MTurk-771](http://www2.mta.ac.il/~gideon/mturk771.html) word similarity dataset."
      ]
    },
    {
      "cell_type": "code",
      "metadata": {
        "id": "H_KF589D1r77"
      },
      "source": [
        "def load_word_similarity_dataset(data_file):\n",
        "    with open(data_file, 'r') as data_fh:\n",
        "        raw_data = data_fh.readlines()\n",
        "    data = []\n",
        "    trgs = []\n",
        "    for datum in raw_data:\n",
        "        datum = datum.strip().split(',')\n",
        "        data.append((datum[0], datum[1]))\n",
        "        trgs.append(float(datum[2]))\n",
        "    return data, trgs"
      ],
      "execution_count": 36,
      "outputs": []
    },
    {
      "cell_type": "code",
      "metadata": {
        "id": "Hkd3Hq0B1r8D"
      },
      "source": [
        "from scipy.stats import spearmanr"
      ],
      "execution_count": 37,
      "outputs": []
    },
    {
      "cell_type": "markdown",
      "metadata": {
        "id": "RnoboPY6efns"
      },
      "source": [
        "cf.\n",
        ">[`scipy.stats.spearmanr`](https://docs.scipy.org/doc/scipy/reference/generated/scipy.stats.spearmanr.html) calculates Spearman correlation coefficient"
      ]
    },
    {
      "cell_type": "code",
      "metadata": {
        "id": "-t0QWzn9efns"
      },
      "source": [
        "def evaluate_word_similarity(word_pairs, targets, mat, tok2idx):\n",
        "    \"\"\" \"\"\"\n",
        "    preds = []\n",
        "    trgs = []\n",
        "    n_exs = 0\n",
        "    for (word1, word2), trg in zip(word_pairs, targets):\n",
        "        if word1 in tok2idx and word2 in tok2idx:\n",
        "            pred_sim = 1 - cosine(mat[tok2idx[word1]], mat[tok2idx[word2]])\n",
        "            preds.append(pred_sim)\n",
        "            trgs.append(trg)\n",
        "            n_exs += 1\n",
        "    \n",
        "    rho, pvalue = spearmanr(trgs, preds)\n",
        "    print(\"Evaluated on %d of %d examples\" % (n_exs, len(word_pairs)))\n",
        "    return rho"
      ],
      "execution_count": 38,
      "outputs": []
    },
    {
      "cell_type": "code",
      "metadata": {
        "id": "spokZEV91r8G"
      },
      "source": [
        "test_file = path + 'MTURK-771.csv'\n",
        "test_data, test_trgs = load_word_similarity_dataset(test_file)"
      ],
      "execution_count": 41,
      "outputs": []
    },
    {
      "cell_type": "code",
      "metadata": {
        "id": "Lp5ailUy1r8T",
        "colab": {
          "base_uri": "https://localhost:8080/"
        },
        "outputId": "2890945a-e567-4ee7-a29f-93f89c21517d"
      },
      "source": [
        "evaluate_word_similarity(test_data, test_trgs, norm_mat, tok2idx)"
      ],
      "execution_count": 42,
      "outputs": [
        {
          "output_type": "stream",
          "text": [
            "Evaluated on 248 of 771 examples\n"
          ],
          "name": "stdout"
        },
        {
          "output_type": "execute_result",
          "data": {
            "text/plain": [
              "0.024826560560269804"
            ]
          },
          "metadata": {
            "tags": []
          },
          "execution_count": 42
        }
      ]
    },
    {
      "cell_type": "markdown",
      "metadata": {
        "id": "hcmY48ST1r8V"
      },
      "source": [
        "---\n",
        "### Pre-trained Word Embeddings/Models\n",
        "Our word vectors aren't very good (NLP isn't that easy...). There are some great pre-computed matrices available online too. These aren't matrices of counts, but rather more abstract values computed using methods like those under discussion here. [GloVe](https://nlp.stanford.edu/projects/glove/) is a unsupervised learning algorithm that learns vector representations of words using word-to-word cooccurence matrices from a corpus. \n",
        "\n",
        "Code below loads the GloVe vectors (you don't necessarily need to load *all* of them) and evaluates them on MTurk-771."
      ]
    },
    {
      "cell_type": "code",
      "metadata": {
        "id": "GjZfz66qefns"
      },
      "source": [
        "def load_glove(glove_file, n_vecs=20000):\n",
        "    \"\"\" \"\"\"\n",
        "    tok2vec = {}\n",
        "    with open(glove_file, 'r') as glove_fh:\n",
        "        for i, row in enumerate(glove_fh):\n",
        "            word, vec = row.split(' ', 1)\n",
        "            tok2vec[word] = np.array([float(n) for n in vec.split(' ')])\n",
        "            if i >= n_vecs:\n",
        "                break\n",
        "    return tok2vec\n",
        "\n",
        "def glove_evaluate_word_similarity(word_pairs, targets, glove_vecs):\n",
        "    \"\"\" \"\"\"\n",
        "    preds = []\n",
        "    trgs = []\n",
        "    n_exs = 0\n",
        "    for (word1, word2), trg in zip(word_pairs, targets):\n",
        "        if word1 in glove_vecs and word2 in glove_vecs:\n",
        "            pred_sim = 1 - cosine(glove_vecs[word1], glove_vecs[word2])\n",
        "            preds.append(pred_sim)\n",
        "            trgs.append(trg)\n",
        "            n_exs += 1\n",
        "    \n",
        "    rho, pvalue = spearmanr(trgs, preds)\n",
        "    print(\"Evaluated on %d of %d examples\" % (n_exs, len(word_pairs)))\n",
        "    return rho"
      ],
      "execution_count": 45,
      "outputs": []
    },
    {
      "cell_type": "code",
      "metadata": {
        "id": "Gqu7Sf02efnt"
      },
      "source": [
        "#glove_file = path+\"glove.840B.300d.txt\"\n",
        "glove_file = path+\"glove.6B.300d.txt\"\n",
        "\n",
        "glove_vecs = load_glove(glove_file, n_vecs=50000)"
      ],
      "execution_count": 48,
      "outputs": []
    },
    {
      "cell_type": "code",
      "metadata": {
        "colab": {
          "base_uri": "https://localhost:8080/"
        },
        "id": "IqKFddz0efnt",
        "outputId": "02f1cd68-23f6-4674-bb26-c3dbb26fc830"
      },
      "source": [
        "glove_evaluate_word_similarity(test_data, test_trgs, glove_vecs)"
      ],
      "execution_count": 49,
      "outputs": [
        {
          "output_type": "stream",
          "text": [
            "Evaluated on 771 of 771 examples\n"
          ],
          "name": "stdout"
        },
        {
          "output_type": "execute_result",
          "data": {
            "text/plain": [
              "0.6500829276838272"
            ]
          },
          "metadata": {
            "tags": []
          },
          "execution_count": 49
        }
      ]
    },
    {
      "cell_type": "markdown",
      "metadata": {
        "id": "Rzb6DSsmefnt"
      },
      "source": [
        "Other popular open-source models/libraries:\n",
        "- [word2vec](https://code.google.com/archive/p/word2vec/) (Google): This tool provides an efficient implementation of the continuous bag-of-words and skip-gram architectures for computing vector representations of words.\n",
        "- [fastText](https://fasttext.cc) (Facebook): FastText is an open-source, free, lightweight library that allows users to learn text representations and text classifiers. It works on standard, generic hardware. Models can later be reduced in size to even fit on mobile devices."
      ]
    },
    {
      "cell_type": "markdown",
      "metadata": {
        "id": "narpTVmkefnt"
      },
      "source": [
        "#### Using NLP packages\n",
        "- [Word Vectors and Semantic Similarity using spaCy](https://spacy.io/usage/vectors-similarity) Also provides information on how to customize, add vectors\n",
        "- [gensim](https://pypi.org/project/gensim/) Python library for topic modelling, document indexing and similarity retrieval with large corpora"
      ]
    },
    {
      "cell_type": "code",
      "metadata": {
        "id": "CVK23yvfefnt"
      },
      "source": [
        "import spacy\n",
        "\n",
        "# load model for en with GloVe\n",
        "# !python -m spacy download en_core_web_md\n",
        "#nlp = spacy.load(\"en_core_web_md\") \n",
        "import en_core_web_md\n",
        "nlp = en_core_web_md.load()"
      ],
      "execution_count": 60,
      "outputs": []
    },
    {
      "cell_type": "code",
      "metadata": {
        "id": "Qs-StHvhefnt"
      },
      "source": [
        "def spacy_evaluate_word_similarity(word_pairs, targets, nlp_model):\n",
        "    \"\"\" \"\"\"\n",
        "    preds = []\n",
        "    trgs = []\n",
        "    n_exs = 0\n",
        "    for (word1, word2), trg in zip(word_pairs, targets):\n",
        "        v1 = nlp_model(word1)\n",
        "        v2 = nlp_model(word2)\n",
        "        if v1.has_vector and v2.has_vector:\n",
        "            pred_sim = v1.similarity(v2)\n",
        "            preds.append(pred_sim)\n",
        "            trgs.append(trg)\n",
        "            n_exs += 1\n",
        "    \n",
        "    rho, pvalue = spearmanr(trgs, preds)\n",
        "    print(\"Evaluated on %d of %d examples\" % (n_exs, len(word_pairs)))\n",
        "    return rho"
      ],
      "execution_count": 61,
      "outputs": []
    },
    {
      "cell_type": "code",
      "metadata": {
        "colab": {
          "base_uri": "https://localhost:8080/"
        },
        "id": "nO4H1ZOfefnt",
        "outputId": "a0b6c4d8-b6b7-4c22-9768-8d55012e15af"
      },
      "source": [
        "spacy_evaluate_word_similarity(test_data, test_trgs, nlp)"
      ],
      "execution_count": 62,
      "outputs": [
        {
          "output_type": "stream",
          "text": [
            "Evaluated on 771 of 771 examples\n"
          ],
          "name": "stdout"
        },
        {
          "output_type": "execute_result",
          "data": {
            "text/plain": [
              "0.6996479274077105"
            ]
          },
          "metadata": {
            "tags": []
          },
          "execution_count": 62
        }
      ]
    },
    {
      "cell_type": "markdown",
      "metadata": {
        "id": "HTxubJDgL0rh"
      },
      "source": [
        "---\n",
        "## References\n",
        "- CS224U Natural Language Understanding Spring 2016\n",
        "- DS-GA 1012 Natural Language Understanding Spring 2019"
      ]
    }
  ]
}